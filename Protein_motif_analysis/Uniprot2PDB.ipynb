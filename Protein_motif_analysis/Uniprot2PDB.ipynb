{
 "cells": [
  {
   "cell_type": "code",
   "execution_count": 1,
   "metadata": {
    "collapsed": true
   },
   "outputs": [],
   "source": [
    "import pandas as pd"
   ]
  },
  {
   "cell_type": "code",
   "execution_count": 4,
   "metadata": {},
   "outputs": [],
   "source": [
    "#SIFTS database from http://www.ebi.ac.uk\n",
    "## 2019/06/23 - 00:46 | PDB: 25.19 | UniProt: 2019.06\n",
    "#A summary of the PDBe to UniProt residue level mapping, \n",
    "#showing the start and end residues of the mapping using SEQRES, PDB sequence and UniProt numbering.\n",
    "pdbChainUniprot = pd.read_csv(\"/Users/desert/OneDrive - North Dakota University System/Research/PTM/pdb_chain_uniprot.csv\")"
   ]
  },
  {
   "cell_type": "code",
   "execution_count": 130,
   "metadata": {},
   "outputs": [
    {
     "data": {
      "text/html": [
       "<div>\n",
       "<style>\n",
       "    .dataframe thead tr:only-child th {\n",
       "        text-align: right;\n",
       "    }\n",
       "\n",
       "    .dataframe thead th {\n",
       "        text-align: left;\n",
       "    }\n",
       "\n",
       "    .dataframe tbody tr th {\n",
       "        vertical-align: top;\n",
       "    }\n",
       "</style>\n",
       "<table border=\"1\" class=\"dataframe\">\n",
       "  <thead>\n",
       "    <tr style=\"text-align: right;\">\n",
       "      <th></th>\n",
       "      <th>PDB</th>\n",
       "      <th>CHAIN</th>\n",
       "      <th>SP_PRIMARY</th>\n",
       "      <th>RES_BEG</th>\n",
       "      <th>RES_END</th>\n",
       "      <th>PDB_BEG</th>\n",
       "      <th>PDB_END</th>\n",
       "      <th>SP_BEG</th>\n",
       "      <th>SP_END</th>\n",
       "    </tr>\n",
       "  </thead>\n",
       "  <tbody>\n",
       "    <tr>\n",
       "      <th>0</th>\n",
       "      <td>1ao7</td>\n",
       "      <td>A</td>\n",
       "      <td>P01892</td>\n",
       "      <td>1</td>\n",
       "      <td>275</td>\n",
       "      <td>1</td>\n",
       "      <td>None</td>\n",
       "      <td>25</td>\n",
       "      <td>299</td>\n",
       "    </tr>\n",
       "    <tr>\n",
       "      <th>1</th>\n",
       "      <td>1ao7</td>\n",
       "      <td>B</td>\n",
       "      <td>P61769</td>\n",
       "      <td>2</td>\n",
       "      <td>100</td>\n",
       "      <td>1</td>\n",
       "      <td>99</td>\n",
       "      <td>21</td>\n",
       "      <td>119</td>\n",
       "    </tr>\n",
       "    <tr>\n",
       "      <th>2</th>\n",
       "      <td>1ao7</td>\n",
       "      <td>C</td>\n",
       "      <td>P14079</td>\n",
       "      <td>1</td>\n",
       "      <td>9</td>\n",
       "      <td>1</td>\n",
       "      <td>9</td>\n",
       "      <td>11</td>\n",
       "      <td>19</td>\n",
       "    </tr>\n",
       "    <tr>\n",
       "      <th>3</th>\n",
       "      <td>1ao7</td>\n",
       "      <td>D</td>\n",
       "      <td>A0A075B6T6</td>\n",
       "      <td>1</td>\n",
       "      <td>90</td>\n",
       "      <td>1</td>\n",
       "      <td>92</td>\n",
       "      <td>23</td>\n",
       "      <td>112</td>\n",
       "    </tr>\n",
       "    <tr>\n",
       "      <th>4</th>\n",
       "      <td>1ao7</td>\n",
       "      <td>D</td>\n",
       "      <td>P01848</td>\n",
       "      <td>112</td>\n",
       "      <td>204</td>\n",
       "      <td>118</td>\n",
       "      <td>None</td>\n",
       "      <td>1</td>\n",
       "      <td>93</td>\n",
       "    </tr>\n",
       "    <tr>\n",
       "      <th>5</th>\n",
       "      <td>1ao7</td>\n",
       "      <td>E</td>\n",
       "      <td>A0A0K0K1A5</td>\n",
       "      <td>1</td>\n",
       "      <td>95</td>\n",
       "      <td>None</td>\n",
       "      <td>96</td>\n",
       "      <td>20</td>\n",
       "      <td>114</td>\n",
       "    </tr>\n",
       "    <tr>\n",
       "      <th>6</th>\n",
       "      <td>1ao7</td>\n",
       "      <td>E</td>\n",
       "      <td>A0A5B9</td>\n",
       "      <td>117</td>\n",
       "      <td>245</td>\n",
       "      <td>118</td>\n",
       "      <td>246</td>\n",
       "      <td>1</td>\n",
       "      <td>129</td>\n",
       "    </tr>\n",
       "    <tr>\n",
       "      <th>7</th>\n",
       "      <td>1axk</td>\n",
       "      <td>A</td>\n",
       "      <td>P23904</td>\n",
       "      <td>1</td>\n",
       "      <td>156</td>\n",
       "      <td>1</td>\n",
       "      <td>156</td>\n",
       "      <td>82</td>\n",
       "      <td>237</td>\n",
       "    </tr>\n",
       "    <tr>\n",
       "      <th>8</th>\n",
       "      <td>1axk</td>\n",
       "      <td>A</td>\n",
       "      <td>P18429</td>\n",
       "      <td>157</td>\n",
       "      <td>341</td>\n",
       "      <td>157</td>\n",
       "      <td>341</td>\n",
       "      <td>29</td>\n",
       "      <td>213</td>\n",
       "    </tr>\n",
       "    <tr>\n",
       "      <th>9</th>\n",
       "      <td>1axk</td>\n",
       "      <td>B</td>\n",
       "      <td>P23904</td>\n",
       "      <td>1</td>\n",
       "      <td>156</td>\n",
       "      <td>1</td>\n",
       "      <td>156</td>\n",
       "      <td>82</td>\n",
       "      <td>237</td>\n",
       "    </tr>\n",
       "  </tbody>\n",
       "</table>\n",
       "</div>"
      ],
      "text/plain": [
       "    PDB CHAIN  SP_PRIMARY  RES_BEG  RES_END PDB_BEG PDB_END  SP_BEG  SP_END\n",
       "0  1ao7     A      P01892        1      275       1    None      25     299\n",
       "1  1ao7     B      P61769        2      100       1      99      21     119\n",
       "2  1ao7     C      P14079        1        9       1       9      11      19\n",
       "3  1ao7     D  A0A075B6T6        1       90       1      92      23     112\n",
       "4  1ao7     D      P01848      112      204     118    None       1      93\n",
       "5  1ao7     E  A0A0K0K1A5        1       95    None      96      20     114\n",
       "6  1ao7     E      A0A5B9      117      245     118     246       1     129\n",
       "7  1axk     A      P23904        1      156       1     156      82     237\n",
       "8  1axk     A      P18429      157      341     157     341      29     213\n",
       "9  1axk     B      P23904        1      156       1     156      82     237"
      ]
     },
     "execution_count": 130,
     "metadata": {},
     "output_type": "execute_result"
    }
   ],
   "source": [
    "pdbChainUniprot.iloc[0:10,:]"
   ]
  },
  {
   "cell_type": "code",
   "execution_count": 131,
   "metadata": {},
   "outputs": [],
   "source": [
    "validRow = (pdbChainUniprot[\"PDB_BEG\"].str.isnumeric()) & (pdbChainUniprot[\"PDB_END\"].str.isnumeric()) \n",
    "pdbChainIntegrity = pdbChainUniprot[validRow]"
   ]
  },
  {
   "cell_type": "markdown",
   "metadata": {},
   "source": [
    "pdbChainIntegrity.iloc[0:10,:]"
   ]
  },
  {
   "cell_type": "markdown",
   "metadata": {},
   "source": [
    "    ### SEQRES, PDB, UniProt numbering \n",
    "\n",
    "\n",
    "### Use the table above to return PDB info if available"
   ]
  },
  {
   "cell_type": "code",
   "execution_count": 132,
   "metadata": {},
   "outputs": [],
   "source": [
    "#If absense in the table, empty dataframe returned\n",
    "def IsPDBInfoAvailable(UniprotAccession, Position):\n",
    "    rowWithAccession = pdbChainIntegrity[pdbChainIntegrity[\"SP_PRIMARY\"].isin([UniprotAccession])]\n",
    "    if(rowWithAccession.shape[0]>0):\n",
    "        rowWithAccession = rowWithAccession[(rowWithAccession[\"SP_BEG\"]<Position)\n",
    "                                            & (rowWithAccession[\"SP_END\"]>Position)]\n",
    "        rowWithAccession\n",
    "        rowWithAccession.loc[:,\"Ksites\"] = Position + (rowWithAccession[\"PDB_BEG\"].astype(int)\n",
    "                                                       - rowWithAccession[\"SP_BEG\"].astype(int))\n",
    "        return rowWithAccession\n",
    "    return pdbChainUniprot[0:0]"
   ]
  },
  {
   "cell_type": "markdown",
   "metadata": {
    "collapsed": true
   },
   "source": [
    "## "
   ]
  },
  {
   "cell_type": "code",
   "execution_count": 133,
   "metadata": {
    "collapsed": true
   },
   "outputs": [],
   "source": [
    "PTM_sites = pd.read_csv(\"/Users/desert/OneDrive - North Dakota University System/Research/PTM/PTM_sites.csv\")"
   ]
  },
  {
   "cell_type": "code",
   "execution_count": null,
   "metadata": {},
   "outputs": [],
   "source": []
  },
  {
   "cell_type": "code",
   "execution_count": 134,
   "metadata": {},
   "outputs": [
    {
     "data": {
      "text/html": [
       "<div>\n",
       "<style>\n",
       "    .dataframe thead tr:only-child th {\n",
       "        text-align: right;\n",
       "    }\n",
       "\n",
       "    .dataframe thead th {\n",
       "        text-align: left;\n",
       "    }\n",
       "\n",
       "    .dataframe tbody tr th {\n",
       "        vertical-align: top;\n",
       "    }\n",
       "</style>\n",
       "<table border=\"1\" class=\"dataframe\">\n",
       "  <thead>\n",
       "    <tr style=\"text-align: right;\">\n",
       "      <th></th>\n",
       "      <th>PDB</th>\n",
       "      <th>CHAIN</th>\n",
       "      <th>SP_PRIMARY</th>\n",
       "      <th>RES_BEG</th>\n",
       "      <th>RES_END</th>\n",
       "      <th>PDB_BEG</th>\n",
       "      <th>PDB_END</th>\n",
       "      <th>SP_BEG</th>\n",
       "      <th>SP_END</th>\n",
       "      <th>Ksites</th>\n",
       "    </tr>\n",
       "  </thead>\n",
       "  <tbody>\n",
       "    <tr>\n",
       "      <th>114857</th>\n",
       "      <td>3g8c</td>\n",
       "      <td>A</td>\n",
       "      <td>P24182</td>\n",
       "      <td>1</td>\n",
       "      <td>444</td>\n",
       "      <td>1</td>\n",
       "      <td>444</td>\n",
       "      <td>1</td>\n",
       "      <td>444</td>\n",
       "      <td>27</td>\n",
       "    </tr>\n",
       "    <tr>\n",
       "      <th>114858</th>\n",
       "      <td>3g8c</td>\n",
       "      <td>B</td>\n",
       "      <td>P24182</td>\n",
       "      <td>1</td>\n",
       "      <td>444</td>\n",
       "      <td>1</td>\n",
       "      <td>444</td>\n",
       "      <td>1</td>\n",
       "      <td>444</td>\n",
       "      <td>27</td>\n",
       "    </tr>\n",
       "    <tr>\n",
       "      <th>114859</th>\n",
       "      <td>3g8d</td>\n",
       "      <td>A</td>\n",
       "      <td>P24182</td>\n",
       "      <td>1</td>\n",
       "      <td>444</td>\n",
       "      <td>1</td>\n",
       "      <td>444</td>\n",
       "      <td>1</td>\n",
       "      <td>444</td>\n",
       "      <td>27</td>\n",
       "    </tr>\n",
       "    <tr>\n",
       "      <th>114860</th>\n",
       "      <td>3g8d</td>\n",
       "      <td>B</td>\n",
       "      <td>P24182</td>\n",
       "      <td>1</td>\n",
       "      <td>444</td>\n",
       "      <td>1</td>\n",
       "      <td>444</td>\n",
       "      <td>1</td>\n",
       "      <td>444</td>\n",
       "      <td>27</td>\n",
       "    </tr>\n",
       "    <tr>\n",
       "      <th>132335</th>\n",
       "      <td>3jzf</td>\n",
       "      <td>A</td>\n",
       "      <td>P24182</td>\n",
       "      <td>22</td>\n",
       "      <td>470</td>\n",
       "      <td>1</td>\n",
       "      <td>449</td>\n",
       "      <td>1</td>\n",
       "      <td>449</td>\n",
       "      <td>27</td>\n",
       "    </tr>\n",
       "  </tbody>\n",
       "</table>\n",
       "</div>"
      ],
      "text/plain": [
       "         PDB CHAIN SP_PRIMARY  RES_BEG  RES_END PDB_BEG PDB_END  SP_BEG  \\\n",
       "114857  3g8c     A     P24182        1      444       1     444       1   \n",
       "114858  3g8c     B     P24182        1      444       1     444       1   \n",
       "114859  3g8d     A     P24182        1      444       1     444       1   \n",
       "114860  3g8d     B     P24182        1      444       1     444       1   \n",
       "132335  3jzf     A     P24182       22      470       1     449       1   \n",
       "\n",
       "        SP_END  Ksites  \n",
       "114857     444      27  \n",
       "114858     444      27  \n",
       "114859     444      27  \n",
       "114860     444      27  \n",
       "132335     449      27  "
      ]
     },
     "execution_count": 134,
     "metadata": {},
     "output_type": "execute_result"
    }
   ],
   "source": [
    "IsPDBInfoAvailable(\"P24182\",27)"
   ]
  },
  {
   "cell_type": "code",
   "execution_count": 135,
   "metadata": {},
   "outputs": [],
   "source": [
    "result = []\n",
    "for i in range(0,PTM_sites.shape[0]):\n",
    "    oneAccession = IsPDBInfoAvailable(PTM_sites.iloc[i,0],PTM_sites.iloc[i,1])\n",
    "    if oneAccession.shape[0]>0:\n",
    "        result.append(oneAccession)\n",
    "result = pd.concat(result)"
   ]
  },
  {
   "cell_type": "code",
   "execution_count": 138,
   "metadata": {},
   "outputs": [
    {
     "data": {
      "text/plain": [
       "(41087, 10)"
      ]
     },
     "execution_count": 138,
     "metadata": {},
     "output_type": "execute_result"
    }
   ],
   "source": [
    "result.shape"
   ]
  },
  {
   "cell_type": "markdown",
   "metadata": {},
   "source": [
    "### Verification: 3g8d: 27th and 124th are K residue"
   ]
  },
  {
   "cell_type": "code",
   "execution_count": 137,
   "metadata": {},
   "outputs": [],
   "source": [
    "result.to_csv(\"/Users/desert/OneDrive - North Dakota University System/Research/PTM/pdb_chain_ksites.csv\")"
   ]
  },
  {
   "cell_type": "code",
   "execution_count": 141,
   "metadata": {},
   "outputs": [
    {
     "data": {
      "text/plain": [
       "2758"
      ]
     },
     "execution_count": 141,
     "metadata": {},
     "output_type": "execute_result"
    }
   ],
   "source": [
    "result[\"PDB\"].unique().size"
   ]
  },
  {
   "cell_type": "code",
   "execution_count": null,
   "metadata": {
    "collapsed": true
   },
   "outputs": [],
   "source": []
  }
 ],
 "metadata": {
  "kernelspec": {
   "display_name": "Python 3",
   "language": "python",
   "name": "python3"
  },
  "language_info": {
   "codemirror_mode": {
    "name": "ipython",
    "version": 3
   },
   "file_extension": ".py",
   "mimetype": "text/x-python",
   "name": "python",
   "nbconvert_exporter": "python",
   "pygments_lexer": "ipython3",
   "version": "3.6.2"
  }
 },
 "nbformat": 4,
 "nbformat_minor": 2
}
