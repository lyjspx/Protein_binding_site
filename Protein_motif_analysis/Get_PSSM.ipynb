{
 "cells": [
  {
   "cell_type": "code",
   "execution_count": 1,
   "metadata": {},
   "outputs": [],
   "source": [
    "from pssmgen import PSSM"
   ]
  },
  {
   "cell_type": "code",
   "execution_count": 2,
   "metadata": {},
   "outputs": [],
   "source": [
    "from Bio.PDB import *\n",
    "import urllib.request\n",
    "import numpy as np\n",
    "import pandas as pd\n",
    "from math import sqrt\n",
    "import time\n",
    "import configparser\n",
    "import os\n",
    "import pymysql"
   ]
  },
  {
   "cell_type": "code",
   "execution_count": 3,
   "metadata": {},
   "outputs": [
    {
     "data": {
      "text/plain": [
       "['office_ssh', 'office_mysql']"
      ]
     },
     "execution_count": 3,
     "metadata": {},
     "output_type": "execute_result"
    }
   ],
   "source": [
    "config = configparser.ConfigParser()\n",
    "config.read(\"/home/yuan/Documents/config.ini\")\n",
    "config.sections()"
   ]
  },
  {
   "cell_type": "code",
   "execution_count": 4,
   "metadata": {},
   "outputs": [],
   "source": [
    "modification_site = pd.read_csv(\"/home/yuan/Documents/pdb_chain_ksites.csv\")"
   ]
  },
  {
   "cell_type": "code",
   "execution_count": 5,
   "metadata": {},
   "outputs": [],
   "source": [
    "modification_site_dic = {}\n",
    "for i in range(len(modification_site)):\n",
    "    if modification_site.loc[i,\"PDB\"] not in modification_site_dic:\n",
    "        modification_site_dic[modification_site.loc[i,\"PDB\"]] = {modification_site.loc[i,\"CHAIN\"]:[modification_site.loc[i,\"Ksites\"]]}\n",
    "    elif modification_site.loc[i,\"CHAIN\"] not in modification_site_dic[modification_site.loc[i,\"PDB\"]]:\n",
    "        modification_site_dic[modification_site.loc[i,\"PDB\"]][modification_site.loc[i,\"CHAIN\"]] = [modification_site.loc[i,\"Ksites\"]]\n",
    "    else:\n",
    "        modification_site_dic[modification_site.loc[i,\"PDB\"]][modification_site.loc[i,\"CHAIN\"]].append(modification_site.loc[i,\"Ksites\"])\n",
    "for protein in modification_site_dic:\n",
    "    for chain in modification_site_dic[protein]:\n",
    "        modification_site_dic[protein][chain] = list(modification_site_dic[protein][chain])"
   ]
  },
  {
   "cell_type": "code",
   "execution_count": 6,
   "metadata": {},
   "outputs": [],
   "source": [
    "unique_list = modification_site[[\"PDB\",\"CHAIN\"]].drop_duplicates()\n",
    "unique_list = unique_list.reset_index(drop=True)"
   ]
  },
  {
   "cell_type": "code",
   "execution_count": 7,
   "metadata": {
    "scrolled": true
   },
   "outputs": [
    {
     "data": {
      "text/html": [
       "<div>\n",
       "<style>\n",
       "    .dataframe thead tr:only-child th {\n",
       "        text-align: right;\n",
       "    }\n",
       "\n",
       "    .dataframe thead th {\n",
       "        text-align: left;\n",
       "    }\n",
       "\n",
       "    .dataframe tbody tr th {\n",
       "        vertical-align: top;\n",
       "    }\n",
       "</style>\n",
       "<table border=\"1\" class=\"dataframe\">\n",
       "  <thead>\n",
       "    <tr style=\"text-align: right;\">\n",
       "      <th></th>\n",
       "      <th>PDB</th>\n",
       "      <th>CHAIN</th>\n",
       "    </tr>\n",
       "  </thead>\n",
       "  <tbody>\n",
       "    <tr>\n",
       "      <th>0</th>\n",
       "      <td>3g8c</td>\n",
       "      <td>A</td>\n",
       "    </tr>\n",
       "    <tr>\n",
       "      <th>1</th>\n",
       "      <td>3g8c</td>\n",
       "      <td>B</td>\n",
       "    </tr>\n",
       "    <tr>\n",
       "      <th>2</th>\n",
       "      <td>3g8d</td>\n",
       "      <td>A</td>\n",
       "    </tr>\n",
       "    <tr>\n",
       "      <th>3</th>\n",
       "      <td>3g8d</td>\n",
       "      <td>B</td>\n",
       "    </tr>\n",
       "    <tr>\n",
       "      <th>4</th>\n",
       "      <td>3jzf</td>\n",
       "      <td>A</td>\n",
       "    </tr>\n",
       "  </tbody>\n",
       "</table>\n",
       "</div>"
      ],
      "text/plain": [
       "    PDB CHAIN\n",
       "0  3g8c     A\n",
       "1  3g8c     B\n",
       "2  3g8d     A\n",
       "3  3g8d     B\n",
       "4  3jzf     A"
      ]
     },
     "execution_count": 7,
     "metadata": {},
     "output_type": "execute_result"
    }
   ],
   "source": [
    "unique_list.head()"
   ]
  },
  {
   "cell_type": "code",
   "execution_count": 8,
   "metadata": {},
   "outputs": [],
   "source": [
    "cd_hit_7 = pd.read_csv(\"retained_CDHIT_0.7_PTM.csv\")"
   ]
  },
  {
   "cell_type": "code",
   "execution_count": 11,
   "metadata": {},
   "outputs": [
    {
     "data": {
      "text/html": [
       "<div>\n",
       "<style>\n",
       "    .dataframe thead tr:only-child th {\n",
       "        text-align: right;\n",
       "    }\n",
       "\n",
       "    .dataframe thead th {\n",
       "        text-align: left;\n",
       "    }\n",
       "\n",
       "    .dataframe tbody tr th {\n",
       "        vertical-align: top;\n",
       "    }\n",
       "</style>\n",
       "<table border=\"1\" class=\"dataframe\">\n",
       "  <thead>\n",
       "    <tr style=\"text-align: right;\">\n",
       "      <th></th>\n",
       "      <th>PDB</th>\n",
       "      <th>CHAIN</th>\n",
       "    </tr>\n",
       "  </thead>\n",
       "  <tbody>\n",
       "    <tr>\n",
       "      <th>0</th>\n",
       "      <td>1ln4</td>\n",
       "      <td>A</td>\n",
       "    </tr>\n",
       "    <tr>\n",
       "      <th>1</th>\n",
       "      <td>1lop</td>\n",
       "      <td>A</td>\n",
       "    </tr>\n",
       "    <tr>\n",
       "      <th>2</th>\n",
       "      <td>1m63</td>\n",
       "      <td>A</td>\n",
       "    </tr>\n",
       "    <tr>\n",
       "      <th>3</th>\n",
       "      <td>1m63</td>\n",
       "      <td>B</td>\n",
       "    </tr>\n",
       "    <tr>\n",
       "      <th>4</th>\n",
       "      <td>1m63</td>\n",
       "      <td>D</td>\n",
       "    </tr>\n",
       "  </tbody>\n",
       "</table>\n",
       "</div>"
      ],
      "text/plain": [
       "    PDB CHAIN\n",
       "0  1ln4     A\n",
       "1  1lop     A\n",
       "2  1m63     A\n",
       "3  1m63     B\n",
       "4  1m63     D"
      ]
     },
     "execution_count": 11,
     "metadata": {},
     "output_type": "execute_result"
    }
   ],
   "source": [
    "cd_hit_7.columns = [\"PDB\",\"CHAIN\"]\n",
    "cd_hit_7.head()"
   ]
  },
  {
   "cell_type": "code",
   "execution_count": null,
   "metadata": {
    "scrolled": true
   },
   "outputs": [],
   "source": [
    "for index,oneRow in cd_hit_7.iterrows():\n",
    "    PDB = PDBList()\n",
    "    pdbID = oneRow[\"PDB\"]\n",
    "    chainOrder = oneRow[\"CHAIN\"]\n",
    "    try:\n",
    "        retrieve_status = PDB.retrieve_pdb_file(pdb_code = pdbID, pdir = \"/mnt/HD1/pdb_data/\" + pdbID+\"/pdb\", file_format=\"pdb\")\n",
    "        os.rename(retrieve_status,retrieve_status[0:(len(retrieve_status)-3)]+'pdb')\n",
    "    except:\n",
    "        print(\"bad chain\")\n",
    "    print(retrieve_status)"
   ]
  },
  {
   "cell_type": "code",
   "execution_count": 16,
   "metadata": {},
   "outputs": [],
   "source": [
    "def PSSM_gen(pdbID,Chain):\n",
    "    gen = PSSM(work_dir='/home/yuan/Desktop/HD1/pdb_data/' + pdbID)\n",
    "    gen.configure(blast_exe = '/usr/local/bin/psiblast',database='/mnt/HD1/download/uniref/uniref50.fasta',num_threads=7)\n",
    "    gen.get_fasta(pdb_dir='pdb', chain=[Chain], out_dir='fasta')\n",
    "    gen.get_pssm(fasta_dir='fasta', out_dir='pssm_raw', run=True)\n",
    "    gen.map_pssm(pssm_dir='pssm_raw', pdb_dir='pdb', out_dir='pssm', chain=[Chain])\n",
    "    gen.get_mapped_pdb(pdbpssm_dir='pssm', pdb_dir='pdb', pdbnonmatch_dir='pdb_nonmatch')"
   ]
  },
  {
   "cell_type": "code",
   "execution_count": null,
   "metadata": {
    "scrolled": true
   },
   "outputs": [],
   "source": [
    "for index,oneRow in cd_hit_7.iterrows():\n",
    "    PDB = PDBList()\n",
    "    pdbID = oneRow[\"PDB\"]\n",
    "    chainOrder = oneRow[\"CHAIN\"]\n",
    "    try:\n",
    "        PSSM_gen(pdbID,chainOrder)\n",
    "        print(pdbID,chainOrder,\"Done\")\n",
    "    except:\n",
    "        print(pdbID,chainOrder,\"Fail\")"
   ]
  },
  {
   "cell_type": "code",
   "execution_count": 20,
   "metadata": {},
   "outputs": [
    {
     "data": {
      "text/plain": [
       "84"
      ]
     },
     "execution_count": 20,
     "metadata": {},
     "output_type": "execute_result"
    }
   ],
   "source": [
    "count = 0\n",
    "for index,oneRow in cd_hit_7.iterrows():\n",
    "    PDB = PDBList()\n",
    "    pdbID = oneRow[\"PDB\"]\n",
    "    chainOrder = oneRow[\"CHAIN\"]\n",
    "    if not os.path.exists(\"/mnt/HD1/pdb_data/\"+pdbID+\"/pssm/pdb\"+pdbID+\".\"+chainOrder+\".pdb.pssm\"):\n",
    "        count = count + 1\n",
    "count "
   ]
  },
  {
   "cell_type": "code",
   "execution_count": 96,
   "metadata": {},
   "outputs": [
    {
     "name": "stdout",
     "output_type": "stream",
     "text": [
      "Exeception occured:(1062, \"Duplicate entry '1stf-I-102' for key 'PRIMARY'\")\n",
      "1stf I\n",
      "Exeception occured:(1062, \"Duplicate entry '2jel-H-52' for key 'PRIMARY'\")\n",
      "2jel H\n",
      "Exeception occured:(1062, \"Duplicate entry '2jel-L-27' for key 'PRIMARY'\")\n",
      "2jel L\n"
     ]
    }
   ],
   "source": [
    "conn = pymysql.connect(host=config[\"office_mysql\"][\"sql_host\"],user=config[\"office_mysql\"][\"sql_username\"],\n",
    "                       passwd=config[\"office_mysql\"][\"sql_password\"],\n",
    "                       db=config[\"office_mysql\"][\"sql_main_database\"],port=3306)\n",
    "for index,oneRow in cd_hit_7.iterrows():\n",
    "    PDB = PDBList()\n",
    "    pdbID = oneRow[\"PDB\"]\n",
    "    chainOrder = oneRow[\"CHAIN\"]\n",
    "    if os.path.exists(\"/mnt/HD1/pdb_data/\"+pdbID+\"/pssm/pdb\"+pdbID+\".\"+chainOrder+\".pdb.pssm\"):\n",
    "        with conn as cursor:\n",
    "            with cursor:\n",
    "                try:\n",
    "                    pssm_mat = pd.read_table(\"/mnt/HD1/pdb_data/\"+pdbID+\"/pssm/pdb\"+pdbID+\".\"+ \\\n",
    "                                             chainOrder+\".pdb.pssm\", \\\n",
    "                                            comment=\"#\",header= 0,delim_whitespace= True)\n",
    "                    for row in pssm_mat.iterrows():\n",
    "                        current_row = list(row)\n",
    "                        query = \"Insert into PSSM_uniref50(PDBID,Chain,Seq,Res_type,A,R,N,D,C,Q,E,G,H,I \\\n",
    "                                    ,L,K,M,F,P,S,T,W,Y,V,IC) Values(%s,%s,%s,%s,%s,%s,%s,%s,%s,%s, \\\n",
    "                                    %s,%s,%s,%s,%s,%s,%s,%s,%s,%s,%s,%s,%s,%s,%s)\"\n",
    "                        value = [pdbID,chainOrder] + list(current_row[1])[0:2] + list(current_row[1])[4:]\n",
    "                        cursor.execute(query,value)\n",
    "                except Exception as e:\n",
    "                    print(\"Exeception occured:{}\".format(e))\n",
    "                    print(pdbID,chainOrder)\n",
    "    conn.commit()\n",
    "    \n"
   ]
  },
  {
   "cell_type": "code",
   "execution_count": null,
   "metadata": {},
   "outputs": [],
   "source": []
  }
 ],
 "metadata": {
  "kernelspec": {
   "display_name": "Python 3",
   "language": "python",
   "name": "python3"
  },
  "language_info": {
   "codemirror_mode": {
    "name": "ipython",
    "version": 3
   },
   "file_extension": ".py",
   "mimetype": "text/x-python",
   "name": "python",
   "nbconvert_exporter": "python",
   "pygments_lexer": "ipython3",
   "version": "3.6.9"
  }
 },
 "nbformat": 4,
 "nbformat_minor": 2
}
