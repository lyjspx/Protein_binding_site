{
 "cells": [
  {
   "cell_type": "markdown",
   "metadata": {},
   "source": [
    "### 1. Download CASTp (Computed Atlas of Sutface Topography of proteins)"
   ]
  },
  {
   "cell_type": "code",
   "execution_count": 17,
   "metadata": {},
   "outputs": [],
   "source": [
    "import zipfile, urllib.request,shutil, pandas\n",
    "tempFolder = \"/Users/desert/Desktop/temp\"\n",
    "tempFile = \"/Users/desert/Desktop/temp/temp.zip\"\n",
    "pdbID = \"3TRG\""
   ]
  },
  {
   "cell_type": "code",
   "execution_count": 11,
   "metadata": {},
   "outputs": [],
   "source": [
    "downloadPath = f\"http://sts.bioe.uic.edu/castp/data/pdb/{pdbID[1:3]}/{pdbID}/processed/{pdbID}.zip\""
   ]
  },
  {
   "cell_type": "code",
   "execution_count": 12,
   "metadata": {},
   "outputs": [
    {
     "data": {
      "text/plain": [
       "'http://sts.bioe.uic.edu/castp/data/pdb/TR/3TRG/processed/3TRG.zip'"
      ]
     },
     "execution_count": 12,
     "metadata": {},
     "output_type": "execute_result"
    }
   ],
   "source": [
    "downloadPath"
   ]
  },
  {
   "cell_type": "code",
   "execution_count": 15,
   "metadata": {
    "collapsed": true
   },
   "outputs": [],
   "source": [
    "with urllib.request.urlopen(downloadPath) as response, open(tempFile,'wb') as out_file:\n",
    "    shutil.copyfileobj(response,out_file)\n",
    "    with zipfile.ZipFile(tempFile) as zf:\n",
    "        zf.extractall(path=tempFolder)"
   ]
  },
  {
   "cell_type": "code",
   "execution_count": 36,
   "metadata": {},
   "outputs": [
    {
     "name": "stderr",
     "output_type": "stream",
     "text": [
      "/anaconda3/envs/pdbPy3Server/lib/python3.6/site-packages/ipykernel_launcher.py:1: ParserWarning: Falling back to the 'python' engine because the 'c' engine does not support regex separators (separators > 1 char and different from '\\s+' are interpreted as regex); you can avoid this warning by specifying engine='python'.\n",
      "  \"\"\"Entry point for launching an IPython kernel.\n"
     ]
    }
   ],
   "source": [
    "pocketInfo = pandas.read_csv(f\"{tempFolder}/{pdbID}.poc\",header = None,sep = \" {1,}\")"
   ]
  },
  {
   "cell_type": "code",
   "execution_count": 37,
   "metadata": {},
   "outputs": [
    {
     "data": {
      "text/html": [
       "<div>\n",
       "<style>\n",
       "    .dataframe thead tr:only-child th {\n",
       "        text-align: right;\n",
       "    }\n",
       "\n",
       "    .dataframe thead th {\n",
       "        text-align: left;\n",
       "    }\n",
       "\n",
       "    .dataframe tbody tr th {\n",
       "        vertical-align: top;\n",
       "    }\n",
       "</style>\n",
       "<table border=\"1\" class=\"dataframe\">\n",
       "  <thead>\n",
       "    <tr style=\"text-align: right;\">\n",
       "      <th></th>\n",
       "      <th>0</th>\n",
       "      <th>1</th>\n",
       "      <th>2</th>\n",
       "      <th>3</th>\n",
       "      <th>4</th>\n",
       "      <th>5</th>\n",
       "      <th>6</th>\n",
       "      <th>7</th>\n",
       "      <th>8</th>\n",
       "      <th>9</th>\n",
       "      <th>10</th>\n",
       "      <th>11</th>\n",
       "      <th>12</th>\n",
       "    </tr>\n",
       "  </thead>\n",
       "  <tbody>\n",
       "    <tr>\n",
       "      <th>0</th>\n",
       "      <td>ATOM</td>\n",
       "      <td>27</td>\n",
       "      <td>C</td>\n",
       "      <td>LYS</td>\n",
       "      <td>A</td>\n",
       "      <td>4</td>\n",
       "      <td>24.264</td>\n",
       "      <td>10.477</td>\n",
       "      <td>3.730</td>\n",
       "      <td>1.0</td>\n",
       "      <td>17.61</td>\n",
       "      <td>1</td>\n",
       "      <td>POC</td>\n",
       "    </tr>\n",
       "    <tr>\n",
       "      <th>1</th>\n",
       "      <td>ATOM</td>\n",
       "      <td>28</td>\n",
       "      <td>O</td>\n",
       "      <td>LYS</td>\n",
       "      <td>A</td>\n",
       "      <td>4</td>\n",
       "      <td>24.290</td>\n",
       "      <td>10.406</td>\n",
       "      <td>2.506</td>\n",
       "      <td>1.0</td>\n",
       "      <td>20.18</td>\n",
       "      <td>1</td>\n",
       "      <td>POC</td>\n",
       "    </tr>\n",
       "    <tr>\n",
       "      <th>2</th>\n",
       "      <td>ATOM</td>\n",
       "      <td>29</td>\n",
       "      <td>CB</td>\n",
       "      <td>LYS</td>\n",
       "      <td>A</td>\n",
       "      <td>4</td>\n",
       "      <td>22.511</td>\n",
       "      <td>11.903</td>\n",
       "      <td>4.849</td>\n",
       "      <td>1.0</td>\n",
       "      <td>27.10</td>\n",
       "      <td>1</td>\n",
       "      <td>POC</td>\n",
       "    </tr>\n",
       "  </tbody>\n",
       "</table>\n",
       "</div>"
      ],
      "text/plain": [
       "     0   1   2    3  4   5       6       7      8    9      10  11   12\n",
       "0  ATOM  27   C  LYS  A   4  24.264  10.477  3.730  1.0  17.61   1  POC\n",
       "1  ATOM  28   O  LYS  A   4  24.290  10.406  2.506  1.0  20.18   1  POC\n",
       "2  ATOM  29  CB  LYS  A   4  22.511  11.903  4.849  1.0  27.10   1  POC"
      ]
     },
     "execution_count": 37,
     "metadata": {},
     "output_type": "execute_result"
    }
   ],
   "source": [
    "pocketInfo.iloc[0:3,:]"
   ]
  },
  {
   "cell_type": "markdown",
   "metadata": {},
   "source": [
    "###### Column 5 should be residue ID"
   ]
  },
  {
   "cell_type": "code",
   "execution_count": 40,
   "metadata": {},
   "outputs": [
    {
     "data": {
      "text/plain": [
       "array([ 4,  5,  8,  9, 10, 12, 13, 14, 35, 36, 37, 38, 39, 40, 54, 55, 56,\n",
       "       59, 80, 81, 82, 86, 87, 88, 89, 91, 93, 95])"
      ]
     },
     "execution_count": 40,
     "metadata": {},
     "output_type": "execute_result"
    }
   ],
   "source": [
    "pocketInfo.iloc[:,5].unique()"
   ]
  },
  {
   "cell_type": "markdown",
   "metadata": {},
   "source": [
    "## Conservation score (The ConSurf Server)"
   ]
  }
 ],
 "metadata": {
  "kernelspec": {
   "display_name": "Python 3",
   "language": "python",
   "name": "python3"
  },
  "language_info": {
   "codemirror_mode": {
    "name": "ipython",
    "version": 3
   },
   "file_extension": ".py",
   "mimetype": "text/x-python",
   "name": "python",
   "nbconvert_exporter": "python",
   "pygments_lexer": "ipython3",
   "version": "3.6.2"
  }
 },
 "nbformat": 4,
 "nbformat_minor": 2
}
