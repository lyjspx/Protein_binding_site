{
 "cells": [
  {
   "cell_type": "code",
   "execution_count": 1,
   "metadata": {
    "ExecuteTime": {
     "end_time": "2020-08-01T21:21:25.236100Z",
     "start_time": "2020-08-01T21:21:25.048080Z"
    }
   },
   "outputs": [],
   "source": [
    "from Bio.PDB import *\n",
    "import urllib.request\n",
    "import numpy as np\n",
    "import pandas as pd\n",
    "from math import sqrt\n",
    "import time\n",
    "import configparser\n",
    "import os\n",
    "import pymysql\n",
    "import random\n"
   ]
  },
  {
   "cell_type": "code",
   "execution_count": 2,
   "metadata": {
    "ExecuteTime": {
     "end_time": "2020-08-01T21:21:25.748169Z",
     "start_time": "2020-08-01T21:21:25.739541Z"
    }
   },
   "outputs": [
    {
     "data": {
      "text/plain": [
       "['office_ssh', 'office_mysql']"
      ]
     },
     "execution_count": 2,
     "metadata": {},
     "output_type": "execute_result"
    }
   ],
   "source": [
    "config = configparser.ConfigParser()\n",
    "config.read(\"/home/yuan/Documents/config.ini\")\n",
    "config.sections()"
   ]
  },
  {
   "cell_type": "code",
   "execution_count": 3,
   "metadata": {
    "ExecuteTime": {
     "end_time": "2020-08-01T21:21:26.468470Z",
     "start_time": "2020-08-01T21:21:26.416622Z"
    }
   },
   "outputs": [],
   "source": [
    "peptidasesList = pd.read_csv(\"/home/yuan/Documents/MCSA_EC3.4_peptidases.csv\") #for big machine\n",
    "#peptidasesList = pd.read_csv(\"/Volumes/Lab_Public/Yuan/temp/MCSA_EC3.4_peptidases.csv\") #for mac\n",
    "peptidasesList = peptidasesList[peptidasesList.iloc[:,4] == \"residue\"]\n",
    "peptidasesList = peptidasesList.reset_index(drop=True)"
   ]
  },
  {
   "cell_type": "code",
   "execution_count": 4,
   "metadata": {
    "ExecuteTime": {
     "end_time": "2020-08-01T21:21:27.481334Z",
     "start_time": "2020-08-01T21:21:27.471981Z"
    }
   },
   "outputs": [],
   "source": [
    "group_by = peptidasesList.groupby([\"PDB\",\"chain/kegg compound\",\"resid/chebi id\",\"PDB code\"])\n",
    "unique_pos = peptidasesList[[\"PDB\",\"chain/kegg compound\",\"resid/chebi id\",\"PDB code\"]].drop_duplicates()\n",
    "unique_pos.columns = [\"PDB\",\"CHAIN\",\"site\",\"res_type\"]\n",
    "unique_pos.site = unique_pos.site.astype(int)\n",
    "unique_pos = unique_pos.reset_index(drop=True)"
   ]
  },
  {
   "cell_type": "code",
   "execution_count": 5,
   "metadata": {
    "ExecuteTime": {
     "end_time": "2020-08-01T21:21:36.183731Z",
     "start_time": "2020-08-01T21:21:36.167019Z"
    }
   },
   "outputs": [],
   "source": [
    "catalytic_site_dic = {}\n",
    "for i in range(len(unique_pos)):\n",
    "    if unique_pos.loc[i,\"PDB\"] not in catalytic_site_dic:\n",
    "        catalytic_site_dic[unique_pos.loc[i,\"PDB\"]] = {unique_pos.loc[i,\"CHAIN\"]:[unique_pos.loc[i,\"site\"]]}\n",
    "    elif unique_pos.loc[i,\"CHAIN\"] not in catalytic_site_dic[unique_pos.loc[i,\"PDB\"]]:\n",
    "        catalytic_site_dic[unique_pos.loc[i,\"PDB\"]][unique_pos.loc[i,\"CHAIN\"]] = [unique_pos.loc[i,\"site\"]]\n",
    "    else:\n",
    "        catalytic_site_dic[unique_pos.loc[i,\"PDB\"]][unique_pos.loc[i,\"CHAIN\"]].append(unique_pos.loc[i,\"site\"])\n",
    "for protein in catalytic_site_dic:\n",
    "    for chain in catalytic_site_dic[protein]:\n",
    "        catalytic_site_dic[protein][chain] = list(catalytic_site_dic[protein][chain])"
   ]
  },
  {
   "cell_type": "code",
   "execution_count": 6,
   "metadata": {
    "ExecuteTime": {
     "end_time": "2020-08-01T21:21:40.715163Z",
     "start_time": "2020-08-01T21:21:40.708355Z"
    }
   },
   "outputs": [],
   "source": [
    "def n_nearest_neighbour(PDB_ID,Chain,res_ID,n):\n",
    "    \n",
    "    conn = pymysql.connect(host=config[\"office_mysql\"][\"sql_host\"],user=config[\"office_mysql\"][\"sql_username\"],\n",
    "                           passwd=config[\"office_mysql\"][\"sql_password\"],\n",
    "                           db=config[\"office_mysql\"][\"sql_main_database\"],port=3306)\n",
    "    try:\n",
    "        with conn as cursor: #auto commit; no close() called\n",
    "            with cursor: # close() called here\n",
    "                sql_select = \"Select da.* FROM pdbdb.`Distance_angle2.0` da \"\n",
    "                sql_where = \"WHERE da.pdbID = \\\"{}\\\" and da.chain = \\\"{}\\\" and da.ID_1= \\\"{}\\\";\".format(PDB_ID,Chain,res_ID)  \n",
    "                sql = sql_select+sql_where\n",
    "                data = pd.read_sql_query(sql, conn)\n",
    "        return(data.groupby([\"ID\"]).first().sort_values(\"Distance\").iloc[2:(n+2),]) #from 2 to exclude self vs self\n",
    "\n",
    "    except Exception as e: # catch exceptions\n",
    "        print(\"~~~~~~~~~~~~~~\")\n",
    "        print(e)\n",
    "    finally:\n",
    "        if conn:\n",
    "            conn.close()"
   ]
  },
  {
   "cell_type": "code",
   "execution_count": 7,
   "metadata": {
    "ExecuteTime": {
     "end_time": "2020-08-01T21:21:53.600790Z",
     "start_time": "2020-08-01T21:21:53.593655Z"
    }
   },
   "outputs": [],
   "source": [
    "def n_nearest_neighbour_by_seq(PDB_ID,Chain,res_ID,n):\n",
    "    if n >= res_ID:\n",
    "        return []\n",
    "    conn = pymysql.connect(host=config[\"office_mysql\"][\"sql_host\"],user=config[\"office_mysql\"][\"sql_username\"],\n",
    "                       passwd=config[\"office_mysql\"][\"sql_password\"],\n",
    "                       db=config[\"office_mysql\"][\"sql_main_database\"],port=3306)\n",
    "    try:\n",
    "        with conn as cursor: #auto commit; no close() called\n",
    "            with cursor: # close() called here\n",
    "                sql_select = \"Select da.* FROM pdbdb.`Distance_angle2.0` da \"\n",
    "                sql_where = \"WHERE da.pdbID = \\\"{}\\\" and da.chain = \\\"{}\\\" and da.ID_1= \\\"{}\\\";\".format(PDB_ID,Chain,res_ID)  \n",
    "                sql = sql_select+sql_where\n",
    "                data = pd.read_sql_query(sql, conn)\n",
    "        head_part = data.groupby([\"ID\"]).first().iloc[(res_ID-n-1):(res_ID-1),]\n",
    "        tail_part = data.groupby([\"ID\"]).first().iloc[res_ID:(res_ID+n),]\n",
    "        return(pd.concat([head_part,tail_part])) #from 2 to exclude self vs self\n",
    "\n",
    "    except Exception as e: # catch exceptions\n",
    "        print(\"~~~~~~~~~~~~~~\")\n",
    "        print(e)\n",
    "    finally:\n",
    "        if conn:\n",
    "            conn.close()"
   ]
  },
  {
   "cell_type": "code",
   "execution_count": 8,
   "metadata": {
    "ExecuteTime": {
     "end_time": "2020-08-01T21:21:59.408836Z",
     "start_time": "2020-08-01T21:21:59.402034Z"
    }
   },
   "outputs": [],
   "source": [
    "def One_residue_retrieval(residue_1,PDB_ID,Chain):\n",
    "    data, data_1, data_2 = None, None, None\n",
    "    conn = pymysql.connect(host=config[\"office_mysql\"][\"sql_host\"],user=config[\"office_mysql\"][\"sql_username\"],\n",
    "                           passwd=config[\"office_mysql\"][\"sql_password\"],\n",
    "                           db=config[\"office_mysql\"][\"sql_main_database\"],port=3306)\n",
    "    try:\n",
    "        with conn as cursor: #auto commit; no close() called\n",
    "            with cursor: # close() called here\n",
    "                sql_select = \"Select da.* FROM pdbdb.`Distance_angle2.0` da \"\n",
    "                sql_where = \"WHERE da.pdbID = \\\"{}\\\" and da.chain=\\\"{}\\\" and da.ID_1 = {};\".format(PDB_ID,Chain,residue_1)    \n",
    "                sql = sql_select+sql_where\n",
    "                data_1 = pd.read_sql_query(sql, conn)\n",
    "                data = data_1\n",
    "        \n",
    "    except Exception as e: # catch exceptions\n",
    "        print(\"~~~~~~~~~~~~~~\")\n",
    "        print(e)\n",
    "    finally:\n",
    "        if conn:\n",
    "            conn.close()\n",
    "        return(data)"
   ]
  },
  {
   "cell_type": "code",
   "execution_count": 9,
   "metadata": {
    "ExecuteTime": {
     "end_time": "2020-08-01T21:21:59.722666Z",
     "start_time": "2020-08-01T21:21:59.705905Z"
    }
   },
   "outputs": [],
   "source": [
    "def Get_FEATURE(PDBID,Chain,Seq):\n",
    "    data, data_1, data_2 = None, None, None\n",
    "    conn = pymysql.connect(host=config[\"office_mysql\"][\"sql_host\"],user=config[\"office_mysql\"][\"sql_username\"],\n",
    "                           passwd=config[\"office_mysql\"][\"sql_password\"],\n",
    "                           db=config[\"office_mysql\"][\"sql_main_database\"],port=3306)\n",
    "    try:\n",
    "        with conn as cursor: #auto commit; no close() called\n",
    "            with cursor: # close() called here\n",
    "                sql_select = \"Select da.* FROM pdbdb.`FEATURE` da \"\n",
    "                sql_where = \"WHERE da.PDBID = \\\"{}\\\" and da.Chain=\\\"{}\\\" and da.Seq = {};\".format(PDBID,Chain,Seq)    \n",
    "                sql = sql_select+sql_where\n",
    "                data_1 = pd.read_sql_query(sql, conn)\n",
    "                data = data_1[data_1[\"Component\"]==\"C\"] # currently only get C component\n",
    "        \n",
    "    except Exception as e: # catch exceptions\n",
    "        print(\"~~~~~~~~~~~~~~\")\n",
    "        print(e)\n",
    "    finally:\n",
    "        if conn:\n",
    "            conn.close()\n",
    "        return(data)"
   ]
  },
  {
   "cell_type": "code",
   "execution_count": 10,
   "metadata": {
    "ExecuteTime": {
     "end_time": "2020-08-01T21:22:01.354091Z",
     "start_time": "2020-08-01T21:22:01.347337Z"
    }
   },
   "outputs": [],
   "source": [
    "def Get_PSSM(PDBID,Chain,Seq):\n",
    "    data, data_1, data_2 = None, None, None\n",
    "    conn = pymysql.connect(host=config[\"office_mysql\"][\"sql_host\"],user=config[\"office_mysql\"][\"sql_username\"],\n",
    "                           passwd=config[\"office_mysql\"][\"sql_password\"],\n",
    "                           db=config[\"office_mysql\"][\"sql_main_database\"],port=3306)\n",
    "    try:\n",
    "        with conn as cursor: #auto commit; no close() called\n",
    "            with cursor: # close() called here\n",
    "                sql_select = \"Select da.* FROM pdbdb.`PSSM_uniref50` da \"\n",
    "                sql_where = \"WHERE da.PDBID = \\\"{}\\\" and da.Chain=\\\"{}\\\" and da.Seq in {};\".format(PDBID,Chain,Seq)    \n",
    "                sql = sql_select+sql_where\n",
    "                data_1 = pd.read_sql_query(sql, conn)\n",
    "                data = data_1\n",
    "        \n",
    "    except Exception as e: # catch exceptions\n",
    "        print(\"~~~~~~~~~~~~~~\")\n",
    "        print(e)\n",
    "    finally:\n",
    "        if conn:\n",
    "            conn.close()\n",
    "        return(data)"
   ]
  },
  {
   "cell_type": "code",
   "execution_count": 11,
   "metadata": {
    "ExecuteTime": {
     "end_time": "2020-08-01T21:22:01.679236Z",
     "start_time": "2020-08-01T21:22:01.654218Z"
    }
   },
   "outputs": [],
   "source": [
    "def Get_Neigh_PSSM(PDBID,Chain,Seq,num_neigh):\n",
    "    '''\n",
    "    Retrieve redsidue‘s and neighbours' PSSM.\n",
    "    No or imcomplete records will return an empty dataframe\n",
    "    '''\n",
    "    data, data_1, data_2 = None, None, None\n",
    "    conn = pymysql.connect(host=config[\"office_mysql\"][\"sql_host\"],user=config[\"office_mysql\"][\"sql_username\"],\n",
    "                           passwd=config[\"office_mysql\"][\"sql_password\"],\n",
    "                           db=config[\"office_mysql\"][\"sql_main_database\"],port=3306)\n",
    "    try:\n",
    "        with conn as cursor: #auto commit; no close() called\n",
    "            with cursor: # close() called here\n",
    "                sql_select = \"Select da.* FROM pdbdb.`PSSM_uniref50` da \"\n",
    "                sql_where = \"WHERE da.PDBID = \\\"{}\\\" and da.Chain=\\\"{}\\\" and da.Seq = {};\".format(\"XXX\",Chain,Seq)    \n",
    "                sql = sql_select+sql_where\n",
    "                data_1 = pd.read_sql_query(sql, conn)\n",
    "        if Seq <= num_neigh:\n",
    "            data = data_1\n",
    "        else:\n",
    "            with conn as cursor: #auto commit; no close() called\n",
    "                with cursor: # close() called here\n",
    "                    sql_select = \"Select da.* FROM pdbdb.`PSSM_uniref50` da \"\n",
    "                    neigh = \"(\" + \",\".join(map(str,list(range(Seq-num_neigh,Seq+num_neigh+1)))) + \")\"\n",
    "                    sql_where = \"WHERE da.PDBID = \\\"{}\\\" and da.Chain=\\\"{}\\\" and da.Seq in {};\".format(PDBID,Chain,neigh)    \n",
    "                    sql = sql_select+sql_where\n",
    "                    data_2 = pd.read_sql_query(sql, conn)\n",
    "            if data_2.shape[0] < 2*num_neigh + 1:\n",
    "                data = data_1\n",
    "            else:\n",
    "                data = data_2\n",
    "\n",
    "    except Exception as e: # catch exceptions\n",
    "        print(\"~~~~~~~~~~~~~~\")\n",
    "        print(e)\n",
    "    finally:\n",
    "        if conn:\n",
    "            conn.close()\n",
    "        return(data)"
   ]
  },
  {
   "cell_type": "code",
   "execution_count": 12,
   "metadata": {
    "ExecuteTime": {
     "end_time": "2020-08-01T21:22:04.197605Z",
     "start_time": "2020-08-01T21:22:03.870598Z"
    }
   },
   "outputs": [],
   "source": [
    "import pandas as pd\n",
    "import os\n",
    "import numpy as np\n",
    "from datetime import datetime\n",
    "\n",
    "from sklearn.metrics import classification_report, roc_auc_score, roc_curve, make_scorer, confusion_matrix, \\\n",
    "    recall_score, precision_score, f1_score\n",
    "from sklearn.model_selection import StratifiedKFold, StratifiedShuffleSplit, GroupKFold, cross_val_score\n",
    "from sklearn.metrics import auc, precision_recall_curve,accuracy_score\n",
    "from sklearn.utils import shuffle\n",
    "from sklearn import tree, svm, naive_bayes, neighbors\n",
    "from sklearn.ensemble import BaggingClassifier, AdaBoostClassifier, RandomForestClassifier, GradientBoostingClassifier\n",
    "from sklearn.preprocessing import LabelBinarizer, OneHotEncoder,LabelEncoder\n",
    "from scipy import interp\n",
    "import matplotlib.pyplot as plt\n",
    "from xgboost import XGBClassifier"
   ]
  },
  {
   "cell_type": "code",
   "execution_count": 13,
   "metadata": {
    "ExecuteTime": {
     "end_time": "2020-08-01T21:22:04.221367Z",
     "start_time": "2020-08-01T21:22:04.218294Z"
    }
   },
   "outputs": [],
   "source": [
    "clfs = {'decision_tree': tree.DecisionTreeClassifier(),\n",
    "        'naive_gaussian': naive_bayes.GaussianNB(),\n",
    "        'K_neighbor': neighbors.KNeighborsClassifier(),\n",
    "        'bagging_knn': BaggingClassifier(neighbors.KNeighborsClassifier(), max_samples=0.5, max_features=0.5),\n",
    "        'bagging_tree': BaggingClassifier(tree.DecisionTreeClassifier(), max_samples=0.5, max_features=0.5),\n",
    "        'random_forest': RandomForestClassifier(n_estimators=100),\n",
    "        'adaboost': AdaBoostClassifier(n_estimators=200),\n",
    "        'gradient_boost': GradientBoostingClassifier(n_estimators=50, learning_rate=1.0, max_depth=1, random_state=0),\n",
    "        'svm': svm.SVC(C=0.9,kernel='rbf',gamma='auto'),\n",
    "        'xgboost': XGBClassifier()\n",
    "        }\n",
    "#'svm': svm.SVC(probability=True)"
   ]
  },
  {
   "cell_type": "code",
   "execution_count": 14,
   "metadata": {
    "ExecuteTime": {
     "end_time": "2020-08-01T21:22:26.900006Z",
     "start_time": "2020-08-01T21:22:26.893342Z"
    }
   },
   "outputs": [
    {
     "name": "stdout",
     "output_type": "stream",
     "text": [
      "OneHotEncoder(categories='auto', drop=None, dtype=<class 'numpy.float64'>,\n",
      "              handle_unknown='error', sparse=False)\n"
     ]
    }
   ],
   "source": [
    "aminoAcidCodes = [\"ALA\",\"ARG\",\"ASN\",\"ASP\",\"CYS\",\"GLN\",\"GLY\",\"GLU\",\"HIS\",\"ILE\",\"LEU\",\"LYS\",\n",
    "                 \"MET\",\"PHE\",\"PRO\",\"PYL\",\"SER\",\"SEC\",\"THR\",\"TRP\",\"TYR\",\"VAL\"]\n",
    "label_encoder = LabelEncoder()\n",
    "integer_encoded = label_encoder.fit_transform(aminoAcidCodes)\n",
    "onehot_encoder = OneHotEncoder(sparse=False)\n",
    "integer_encoded = integer_encoded.reshape(len(integer_encoded), 1)\n",
    "onehot_encoded = onehot_encoder.fit(integer_encoded)\n",
    "print(onehot_encoded)"
   ]
  },
  {
   "cell_type": "code",
   "execution_count": 208,
   "metadata": {},
   "outputs": [
    {
     "data": {
      "text/plain": [
       "array([[0., 0., 0., 0., 0., 0., 0., 0., 0., 0., 0., 0., 0., 0., 0., 0.,\n",
       "        0., 0., 0., 0., 0., 1.]])"
      ]
     },
     "execution_count": 208,
     "metadata": {},
     "output_type": "execute_result"
    }
   ],
   "source": [
    "onehot_encoded.transform([[aminoAcidCodes.index(\"VAL\")]])"
   ]
  },
  {
   "cell_type": "code",
   "execution_count": 15,
   "metadata": {
    "ExecuteTime": {
     "end_time": "2020-08-01T21:22:29.559386Z",
     "start_time": "2020-08-01T21:22:29.552305Z"
    },
    "scrolled": true
   },
   "outputs": [
    {
     "name": "stdout",
     "output_type": "stream",
     "text": [
      "OneHotEncoder(categories='auto', drop=None, dtype=<class 'numpy.float64'>,\n",
      "              handle_unknown='error', sparse=False)\n"
     ]
    }
   ],
   "source": [
    "amino_acid_property_by_res = {\"ALA\":1,\"ILE\":1,\"LEU\":1,\"MET\":1,\"VAL\":1,\n",
    "                      \"PHE\":2, \"TRP\":2,\"TYR\":2,\n",
    "                       \"ASN\":3,\"CYS\":3,\"GLN\":3,\"SER\":3,\"THR\":3,\n",
    "                      \"ASP\":4,\"GLU\":4,\"ARG\":5,\"HIS\":5,\"LYS\":5,\"GLY\":6,\"PRO\":6}\n",
    "label_encoder = LabelEncoder()\n",
    "integer_encoded = label_encoder.fit_transform([1,2,3,4,5,6])\n",
    "onehot_encoder = OneHotEncoder(sparse=False)\n",
    "integer_encoded = integer_encoded.reshape(len(integer_encoded), 1)\n",
    "onehot_encoded = onehot_encoder.fit(integer_encoded)\n",
    "print(onehot_encoded)\n"
   ]
  },
  {
   "cell_type": "code",
   "execution_count": null,
   "metadata": {},
   "outputs": [],
   "source": []
  },
  {
   "cell_type": "code",
   "execution_count": 16,
   "metadata": {
    "ExecuteTime": {
     "end_time": "2020-08-01T21:22:44.260154Z",
     "start_time": "2020-08-01T21:22:34.923726Z"
    }
   },
   "outputs": [],
   "source": [
    "pos_sample_and_neig = pd.DataFrame()\n",
    "for key, value in catalytic_site_dic.items():\n",
    "    for chain, sites in value.items():\n",
    "        for site in sites:\n",
    "            neigh = n_nearest_neighbour(key,chain,site,1)\n",
    "            if len(neigh) > 0:\n",
    "                pos_sample_and_neig = pos_sample_and_neig.append(neigh.iloc[0,:])"
   ]
  },
  {
   "cell_type": "code",
   "execution_count": 17,
   "metadata": {
    "ExecuteTime": {
     "end_time": "2020-08-01T21:22:44.264161Z",
     "start_time": "2020-08-01T21:22:44.261556Z"
    }
   },
   "outputs": [],
   "source": [
    "pos_sample_and_neig = pos_sample_and_neig.reset_index(drop=True)"
   ]
  },
  {
   "cell_type": "code",
   "execution_count": 18,
   "metadata": {
    "ExecuteTime": {
     "end_time": "2020-08-01T21:22:44.277568Z",
     "start_time": "2020-08-01T21:22:44.265278Z"
    }
   },
   "outputs": [],
   "source": [
    "pos_sample_and_neig = pos_sample_and_neig[neigh.columns]\n",
    "pos_sample_and_neig = pos_sample_and_neig.astype({\"ID_1\":int,\"ID_2\":int})"
   ]
  },
  {
   "cell_type": "code",
   "execution_count": 19,
   "metadata": {
    "ExecuteTime": {
     "end_time": "2020-08-01T21:22:44.315025Z",
     "start_time": "2020-08-01T21:22:44.278558Z"
    }
   },
   "outputs": [
    {
     "data": {
      "text/html": [
       "<div>\n",
       "<style scoped>\n",
       "    .dataframe tbody tr th:only-of-type {\n",
       "        vertical-align: middle;\n",
       "    }\n",
       "\n",
       "    .dataframe tbody tr th {\n",
       "        vertical-align: top;\n",
       "    }\n",
       "\n",
       "    .dataframe thead th {\n",
       "        text-align: right;\n",
       "    }\n",
       "</style>\n",
       "<table border=\"1\" class=\"dataframe\">\n",
       "  <thead>\n",
       "    <tr style=\"text-align: right;\">\n",
       "      <th></th>\n",
       "      <th>pdbID</th>\n",
       "      <th>chain</th>\n",
       "      <th>ID_1</th>\n",
       "      <th>Res_1</th>\n",
       "      <th>ID_2</th>\n",
       "      <th>Res_2</th>\n",
       "      <th>Distance</th>\n",
       "      <th>Angle</th>\n",
       "    </tr>\n",
       "  </thead>\n",
       "  <tbody>\n",
       "    <tr>\n",
       "      <th>0</th>\n",
       "      <td>1lam</td>\n",
       "      <td>A</td>\n",
       "      <td>262</td>\n",
       "      <td>LYS</td>\n",
       "      <td>257</td>\n",
       "      <td>GLY</td>\n",
       "      <td>4.262492</td>\n",
       "      <td>124.883418</td>\n",
       "    </tr>\n",
       "    <tr>\n",
       "      <th>1</th>\n",
       "      <td>1lam</td>\n",
       "      <td>A</td>\n",
       "      <td>336</td>\n",
       "      <td>ARG</td>\n",
       "      <td>432</td>\n",
       "      <td>ALA</td>\n",
       "      <td>4.115262</td>\n",
       "      <td>145.134467</td>\n",
       "    </tr>\n",
       "    <tr>\n",
       "      <th>2</th>\n",
       "      <td>1lok</td>\n",
       "      <td>A</td>\n",
       "      <td>97</td>\n",
       "      <td>HIS</td>\n",
       "      <td>118</td>\n",
       "      <td>ASP</td>\n",
       "      <td>4.341730</td>\n",
       "      <td>120.108316</td>\n",
       "    </tr>\n",
       "    <tr>\n",
       "      <th>3</th>\n",
       "      <td>1lok</td>\n",
       "      <td>A</td>\n",
       "      <td>117</td>\n",
       "      <td>ASP</td>\n",
       "      <td>180</td>\n",
       "      <td>MET</td>\n",
       "      <td>4.621907</td>\n",
       "      <td>106.551924</td>\n",
       "    </tr>\n",
       "    <tr>\n",
       "      <th>4</th>\n",
       "      <td>1lok</td>\n",
       "      <td>A</td>\n",
       "      <td>151</td>\n",
       "      <td>GLU</td>\n",
       "      <td>152</td>\n",
       "      <td>GLU</td>\n",
       "      <td>4.572974</td>\n",
       "      <td>122.672384</td>\n",
       "    </tr>\n",
       "  </tbody>\n",
       "</table>\n",
       "</div>"
      ],
      "text/plain": [
       "  pdbID chain  ID_1 Res_1  ID_2 Res_2  Distance       Angle\n",
       "0  1lam     A   262   LYS   257   GLY  4.262492  124.883418\n",
       "1  1lam     A   336   ARG   432   ALA  4.115262  145.134467\n",
       "2  1lok     A    97   HIS   118   ASP  4.341730  120.108316\n",
       "3  1lok     A   117   ASP   180   MET  4.621907  106.551924\n",
       "4  1lok     A   151   GLU   152   GLU  4.572974  122.672384"
      ]
     },
     "execution_count": 19,
     "metadata": {},
     "output_type": "execute_result"
    }
   ],
   "source": [
    "pos_sample_and_neig.head()"
   ]
  },
  {
   "cell_type": "code",
   "execution_count": 20,
   "metadata": {
    "ExecuteTime": {
     "end_time": "2020-08-01T21:22:56.441148Z",
     "start_time": "2020-08-01T21:22:53.397379Z"
    }
   },
   "outputs": [],
   "source": [
    "neg_sample_and_neig = pd.DataFrame()\n",
    "for i in range(len(pos_sample_and_neig)):\n",
    "    result_step1 = One_residue_retrieval(pos_sample_and_neig.iloc[i,2],pos_sample_and_neig.iloc[i,0],pos_sample_and_neig.iloc[i,1])\n",
    "    result_step2 = result_step1.groupby([\"ID\"]).first() #duplicate discard\n",
    "    result_step3 = result_step2[~result_step2.ID_2.isin(catalytic_site_dic[pos_sample_and_neig.iloc[i,0]][pos_sample_and_neig.iloc[i,1]])] # activate discard\n",
    "    result_step4 = result_step3[result_step3[\"Res_2\"]==pos_sample_and_neig.loc[i,\"Res_1\"]]\n",
    "    if result_step4.shape[0] > 0:\n",
    "        neg_sample_and_neig = pd.concat([neg_sample_and_neig,result_step4.sample(1,replace = False)])\n"
   ]
  },
  {
   "cell_type": "code",
   "execution_count": 21,
   "metadata": {
    "ExecuteTime": {
     "end_time": "2020-08-01T21:22:56.444864Z",
     "start_time": "2020-08-01T21:22:56.442038Z"
    }
   },
   "outputs": [],
   "source": [
    "pos_sample_and_neig_pruned = pos_sample_and_neig.iloc[:,[0,1,2,3]].copy(deep=True)\n",
    "pos_sample_and_neig_pruned[\"type\"] = \"Pos\"\n",
    "pos_sample_and_neig_pruned.columns = ['pdbID', 'chain', 'ID', 'Res', 'type']"
   ]
  },
  {
   "cell_type": "code",
   "execution_count": 22,
   "metadata": {
    "ExecuteTime": {
     "end_time": "2020-08-01T21:22:56.457182Z",
     "start_time": "2020-08-01T21:22:56.445696Z"
    }
   },
   "outputs": [],
   "source": [
    "neg_sample_and_neig_pruned = neg_sample_and_neig.iloc[:,[0,1,4,5]].copy(deep=True)\n",
    "neg_sample_and_neig_pruned[\"type\"] = \"Neg\"\n",
    "neg_sample_and_neig_pruned.columns = ['pdbID', 'chain', 'ID', 'Res', 'type']"
   ]
  },
  {
   "cell_type": "code",
   "execution_count": 23,
   "metadata": {
    "ExecuteTime": {
     "end_time": "2020-08-01T21:22:56.833070Z",
     "start_time": "2020-08-01T21:22:56.826465Z"
    }
   },
   "outputs": [],
   "source": [
    "pos_neg_sample = pd.concat([pos_sample_and_neig_pruned,neg_sample_and_neig_pruned])"
   ]
  },
  {
   "cell_type": "code",
   "execution_count": 24,
   "metadata": {
    "ExecuteTime": {
     "end_time": "2020-08-01T21:23:08.435653Z",
     "start_time": "2020-08-01T21:22:59.100500Z"
    }
   },
   "outputs": [],
   "source": [
    "neighbour_information_list = []\n",
    "num_pos = 0\n",
    "num_neg = 0\n",
    "for i in range(0,len(pos_neg_sample)):\n",
    "    features = n_nearest_neighbour(pos_neg_sample.iloc[i,0],pos_neg_sample.iloc[i,1],\\\n",
    "                                       pos_neg_sample.iloc[i,2],20)\n",
    "    if not isinstance(features,list):\n",
    "        if pos_neg_sample.iloc[i,4] == \"Pos\":\n",
    "            if features.shape[0] > 0:\n",
    "                num_pos = num_pos + 1\n",
    "                neighbour_information_list.append(np.insert(features.iloc[:,5:8].values.flatten(),0,pos_neg_sample.iloc[i,3]))\n",
    "        else:\n",
    "            if features.shape[0] > 0:\n",
    "                num_neg = num_neg + 1\n",
    "                neighbour_information_list.append(np.insert(features.iloc[:,5:8].values.flatten(),0,pos_neg_sample.iloc[i,3]))"
   ]
  },
  {
   "cell_type": "code",
   "execution_count": 28,
   "metadata": {
    "ExecuteTime": {
     "end_time": "2020-08-01T21:50:37.517210Z",
     "start_time": "2020-08-01T21:50:37.484904Z"
    }
   },
   "outputs": [],
   "source": [
    "pd.DataFrame(neighbour_information_list).to_csv('/home/yuan/Documents/Catalytic_NN20.csv')"
   ]
  },
  {
   "cell_type": "code",
   "execution_count": 627,
   "metadata": {
    "scrolled": false
   },
   "outputs": [
    {
     "name": "stdout",
     "output_type": "stream",
     "text": [
      "decision_tree\n",
      "accuracy: 0.6466 roc: 0.6310 precision: 0.6475 recall: 0.6500\n",
      "naive_gaussian\n",
      "accuracy: 0.6833 roc: 0.7485 precision: 0.6317 recall: 0.8923\n",
      "K_neighbor\n",
      "accuracy: 0.5655 roc: 0.5862 precision: 0.5676 recall: 0.5846\n",
      "bagging_knn\n",
      "accuracy: 0.5966 roc: 0.6323 precision: 0.5639 recall: 0.6500\n",
      "bagging_tree\n",
      "accuracy: 0.6796 roc: 0.7333 precision: 0.6717 recall: 0.7846\n",
      "random_forest\n",
      "accuracy: 0.7123 roc: 0.7892 precision: 0.7075 recall: 0.8231\n",
      "adaboost\n",
      "accuracy: 0.6159 roc: 0.6595 precision: 0.6175 recall: 0.6308\n",
      "gradient_boost\n",
      "accuracy: 0.6505 roc: 0.6748 precision: 0.6472 recall: 0.6731\n",
      "svm\n",
      "accuracy: 0.5309 roc: 0.5291 precision: 0.5170 recall: 1.0000\n",
      "xgboost\n",
      "accuracy: 0.7163 roc: 0.7522 precision: 0.7040 recall: 0.7577\n"
     ]
    }
   ],
   "source": [
    "train_dataset = []\n",
    "for each_res in neighbour_information_list:\n",
    "    one_res_data = []\n",
    "    i = 0\n",
    "    for element in each_res:\n",
    "        if isinstance(element,str):\n",
    "#             one_res_data.extend(onehot_encoded.transform([[amino_acid_property_by_res[element]-1]])[0].tolist())\n",
    "#             one_res_data.extend(onehot_encoded.transform([[aminoAcidCodes.index(element)]])[0].tolist())    \n",
    "            pass\n",
    "        else:\n",
    "            one_res_data.append(element)\n",
    "            \n",
    "#         if isinstance(element,str):\n",
    "#              pass\n",
    "#         else:\n",
    "#             if i % 2 ==0:\n",
    "#                 one_res_data.append(element)\n",
    "#             i = i + 1    \n",
    "    train_dataset.append(one_res_data)\n",
    "wrong_sample = []\n",
    "for i in range(0,len(train_dataset)):\n",
    "    if(len(train_dataset[i])<len(train_dataset[0])):\n",
    "        wrong_sample.append(i)\n",
    "\n",
    "y_label =[1 for x in range(0,num_pos)]\n",
    "y_label.extend([2 for i in range(0,num_neg)])\n",
    "\n",
    "final_y_label = [y_label[i] for i in range(0,num_neg+num_pos) if i not in wrong_sample]\n",
    "final_y_label = np.asarray(final_y_label)\n",
    "shuffle_y_label = shuffle(final_y_label,random_state=0)\n",
    "\n",
    "final_train_dataset = [train_dataset[i] for i in range(0,num_neg+num_pos) if i not in wrong_sample]\n",
    "final_train_dataset = np.vstack(np.asarray(final_train_dataset))\n",
    "shuffle_train_dataset = shuffle(final_train_dataset,random_state=0)\n",
    "\n",
    "for clf in clfs:\n",
    "    print(clf)\n",
    "    scores_acc = cross_val_score(clfs[clf],shuffle_train_dataset,shuffle_y_label,scoring='accuracy',n_jobs=5,cv=10)\n",
    "    scores_roc = cross_val_score(clfs[clf],shuffle_train_dataset,shuffle_y_label,scoring='roc_auc',n_jobs=5,cv=10)\n",
    "    scores_precision = cross_val_score(clfs[clf],shuffle_train_dataset,shuffle_y_label,scoring='precision',n_jobs=5,cv=10)\n",
    "    scores_recall = cross_val_score(clfs[clf],shuffle_train_dataset,shuffle_y_label,scoring='recall',n_jobs=5,cv=10)\n",
    "    print('accuracy:',\"{:.4f}\".format(sum(scores_acc)/10),'roc:',\"{:.4f}\".format(sum(scores_roc)/10), \\\n",
    "         'precision:',\"{:.4f}\".format(sum(scores_precision)/10),'recall:',\"{:.4f}\".format(sum(scores_recall)/10))\n"
   ]
  },
  {
   "cell_type": "code",
   "execution_count": 628,
   "metadata": {},
   "outputs": [],
   "source": [
    "pd.DataFrame(final_train_dataset).to_csv(\"/mnt/HD1/download/Cata_20_data.txt\")\n",
    "pd.DataFrame(final_y_label).to_csv(\"/mnt/HD1/download/Cata_20_label.txt\")"
   ]
  },
  {
   "cell_type": "markdown",
   "metadata": {},
   "source": [
    "## PSSM training & testing"
   ]
  },
  {
   "cell_type": "code",
   "execution_count": 555,
   "metadata": {},
   "outputs": [],
   "source": [
    "pos_neg_sample = pos_neg_sample.reset_index(drop=True)\n",
    "neighbour_information_list = []\n",
    "num_pos = 0\n",
    "num_neg = 0\n",
    "for i in range(0,len(pos_neg_sample)):\n",
    "    features = Get_Neigh_PSSM(pos_neg_sample.iloc[i,0],pos_neg_sample.iloc[i,1],\\\n",
    "                pos_neg_sample.iloc[i,2],12)\n",
    "    if pos_neg_sample.iloc[i,4] == \"Pos\":\n",
    "        if features.shape[0] > 0:\n",
    "            num_pos = num_pos + 1\n",
    "            neighbour_information_list.append(list(features.iloc[:,5:25].values.flatten()))\n",
    "    else:\n",
    "        if features.shape[0] > 0:\n",
    "            num_neg = num_neg + 1\n",
    "            neighbour_information_list.append(list(features.iloc[:,5:25].values.flatten()))"
   ]
  },
  {
   "cell_type": "code",
   "execution_count": 556,
   "metadata": {
    "scrolled": true
   },
   "outputs": [
    {
     "name": "stdout",
     "output_type": "stream",
     "text": [
      "decision_tree\n",
      "accuracy: 0.6181 roc: 0.6117 precision: 0.6293 recall: 0.6372\n",
      "naive_gaussian\n",
      "accuracy: 0.6245 roc: 0.6830 precision: 0.7207 recall: 0.4470\n",
      "K_neighbor\n",
      "accuracy: 0.5850 roc: 0.6138 precision: 0.6893 recall: 0.3623\n",
      "bagging_knn\n",
      "accuracy: 0.5875 roc: 0.6598 precision: 0.6979 recall: 0.3540\n",
      "bagging_tree\n",
      "accuracy: 0.6271 roc: 0.7006 precision: 0.6755 recall: 0.8071\n",
      "random_forest\n",
      "accuracy: 0.7475 roc: 0.7923 precision: 0.7662 recall: 0.7534\n",
      "adaboost\n",
      "accuracy: 0.6781 roc: 0.7596 precision: 0.7010 recall: 0.6642\n",
      "gradient_boost\n",
      "accuracy: 0.6827 roc: 0.7375 precision: 0.6982 recall: 0.6814\n",
      "svm\n",
      "accuracy: 0.5737 roc: 0.6678 precision: 0.5572 recall: 0.8646\n",
      "xgboost\n",
      "accuracy: 0.7453 roc: 0.8172 precision: 0.7777 recall: 0.7172\n"
     ]
    }
   ],
   "source": [
    "train_dataset = neighbour_information_list\n",
    "wrong_sample = []\n",
    "for i in range(0,len(train_dataset)):\n",
    "    if(len(train_dataset[i])<15):\n",
    "        wrong_sample.append(i)\n",
    "\n",
    "y_label =[1 for x in range(0,num_pos)]\n",
    "y_label.extend([2 for i in range(0,num_neg)])\n",
    "\n",
    "final_y_label = [y_label[i] for i in range(0,num_neg+num_pos) if i not in wrong_sample]\n",
    "final_y_label = np.asarray(final_y_label)\n",
    "shuffle_y_label = shuffle(final_y_label,random_state=0)\n",
    "\n",
    "final_train_dataset = [train_dataset[i] for i in range(0,num_neg+num_pos) if i not in wrong_sample]\n",
    "final_train_dataset = np.vstack(np.asarray(final_train_dataset))\n",
    "shuffle_train_dataset = shuffle(final_train_dataset,random_state=0)\n",
    "\n",
    "for clf in clfs:\n",
    "    print(clf)\n",
    "    scores_acc = cross_val_score(clfs[clf],shuffle_train_dataset,shuffle_y_label,scoring='accuracy',n_jobs=5,cv=10)\n",
    "    scores_roc = cross_val_score(clfs[clf],shuffle_train_dataset,shuffle_y_label,scoring='roc_auc',n_jobs=5,cv=10)\n",
    "    scores_precision = cross_val_score(clfs[clf],shuffle_train_dataset,shuffle_y_label,scoring='precision',n_jobs=5,cv=10)\n",
    "    scores_recall = cross_val_score(clfs[clf],shuffle_train_dataset,shuffle_y_label,scoring='recall',n_jobs=5,cv=10)\n",
    "    print('accuracy:',\"{:.4f}\".format(sum(scores_acc)/10),'roc:',\"{:.4f}\".format(sum(scores_roc)/10), \\\n",
    "         'precision:',\"{:.4f}\".format(sum(scores_precision)/10),'recall:',\"{:.4f}\".format(sum(scores_recall)/10))"
   ]
  },
  {
   "cell_type": "markdown",
   "metadata": {},
   "source": [
    "## FEATURE training"
   ]
  },
  {
   "cell_type": "code",
   "execution_count": 403,
   "metadata": {},
   "outputs": [],
   "source": [
    "pos_neg_sample = pd.concat([pos_sample_and_neig_pruned,neg_sample_and_neig_pruned])"
   ]
  },
  {
   "cell_type": "code",
   "execution_count": 568,
   "metadata": {},
   "outputs": [
    {
     "name": "stderr",
     "output_type": "stream",
     "text": [
      "/home/yuan/anaconda3/envs/pdbPy3/lib/python3.6/site-packages/pymysql/cursors.py:170: Warning: (1292, \"Truncated incorrect DOUBLE value: '112A'\")\n",
      "  result = self._query(query)\n",
      "/home/yuan/anaconda3/envs/pdbPy3/lib/python3.6/site-packages/pymysql/cursors.py:170: Warning: (1292, \"Truncated incorrect DOUBLE value: '112B'\")\n",
      "  result = self._query(query)\n",
      "/home/yuan/anaconda3/envs/pdbPy3/lib/python3.6/site-packages/pymysql/cursors.py:170: Warning: (1292, \"Truncated incorrect DOUBLE value: '112C'\")\n",
      "  result = self._query(query)\n",
      "/home/yuan/anaconda3/envs/pdbPy3/lib/python3.6/site-packages/pymysql/cursors.py:170: Warning: (1292, \"Truncated incorrect DOUBLE value: '23A'\")\n",
      "  result = self._query(query)\n",
      "/home/yuan/anaconda3/envs/pdbPy3/lib/python3.6/site-packages/pymysql/cursors.py:170: Warning: (1292, \"Truncated incorrect DOUBLE value: '58A'\")\n",
      "  result = self._query(query)\n",
      "/home/yuan/anaconda3/envs/pdbPy3/lib/python3.6/site-packages/pymysql/cursors.py:170: Warning: (1292, \"Truncated incorrect DOUBLE value: '76A'\")\n",
      "  result = self._query(query)\n",
      "/home/yuan/anaconda3/envs/pdbPy3/lib/python3.6/site-packages/pymysql/cursors.py:170: Warning: (1292, \"Truncated incorrect DOUBLE value: '10P'\")\n",
      "  result = self._query(query)\n",
      "/home/yuan/anaconda3/envs/pdbPy3/lib/python3.6/site-packages/pymysql/cursors.py:170: Warning: (1292, \"Truncated incorrect DOUBLE value: '11P'\")\n",
      "  result = self._query(query)\n",
      "/home/yuan/anaconda3/envs/pdbPy3/lib/python3.6/site-packages/pymysql/cursors.py:170: Warning: (1292, \"Truncated incorrect DOUBLE value: '12P'\")\n",
      "  result = self._query(query)\n",
      "/home/yuan/anaconda3/envs/pdbPy3/lib/python3.6/site-packages/pymysql/cursors.py:170: Warning: (1292, \"Truncated incorrect DOUBLE value: '13P'\")\n",
      "  result = self._query(query)\n",
      "/home/yuan/anaconda3/envs/pdbPy3/lib/python3.6/site-packages/pymysql/cursors.py:170: Warning: (1292, \"Truncated incorrect DOUBLE value: '14P'\")\n",
      "  result = self._query(query)\n",
      "/home/yuan/anaconda3/envs/pdbPy3/lib/python3.6/site-packages/pymysql/cursors.py:170: Warning: (1292, \"Truncated incorrect DOUBLE value: '15P'\")\n",
      "  result = self._query(query)\n",
      "/home/yuan/anaconda3/envs/pdbPy3/lib/python3.6/site-packages/pymysql/cursors.py:170: Warning: (1292, \"Truncated incorrect DOUBLE value: '16P'\")\n",
      "  result = self._query(query)\n",
      "/home/yuan/anaconda3/envs/pdbPy3/lib/python3.6/site-packages/pymysql/cursors.py:170: Warning: (1292, \"Truncated incorrect DOUBLE value: '17P'\")\n",
      "  result = self._query(query)\n",
      "/home/yuan/anaconda3/envs/pdbPy3/lib/python3.6/site-packages/pymysql/cursors.py:170: Warning: (1292, \"Truncated incorrect DOUBLE value: '120A'\")\n",
      "  result = self._query(query)\n",
      "/home/yuan/anaconda3/envs/pdbPy3/lib/python3.6/site-packages/pymysql/cursors.py:170: Warning: (1292, \"Truncated incorrect DOUBLE value: '120B'\")\n",
      "  result = self._query(query)\n",
      "/home/yuan/anaconda3/envs/pdbPy3/lib/python3.6/site-packages/pymysql/cursors.py:170: Warning: (1292, \"Truncated incorrect DOUBLE value: '120C'\")\n",
      "  result = self._query(query)\n",
      "/home/yuan/anaconda3/envs/pdbPy3/lib/python3.6/site-packages/pymysql/cursors.py:170: Warning: (1292, \"Truncated incorrect DOUBLE value: '120D'\")\n",
      "  result = self._query(query)\n",
      "/home/yuan/anaconda3/envs/pdbPy3/lib/python3.6/site-packages/pymysql/cursors.py:170: Warning: (1292, \"Truncated incorrect DOUBLE value: '120E'\")\n",
      "  result = self._query(query)\n",
      "/home/yuan/anaconda3/envs/pdbPy3/lib/python3.6/site-packages/pymysql/cursors.py:170: Warning: (1292, \"Truncated incorrect DOUBLE value: '120G'\")\n",
      "  result = self._query(query)\n",
      "/home/yuan/anaconda3/envs/pdbPy3/lib/python3.6/site-packages/pymysql/cursors.py:170: Warning: (1292, \"Truncated incorrect DOUBLE value: '120H'\")\n",
      "  result = self._query(query)\n",
      "/home/yuan/anaconda3/envs/pdbPy3/lib/python3.6/site-packages/pymysql/cursors.py:170: Warning: (1292, \"Truncated incorrect DOUBLE value: '120I'\")\n",
      "  result = self._query(query)\n",
      "/home/yuan/anaconda3/envs/pdbPy3/lib/python3.6/site-packages/pymysql/cursors.py:170: Warning: (1292, \"Truncated incorrect DOUBLE value: '120J'\")\n",
      "  result = self._query(query)\n",
      "/home/yuan/anaconda3/envs/pdbPy3/lib/python3.6/site-packages/pymysql/cursors.py:170: Warning: (1292, \"Truncated incorrect DOUBLE value: '110A'\")\n",
      "  result = self._query(query)\n",
      "/home/yuan/anaconda3/envs/pdbPy3/lib/python3.6/site-packages/pymysql/cursors.py:170: Warning: (1292, \"Truncated incorrect DOUBLE value: '110B'\")\n",
      "  result = self._query(query)\n",
      "/home/yuan/anaconda3/envs/pdbPy3/lib/python3.6/site-packages/pymysql/cursors.py:170: Warning: (1292, \"Truncated incorrect DOUBLE value: '110C'\")\n",
      "  result = self._query(query)\n",
      "/home/yuan/anaconda3/envs/pdbPy3/lib/python3.6/site-packages/pymysql/cursors.py:170: Warning: (1292, \"Truncated incorrect DOUBLE value: '110D'\")\n",
      "  result = self._query(query)\n",
      "/home/yuan/anaconda3/envs/pdbPy3/lib/python3.6/site-packages/pymysql/cursors.py:170: Warning: (1292, \"Truncated incorrect DOUBLE value: '169A'\")\n",
      "  result = self._query(query)\n",
      "/home/yuan/anaconda3/envs/pdbPy3/lib/python3.6/site-packages/pymysql/cursors.py:170: Warning: (1292, \"Truncated incorrect DOUBLE value: '169B'\")\n",
      "  result = self._query(query)\n",
      "/home/yuan/anaconda3/envs/pdbPy3/lib/python3.6/site-packages/pymysql/cursors.py:170: Warning: (1292, \"Truncated incorrect DOUBLE value: '186A'\")\n",
      "  result = self._query(query)\n",
      "/home/yuan/anaconda3/envs/pdbPy3/lib/python3.6/site-packages/pymysql/cursors.py:170: Warning: (1292, \"Truncated incorrect DOUBLE value: '186B'\")\n",
      "  result = self._query(query)\n",
      "/home/yuan/anaconda3/envs/pdbPy3/lib/python3.6/site-packages/pymysql/cursors.py:170: Warning: (1292, \"Truncated incorrect DOUBLE value: '186H'\")\n",
      "  result = self._query(query)\n",
      "/home/yuan/anaconda3/envs/pdbPy3/lib/python3.6/site-packages/pymysql/cursors.py:170: Warning: (1292, \"Truncated incorrect DOUBLE value: '100P'\")\n",
      "  result = self._query(query)\n",
      "/home/yuan/anaconda3/envs/pdbPy3/lib/python3.6/site-packages/pymysql/cursors.py:170: Warning: (1292, \"Truncated incorrect DOUBLE value: '101P'\")\n",
      "  result = self._query(query)\n",
      "/home/yuan/anaconda3/envs/pdbPy3/lib/python3.6/site-packages/pymysql/cursors.py:170: Warning: (1292, \"Truncated incorrect DOUBLE value: '102P'\")\n",
      "  result = self._query(query)\n",
      "/home/yuan/anaconda3/envs/pdbPy3/lib/python3.6/site-packages/pymysql/cursors.py:170: Warning: (1292, \"Truncated incorrect DOUBLE value: '103P'\")\n",
      "  result = self._query(query)\n",
      "/home/yuan/anaconda3/envs/pdbPy3/lib/python3.6/site-packages/pymysql/cursors.py:170: Warning: (1292, \"Truncated incorrect DOUBLE value: '104P'\")\n",
      "  result = self._query(query)\n",
      "/home/yuan/anaconda3/envs/pdbPy3/lib/python3.6/site-packages/pymysql/cursors.py:170: Warning: (1292, \"Truncated incorrect DOUBLE value: '105P'\")\n",
      "  result = self._query(query)\n",
      "/home/yuan/anaconda3/envs/pdbPy3/lib/python3.6/site-packages/pymysql/cursors.py:170: Warning: (1292, \"Truncated incorrect DOUBLE value: '106P'\")\n",
      "  result = self._query(query)\n",
      "/home/yuan/anaconda3/envs/pdbPy3/lib/python3.6/site-packages/pymysql/cursors.py:170: Warning: (1292, \"Truncated incorrect DOUBLE value: '107P'\")\n",
      "  result = self._query(query)\n",
      "/home/yuan/anaconda3/envs/pdbPy3/lib/python3.6/site-packages/pymysql/cursors.py:170: Warning: (1292, \"Truncated incorrect DOUBLE value: '102A'\")\n",
      "  result = self._query(query)\n",
      "/home/yuan/anaconda3/envs/pdbPy3/lib/python3.6/site-packages/pymysql/cursors.py:170: Warning: (1292, \"Truncated incorrect DOUBLE value: '10A'\")\n",
      "  result = self._query(query)\n",
      "/home/yuan/anaconda3/envs/pdbPy3/lib/python3.6/site-packages/pymysql/cursors.py:170: Warning: (1292, \"Truncated incorrect DOUBLE value: '126A'\")\n",
      "  result = self._query(query)\n",
      "/home/yuan/anaconda3/envs/pdbPy3/lib/python3.6/site-packages/pymysql/cursors.py:170: Warning: (1292, \"Truncated incorrect DOUBLE value: '155A'\")\n",
      "  result = self._query(query)\n",
      "/home/yuan/anaconda3/envs/pdbPy3/lib/python3.6/site-packages/pymysql/cursors.py:170: Warning: (1292, \"Truncated incorrect DOUBLE value: '155B'\")\n",
      "  result = self._query(query)\n",
      "/home/yuan/anaconda3/envs/pdbPy3/lib/python3.6/site-packages/pymysql/cursors.py:170: Warning: (1292, \"Truncated incorrect DOUBLE value: '155C'\")\n",
      "  result = self._query(query)\n",
      "/home/yuan/anaconda3/envs/pdbPy3/lib/python3.6/site-packages/pymysql/cursors.py:170: Warning: (1292, \"Truncated incorrect DOUBLE value: '155D'\")\n",
      "  result = self._query(query)\n",
      "/home/yuan/anaconda3/envs/pdbPy3/lib/python3.6/site-packages/pymysql/cursors.py:170: Warning: (1292, \"Truncated incorrect DOUBLE value: '168A'\")\n",
      "  result = self._query(query)\n",
      "/home/yuan/anaconda3/envs/pdbPy3/lib/python3.6/site-packages/pymysql/cursors.py:170: Warning: (1292, \"Truncated incorrect DOUBLE value: '168B'\")\n",
      "  result = self._query(query)\n"
     ]
    }
   ],
   "source": [
    "neighbour_information_list = []\n",
    "num_pos = 0\n",
    "num_neg = 0\n",
    "for i in range(0,len(pos_neg_sample)):\n",
    "    features = Get_FEATURE(pos_neg_sample.iloc[i,0],pos_neg_sample.iloc[i,1],\\\n",
    "                pos_neg_sample.iloc[i,2])\n",
    "    if pos_neg_sample.iloc[i,4] == \"Pos\":\n",
    "        if features.shape[0] > 0:\n",
    "            num_pos = num_pos + 1\n",
    "            neighbour_information_list.append([float(x) for x in features[\"feature\"].values[0].split(\",\")])\n",
    "    else:\n",
    "        if features.shape[0] > 0:\n",
    "            num_neg = num_neg + 1\n",
    "            neighbour_information_list.append([float(x) for x in features[\"feature\"].values[0].split(\",\")])"
   ]
  },
  {
   "cell_type": "code",
   "execution_count": 562,
   "metadata": {},
   "outputs": [
    {
     "name": "stdout",
     "output_type": "stream",
     "text": [
      "decision_tree\n",
      "accuracy: 0.6758 roc: 0.6640 precision: 0.6658 recall: 0.6577\n",
      "naive_gaussian\n",
      "accuracy: 0.6892 roc: 0.7287 precision: 0.7480 recall: 0.5846\n",
      "K_neighbor\n",
      "accuracy: 0.6931 roc: 0.7141 precision: 0.7077 recall: 0.6692\n",
      "bagging_knn\n",
      "accuracy: 0.7182 roc: 0.7610 precision: 0.7376 recall: 0.7077\n",
      "bagging_tree\n",
      "accuracy: 0.7375 roc: 0.7941 precision: 0.7145 recall: 0.7731\n",
      "random_forest\n",
      "accuracy: 0.7704 roc: 0.8428 precision: 0.7798 recall: 0.7846\n",
      "adaboost\n",
      "accuracy: 0.7106 roc: 0.7742 precision: 0.7167 recall: 0.7192\n",
      "gradient_boost\n",
      "accuracy: 0.7066 roc: 0.7698 precision: 0.7283 recall: 0.6846\n",
      "svm\n",
      "accuracy: 0.5309 roc: 0.5357 precision: 0.5170 recall: 1.0000\n",
      "xgboost\n",
      "accuracy: 0.7472 roc: 0.8313 precision: 0.7674 recall: 0.7231\n"
     ]
    }
   ],
   "source": [
    "train_dataset = neighbour_information_list\n",
    "# for each_res in neighbour_information_list:\n",
    "#     one_res_data = []\n",
    "#     for element in each_res[1:]:\n",
    "#         if isinstance(element,str):\n",
    "#             pass\n",
    "#             #one_res_data.extend(onehot_encoded.transform([[amino_acid_property_by_res[element]-1]])[0].tolist())\n",
    "#         else:\n",
    "#             one_res_data.append(element)\n",
    "#     train_dataset.append(one_res_data)\n",
    "wrong_sample = []\n",
    "for i in range(0,len(train_dataset)):\n",
    "    if(len(train_dataset[i])<470):\n",
    "        wrong_sample.append(i)\n",
    "\n",
    "y_label =[1 for x in range(0,num_pos)]\n",
    "y_label.extend([2 for i in range(0,num_neg)])\n",
    "\n",
    "final_y_label = [y_label[i] for i in range(0,num_neg+num_pos) if i not in wrong_sample]\n",
    "final_y_label = np.asarray(final_y_label)\n",
    "shuffle_y_label = shuffle(final_y_label,random_state=0)\n",
    "\n",
    "final_train_dataset = [train_dataset[i] for i in range(0,num_neg+num_pos) if i not in wrong_sample]\n",
    "final_train_dataset = np.vstack(np.asarray(final_train_dataset))\n",
    "shuffle_train_dataset = shuffle(final_train_dataset,random_state=0)\n",
    "\n",
    "for clf in clfs:\n",
    "    print(clf)\n",
    "    scores_acc = cross_val_score(clfs[clf],shuffle_train_dataset,shuffle_y_label,scoring='accuracy',n_jobs=5,cv=10)\n",
    "    scores_roc = cross_val_score(clfs[clf],shuffle_train_dataset,shuffle_y_label,scoring='roc_auc',n_jobs=5,cv=10)\n",
    "    scores_precision = cross_val_score(clfs[clf],shuffle_train_dataset,shuffle_y_label,scoring='precision',n_jobs=5,cv=10)\n",
    "    scores_recall = cross_val_score(clfs[clf],shuffle_train_dataset,shuffle_y_label,scoring='recall',n_jobs=5,cv=10)\n",
    "    print('accuracy:',\"{:.4f}\".format(sum(scores_acc)/10),'roc:',\"{:.4f}\".format(sum(scores_roc)/10), \\\n",
    "         'precision:',\"{:.4f}\".format(sum(scores_precision)/10),'recall:',\"{:.4f}\".format(sum(scores_recall)/10))"
   ]
  },
  {
   "cell_type": "code",
   "execution_count": 150,
   "metadata": {},
   "outputs": [
    {
     "data": {
      "text/plain": [
       "518"
      ]
     },
     "execution_count": 150,
     "metadata": {},
     "output_type": "execute_result"
    }
   ],
   "source": [
    "len(final_train_dataset)"
   ]
  },
  {
   "cell_type": "markdown",
   "metadata": {},
   "source": [
    "## Deep Learning test"
   ]
  },
  {
   "cell_type": "code",
   "execution_count": 566,
   "metadata": {
    "scrolled": true
   },
   "outputs": [],
   "source": [
    "from keras.models import Sequential\n",
    "from keras.layers import Dense\n",
    "from keras.layers import Dropout"
   ]
  },
  {
   "cell_type": "code",
   "execution_count": 368,
   "metadata": {},
   "outputs": [
    {
     "data": {
      "text/plain": [
       "10"
      ]
     },
     "execution_count": 368,
     "metadata": {},
     "output_type": "execute_result"
    }
   ],
   "source": [
    "skf = StratifiedKFold(n_splits=10,shuffle=True)\n",
    "skf.get_n_splits(shuffle_train_dataset,shuffle_y_label)"
   ]
  },
  {
   "cell_type": "code",
   "execution_count": 586,
   "metadata": {},
   "outputs": [],
   "source": [
    "train_dataset = []\n",
    "for each_res in neighbour_information_list:\n",
    "    one_res_data = []\n",
    "    i = 0\n",
    "    for element in each_res:\n",
    "        if isinstance(element,str):\n",
    "            one_res_data.extend(onehot_encoded.transform([[amino_acid_property_by_res[element]-1]])[0].tolist())\n",
    "        else:\n",
    "            one_res_data.append(math.log(element))\n",
    "            \n",
    "#         if isinstance(element,str):\n",
    "#             pass\n",
    "#         else:\n",
    "#             if i % 2 == 1:\n",
    "#                 one_res_data.append(element)\n",
    "#             i = i + 1    \n",
    "            \n",
    "\n",
    "    train_dataset.append(one_res_data)\n",
    "wrong_sample = []\n",
    "for i in range(0,len(train_dataset)):\n",
    "    if(len(train_dataset[i])<len(train_dataset[0])):\n",
    "        wrong_sample.append(i)\n",
    "\n",
    "y_label =[0 for x in range(0,num_pos)]\n",
    "y_label.extend([1 for i in range(0,num_neg)])\n",
    "\n",
    "final_y_label = [y_label[i] for i in range(0,num_neg+num_pos) if i not in wrong_sample]\n",
    "final_y_label = np.asarray(final_y_label)\n",
    "shuffle_y_label = shuffle(final_y_label,random_state=0)\n",
    "\n",
    "final_train_dataset = [train_dataset[i] for i in range(0,num_neg+num_pos) if i not in wrong_sample]\n",
    "final_train_dataset = np.vstack(np.asarray(final_train_dataset))\n",
    "shuffle_train_dataset = shuffle(final_train_dataset,random_state=0)"
   ]
  },
  {
   "cell_type": "code",
   "execution_count": 587,
   "metadata": {},
   "outputs": [
    {
     "name": "stdout",
     "output_type": "stream",
     "text": [
      "Accuracy: 0.65\n"
     ]
    }
   ],
   "source": [
    "cum_accuracy = 0\n",
    "for train_index, test_index in skf.split(shuffle_train_dataset,shuffle_y_label):\n",
    "    model = Sequential()\n",
    "    model.add(Dense(1000, input_dim=502, activation='relu'))\n",
    "    model.add(Dropout(0.2))\n",
    "    model.add(Dense(1000, activation='relu'))\n",
    "    model.add(Dropout(0.2))\n",
    "    model.add(Dense(1000, activation='relu'))\n",
    "    model.add(Dropout(0.2))\n",
    "    model.add(Dense(1000, activation='relu'))\n",
    "    model.add(Dropout(0.2))\n",
    "    model.add(Dense(1, activation='sigmoid'))\n",
    "    # compile the keras model\n",
    "    model.compile(loss='binary_crossentropy', optimizer='adam', metrics=['accuracy'])\n",
    "    model.fit(shuffle_train_dataset[train_index], \\\n",
    "              shuffle_y_label[train_index], epochs=100, batch_size=20,verbose=0)\n",
    "    _, accuracy = model.evaluate(shuffle_train_dataset[test_index], shuffle_y_label[test_index],verbose=0) \n",
    "    cum_accuracy = cum_accuracy + accuracy\n",
    "print('Accuracy: %.2f' % (cum_accuracy/10))"
   ]
  },
  {
   "cell_type": "code",
   "execution_count": null,
   "metadata": {},
   "outputs": [],
   "source": []
  }
 ],
 "metadata": {
  "kernelspec": {
   "display_name": "Python 3",
   "language": "python",
   "name": "python3"
  },
  "language_info": {
   "codemirror_mode": {
    "name": "ipython",
    "version": 3
   },
   "file_extension": ".py",
   "mimetype": "text/x-python",
   "name": "python",
   "nbconvert_exporter": "python",
   "pygments_lexer": "ipython3",
   "version": "3.6.10"
  }
 },
 "nbformat": 4,
 "nbformat_minor": 4
}
