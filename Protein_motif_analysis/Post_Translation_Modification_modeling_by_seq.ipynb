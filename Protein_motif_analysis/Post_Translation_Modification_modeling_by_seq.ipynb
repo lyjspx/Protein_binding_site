{
 "cells": [
  {
   "cell_type": "code",
   "execution_count": 4,
   "metadata": {
    "scrolled": true
   },
   "outputs": [],
   "source": [
    "from Bio.PDB import *\n",
    "import urllib.request\n",
    "import numpy as np\n",
    "import pandas as pd\n",
    "from math import sqrt\n",
    "import time\n",
    "import configparser\n",
    "import os\n",
    "import pymysql"
   ]
  },
  {
   "cell_type": "code",
   "execution_count": 5,
   "metadata": {
    "scrolled": true
   },
   "outputs": [
    {
     "data": {
      "text/plain": [
       "['office_ssh', 'office_mysql']"
      ]
     },
     "execution_count": 5,
     "metadata": {},
     "output_type": "execute_result"
    }
   ],
   "source": [
    "config = configparser.ConfigParser()\n",
    "config.read(\"/home/yuan/Documents/config.ini\")\n",
    "config.sections()"
   ]
  },
  {
   "cell_type": "code",
   "execution_count": 6,
   "metadata": {
    "scrolled": true
   },
   "outputs": [],
   "source": [
    "modification_site = pd.read_csv(\"/home/yuan/Documents/pdb_chain_ksites.csv\")"
   ]
  },
  {
   "cell_type": "code",
   "execution_count": 7,
   "metadata": {
    "scrolled": true
   },
   "outputs": [
    {
     "data": {
      "text/html": [
       "<div>\n",
       "<style>\n",
       "    .dataframe thead tr:only-child th {\n",
       "        text-align: right;\n",
       "    }\n",
       "\n",
       "    .dataframe thead th {\n",
       "        text-align: left;\n",
       "    }\n",
       "\n",
       "    .dataframe tbody tr th {\n",
       "        vertical-align: top;\n",
       "    }\n",
       "</style>\n",
       "<table border=\"1\" class=\"dataframe\">\n",
       "  <thead>\n",
       "    <tr style=\"text-align: right;\">\n",
       "      <th></th>\n",
       "      <th>PDB</th>\n",
       "      <th>CHAIN</th>\n",
       "      <th>SP_PRIMARY</th>\n",
       "      <th>RES_BEG</th>\n",
       "      <th>RES_END</th>\n",
       "      <th>PDB_BEG</th>\n",
       "      <th>PDB_END</th>\n",
       "      <th>SP_BEG</th>\n",
       "      <th>SP_END</th>\n",
       "      <th>Ksites</th>\n",
       "    </tr>\n",
       "  </thead>\n",
       "  <tbody>\n",
       "    <tr>\n",
       "      <th>0</th>\n",
       "      <td>3g8c</td>\n",
       "      <td>A</td>\n",
       "      <td>P24182</td>\n",
       "      <td>1</td>\n",
       "      <td>444</td>\n",
       "      <td>1</td>\n",
       "      <td>444</td>\n",
       "      <td>1</td>\n",
       "      <td>444</td>\n",
       "      <td>27</td>\n",
       "    </tr>\n",
       "    <tr>\n",
       "      <th>1</th>\n",
       "      <td>3g8c</td>\n",
       "      <td>B</td>\n",
       "      <td>P24182</td>\n",
       "      <td>1</td>\n",
       "      <td>444</td>\n",
       "      <td>1</td>\n",
       "      <td>444</td>\n",
       "      <td>1</td>\n",
       "      <td>444</td>\n",
       "      <td>27</td>\n",
       "    </tr>\n",
       "    <tr>\n",
       "      <th>2</th>\n",
       "      <td>3g8d</td>\n",
       "      <td>A</td>\n",
       "      <td>P24182</td>\n",
       "      <td>1</td>\n",
       "      <td>444</td>\n",
       "      <td>1</td>\n",
       "      <td>444</td>\n",
       "      <td>1</td>\n",
       "      <td>444</td>\n",
       "      <td>27</td>\n",
       "    </tr>\n",
       "    <tr>\n",
       "      <th>3</th>\n",
       "      <td>3g8d</td>\n",
       "      <td>B</td>\n",
       "      <td>P24182</td>\n",
       "      <td>1</td>\n",
       "      <td>444</td>\n",
       "      <td>1</td>\n",
       "      <td>444</td>\n",
       "      <td>1</td>\n",
       "      <td>444</td>\n",
       "      <td>27</td>\n",
       "    </tr>\n",
       "    <tr>\n",
       "      <th>4</th>\n",
       "      <td>3jzf</td>\n",
       "      <td>A</td>\n",
       "      <td>P24182</td>\n",
       "      <td>22</td>\n",
       "      <td>470</td>\n",
       "      <td>1</td>\n",
       "      <td>449</td>\n",
       "      <td>1</td>\n",
       "      <td>449</td>\n",
       "      <td>27</td>\n",
       "    </tr>\n",
       "  </tbody>\n",
       "</table>\n",
       "</div>"
      ],
      "text/plain": [
       "    PDB CHAIN SP_PRIMARY  RES_BEG  RES_END  PDB_BEG  PDB_END  SP_BEG  SP_END  \\\n",
       "0  3g8c     A     P24182        1      444        1      444       1     444   \n",
       "1  3g8c     B     P24182        1      444        1      444       1     444   \n",
       "2  3g8d     A     P24182        1      444        1      444       1     444   \n",
       "3  3g8d     B     P24182        1      444        1      444       1     444   \n",
       "4  3jzf     A     P24182       22      470        1      449       1     449   \n",
       "\n",
       "   Ksites  \n",
       "0      27  \n",
       "1      27  \n",
       "2      27  \n",
       "3      27  \n",
       "4      27  "
      ]
     },
     "execution_count": 7,
     "metadata": {},
     "output_type": "execute_result"
    }
   ],
   "source": [
    "modification_site[0:5]"
   ]
  },
  {
   "cell_type": "code",
   "execution_count": 8,
   "metadata": {
    "scrolled": true
   },
   "outputs": [],
   "source": [
    "modification_site_dic = {}\n",
    "for i in range(len(modification_site)):\n",
    "    if modification_site.loc[i,\"PDB\"] not in modification_site_dic:\n",
    "        modification_site_dic[modification_site.loc[i,\"PDB\"]] = {modification_site.loc[i,\"CHAIN\"]:[modification_site.loc[i,\"Ksites\"]]}\n",
    "    elif modification_site.loc[i,\"CHAIN\"] not in modification_site_dic[modification_site.loc[i,\"PDB\"]]:\n",
    "        modification_site_dic[modification_site.loc[i,\"PDB\"]][modification_site.loc[i,\"CHAIN\"]] = [modification_site.loc[i,\"Ksites\"]]\n",
    "    else:\n",
    "        modification_site_dic[modification_site.loc[i,\"PDB\"]][modification_site.loc[i,\"CHAIN\"]].append(modification_site.loc[i,\"Ksites\"])\n",
    "for protein in modification_site_dic:\n",
    "    for chain in modification_site_dic[protein]:\n",
    "        modification_site_dic[protein][chain] = list(modification_site_dic[protein][chain])\n",
    "        "
   ]
  },
  {
   "cell_type": "code",
   "execution_count": 9,
   "metadata": {
    "scrolled": true
   },
   "outputs": [],
   "source": [
    "unique_list = modification_site[[\"PDB\",\"CHAIN\"]].drop_duplicates()"
   ]
  },
  {
   "cell_type": "code",
   "execution_count": 10,
   "metadata": {
    "scrolled": true
   },
   "outputs": [],
   "source": [
    "unique_list = unique_list.reset_index(drop=True)"
   ]
  },
  {
   "cell_type": "code",
   "execution_count": 11,
   "metadata": {
    "scrolled": true
   },
   "outputs": [],
   "source": [
    "backbone = [\"N\",\"CA\",\"C\",\"O\"]\n",
    "aminoAcidCodes = [\"ALA\",\"ARG\",\"ASN\",\"ASP\",\"CYS\",\"GLN\",\"GLY\",\"GLU\",\"HIS\",\"ILE\",\"LEU\",\"LYS\",\n",
    "                 \"MET\",\"PHE\",\"PRO\",\"PYL\",\"SER\",\"SEC\",\"THR\",\"TRP\",\"TYR\",\"VAL\"]"
   ]
  },
  {
   "cell_type": "code",
   "execution_count": 12,
   "metadata": {},
   "outputs": [],
   "source": [
    "def n_nearest_neighbour_by_seq(PDB_ID,Chain,res_ID,n):\n",
    "    if n >= res_ID:\n",
    "        return []\n",
    "    conn = pymysql.connect(host=config[\"office_mysql\"][\"sql_host\"],user=config[\"office_mysql\"][\"sql_username\"],\n",
    "                       passwd=config[\"office_mysql\"][\"sql_password\"],\n",
    "                       db=config[\"office_mysql\"][\"sql_main_database\"],port=3306)\n",
    "    try:\n",
    "        with conn as cursor: #auto commit; no close() called\n",
    "            with cursor: # close() called here\n",
    "                sql_select = \"Select da.* FROM pdbdb.`Distance_angle_PTM` da \"\n",
    "                sql_where = \"WHERE da.pdbID = \\\"{}\\\" and da.chain = \\\"{}\\\" and da.ID_1= \\\"{}\\\";\".format(PDB_ID,Chain,res_ID)  \n",
    "                sql = sql_select+sql_where\n",
    "                data = pd.read_sql_query(sql, conn)\n",
    "        head_part = data.groupby([\"ID\"]).first().iloc[(res_ID-n-1):(res_ID-1),]\n",
    "        tail_part = data.groupby([\"ID\"]).first().iloc[res_ID:(res_ID+n),]\n",
    "        return(pd.concat([head_part,tail_part])) #from 2 to exclude self vs self\n",
    "\n",
    "    except Exception as e: # catch exceptions\n",
    "        print(\"~~~~~~~~~~~~~~\")\n",
    "        print(e)\n",
    "    finally:\n",
    "        if conn:\n",
    "            conn.close()"
   ]
  },
  {
   "cell_type": "code",
   "execution_count": 13,
   "metadata": {
    "scrolled": true
   },
   "outputs": [
    {
     "data": {
      "text/html": [
       "<div>\n",
       "<style>\n",
       "    .dataframe thead tr:only-child th {\n",
       "        text-align: right;\n",
       "    }\n",
       "\n",
       "    .dataframe thead th {\n",
       "        text-align: left;\n",
       "    }\n",
       "\n",
       "    .dataframe tbody tr th {\n",
       "        vertical-align: top;\n",
       "    }\n",
       "</style>\n",
       "<table border=\"1\" class=\"dataframe\">\n",
       "  <thead>\n",
       "    <tr style=\"text-align: right;\">\n",
       "      <th></th>\n",
       "      <th>pdbID</th>\n",
       "      <th>chain</th>\n",
       "      <th>ID_1</th>\n",
       "      <th>Res_1</th>\n",
       "      <th>ID_2</th>\n",
       "      <th>Res_2</th>\n",
       "      <th>Distance</th>\n",
       "      <th>Angle</th>\n",
       "    </tr>\n",
       "    <tr>\n",
       "      <th>ID</th>\n",
       "      <th></th>\n",
       "      <th></th>\n",
       "      <th></th>\n",
       "      <th></th>\n",
       "      <th></th>\n",
       "      <th></th>\n",
       "      <th></th>\n",
       "      <th></th>\n",
       "    </tr>\n",
       "  </thead>\n",
       "  <tbody>\n",
       "    <tr>\n",
       "      <th>6226</th>\n",
       "      <td>3g8c</td>\n",
       "      <td>A</td>\n",
       "      <td>15</td>\n",
       "      <td>LEU</td>\n",
       "      <td>10</td>\n",
       "      <td>ARG</td>\n",
       "      <td>11.217045</td>\n",
       "      <td>76.474551</td>\n",
       "    </tr>\n",
       "    <tr>\n",
       "      <th>6227</th>\n",
       "      <td>3g8c</td>\n",
       "      <td>A</td>\n",
       "      <td>15</td>\n",
       "      <td>LEU</td>\n",
       "      <td>11</td>\n",
       "      <td>GLY</td>\n",
       "      <td>7.209092</td>\n",
       "      <td>86.154560</td>\n",
       "    </tr>\n",
       "    <tr>\n",
       "      <th>6228</th>\n",
       "      <td>3g8c</td>\n",
       "      <td>A</td>\n",
       "      <td>15</td>\n",
       "      <td>LEU</td>\n",
       "      <td>12</td>\n",
       "      <td>GLU</td>\n",
       "      <td>7.610891</td>\n",
       "      <td>88.116599</td>\n",
       "    </tr>\n",
       "    <tr>\n",
       "      <th>6229</th>\n",
       "      <td>3g8c</td>\n",
       "      <td>A</td>\n",
       "      <td>15</td>\n",
       "      <td>LEU</td>\n",
       "      <td>13</td>\n",
       "      <td>ILE</td>\n",
       "      <td>9.033376</td>\n",
       "      <td>47.692547</td>\n",
       "    </tr>\n",
       "    <tr>\n",
       "      <th>6230</th>\n",
       "      <td>3g8c</td>\n",
       "      <td>A</td>\n",
       "      <td>15</td>\n",
       "      <td>LEU</td>\n",
       "      <td>14</td>\n",
       "      <td>ALA</td>\n",
       "      <td>6.644277</td>\n",
       "      <td>43.795225</td>\n",
       "    </tr>\n",
       "    <tr>\n",
       "      <th>6232</th>\n",
       "      <td>3g8c</td>\n",
       "      <td>A</td>\n",
       "      <td>15</td>\n",
       "      <td>LEU</td>\n",
       "      <td>16</td>\n",
       "      <td>ARG</td>\n",
       "      <td>8.508435</td>\n",
       "      <td>75.514795</td>\n",
       "    </tr>\n",
       "    <tr>\n",
       "      <th>6233</th>\n",
       "      <td>3g8c</td>\n",
       "      <td>A</td>\n",
       "      <td>15</td>\n",
       "      <td>LEU</td>\n",
       "      <td>17</td>\n",
       "      <td>ILE</td>\n",
       "      <td>9.106243</td>\n",
       "      <td>19.250362</td>\n",
       "    </tr>\n",
       "    <tr>\n",
       "      <th>6234</th>\n",
       "      <td>3g8c</td>\n",
       "      <td>A</td>\n",
       "      <td>15</td>\n",
       "      <td>LEU</td>\n",
       "      <td>18</td>\n",
       "      <td>LEU</td>\n",
       "      <td>5.940790</td>\n",
       "      <td>84.540007</td>\n",
       "    </tr>\n",
       "    <tr>\n",
       "      <th>6235</th>\n",
       "      <td>3g8c</td>\n",
       "      <td>A</td>\n",
       "      <td>15</td>\n",
       "      <td>LEU</td>\n",
       "      <td>19</td>\n",
       "      <td>ARG</td>\n",
       "      <td>4.270894</td>\n",
       "      <td>130.326129</td>\n",
       "    </tr>\n",
       "    <tr>\n",
       "      <th>6236</th>\n",
       "      <td>3g8c</td>\n",
       "      <td>A</td>\n",
       "      <td>15</td>\n",
       "      <td>LEU</td>\n",
       "      <td>20</td>\n",
       "      <td>ALA</td>\n",
       "      <td>10.330401</td>\n",
       "      <td>62.970396</td>\n",
       "    </tr>\n",
       "  </tbody>\n",
       "</table>\n",
       "</div>"
      ],
      "text/plain": [
       "     pdbID chain  ID_1 Res_1  ID_2 Res_2   Distance       Angle\n",
       "ID                                                             \n",
       "6226  3g8c     A    15   LEU    10   ARG  11.217045   76.474551\n",
       "6227  3g8c     A    15   LEU    11   GLY   7.209092   86.154560\n",
       "6228  3g8c     A    15   LEU    12   GLU   7.610891   88.116599\n",
       "6229  3g8c     A    15   LEU    13   ILE   9.033376   47.692547\n",
       "6230  3g8c     A    15   LEU    14   ALA   6.644277   43.795225\n",
       "6232  3g8c     A    15   LEU    16   ARG   8.508435   75.514795\n",
       "6233  3g8c     A    15   LEU    17   ILE   9.106243   19.250362\n",
       "6234  3g8c     A    15   LEU    18   LEU   5.940790   84.540007\n",
       "6235  3g8c     A    15   LEU    19   ARG   4.270894  130.326129\n",
       "6236  3g8c     A    15   LEU    20   ALA  10.330401   62.970396"
      ]
     },
     "execution_count": 13,
     "metadata": {},
     "output_type": "execute_result"
    }
   ],
   "source": [
    "n_nearest_neighbour_by_seq(\"3g8c\",\"A\",15,5)"
   ]
  },
  {
   "cell_type": "code",
   "execution_count": 14,
   "metadata": {
    "scrolled": true
   },
   "outputs": [],
   "source": [
    "def One_residue_retrieval(residue_1,PDB_ID,Chain):\n",
    "    data, data_1, data_2 = None, None, None\n",
    "    conn = pymysql.connect(host=config[\"office_mysql\"][\"sql_host\"],user=config[\"office_mysql\"][\"sql_username\"],\n",
    "                           passwd=config[\"office_mysql\"][\"sql_password\"],\n",
    "                           db=config[\"office_mysql\"][\"sql_main_database\"],port=3306)\n",
    "    try:\n",
    "        with conn as cursor: #auto commit; no close() called\n",
    "            with cursor: # close() called here\n",
    "                sql_select = \"Select da.* FROM pdbdb.`Distance_angle_PTM` da \"\n",
    "                sql_where = \"WHERE da.pdbID = \\\"{}\\\" and da.chain=\\\"{}\\\" and da.ID_1 = {};\".format(PDB_ID,Chain,residue_1)    \n",
    "                sql = sql_select+sql_where\n",
    "                data_1 = pd.read_sql_query(sql, conn)\n",
    "                data = data_1\n",
    "        \n",
    "    except Exception as e: # catch exceptions\n",
    "        print(\"~~~~~~~~~~~~~~\")\n",
    "        print(e)\n",
    "    finally:\n",
    "        if conn:\n",
    "            conn.close()\n",
    "        return(data)"
   ]
  },
  {
   "cell_type": "code",
   "execution_count": 15,
   "metadata": {
    "scrolled": true
   },
   "outputs": [
    {
     "data": {
      "text/plain": [
       "<generator object DataFrame.iterrows at 0x7f02a9b46e60>"
      ]
     },
     "execution_count": 15,
     "metadata": {},
     "output_type": "execute_result"
    }
   ],
   "source": [
    "result_step1 = One_residue_retrieval(144,\"3g8c\",\"A\")\n",
    "result_step2 = result_step1.groupby([\"ID\"]).first() #duplicate discard\n",
    "result_step3 = result_step2[~result_step2.ID_2.isin([144])] # activate discard\n",
    "result_step4 = result_step3[result_step3[\"Res_1\"]==result_step3[\"Res_2\"]].sample(3,random_state =1) #sample nonactive site\n",
    "result_step4.sample(2,random_state =1).iterrows()"
   ]
  },
  {
   "cell_type": "code",
   "execution_count": 16,
   "metadata": {
    "scrolled": true
   },
   "outputs": [
    {
     "data": {
      "text/html": [
       "<div>\n",
       "<style>\n",
       "    .dataframe thead tr:only-child th {\n",
       "        text-align: right;\n",
       "    }\n",
       "\n",
       "    .dataframe thead th {\n",
       "        text-align: left;\n",
       "    }\n",
       "\n",
       "    .dataframe tbody tr th {\n",
       "        vertical-align: top;\n",
       "    }\n",
       "</style>\n",
       "<table border=\"1\" class=\"dataframe\">\n",
       "  <thead>\n",
       "    <tr style=\"text-align: right;\">\n",
       "      <th></th>\n",
       "      <th>pdbID</th>\n",
       "      <th>chain</th>\n",
       "      <th>ID_1</th>\n",
       "      <th>Res_1</th>\n",
       "      <th>ID_2</th>\n",
       "      <th>Res_2</th>\n",
       "      <th>Distance</th>\n",
       "      <th>Angle</th>\n",
       "    </tr>\n",
       "    <tr>\n",
       "      <th>ID</th>\n",
       "      <th></th>\n",
       "      <th></th>\n",
       "      <th></th>\n",
       "      <th></th>\n",
       "      <th></th>\n",
       "      <th></th>\n",
       "      <th></th>\n",
       "      <th></th>\n",
       "    </tr>\n",
       "  </thead>\n",
       "  <tbody>\n",
       "    <tr>\n",
       "      <th>63907</th>\n",
       "      <td>3g8c</td>\n",
       "      <td>A</td>\n",
       "      <td>144</td>\n",
       "      <td>LYS</td>\n",
       "      <td>415</td>\n",
       "      <td>LYS</td>\n",
       "      <td>53.256177</td>\n",
       "      <td>44.854980</td>\n",
       "    </tr>\n",
       "    <tr>\n",
       "      <th>63532</th>\n",
       "      <td>3g8c</td>\n",
       "      <td>A</td>\n",
       "      <td>144</td>\n",
       "      <td>LYS</td>\n",
       "      <td>40</td>\n",
       "      <td>LYS</td>\n",
       "      <td>58.867774</td>\n",
       "      <td>67.357118</td>\n",
       "    </tr>\n",
       "  </tbody>\n",
       "</table>\n",
       "</div>"
      ],
      "text/plain": [
       "      pdbID chain  ID_1 Res_1  ID_2 Res_2   Distance      Angle\n",
       "ID                                                             \n",
       "63907  3g8c     A   144   LYS   415   LYS  53.256177  44.854980\n",
       "63532  3g8c     A   144   LYS    40   LYS  58.867774  67.357118"
      ]
     },
     "execution_count": 16,
     "metadata": {},
     "output_type": "execute_result"
    }
   ],
   "source": [
    "result_step4.sample(2,random_state =1)"
   ]
  },
  {
   "cell_type": "code",
   "execution_count": 17,
   "metadata": {
    "scrolled": true
   },
   "outputs": [
    {
     "ename": "NameError",
     "evalue": "name 'n_nearest_neighbour' is not defined",
     "output_type": "error",
     "traceback": [
      "\u001b[0;31m---------------------------------------------------------------------------\u001b[0m",
      "\u001b[0;31mNameError\u001b[0m                                 Traceback (most recent call last)",
      "\u001b[0;32m<ipython-input-17-a28951c5f0c7>\u001b[0m in \u001b[0;36m<module>\u001b[0;34m\u001b[0m\n\u001b[1;32m      3\u001b[0m     \u001b[0;32mfor\u001b[0m \u001b[0mchain\u001b[0m\u001b[0;34m,\u001b[0m \u001b[0msites\u001b[0m \u001b[0;32min\u001b[0m \u001b[0mvalue\u001b[0m\u001b[0;34m.\u001b[0m\u001b[0mitems\u001b[0m\u001b[0;34m(\u001b[0m\u001b[0;34m)\u001b[0m\u001b[0;34m:\u001b[0m\u001b[0;34m\u001b[0m\u001b[0;34m\u001b[0m\u001b[0m\n\u001b[1;32m      4\u001b[0m         \u001b[0;32mfor\u001b[0m \u001b[0msite\u001b[0m \u001b[0;32min\u001b[0m \u001b[0msites\u001b[0m\u001b[0;34m:\u001b[0m\u001b[0;34m\u001b[0m\u001b[0;34m\u001b[0m\u001b[0m\n\u001b[0;32m----> 5\u001b[0;31m             \u001b[0mpos_sample_and_neig\u001b[0m \u001b[0;34m=\u001b[0m \u001b[0mpd\u001b[0m\u001b[0;34m.\u001b[0m\u001b[0mconcat\u001b[0m\u001b[0;34m(\u001b[0m\u001b[0;34m[\u001b[0m\u001b[0mpos_sample_and_neig\u001b[0m\u001b[0;34m,\u001b[0m\u001b[0mn_nearest_neighbour\u001b[0m\u001b[0;34m(\u001b[0m\u001b[0mkey\u001b[0m\u001b[0;34m,\u001b[0m\u001b[0mchain\u001b[0m\u001b[0;34m,\u001b[0m\u001b[0msite\u001b[0m\u001b[0;34m,\u001b[0m\u001b[0;36m1\u001b[0m\u001b[0;34m)\u001b[0m\u001b[0;34m]\u001b[0m\u001b[0;34m)\u001b[0m\u001b[0;34m\u001b[0m\u001b[0;34m\u001b[0m\u001b[0m\n\u001b[0m",
      "\u001b[0;31mNameError\u001b[0m: name 'n_nearest_neighbour' is not defined"
     ]
    }
   ],
   "source": [
    "pos_sample_and_neig = pd.DataFrame()\n",
    "for key, value in modification_site_dic.items():\n",
    "    for chain, sites in value.items():\n",
    "        for site in sites:\n",
    "            pos_sample_and_neig = pd.concat([pos_sample_and_neig,n_nearest_neighbour(key,chain,site,1)])"
   ]
  },
  {
   "cell_type": "markdown",
   "metadata": {},
   "source": [
    "#### Now, positive sites are ready. Negative sites are going to be picked. \n",
    "Right now, one pos - one neg"
   ]
  },
  {
   "cell_type": "code",
   "execution_count": 16,
   "metadata": {
    "scrolled": true
   },
   "outputs": [],
   "source": [
    "neg_sample_and_neig = pd.DataFrame()\n",
    "for i in range(len(pos_sample_and_neig)):\n",
    "    result_step1 = One_residue_retrieval(pos_sample_and_neig.iloc[i,2],pos_sample_and_neig.iloc[i,0],pos_sample_and_neig.iloc[i,1])\n",
    "    \n",
    "    result_step2 = result_step1.groupby([\"ID\"]).first() #duplicate discard\n",
    "\n",
    "    result_step3 = result_step2[~result_step2.ID_2.isin(modification_site_dic[pos_sample_and_neig.iloc[i,0]][pos_sample_and_neig.iloc[i,1]])] # activate discard\n",
    "    #print(result_step3)\n",
    "    result_step4 = result_step3[result_step3[\"Res_2\"]==\"LYS\"]\n",
    "    #print(result_step4)\n",
    "    #print(result_step4.sample(1,random_state = 1))\n",
    "    neg_sample_and_neig = pd.concat([neg_sample_and_neig,result_step4.sample(1)])"
   ]
  },
  {
   "cell_type": "markdown",
   "metadata": {},
   "source": [
    "##### Res_2 in neg_sample_and_neig is the negative sample"
   ]
  },
  {
   "cell_type": "code",
   "execution_count": 18,
   "metadata": {},
   "outputs": [],
   "source": [
    "pos_sample_and_neig_pruned = pos_sample_and_neig.iloc[:,[0,1,2,3]].copy(deep=True)\n",
    "pos_sample_and_neig_pruned[\"type\"] = \"Pos\"\n",
    "pos_sample_and_neig_pruned.columns = ['pdbID', 'chain', 'ID', 'Res', 'type']"
   ]
  },
  {
   "cell_type": "code",
   "execution_count": 19,
   "metadata": {},
   "outputs": [],
   "source": [
    "neg_sample_and_neig_pruned = neg_sample_and_neig.iloc[:,[0,1,4,5]].copy(deep=True)\n",
    "neg_sample_and_neig_pruned[\"type\"] = \"Neg\"\n",
    "neg_sample_and_neig_pruned.columns = ['pdbID', 'chain', 'ID', 'Res', 'type']"
   ]
  },
  {
   "cell_type": "code",
   "execution_count": 20,
   "metadata": {},
   "outputs": [],
   "source": [
    "pos_neg_sample = pd.concat([pos_sample_and_neig_pruned,neg_sample_and_neig_pruned])"
   ]
  },
  {
   "cell_type": "code",
   "execution_count": 21,
   "metadata": {},
   "outputs": [],
   "source": [
    "neighbour_information_list = []\n",
    "for i in range(0,len(pos_neg_sample)):\n",
    "    neigh = n_nearest_neighbour(pos_neg_sample.iloc[i,0],pos_neg_sample.iloc[i,1],pos_neg_sample.iloc[i,2],5).iloc[:,5:8].values.flatten()\n",
    "    neighbour_information_list.append(np.insert(neigh,0,pos_neg_sample.iloc[i,3]))"
   ]
  },
  {
   "cell_type": "code",
   "execution_count": 18,
   "metadata": {},
   "outputs": [],
   "source": [
    "import pandas as pd\n",
    "import os\n",
    "import numpy as np\n",
    "from datetime import datetime\n",
    "\n",
    "from sklearn.metrics import classification_report, roc_auc_score, roc_curve, make_scorer, confusion_matrix, \\\n",
    "    recall_score, precision_score, f1_score\n",
    "from sklearn.model_selection import StratifiedKFold, StratifiedShuffleSplit, GroupKFold, cross_val_score\n",
    "from sklearn.metrics import auc, precision_recall_curve,accuracy_score\n",
    "from sklearn.utils import shuffle\n",
    "from sklearn import tree, svm, naive_bayes, neighbors\n",
    "from sklearn.ensemble import BaggingClassifier, AdaBoostClassifier, RandomForestClassifier, GradientBoostingClassifier\n",
    "from sklearn.preprocessing import LabelBinarizer, OneHotEncoder,LabelEncoder\n",
    "from scipy import interp\n",
    "import matplotlib.pyplot as plt"
   ]
  },
  {
   "cell_type": "code",
   "execution_count": 19,
   "metadata": {},
   "outputs": [],
   "source": [
    "clfs = {'decision_tree': tree.DecisionTreeClassifier(),\n",
    "        'naive_gaussian': naive_bayes.GaussianNB(),\n",
    "        'naive_mul': naive_bayes.MultinomialNB(),\n",
    "        'K_neighbor': neighbors.KNeighborsClassifier(),\n",
    "        'bagging_knn': BaggingClassifier(neighbors.KNeighborsClassifier(), max_samples=0.5, max_features=0.5),\n",
    "        'bagging_tree': BaggingClassifier(tree.DecisionTreeClassifier(), max_samples=0.5, max_features=0.5),\n",
    "        'random_forest': RandomForestClassifier(n_estimators=50),\n",
    "        'adaboost': AdaBoostClassifier(n_estimators=50),\n",
    "        'gradient_boost': GradientBoostingClassifier(n_estimators=50, learning_rate=1.0, max_depth=1, random_state=0),\n",
    "        \n",
    "        }\n",
    "#'svm': svm.SVC(probability=True)"
   ]
  },
  {
   "cell_type": "code",
   "execution_count": 20,
   "metadata": {},
   "outputs": [
    {
     "name": "stdout",
     "output_type": "stream",
     "text": [
      "OneHotEncoder(categorical_features=None, categories=None,\n",
      "       dtype=<class 'numpy.float64'>, handle_unknown='error',\n",
      "       n_values=None, sparse=False)\n"
     ]
    },
    {
     "name": "stderr",
     "output_type": "stream",
     "text": [
      "/home/yuan/anaconda3/envs/pdbPy3/lib/python3.6/site-packages/sklearn/preprocessing/_encoders.py:368: FutureWarning: The handling of integer data will change in version 0.22. Currently, the categories are determined based on the range [0, max(values)], while in the future they will be determined based on the unique values.\n",
      "If you want the future behaviour and silence this warning, you can specify \"categories='auto'\".\n",
      "In case you used a LabelEncoder before this OneHotEncoder to convert the categories to integers, then you can now use the OneHotEncoder directly.\n",
      "  warnings.warn(msg, FutureWarning)\n"
     ]
    }
   ],
   "source": [
    "\n",
    "\n",
    "aminoAcidCodes = [\"ALA\",\"ARG\",\"ASN\",\"ASP\",\"CYS\",\"GLN\",\"GLY\",\"GLU\",\"HIS\",\"ILE\",\"LEU\",\"LYS\",\n",
    "                 \"MET\",\"PHE\",\"PRO\",\"PYL\",\"SER\",\"SEC\",\"THR\",\"TRP\",\"TYR\",\"VAL\"]\n",
    "label_encoder = LabelEncoder()\n",
    "integer_encoded = label_encoder.fit_transform(aminoAcidCodes)\n",
    "onehot_encoder = OneHotEncoder(sparse=False)\n",
    "integer_encoded = integer_encoded.reshape(len(integer_encoded), 1)\n",
    "onehot_encoded = onehot_encoder.fit(integer_encoded)\n",
    "print(onehot_encoded)\n",
    "\n"
   ]
  },
  {
   "cell_type": "code",
   "execution_count": 21,
   "metadata": {},
   "outputs": [
    {
     "name": "stdout",
     "output_type": "stream",
     "text": [
      "OneHotEncoder(categorical_features=None, categories=None,\n",
      "       dtype=<class 'numpy.float64'>, handle_unknown='error',\n",
      "       n_values=None, sparse=False)\n"
     ]
    },
    {
     "name": "stderr",
     "output_type": "stream",
     "text": [
      "/home/yuan/anaconda3/envs/pdbPy3/lib/python3.6/site-packages/sklearn/preprocessing/_encoders.py:368: FutureWarning: The handling of integer data will change in version 0.22. Currently, the categories are determined based on the range [0, max(values)], while in the future they will be determined based on the unique values.\n",
      "If you want the future behaviour and silence this warning, you can specify \"categories='auto'\".\n",
      "In case you used a LabelEncoder before this OneHotEncoder to convert the categories to integers, then you can now use the OneHotEncoder directly.\n",
      "  warnings.warn(msg, FutureWarning)\n"
     ]
    }
   ],
   "source": [
    "amino_acid_property_by_res = {\"ALA\":1,\"ILE\":1,\"LEU\":1,\"MET\":1,\"VAL\":1,\n",
    "                      \"PHE\":2, \"TRP\":2,\"TYR\":2,\n",
    "                       \"ASN\":3,\"CYS\":3,\"GLN\":3,\"SER\":3,\"THR\":3,\n",
    "                      \"ASP\":4,\"GLU\":4,\"ARG\":5,\"HIS\":5,\"LYS\":5,\"GLY\":6,\"PRO\":6}\n",
    "label_encoder = LabelEncoder()\n",
    "integer_encoded = label_encoder.fit_transform([1,2,3,4,5,6])\n",
    "onehot_encoder = OneHotEncoder(sparse=False)\n",
    "integer_encoded = integer_encoded.reshape(len(integer_encoded), 1)\n",
    "onehot_encoded = onehot_encoder.fit(integer_encoded)\n",
    "print(onehot_encoded)\n",
    "\n"
   ]
  },
  {
   "cell_type": "code",
   "execution_count": null,
   "metadata": {},
   "outputs": [],
   "source": [
    "train_dataset = []\n",
    "for each_res in neighbour_information_list:\n",
    "    one_res_data = []\n",
    "    for element in each_res:\n",
    "        if isinstance(element,str):\n",
    "            one_res_data.extend(onehot_encoded.transform([[amino_acid_property_by_res[element]-1]])[0].tolist())\n",
    "        else:\n",
    "            one_res_data.append(element)\n",
    "    train_dataset.append(one_res_data)\n",
    "wrong_sample = []\n",
    "for i in range(0,len(train_dataset)):\n",
    "    if(len(train_dataset[i])<30):\n",
    "        wrong_sample.append(i)\n",
    "\n",
    "y_label =[1 for x in range(0,len(pos_sample_and_neig_pruned))]\n",
    "y_label.extend([2 for i in range(0,len(neg_sample_and_neig_pruned))])\n",
    "\n",
    "final_y_label = [y_label[i] for i in range(0,len(pos_neg_sample)) if i not in wrong_sample]\n",
    "final_y_label = np.asarray(final_y_label)\n",
    "shuffle_y_label = shuffle(final_y_label,random_state=0)\n",
    "\n",
    "final_train_dataset = [train_dataset[i] for i in range(0,len(pos_neg_sample)) if i not in wrong_sample]\n",
    "final_train_dataset = np.vstack(np.asarray(final_train_dataset))\n",
    "shuffle_train_dataset = shuffle(final_train_dataset,random_state=0)\n",
    "\n",
    "# skf = StratifiedKFold(n_splits=3)\n",
    "# for train, test in skf.split(shuffle_train_dataset,shuffle_y_label):\n",
    "#     for clf in clfs:\n",
    "#         clfs[clf].fit(shuffle_train_dataset[train],shuffle_y_label[train])\n",
    "#         conf_mat = confusion_matrix(clfs[clf].predict(shuffle_train_dataset[test]),shuffle_y_label[test])\n",
    "#         print(clf)\n",
    "#         print(accuracy_score(clfs[clf].predict(shuffle_train_dataset[test]),shuffle_y_label[test]))\n",
    "\n",
    "for clf in clfs:\n",
    "    print(clf)\n",
    "    scores = cross_val_score(clfs[clf],shuffle_train_dataset,shuffle_y_label,cv=10)\n",
    "    print(sum(scores)/10)"
   ]
  },
  {
   "cell_type": "markdown",
   "metadata": {},
   "source": [
    "# After using using CD-HIT to remove redundant samples"
   ]
  },
  {
   "cell_type": "code",
   "execution_count": 22,
   "metadata": {
    "scrolled": true
   },
   "outputs": [],
   "source": [
    "cd_hit_7 = pd.read_csv(\"retained_CDHIT_0.7_PTM.csv\")"
   ]
  },
  {
   "cell_type": "code",
   "execution_count": 23,
   "metadata": {},
   "outputs": [
    {
     "data": {
      "text/html": [
       "<div>\n",
       "<style>\n",
       "    .dataframe thead tr:only-child th {\n",
       "        text-align: right;\n",
       "    }\n",
       "\n",
       "    .dataframe thead th {\n",
       "        text-align: left;\n",
       "    }\n",
       "\n",
       "    .dataframe tbody tr th {\n",
       "        vertical-align: top;\n",
       "    }\n",
       "</style>\n",
       "<table border=\"1\" class=\"dataframe\">\n",
       "  <thead>\n",
       "    <tr style=\"text-align: right;\">\n",
       "      <th></th>\n",
       "      <th>pdbID</th>\n",
       "      <th>Chain</th>\n",
       "    </tr>\n",
       "  </thead>\n",
       "  <tbody>\n",
       "    <tr>\n",
       "      <th>0</th>\n",
       "      <td>1ln4</td>\n",
       "      <td>A</td>\n",
       "    </tr>\n",
       "    <tr>\n",
       "      <th>1</th>\n",
       "      <td>1lop</td>\n",
       "      <td>A</td>\n",
       "    </tr>\n",
       "    <tr>\n",
       "      <th>2</th>\n",
       "      <td>1m63</td>\n",
       "      <td>A</td>\n",
       "    </tr>\n",
       "    <tr>\n",
       "      <th>3</th>\n",
       "      <td>1m63</td>\n",
       "      <td>B</td>\n",
       "    </tr>\n",
       "    <tr>\n",
       "      <th>4</th>\n",
       "      <td>1m63</td>\n",
       "      <td>D</td>\n",
       "    </tr>\n",
       "  </tbody>\n",
       "</table>\n",
       "</div>"
      ],
      "text/plain": [
       "  pdbID Chain\n",
       "0  1ln4     A\n",
       "1  1lop     A\n",
       "2  1m63     A\n",
       "3  1m63     B\n",
       "4  1m63     D"
      ]
     },
     "execution_count": 23,
     "metadata": {},
     "output_type": "execute_result"
    }
   ],
   "source": [
    "cd_hit_7.head()"
   ]
  },
  {
   "cell_type": "markdown",
   "metadata": {},
   "source": [
    "#### 6 neighbours 1:1 = pos:neg"
   ]
  },
  {
   "cell_type": "code",
   "execution_count": 30,
   "metadata": {},
   "outputs": [],
   "source": [
    "pos_sample_and_neig = pd.DataFrame()\n",
    "for key, value in modification_site_dic.items():\n",
    "    for chain, sites in value.items():\n",
    "        if chain in list(cd_hit_7[cd_hit_7[\"pdbID\"]==key][\"Chain\"]):\n",
    "            for site in sites:\n",
    "                neigh = n_nearest_neighbour_by_seq(key,chain,site,1)\n",
    "                if len(neigh) > 0:\n",
    "                    pos_sample_and_neig = pd.concat([pos_sample_and_neig,neigh])"
   ]
  },
  {
   "cell_type": "code",
   "execution_count": 105,
   "metadata": {},
   "outputs": [],
   "source": [
    "neg_sample_and_neig = pd.DataFrame()\n",
    "for i in range(len(pos_sample_and_neig)):\n",
    "    result_step1 = One_residue_retrieval(pos_sample_and_neig.iloc[i,2],pos_sample_and_neig.iloc[i,0],pos_sample_and_neig.iloc[i,1])\n",
    "    \n",
    "    result_step2 = result_step1.groupby([\"ID\"]).first() #duplicate discard\n",
    "\n",
    "    result_step3 = result_step2[~result_step2.ID_2.isin(modification_site_dic[pos_sample_and_neig.iloc[i,0]][pos_sample_and_neig.iloc[i,1]])] # activate discard\n",
    "    #print(result_step3)\n",
    "    result_step4 = result_step3[result_step3[\"Res_2\"]==\"LYS\"]\n",
    "    #print(result_step4)\n",
    "    #print(result_step4.sample(1,random_state = 1))\n",
    "    #neg_sample_and_neig = pd.concat([neg_sample_and_neig,result_step4.sample(5,replace = True)])\n",
    "    #num_total_neg = len(result_step4)\n",
    "    #neg_sample_and_neig = pd.concat([neg_sample_and_neig,result_step4.sample(num_total_neg//3,replace = False)])\n",
    "    neg_sample_and_neig = pd.concat([neg_sample_and_neig,result_step4.sample(1,replace = True)])"
   ]
  },
  {
   "cell_type": "code",
   "execution_count": 106,
   "metadata": {},
   "outputs": [],
   "source": [
    "pos_sample_and_neig_pruned = pos_sample_and_neig.iloc[:,[0,1,2,3]].copy(deep=True)\n",
    "pos_sample_and_neig_pruned[\"type\"] = \"Pos\"\n",
    "pos_sample_and_neig_pruned.columns = ['pdbID', 'chain', 'ID', 'Res', 'type']"
   ]
  },
  {
   "cell_type": "code",
   "execution_count": 107,
   "metadata": {},
   "outputs": [],
   "source": [
    "neg_sample_and_neig_pruned = neg_sample_and_neig.iloc[:,[0,1,4,5]].copy(deep=True)\n",
    "neg_sample_and_neig_pruned[\"type\"] = \"Neg\"\n",
    "neg_sample_and_neig_pruned.columns = ['pdbID', 'chain', 'ID', 'Res', 'type']"
   ]
  },
  {
   "cell_type": "code",
   "execution_count": 108,
   "metadata": {},
   "outputs": [],
   "source": [
    "pos_neg_sample = pd.concat([pos_sample_and_neig_pruned,neg_sample_and_neig_pruned])"
   ]
  },
  {
   "cell_type": "code",
   "execution_count": 109,
   "metadata": {},
   "outputs": [],
   "source": [
    "neighbour_information_list = []\n",
    "num_pos = 0\n",
    "num_neg = 0\n",
    "for i in range(0,len(pos_neg_sample)):\n",
    "    neigh = n_nearest_neighbour_by_seq(pos_neg_sample.iloc[i,0],pos_neg_sample.iloc[i,1],pos_neg_sample.iloc[i,2],3)\n",
    "    if len(neigh) > 0:\n",
    "        neigh = neigh.iloc[:,5:8].values.flatten()\n",
    "        neighbour_information_list.append(np.insert(neigh,0,pos_neg_sample.iloc[i,3]))\n",
    "        if pos_neg_sample.iloc[i,4] == \"Pos\":\n",
    "            num_pos = num_pos + 1\n",
    "        else:\n",
    "            num_neg = num_neg + 1"
   ]
  },
  {
   "cell_type": "code",
   "execution_count": 115,
   "metadata": {
    "scrolled": true
   },
   "outputs": [
    {
     "name": "stdout",
     "output_type": "stream",
     "text": [
      "decision_tree\n",
      "0.850094575786\n",
      "naive_gaussian\n",
      "0.507383016318\n",
      "naive_mul\n",
      "0.516525268142\n",
      "K_neighbor\n",
      "0.666410107878\n",
      "bagging_knn\n",
      "0.619910273584\n",
      "bagging_tree\n",
      "0.765751607314\n",
      "random_forest\n",
      "0.849577264468\n",
      "adaboost\n",
      "0.575962177207\n",
      "gradient_boost\n",
      "0.577476624191\n"
     ]
    }
   ],
   "source": [
    "train_dataset = []\n",
    "for each_res in neighbour_information_list:\n",
    "    one_res_data = []\n",
    "    for element in each_res[1:]:\n",
    "#        if isinstance(element,str):\n",
    "#            one_res_data.extend(onehot_encoded.transform([[amino_acid_property_by_res[element]-1]])[0].tolist())\n",
    "#        else:\n",
    "#            one_res_data.append(element)\n",
    "        if isinstance(element,str):\n",
    "            pass\n",
    "        else:\n",
    "            one_res_data.append(element)    \n",
    "    \n",
    "    train_dataset.append(one_res_data)\n",
    "\n",
    "    \n",
    "    \n",
    "    \n",
    "wrong_sample = []\n",
    "for i in range(0,len(train_dataset)):\n",
    "    if(len(train_dataset[i])<12):\n",
    "        wrong_sample.append(i)\n",
    "\n",
    "y_label =[1 for x in range(0,num_pos)]\n",
    "y_label.extend([2 for i in range(0,num_neg)])\n",
    "\n",
    "final_y_label = [y_label[i] for i in range(0,num_pos+num_neg) if i not in wrong_sample]\n",
    "final_y_label = np.asarray(final_y_label)\n",
    "shuffle_y_label = shuffle(final_y_label,random_state=0)\n",
    "\n",
    "final_train_dataset = [train_dataset[i] for i in range(0,num_pos+num_neg) if i not in wrong_sample]\n",
    "final_train_dataset = np.vstack(np.asarray(final_train_dataset))\n",
    "shuffle_train_dataset = shuffle(final_train_dataset,random_state=0)\n",
    "\n",
    "# skf = StratifiedKFold(n_splits=3)\n",
    "# for train, test in skf.split(shuffle_train_dataset,shuffle_y_label):\n",
    "#     for clf in clfs:\n",
    "#         clfs[clf].fit(shuffle_train_dataset[train],shuffle_y_label[train])\n",
    "#         conf_mat = confusion_matrix(clfs[clf].predict(shuffle_train_dataset[test]),shuffle_y_label[test])\n",
    "#         print(clf)\n",
    "#         print(accuracy_score(clfs[clf].predict(shuffle_train_dataset[test]),shuffle_y_label[test]))\n",
    "\n",
    "for clf in clfs:\n",
    "    print(clf)\n",
    "    scores = cross_val_score(clfs[clf],shuffle_train_dataset,shuffle_y_label,scoring='accuracy',n_jobs=5,cv=10)\n",
    "    print(sum(scores)/10)"
   ]
  },
  {
   "cell_type": "code",
   "execution_count": 94,
   "metadata": {
    "scrolled": false
   },
   "outputs": [
    {
     "name": "stdout",
     "output_type": "stream",
     "text": [
      "decision_tree\n",
      "0.920042551434\n",
      "naive_gaussian\n",
      "0.529884264647\n",
      "naive_mul\n",
      "0.526226046834\n",
      "K_neighbor\n",
      "0.766126629673\n",
      "bagging_knn\n",
      "0.774110381047\n",
      "bagging_tree\n",
      "0.929423483083\n",
      "random_forest\n",
      "0.983199646256\n",
      "adaboost\n",
      "0.575411760563\n",
      "gradient_boost\n",
      "0.576959264098\n"
     ]
    }
   ],
   "source": [
    "for clf in clfs:\n",
    "    print(clf)\n",
    "    scores = cross_val_score(clfs[clf],shuffle_train_dataset,shuffle_y_label,scoring='roc_auc',n_jobs=5,cv=10)\n",
    "    print(sum(scores)/10)"
   ]
  },
  {
   "cell_type": "code",
   "execution_count": 112,
   "metadata": {
    "scrolled": true
   },
   "outputs": [
    {
     "name": "stdout",
     "output_type": "stream",
     "text": [
      "decision_tree\n",
      "0.793420547439\n",
      "naive_gaussian\n",
      "0.529235254364\n",
      "naive_mul\n",
      "0.544258432181\n",
      "K_neighbor\n",
      "0.664764793844\n",
      "bagging_knn\n",
      "0.627773430561\n",
      "bagging_tree\n",
      "0.713938381891\n",
      "random_forest\n",
      "0.801229200578\n",
      "adaboost\n",
      "0.565750710641\n",
      "gradient_boost\n",
      "0.569717699745\n"
     ]
    }
   ],
   "source": [
    "for clf in clfs:\n",
    "    print(clf)\n",
    "    scores = cross_val_score(clfs[clf],shuffle_train_dataset,shuffle_y_label,scoring='precision',n_jobs=5,cv=10)\n",
    "    print(sum(scores)/10)"
   ]
  },
  {
   "cell_type": "code",
   "execution_count": 96,
   "metadata": {},
   "outputs": [
    {
     "name": "stdout",
     "output_type": "stream",
     "text": [
      "decision_tree\n",
      "0.917924206214\n",
      "naive_gaussian\n",
      "0.144920255572\n",
      "naive_mul\n",
      "0.257174559821\n",
      "K_neighbor\n",
      "0.419843437546\n",
      "bagging_knn\n",
      "0.0964273520948\n",
      "bagging_tree\n",
      "0.703762863971\n",
      "random_forest\n",
      "0.882319660537\n",
      "adaboost\n",
      "0.0128664097937\n",
      "gradient_boost\n",
      "0.0168219284983\n"
     ]
    }
   ],
   "source": [
    "for clf in clfs:\n",
    "    print(clf)\n",
    "    scores = cross_val_score(clfs[clf],shuffle_train_dataset,shuffle_y_label,scoring='recall',n_jobs=5,cv=10)\n",
    "    print(sum(scores)/10)"
   ]
  },
  {
   "cell_type": "code",
   "execution_count": 120,
   "metadata": {},
   "outputs": [
    {
     "data": {
      "text/plain": [
       "3936"
      ]
     },
     "execution_count": 120,
     "metadata": {},
     "output_type": "execute_result"
    }
   ],
   "source": [
    "len(final_y_label)"
   ]
  },
  {
   "cell_type": "code",
   "execution_count": null,
   "metadata": {},
   "outputs": [],
   "source": []
  },
  {
   "cell_type": "code",
   "execution_count": null,
   "metadata": {},
   "outputs": [],
   "source": []
  }
 ],
 "metadata": {
  "kernelspec": {
   "display_name": "Python 3",
   "language": "python",
   "name": "python3"
  },
  "language_info": {
   "codemirror_mode": {
    "name": "ipython",
    "version": 3
   },
   "file_extension": ".py",
   "mimetype": "text/x-python",
   "name": "python",
   "nbconvert_exporter": "python",
   "pygments_lexer": "ipython3",
   "version": "3.6.9"
  }
 },
 "nbformat": 4,
 "nbformat_minor": 2
}
