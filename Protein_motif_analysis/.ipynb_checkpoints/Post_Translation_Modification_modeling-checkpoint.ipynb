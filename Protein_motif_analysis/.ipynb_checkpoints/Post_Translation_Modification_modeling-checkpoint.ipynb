{
 "cells": [
  {
   "cell_type": "code",
   "execution_count": 1,
   "metadata": {
    "ExecuteTime": {
     "end_time": "2020-08-19T00:41:49.573864Z",
     "start_time": "2020-08-19T00:41:49.384512Z"
    },
    "scrolled": true
   },
   "outputs": [],
   "source": [
    "from Bio.PDB import *\n",
    "import urllib.request\n",
    "import numpy as np\n",
    "import pandas as pd\n",
    "from math import sqrt\n",
    "import time\n",
    "import configparser\n",
    "import os\n",
    "import pymysql"
   ]
  },
  {
   "cell_type": "code",
   "execution_count": 2,
   "metadata": {
    "ExecuteTime": {
     "end_time": "2020-08-19T00:41:50.876806Z",
     "start_time": "2020-08-19T00:41:50.870727Z"
    },
    "scrolled": true
   },
   "outputs": [
    {
     "data": {
      "text/plain": [
       "['office_ssh', 'office_mysql']"
      ]
     },
     "execution_count": 2,
     "metadata": {},
     "output_type": "execute_result"
    }
   ],
   "source": [
    "config = configparser.ConfigParser()\n",
    "config.read(\"/home/yuan/Documents/config.ini\")\n",
    "config.sections()"
   ]
  },
  {
   "cell_type": "code",
   "execution_count": 3,
   "metadata": {
    "ExecuteTime": {
     "end_time": "2020-08-19T00:41:51.721625Z",
     "start_time": "2020-08-19T00:41:51.703497Z"
    },
    "scrolled": true
   },
   "outputs": [],
   "source": [
    "modification_site = pd.read_csv(\"/home/yuan/Documents/pdb_chain_ksites.csv\")"
   ]
  },
  {
   "cell_type": "code",
   "execution_count": 4,
   "metadata": {
    "ExecuteTime": {
     "end_time": "2020-08-19T00:41:52.206745Z",
     "start_time": "2020-08-19T00:41:52.197344Z"
    },
    "scrolled": true
   },
   "outputs": [
    {
     "data": {
      "text/html": [
       "<div>\n",
       "<style scoped>\n",
       "    .dataframe tbody tr th:only-of-type {\n",
       "        vertical-align: middle;\n",
       "    }\n",
       "\n",
       "    .dataframe tbody tr th {\n",
       "        vertical-align: top;\n",
       "    }\n",
       "\n",
       "    .dataframe thead th {\n",
       "        text-align: right;\n",
       "    }\n",
       "</style>\n",
       "<table border=\"1\" class=\"dataframe\">\n",
       "  <thead>\n",
       "    <tr style=\"text-align: right;\">\n",
       "      <th></th>\n",
       "      <th>PDB</th>\n",
       "      <th>CHAIN</th>\n",
       "      <th>SP_PRIMARY</th>\n",
       "      <th>RES_BEG</th>\n",
       "      <th>RES_END</th>\n",
       "      <th>PDB_BEG</th>\n",
       "      <th>PDB_END</th>\n",
       "      <th>SP_BEG</th>\n",
       "      <th>SP_END</th>\n",
       "      <th>Ksites</th>\n",
       "    </tr>\n",
       "  </thead>\n",
       "  <tbody>\n",
       "    <tr>\n",
       "      <th>0</th>\n",
       "      <td>3g8c</td>\n",
       "      <td>A</td>\n",
       "      <td>P24182</td>\n",
       "      <td>1</td>\n",
       "      <td>444</td>\n",
       "      <td>1</td>\n",
       "      <td>444</td>\n",
       "      <td>1</td>\n",
       "      <td>444</td>\n",
       "      <td>27</td>\n",
       "    </tr>\n",
       "    <tr>\n",
       "      <th>1</th>\n",
       "      <td>3g8c</td>\n",
       "      <td>B</td>\n",
       "      <td>P24182</td>\n",
       "      <td>1</td>\n",
       "      <td>444</td>\n",
       "      <td>1</td>\n",
       "      <td>444</td>\n",
       "      <td>1</td>\n",
       "      <td>444</td>\n",
       "      <td>27</td>\n",
       "    </tr>\n",
       "    <tr>\n",
       "      <th>2</th>\n",
       "      <td>3g8d</td>\n",
       "      <td>A</td>\n",
       "      <td>P24182</td>\n",
       "      <td>1</td>\n",
       "      <td>444</td>\n",
       "      <td>1</td>\n",
       "      <td>444</td>\n",
       "      <td>1</td>\n",
       "      <td>444</td>\n",
       "      <td>27</td>\n",
       "    </tr>\n",
       "    <tr>\n",
       "      <th>3</th>\n",
       "      <td>3g8d</td>\n",
       "      <td>B</td>\n",
       "      <td>P24182</td>\n",
       "      <td>1</td>\n",
       "      <td>444</td>\n",
       "      <td>1</td>\n",
       "      <td>444</td>\n",
       "      <td>1</td>\n",
       "      <td>444</td>\n",
       "      <td>27</td>\n",
       "    </tr>\n",
       "    <tr>\n",
       "      <th>4</th>\n",
       "      <td>3jzf</td>\n",
       "      <td>A</td>\n",
       "      <td>P24182</td>\n",
       "      <td>22</td>\n",
       "      <td>470</td>\n",
       "      <td>1</td>\n",
       "      <td>449</td>\n",
       "      <td>1</td>\n",
       "      <td>449</td>\n",
       "      <td>27</td>\n",
       "    </tr>\n",
       "  </tbody>\n",
       "</table>\n",
       "</div>"
      ],
      "text/plain": [
       "    PDB CHAIN SP_PRIMARY  RES_BEG  RES_END  PDB_BEG  PDB_END  SP_BEG  SP_END  \\\n",
       "0  3g8c     A     P24182        1      444        1      444       1     444   \n",
       "1  3g8c     B     P24182        1      444        1      444       1     444   \n",
       "2  3g8d     A     P24182        1      444        1      444       1     444   \n",
       "3  3g8d     B     P24182        1      444        1      444       1     444   \n",
       "4  3jzf     A     P24182       22      470        1      449       1     449   \n",
       "\n",
       "   Ksites  \n",
       "0      27  \n",
       "1      27  \n",
       "2      27  \n",
       "3      27  \n",
       "4      27  "
      ]
     },
     "execution_count": 4,
     "metadata": {},
     "output_type": "execute_result"
    }
   ],
   "source": [
    "modification_site[0:5]"
   ]
  },
  {
   "cell_type": "code",
   "execution_count": 5,
   "metadata": {
    "ExecuteTime": {
     "end_time": "2020-08-19T00:41:55.277593Z",
     "start_time": "2020-08-19T00:41:54.057745Z"
    },
    "scrolled": true
   },
   "outputs": [],
   "source": [
    "modification_site_dic = {}\n",
    "for i in range(len(modification_site)):\n",
    "    if modification_site.loc[i,\"PDB\"] not in modification_site_dic:\n",
    "        modification_site_dic[modification_site.loc[i,\"PDB\"]] = {modification_site.loc[i,\"CHAIN\"]:[modification_site.loc[i,\"Ksites\"]]}\n",
    "    elif modification_site.loc[i,\"CHAIN\"] not in modification_site_dic[modification_site.loc[i,\"PDB\"]]:\n",
    "        modification_site_dic[modification_site.loc[i,\"PDB\"]][modification_site.loc[i,\"CHAIN\"]] = [modification_site.loc[i,\"Ksites\"]]\n",
    "    else:\n",
    "        modification_site_dic[modification_site.loc[i,\"PDB\"]][modification_site.loc[i,\"CHAIN\"]].append(modification_site.loc[i,\"Ksites\"])\n",
    "for protein in modification_site_dic:\n",
    "    for chain in modification_site_dic[protein]:\n",
    "        modification_site_dic[protein][chain] = list(modification_site_dic[protein][chain])\n",
    "        "
   ]
  },
  {
   "cell_type": "code",
   "execution_count": 6,
   "metadata": {
    "ExecuteTime": {
     "end_time": "2020-08-19T00:41:55.285147Z",
     "start_time": "2020-08-19T00:41:55.278664Z"
    },
    "scrolled": true
   },
   "outputs": [],
   "source": [
    "unique_list = modification_site[[\"PDB\",\"CHAIN\"]].drop_duplicates()"
   ]
  },
  {
   "cell_type": "code",
   "execution_count": 7,
   "metadata": {
    "ExecuteTime": {
     "end_time": "2020-08-19T00:41:55.293157Z",
     "start_time": "2020-08-19T00:41:55.286116Z"
    },
    "scrolled": true
   },
   "outputs": [],
   "source": [
    "unique_list = unique_list.reset_index(drop=True)"
   ]
  },
  {
   "cell_type": "code",
   "execution_count": 8,
   "metadata": {
    "ExecuteTime": {
     "end_time": "2020-08-19T00:41:55.353499Z",
     "start_time": "2020-08-19T00:41:55.348635Z"
    }
   },
   "outputs": [
    {
     "data": {
      "text/html": [
       "<div>\n",
       "<style scoped>\n",
       "    .dataframe tbody tr th:only-of-type {\n",
       "        vertical-align: middle;\n",
       "    }\n",
       "\n",
       "    .dataframe tbody tr th {\n",
       "        vertical-align: top;\n",
       "    }\n",
       "\n",
       "    .dataframe thead th {\n",
       "        text-align: right;\n",
       "    }\n",
       "</style>\n",
       "<table border=\"1\" class=\"dataframe\">\n",
       "  <thead>\n",
       "    <tr style=\"text-align: right;\">\n",
       "      <th></th>\n",
       "      <th>PDB</th>\n",
       "      <th>CHAIN</th>\n",
       "    </tr>\n",
       "  </thead>\n",
       "  <tbody>\n",
       "    <tr>\n",
       "      <th>46</th>\n",
       "      <td>4x8l</td>\n",
       "      <td>A</td>\n",
       "    </tr>\n",
       "    <tr>\n",
       "      <th>47</th>\n",
       "      <td>4x8l</td>\n",
       "      <td>B</td>\n",
       "    </tr>\n",
       "  </tbody>\n",
       "</table>\n",
       "</div>"
      ],
      "text/plain": [
       "     PDB CHAIN\n",
       "46  4x8l     A\n",
       "47  4x8l     B"
      ]
     },
     "execution_count": 8,
     "metadata": {},
     "output_type": "execute_result"
    }
   ],
   "source": [
    "unique_list.loc[unique_list[\"PDB\"]==\"4x8l\"]"
   ]
  },
  {
   "cell_type": "code",
   "execution_count": 9,
   "metadata": {
    "ExecuteTime": {
     "end_time": "2020-08-19T00:41:55.908380Z",
     "start_time": "2020-08-19T00:41:55.906147Z"
    },
    "scrolled": true
   },
   "outputs": [],
   "source": [
    "backbone = [\"N\",\"CA\",\"C\",\"O\"]\n",
    "aminoAcidCodes = [\"ALA\",\"ARG\",\"ASN\",\"ASP\",\"CYS\",\"GLN\",\"GLY\",\"GLU\",\"HIS\",\"ILE\",\"LEU\",\"LYS\",\n",
    "                 \"MET\",\"PHE\",\"PRO\",\"PYL\",\"SER\",\"SEC\",\"THR\",\"TRP\",\"TYR\",\"VAL\"]"
   ]
  },
  {
   "cell_type": "code",
   "execution_count": 10,
   "metadata": {
    "ExecuteTime": {
     "end_time": "2020-08-19T00:41:56.612486Z",
     "start_time": "2020-08-19T00:41:56.493971Z"
    },
    "scrolled": true
   },
   "outputs": [
    {
     "name": "stdout",
     "output_type": "stream",
     "text": [
      "Structure exists: '/mnt/HD1/pdb_data/pdb3g8c.ent' \n"
     ]
    },
    {
     "name": "stderr",
     "output_type": "stream",
     "text": [
      "/home/yuan/anaconda3/envs/pdbPy3/lib/python3.6/site-packages/Bio/PDB/StructureBuilder.py:92: PDBConstructionWarning: WARNING: Chain A is discontinuous at line 7475.\n",
      "  PDBConstructionWarning,\n",
      "/home/yuan/anaconda3/envs/pdbPy3/lib/python3.6/site-packages/Bio/PDB/StructureBuilder.py:92: PDBConstructionWarning: WARNING: Chain B is discontinuous at line 7523.\n",
      "  PDBConstructionWarning,\n",
      "/home/yuan/anaconda3/envs/pdbPy3/lib/python3.6/site-packages/Bio/PDB/StructureBuilder.py:92: PDBConstructionWarning: WARNING: Chain A is discontinuous at line 7571.\n",
      "  PDBConstructionWarning,\n",
      "/home/yuan/anaconda3/envs/pdbPy3/lib/python3.6/site-packages/Bio/PDB/StructureBuilder.py:92: PDBConstructionWarning: WARNING: Chain B is discontinuous at line 7967.\n",
      "  PDBConstructionWarning,\n"
     ]
    }
   ],
   "source": [
    "PDB_ID = '3g8c'\n",
    "PDB = PDBList()\n",
    "retrieve_status = PDB.retrieve_pdb_file(pdb_code = PDB_ID, pdir = \"/mnt/HD1/pdb_data\", file_format=\"pdb\")\n",
    "p = PDBParser()\n",
    "structure = p.get_structure(\"X\",\"/mnt/HD1/pdb_data/\"+\"pdb\"+PDB_ID+\".ent\")"
   ]
  },
  {
   "cell_type": "markdown",
   "metadata": {},
   "source": [
    "conn = pymysql.connect(host=config[\"office_mysql\"][\"sql_host\"],user=config[\"office_mysql\"][\"sql_username\"],\n",
    "                       passwd=config[\"office_mysql\"][\"sql_password\"],\n",
    "                       db=config[\"office_mysql\"][\"sql_main_database\"],port=3306)\n",
    "for index,oneRow in unique_list.iloc[573:,].iterrows():\n",
    "    try:\n",
    "        pdbID = oneRow[\"PDB\"]\n",
    "        chainOrder = oneRow[\"CHAIN\"]\n",
    "        retrieve_status = PDB.retrieve_pdb_file(pdb_code = pdbID, pdir = \"/mnt/HD1/pdb_data\", file_format=\"pdb\")\n",
    "        if os.path.exists(retrieve_status):\n",
    "            p = PDBParser()\n",
    "            structure = p.get_structure(\"X\",\"/mnt/HD1/pdb_data/\"+\"pdb\"+pdbID+\".ent\")\n",
    "            if chainOrder in [x._id for x in list(structure.get_chains())]:\n",
    "                oneChain = pd.DataFrame(columns = [\"Seq\",\"Residue\",\"Center\",\"Direction\",\"CA_position\"])#center here means center of R group\n",
    "                if structure.header[\"resolution\"] <= 3.0:\n",
    "                    if chainOrder in [x.id for x in list(structure[0].get_chains())]:  # Chain information not in pdb file\n",
    "                        for residue in structure[0][chainOrder]:\n",
    "                            if residue.get_resname() in aminoAcidCodes:  # Only treat common amino acid\n",
    "                                if residue.get_id()[2] == \" \":  # ignore insertions\n",
    "                                    if len(list(residue.get_atoms())) > 3:\n",
    "                                        if residue.get_resname() != \"GLY\":  # Glysine as a special case\n",
    "                                            point = vectors.Vector([0, 0, 0])\n",
    "                                            for atom in residue:\n",
    "                                                if (atom.get_name() not in backbone):\n",
    "                                                    point = point + atom.get_vector()\n",
    "                                            center = point.__div__(len(residue) - 4)\n",
    "                                            cToRGroup = residue[\"CA\"].get_vector() - center\n",
    "                                            oneChain.loc[len(oneChain)] = [residue.get_id()[1], residue.get_resname(),center, cToRGroup,residue[\"CA\"].get_vector()]\n",
    "                                        else:\n",
    "                                            center = residue[\"CA\"].get_vector()\n",
    "                                            cToRGroup = center - (residue[\"C\"].get_vector() + residue[\"N\"].get_vector() + residue[\"O\"].get_vector()).__div__(3)\n",
    "                                            oneChain.loc[len(oneChain)] = [residue.get_id()[1], residue.get_resname(),center, cToRGroup,residue[\"CA\"].get_vector()]\n",
    "                distanceMatrix = pd.DataFrame(columns=list(oneChain.iloc[:, 0]), index=list(oneChain.iloc[:,0]))\n",
    "                angleMatrix = pd.DataFrame(columns=list(oneChain.iloc[:, 0]), index=list(oneChain.iloc[:, 0]))\n",
    "                numResidue = len(oneChain)\n",
    "                print(numResidue)\n",
    "                for row in range(0, numResidue):\n",
    "                    if row % 200 == 0:\n",
    "                        print(str(row) + \"th row\")\n",
    "                    for column in range(0, numResidue):#not symetric anymore\n",
    "                        coordinatesSubstraction = list(oneChain.loc[row, \"Center\"] - oneChain.loc[column, \"Center\"])\n",
    "                        pairDistance = sqrt(sum(list(map(lambda x: x * x, coordinatesSubstraction))))\n",
    "                        distanceMatrix.iloc[row, column] = pairDistance\n",
    "                        v1 = oneChain.loc[row, \"Direction\"]\n",
    "                        v2 = oneChain.loc[column,\"Center\"] - oneChain.loc[row,\"CA_position\"] \n",
    "                        if abs(pairDistance-0)>0.00001: #Exclue 0 distance, e.g. self to self\n",
    "                            pairAngle = 180 * np.arccos(np.dot(v1, v2) / (np.linalg.norm(v1) * np.linalg.norm(v2))) / np.pi\n",
    "\n",
    "                        else:\n",
    "                            pairAngle = 0\n",
    "                        angleMatrix.iloc[row, column] = pairAngle\n",
    "                        if not np.isnan(pairDistance):\n",
    "                            query = '''INSERT INTO `Distance_angle_PTM` (`pdbID`, `chain`,`ID_1`,`Res_1`,`ID_2`,`Res_2`,`Distance`,`Angle`) VALUES (%s,%s,%s,%s,%s,%s,%s,%s);'''\n",
    "                            value = (pdbID,chainOrder,oneChain.iloc[row,0],oneChain.iloc[row,1],oneChain.iloc[column,0],oneChain.iloc[column,1],float(pairDistance),float(pairAngle))\n",
    "                            conn.cursor().execute(query, value)\n",
    "                    conn.commit()\n",
    "    except Exception as e:\n",
    "        print(e)\n",
    "        print(pdbID, \"skipped\")\n",
    "\n",
    "conn.close()"
   ]
  },
  {
   "cell_type": "markdown",
   "metadata": {
    "collapsed": true,
    "scrolled": true
   },
   "source": [
    "%%time\n",
    "conn = pymysql.connect(host=config[\"office_mysql\"][\"sql_host\"],user=config[\"office_mysql\"][\"sql_username\"],\n",
    "                       passwd=config[\"office_mysql\"][\"sql_password\"],\n",
    "                       db=config[\"office_mysql\"][\"sql_main_database\"],port=3306)\n",
    "try:\n",
    "    with conn as cursor: #auto commit; no close() called\n",
    "        with cursor: # close() called here\n",
    "            sql_select = \"Select * FROM pdbdb.Distance_angle_PTM da \"\n",
    "            sql_where = \"WHERE da.pdbID = \\\"3g8c\\\" and da.chain = \\\"A\\\" and da.ID_1=27 limit 1035;\"    \n",
    "            sql = sql_select+sql_where\n",
    "            data = pd.read_sql_query(sql, conn)\n",
    "            #print(data)\n",
    " \n",
    "except Exception as e: # catch exceptions\n",
    "    print(\"~~~~~~~~~~~~~~\")\n",
    "    print(e)\n",
    "finally:\n",
    "    if conn:\n",
    "        conn.close()"
   ]
  },
  {
   "cell_type": "code",
   "execution_count": 11,
   "metadata": {
    "ExecuteTime": {
     "end_time": "2020-08-19T00:42:01.199112Z",
     "start_time": "2020-08-19T00:42:01.195161Z"
    },
    "scrolled": true
   },
   "outputs": [],
   "source": [
    "def n_nearest_neighbour(PDB_ID,Chain,res_ID,n):\n",
    "    \n",
    "    conn = pymysql.connect(host=config[\"office_mysql\"][\"sql_host\"],user=config[\"office_mysql\"][\"sql_username\"],\n",
    "                           passwd=config[\"office_mysql\"][\"sql_password\"],\n",
    "                           db=config[\"office_mysql\"][\"sql_main_database\"],port=3306)\n",
    "    try:\n",
    "        with conn as cursor: #auto commit; no close() called\n",
    "            with cursor: # close() called here\n",
    "                sql_select = \"Select da.* FROM pdbdb.`Distance_angle_PTM` da \"\n",
    "                sql_where = \"WHERE da.pdbID = \\\"{}\\\" and da.chain = \\\"{}\\\" and da.ID_1= \\\"{}\\\";\".format(PDB_ID,Chain,res_ID)  \n",
    "                sql = sql_select+sql_where\n",
    "                data = pd.read_sql_query(sql, conn)\n",
    "        return(data.groupby([\"ID\"]).first().sort_values(\"Distance\").iloc[2:(n+2),]) #from 2 to exclude self vs self\n",
    "\n",
    "    except Exception as e: # catch exceptions\n",
    "        print(\"~~~~~~~~~~~~~~\")\n",
    "        print(e)\n",
    "    finally:\n",
    "        if conn:\n",
    "            conn.close()"
   ]
  },
  {
   "cell_type": "code",
   "execution_count": 12,
   "metadata": {
    "ExecuteTime": {
     "end_time": "2020-08-19T00:42:01.841734Z",
     "start_time": "2020-08-19T00:42:01.837377Z"
    }
   },
   "outputs": [],
   "source": [
    "def n_nearest_neighbour_by_seq(PDB_ID,Chain,res_ID,n):\n",
    "    if n >= res_ID:\n",
    "        return []\n",
    "    conn = pymysql.connect(host=config[\"office_mysql\"][\"sql_host\"],user=config[\"office_mysql\"][\"sql_username\"],\n",
    "                       passwd=config[\"office_mysql\"][\"sql_password\"],\n",
    "                       db=config[\"office_mysql\"][\"sql_main_database\"],port=3306)\n",
    "    try:\n",
    "        with conn as cursor: #auto commit; no close() called\n",
    "            with cursor: # close() called here\n",
    "                sql_select = \"Select da.* FROM pdbdb.`Distance_angle_PTM` da \"\n",
    "                sql_where = \"WHERE da.pdbID = \\\"{}\\\" and da.chain = \\\"{}\\\" and da.ID_1= \\\"{}\\\";\".format(PDB_ID,Chain,res_ID)  \n",
    "                sql = sql_select+sql_where\n",
    "                data = pd.read_sql_query(sql, conn)\n",
    "        head_part = data.groupby([\"ID\"]).first().iloc[(res_ID-n-1):(res_ID-1),]\n",
    "        tail_part = data.groupby([\"ID\"]).first().iloc[res_ID:(res_ID+n),]\n",
    "        return(pd.concat([head_part,tail_part])) #from 2 to exclude self vs self\n",
    "\n",
    "    except Exception as e: # catch exceptions\n",
    "        print(\"~~~~~~~~~~~~~~\")\n",
    "        print(e)\n",
    "    finally:\n",
    "        if conn:\n",
    "            conn.close()"
   ]
  },
  {
   "cell_type": "code",
   "execution_count": 13,
   "metadata": {
    "ExecuteTime": {
     "end_time": "2020-08-19T00:42:02.265008Z",
     "start_time": "2020-08-19T00:42:02.261427Z"
    },
    "scrolled": true
   },
   "outputs": [],
   "source": [
    "def One_residue_retrieval(residue_1,PDB_ID,Chain):\n",
    "    data, data_1, data_2 = None, None, None\n",
    "    conn = pymysql.connect(host=config[\"office_mysql\"][\"sql_host\"],user=config[\"office_mysql\"][\"sql_username\"],\n",
    "                           passwd=config[\"office_mysql\"][\"sql_password\"],\n",
    "                           db=config[\"office_mysql\"][\"sql_main_database\"],port=3306)\n",
    "    try:\n",
    "        with conn as cursor: #auto commit; no close() called\n",
    "            with cursor: # close() called here\n",
    "                sql_select = \"Select da.* FROM pdbdb.`Distance_angle_PTM` da \"\n",
    "                sql_where = \"WHERE da.pdbID = \\\"{}\\\" and da.chain=\\\"{}\\\" and da.ID_1 = {};\".format(PDB_ID,Chain,residue_1)    \n",
    "                sql = sql_select+sql_where\n",
    "                data_1 = pd.read_sql_query(sql, conn)\n",
    "                data = data_1\n",
    "        \n",
    "    except Exception as e: # catch exceptions\n",
    "        print(\"~~~~~~~~~~~~~~\")\n",
    "        print(e)\n",
    "    finally:\n",
    "        if conn:\n",
    "            conn.close()\n",
    "        return(data)"
   ]
  },
  {
   "cell_type": "code",
   "execution_count": 14,
   "metadata": {
    "ExecuteTime": {
     "end_time": "2020-08-19T00:42:02.730920Z",
     "start_time": "2020-08-19T00:42:02.727198Z"
    }
   },
   "outputs": [],
   "source": [
    "def Get_FEATURE(PDBID,Chain,Seq):\n",
    "    data, data_1, data_2 = None, None, None\n",
    "    conn = pymysql.connect(host=config[\"office_mysql\"][\"sql_host\"],user=config[\"office_mysql\"][\"sql_username\"],\n",
    "                           passwd=config[\"office_mysql\"][\"sql_password\"],\n",
    "                           db=config[\"office_mysql\"][\"sql_main_database\"],port=3306)\n",
    "    try:\n",
    "        with conn as cursor: #auto commit; no close() called\n",
    "            with cursor: # close() called here\n",
    "                sql_select = \"Select da.* FROM pdbdb.`FEATURE` da \"\n",
    "                sql_where = \"WHERE da.PDBID = \\\"{}\\\" and da.Chain=\\\"{}\\\" and da.Seq = {};\".format(PDBID,Chain,Seq)    \n",
    "                sql = sql_select+sql_where\n",
    "                data_1 = pd.read_sql_query(sql, conn)\n",
    "                data = data_1[data_1[\"Component\"]==\"C\"] # currently only get C component\n",
    "        \n",
    "    except Exception as e: # catch exceptions\n",
    "        print(\"~~~~~~~~~~~~~~\")\n",
    "        print(e)\n",
    "    finally:\n",
    "        if conn:\n",
    "            conn.close()\n",
    "        return(data)"
   ]
  },
  {
   "cell_type": "code",
   "execution_count": 15,
   "metadata": {
    "ExecuteTime": {
     "end_time": "2020-08-19T00:42:03.155281Z",
     "start_time": "2020-08-19T00:42:03.151681Z"
    }
   },
   "outputs": [],
   "source": [
    "def Get_PSSM(PDBID,Chain,Seq):\n",
    "    data, data_1, data_2 = None, None, None\n",
    "    conn = pymysql.connect(host=config[\"office_mysql\"][\"sql_host\"],user=config[\"office_mysql\"][\"sql_username\"],\n",
    "                           passwd=config[\"office_mysql\"][\"sql_password\"],\n",
    "                           db=config[\"office_mysql\"][\"sql_main_database\"],port=3306)\n",
    "    try:\n",
    "        with conn as cursor: #auto commit; no close() called\n",
    "            with cursor: # close() called here\n",
    "                sql_select = \"Select da.* FROM pdbdb.`PSSM_uniref50` da \"\n",
    "                sql_where = \"WHERE da.PDBID = \\\"{}\\\" and da.Chain=\\\"{}\\\" and da.Seq = {};\".format(PDBID,Chain,Seq)    \n",
    "                sql = sql_select+sql_where\n",
    "                data_1 = pd.read_sql_query(sql, conn)\n",
    "                data = data_1\n",
    "        \n",
    "    except Exception as e: # catch exceptions\n",
    "        print(\"~~~~~~~~~~~~~~\")\n",
    "        print(e)\n",
    "    finally:\n",
    "        if conn:\n",
    "            conn.close()\n",
    "        return(data)"
   ]
  },
  {
   "cell_type": "code",
   "execution_count": 16,
   "metadata": {
    "ExecuteTime": {
     "end_time": "2020-08-19T00:42:03.571622Z",
     "start_time": "2020-08-19T00:42:03.567973Z"
    }
   },
   "outputs": [],
   "source": [
    "def Get_PSSM(PDBID,Chain,Seq):\n",
    "    data, data_1, data_2 = None, None, None\n",
    "    conn = pymysql.connect(host=config[\"office_mysql\"][\"sql_host\"],user=config[\"office_mysql\"][\"sql_username\"],\n",
    "                           passwd=config[\"office_mysql\"][\"sql_password\"],\n",
    "                           db=config[\"office_mysql\"][\"sql_main_database\"],port=3306)\n",
    "    try:\n",
    "        with conn as cursor: #auto commit; no close() called\n",
    "            with cursor: # close() called here\n",
    "                sql_select = \"Select da.* FROM pdbdb.`PSSM_uniref50` da \"\n",
    "                sql_where = \"WHERE da.PDBID = \\\"{}\\\" and da.Chain=\\\"{}\\\" and da.Seq in {};\".format(PDBID,Chain,Seq)    \n",
    "                sql = sql_select+sql_where\n",
    "                data_1 = pd.read_sql_query(sql, conn)\n",
    "                data = data_1\n",
    "        \n",
    "    except Exception as e: # catch exceptions\n",
    "        print(\"~~~~~~~~~~~~~~\")\n",
    "        print(e)\n",
    "    finally:\n",
    "        if conn:\n",
    "            conn.close()\n",
    "        return(data)"
   ]
  },
  {
   "cell_type": "code",
   "execution_count": 17,
   "metadata": {
    "ExecuteTime": {
     "end_time": "2020-08-19T00:42:04.496047Z",
     "start_time": "2020-08-19T00:42:04.490864Z"
    }
   },
   "outputs": [],
   "source": [
    "def Get_Neigh_PSSM(PDBID,Chain,Seq,num_neigh):\n",
    "    '''\n",
    "    Retrieve redsidue‘s and neighbours' PSSM.\n",
    "    No or imcomplete records will return an empty dataframe\n",
    "    '''\n",
    "    data, data_1, data_2 = None, None, None\n",
    "    conn = pymysql.connect(host=config[\"office_mysql\"][\"sql_host\"],user=config[\"office_mysql\"][\"sql_username\"],\n",
    "                           passwd=config[\"office_mysql\"][\"sql_password\"],\n",
    "                           db=config[\"office_mysql\"][\"sql_main_database\"],port=3306)\n",
    "    try:\n",
    "        with conn as cursor: #auto commit; no close() called\n",
    "            with cursor: # close() called here\n",
    "                sql_select = \"Select da.* FROM pdbdb.`PSSM_uniref50` da \"\n",
    "                sql_where = \"WHERE da.PDBID = \\\"{}\\\" and da.Chain=\\\"{}\\\" and da.Seq = {};\".format(\"XXX\",Chain,Seq)    \n",
    "                sql = sql_select+sql_where\n",
    "                data_1 = pd.read_sql_query(sql, conn)\n",
    "        if Seq <= num_neigh:\n",
    "            data = data_1\n",
    "        else:\n",
    "            with conn as cursor: #auto commit; no close() called\n",
    "                with cursor: # close() called here\n",
    "                    sql_select = \"Select da.* FROM pdbdb.`PSSM_uniref50` da \"\n",
    "                    neigh = \"(\" + \",\".join(map(str,list(range(Seq-num_neigh,Seq+num_neigh+1)))) + \")\"\n",
    "                    sql_where = \"WHERE da.PDBID = \\\"{}\\\" and da.Chain=\\\"{}\\\" and da.Seq in {};\".format(PDBID,Chain,neigh)    \n",
    "                    sql = sql_select+sql_where\n",
    "                    data_2 = pd.read_sql_query(sql, conn)\n",
    "            if data_2.shape[0] < 2*num_neigh + 1:\n",
    "                data = data_1\n",
    "            else:\n",
    "                data = data_2\n",
    "\n",
    "    except Exception as e: # catch exceptions\n",
    "        print(\"~~~~~~~~~~~~~~\")\n",
    "        print(e)\n",
    "    finally:\n",
    "        if conn:\n",
    "            conn.close()\n",
    "        return(data)"
   ]
  },
  {
   "cell_type": "code",
   "execution_count": 18,
   "metadata": {
    "ExecuteTime": {
     "end_time": "2020-08-19T00:46:32.921241Z",
     "start_time": "2020-08-19T00:42:14.133831Z"
    },
    "scrolled": true
   },
   "outputs": [],
   "source": [
    "pos_sample_and_neig = pd.DataFrame()\n",
    "for key, value in modification_site_dic.items():\n",
    "    for chain, sites in value.items():\n",
    "        for site in sites:\n",
    "            pos_sample_and_neig = pd.concat([pos_sample_and_neig,n_nearest_neighbour(key,chain,site,1)])"
   ]
  },
  {
   "cell_type": "markdown",
   "metadata": {},
   "source": [
    "#### Now, positive sites are ready. Negative sites are going to be picked. \n",
    "Right now, one pos - one neg"
   ]
  },
  {
   "cell_type": "code",
   "execution_count": 19,
   "metadata": {
    "ExecuteTime": {
     "end_time": "2020-08-19T00:49:07.900317Z",
     "start_time": "2020-08-19T00:46:32.922139Z"
    },
    "scrolled": true
   },
   "outputs": [],
   "source": [
    "neg_sample_and_neig = pd.DataFrame()\n",
    "for i in range(len(pos_sample_and_neig)):\n",
    "    result_step1 = One_residue_retrieval(pos_sample_and_neig.iloc[i,2],pos_sample_and_neig.iloc[i,0],pos_sample_and_neig.iloc[i,1])\n",
    "    \n",
    "    result_step2 = result_step1.groupby([\"ID\"]).first() #duplicate discard\n",
    "\n",
    "    result_step3 = result_step2[~result_step2.ID_2.isin(modification_site_dic[pos_sample_and_neig.iloc[i,0]][pos_sample_and_neig.iloc[i,1]])] # activate discard\n",
    "    #print(result_step3)\n",
    "    result_step4 = result_step3[result_step3[\"Res_2\"]==\"LYS\"]\n",
    "    #print(result_step4)\n",
    "    #print(result_step4.sample(1,random_state = 1))\n",
    "    neg_sample_and_neig = pd.concat([neg_sample_and_neig,result_step4.sample(1)])"
   ]
  },
  {
   "cell_type": "markdown",
   "metadata": {},
   "source": [
    "##### Res_2 in neg_sample_and_neig is the negative sample"
   ]
  },
  {
   "cell_type": "code",
   "execution_count": 20,
   "metadata": {
    "ExecuteTime": {
     "end_time": "2020-08-19T00:49:07.905898Z",
     "start_time": "2020-08-19T00:49:07.901428Z"
    }
   },
   "outputs": [],
   "source": [
    "pos_sample_and_neig_pruned = pos_sample_and_neig.iloc[:,[0,1,2,3]].copy(deep=True)\n",
    "pos_sample_and_neig_pruned[\"type\"] = \"Pos\"\n",
    "pos_sample_and_neig_pruned.columns = ['pdbID', 'chain', 'ID', 'Res', 'type']"
   ]
  },
  {
   "cell_type": "code",
   "execution_count": 21,
   "metadata": {
    "ExecuteTime": {
     "end_time": "2020-08-19T00:49:07.919382Z",
     "start_time": "2020-08-19T00:49:07.906849Z"
    }
   },
   "outputs": [],
   "source": [
    "neg_sample_and_neig_pruned = neg_sample_and_neig.iloc[:,[0,1,4,5]].copy(deep=True)\n",
    "neg_sample_and_neig_pruned[\"type\"] = \"Neg\"\n",
    "neg_sample_and_neig_pruned.columns = ['pdbID', 'chain', 'ID', 'Res', 'type']"
   ]
  },
  {
   "cell_type": "code",
   "execution_count": 22,
   "metadata": {
    "ExecuteTime": {
     "end_time": "2020-08-19T00:49:07.931707Z",
     "start_time": "2020-08-19T00:49:07.920204Z"
    }
   },
   "outputs": [],
   "source": [
    "pos_neg_sample = pd.concat([pos_sample_and_neig_pruned,neg_sample_and_neig_pruned])"
   ]
  },
  {
   "cell_type": "code",
   "execution_count": 23,
   "metadata": {
    "ExecuteTime": {
     "end_time": "2020-08-19T00:54:22.251818Z",
     "start_time": "2020-08-19T00:49:07.932504Z"
    }
   },
   "outputs": [],
   "source": [
    "neighbour_information_list = []\n",
    "for i in range(0,len(pos_neg_sample)):\n",
    "    neigh = n_nearest_neighbour(pos_neg_sample.iloc[i,0],pos_neg_sample.iloc[i,1],pos_neg_sample.iloc[i,2],5).iloc[:,5:8].values.flatten()\n",
    "    neighbour_information_list.append(np.insert(neigh,0,pos_neg_sample.iloc[i,3]))"
   ]
  },
  {
   "cell_type": "code",
   "execution_count": 24,
   "metadata": {
    "ExecuteTime": {
     "end_time": "2020-08-19T00:54:22.554687Z",
     "start_time": "2020-08-19T00:54:22.252621Z"
    }
   },
   "outputs": [],
   "source": [
    "import pandas as pd\n",
    "import os\n",
    "import numpy as np\n",
    "from datetime import datetime\n",
    "\n",
    "from sklearn.metrics import classification_report, roc_auc_score, roc_curve, make_scorer, confusion_matrix, \\\n",
    "    recall_score, precision_score, f1_score\n",
    "from sklearn.model_selection import StratifiedKFold, StratifiedShuffleSplit, GroupKFold, cross_val_score\n",
    "from sklearn.metrics import auc, precision_recall_curve,accuracy_score\n",
    "from sklearn.utils import shuffle\n",
    "from sklearn import tree, svm, naive_bayes, neighbors\n",
    "from sklearn.ensemble import BaggingClassifier, AdaBoostClassifier, RandomForestClassifier, GradientBoostingClassifier\n",
    "from sklearn.preprocessing import LabelBinarizer, OneHotEncoder,LabelEncoder\n",
    "from scipy import interp\n",
    "import matplotlib.pyplot as plt"
   ]
  },
  {
   "cell_type": "code",
   "execution_count": 25,
   "metadata": {
    "ExecuteTime": {
     "end_time": "2020-08-19T00:54:22.559044Z",
     "start_time": "2020-08-19T00:54:22.556054Z"
    }
   },
   "outputs": [],
   "source": [
    "clfs = {'decision_tree': tree.DecisionTreeClassifier(),\n",
    "        'naive_gaussian': naive_bayes.GaussianNB(),\n",
    "\n",
    "        'K_neighbor': neighbors.KNeighborsClassifier(),\n",
    "        'bagging_knn': BaggingClassifier(neighbors.KNeighborsClassifier(), max_samples=0.5, max_features=0.5),\n",
    "        'bagging_tree': BaggingClassifier(tree.DecisionTreeClassifier(), max_samples=0.5, max_features=0.5),\n",
    "        'random_forest': RandomForestClassifier(n_estimators=200),\n",
    "        'adaboost': AdaBoostClassifier(n_estimators=200),\n",
    "        'gradient_boost': GradientBoostingClassifier(n_estimators=50, learning_rate=1.0, max_depth=1, random_state=0),\n",
    "        'svm': svm.SVC(C=0.9,kernel='rbf',gamma='auto')\n",
    "        }\n",
    "#'svm': svm.SVC(probability=True)"
   ]
  },
  {
   "cell_type": "code",
   "execution_count": 26,
   "metadata": {
    "ExecuteTime": {
     "end_time": "2020-08-19T00:54:22.571412Z",
     "start_time": "2020-08-19T00:54:22.559884Z"
    }
   },
   "outputs": [
    {
     "name": "stdout",
     "output_type": "stream",
     "text": [
      "OneHotEncoder(categories='auto', drop=None, dtype=<class 'numpy.float64'>,\n",
      "              handle_unknown='error', sparse=False)\n"
     ]
    }
   ],
   "source": [
    "aminoAcidCodes = [\"ALA\",\"ARG\",\"ASN\",\"ASP\",\"CYS\",\"GLN\",\"GLY\",\"GLU\",\"HIS\",\"ILE\",\"LEU\",\"LYS\",\n",
    "                 \"MET\",\"PHE\",\"PRO\",\"PYL\",\"SER\",\"SEC\",\"THR\",\"TRP\",\"TYR\",\"VAL\",\"unknown\"]\n",
    "label_encoder = LabelEncoder()\n",
    "integer_encoded = label_encoder.fit_transform(aminoAcidCodes)\n",
    "onehot_encoder = OneHotEncoder(sparse=False)\n",
    "integer_encoded = integer_encoded.reshape(len(integer_encoded), 1)\n",
    "onehot_encoded = onehot_encoder.fit(integer_encoded)\n",
    "print(onehot_encoded)\n"
   ]
  },
  {
   "cell_type": "code",
   "execution_count": 27,
   "metadata": {
    "ExecuteTime": {
     "end_time": "2020-08-19T00:54:22.583325Z",
     "start_time": "2020-08-19T00:54:22.572199Z"
    }
   },
   "outputs": [
    {
     "name": "stdout",
     "output_type": "stream",
     "text": [
      "OneHotEncoder(categories='auto', drop=None, dtype=<class 'numpy.float64'>,\n",
      "              handle_unknown='error', sparse=False)\n"
     ]
    }
   ],
   "source": [
    "amino_acid_property_by_res = {\"ALA\":1,\"ILE\":1,\"LEU\":1,\"MET\":1,\"VAL\":1,\n",
    "                      \"PHE\":2, \"TRP\":2,\"TYR\":2,\n",
    "                       \"ASN\":3,\"CYS\":3,\"GLN\":3,\"SER\":3,\"THR\":3,\n",
    "                      \"ASP\":4,\"GLU\":4,\"ARG\":5,\"HIS\":5,\"LYS\":5,\"GLY\":6,\"PRO\":6,\"unknown\":7}\n",
    "label_encoder = LabelEncoder()\n",
    "integer_encoded = label_encoder.fit_transform([1,2,3,4,5,6,7])\n",
    "onehot_encoder = OneHotEncoder(sparse=False)\n",
    "integer_encoded = integer_encoded.reshape(len(integer_encoded), 1)\n",
    "onehot_encoded = onehot_encoder.fit(integer_encoded)\n",
    "print(onehot_encoded)\n",
    "\n"
   ]
  },
  {
   "cell_type": "code",
   "execution_count": 32,
   "metadata": {
    "ExecuteTime": {
     "end_time": "2020-08-09T21:47:27.110535Z",
     "start_time": "2020-08-09T21:47:27.078618Z"
    }
   },
   "outputs": [
    {
     "ename": "NameError",
     "evalue": "name 'pos_neg_sample' is not defined",
     "output_type": "error",
     "traceback": [
      "\u001b[0;31m---------------------------------------------------------------------------\u001b[0m",
      "\u001b[0;31mNameError\u001b[0m                                 Traceback (most recent call last)",
      "\u001b[0;32m<ipython-input-32-08ae14bee031>\u001b[0m in \u001b[0;36m<module>\u001b[0;34m\u001b[0m\n\u001b[1;32m      1\u001b[0m \u001b[0mneighbour_information_list\u001b[0m \u001b[0;34m=\u001b[0m \u001b[0;34m[\u001b[0m\u001b[0;34m]\u001b[0m\u001b[0;34m\u001b[0m\u001b[0;34m\u001b[0m\u001b[0m\n\u001b[0;32m----> 2\u001b[0;31m \u001b[0;32mfor\u001b[0m \u001b[0mi\u001b[0m \u001b[0;32min\u001b[0m \u001b[0mrange\u001b[0m\u001b[0;34m(\u001b[0m\u001b[0;36m0\u001b[0m\u001b[0;34m,\u001b[0m\u001b[0mlen\u001b[0m\u001b[0;34m(\u001b[0m\u001b[0mpos_neg_sample\u001b[0m\u001b[0;34m)\u001b[0m\u001b[0;34m)\u001b[0m\u001b[0;34m:\u001b[0m\u001b[0;34m\u001b[0m\u001b[0;34m\u001b[0m\u001b[0m\n\u001b[0m\u001b[1;32m      3\u001b[0m     \u001b[0mneigh\u001b[0m \u001b[0;34m=\u001b[0m \u001b[0mn_nearest_neighbour\u001b[0m\u001b[0;34m(\u001b[0m\u001b[0mpos_neg_sample\u001b[0m\u001b[0;34m.\u001b[0m\u001b[0miloc\u001b[0m\u001b[0;34m[\u001b[0m\u001b[0mi\u001b[0m\u001b[0;34m,\u001b[0m\u001b[0;36m0\u001b[0m\u001b[0;34m]\u001b[0m\u001b[0;34m,\u001b[0m\u001b[0mpos_neg_sample\u001b[0m\u001b[0;34m.\u001b[0m\u001b[0miloc\u001b[0m\u001b[0;34m[\u001b[0m\u001b[0mi\u001b[0m\u001b[0;34m,\u001b[0m\u001b[0;36m1\u001b[0m\u001b[0;34m]\u001b[0m\u001b[0;34m,\u001b[0m\u001b[0mpos_neg_sample\u001b[0m\u001b[0;34m.\u001b[0m\u001b[0miloc\u001b[0m\u001b[0;34m[\u001b[0m\u001b[0mi\u001b[0m\u001b[0;34m,\u001b[0m\u001b[0;36m2\u001b[0m\u001b[0;34m]\u001b[0m\u001b[0;34m,\u001b[0m\u001b[0;36m1\u001b[0m\u001b[0;34m)\u001b[0m\u001b[0;34m.\u001b[0m\u001b[0miloc\u001b[0m\u001b[0;34m[\u001b[0m\u001b[0;34m:\u001b[0m\u001b[0;34m,\u001b[0m\u001b[0;36m5\u001b[0m\u001b[0;34m:\u001b[0m\u001b[0;36m8\u001b[0m\u001b[0;34m]\u001b[0m\u001b[0;34m.\u001b[0m\u001b[0mvalues\u001b[0m\u001b[0;34m.\u001b[0m\u001b[0mflatten\u001b[0m\u001b[0;34m(\u001b[0m\u001b[0;34m)\u001b[0m\u001b[0;34m\u001b[0m\u001b[0;34m\u001b[0m\u001b[0m\n\u001b[1;32m      4\u001b[0m     \u001b[0mneighbour_information_list\u001b[0m\u001b[0;34m.\u001b[0m\u001b[0mappend\u001b[0m\u001b[0;34m(\u001b[0m\u001b[0mnp\u001b[0m\u001b[0;34m.\u001b[0m\u001b[0minsert\u001b[0m\u001b[0;34m(\u001b[0m\u001b[0mneigh\u001b[0m\u001b[0;34m,\u001b[0m\u001b[0;36m0\u001b[0m\u001b[0;34m,\u001b[0m\u001b[0mpos_neg_sample\u001b[0m\u001b[0;34m.\u001b[0m\u001b[0miloc\u001b[0m\u001b[0;34m[\u001b[0m\u001b[0mi\u001b[0m\u001b[0;34m,\u001b[0m\u001b[0;36m3\u001b[0m\u001b[0;34m]\u001b[0m\u001b[0;34m)\u001b[0m\u001b[0;34m)\u001b[0m\u001b[0;34m\u001b[0m\u001b[0;34m\u001b[0m\u001b[0m\n",
      "\u001b[0;31mNameError\u001b[0m: name 'pos_neg_sample' is not defined"
     ]
    }
   ],
   "source": [
    "neighbour_information_list = []\n",
    "for i in range(0,len(pos_neg_sample)):\n",
    "    neigh = n_nearest_neighbour(pos_neg_sample.iloc[i,0],pos_neg_sample.iloc[i,1],pos_neg_sample.iloc[i,2],1).iloc[:,5:8].values.flatten()\n",
    "    neighbour_information_list.append(np.insert(neigh,0,pos_neg_sample.iloc[i,3]))"
   ]
  },
  {
   "cell_type": "code",
   "execution_count": 32,
   "metadata": {
    "scrolled": true
   },
   "outputs": [
    {
     "name": "stdout",
     "output_type": "stream",
     "text": [
      "svm\n"
     ]
    },
    {
     "name": "stderr",
     "output_type": "stream",
     "text": [
      "/home/yuan/anaconda3/envs/pdbPy3/lib/python3.6/site-packages/sklearn/svm/base.py:196: FutureWarning: The default value of gamma will change from 'auto' to 'scale' in version 0.22 to account better for unscaled features. Set gamma explicitly to 'auto' or 'scale' to avoid this warning.\n",
      "  \"avoid this warning.\", FutureWarning)\n",
      "/home/yuan/anaconda3/envs/pdbPy3/lib/python3.6/site-packages/sklearn/svm/base.py:196: FutureWarning: The default value of gamma will change from 'auto' to 'scale' in version 0.22 to account better for unscaled features. Set gamma explicitly to 'auto' or 'scale' to avoid this warning.\n",
      "  \"avoid this warning.\", FutureWarning)\n",
      "/home/yuan/anaconda3/envs/pdbPy3/lib/python3.6/site-packages/sklearn/svm/base.py:196: FutureWarning: The default value of gamma will change from 'auto' to 'scale' in version 0.22 to account better for unscaled features. Set gamma explicitly to 'auto' or 'scale' to avoid this warning.\n",
      "  \"avoid this warning.\", FutureWarning)\n",
      "/home/yuan/anaconda3/envs/pdbPy3/lib/python3.6/site-packages/sklearn/svm/base.py:196: FutureWarning: The default value of gamma will change from 'auto' to 'scale' in version 0.22 to account better for unscaled features. Set gamma explicitly to 'auto' or 'scale' to avoid this warning.\n",
      "  \"avoid this warning.\", FutureWarning)\n",
      "/home/yuan/anaconda3/envs/pdbPy3/lib/python3.6/site-packages/sklearn/svm/base.py:196: FutureWarning: The default value of gamma will change from 'auto' to 'scale' in version 0.22 to account better for unscaled features. Set gamma explicitly to 'auto' or 'scale' to avoid this warning.\n",
      "  \"avoid this warning.\", FutureWarning)\n",
      "/home/yuan/anaconda3/envs/pdbPy3/lib/python3.6/site-packages/sklearn/svm/base.py:196: FutureWarning: The default value of gamma will change from 'auto' to 'scale' in version 0.22 to account better for unscaled features. Set gamma explicitly to 'auto' or 'scale' to avoid this warning.\n",
      "  \"avoid this warning.\", FutureWarning)\n",
      "/home/yuan/anaconda3/envs/pdbPy3/lib/python3.6/site-packages/sklearn/svm/base.py:196: FutureWarning: The default value of gamma will change from 'auto' to 'scale' in version 0.22 to account better for unscaled features. Set gamma explicitly to 'auto' or 'scale' to avoid this warning.\n",
      "  \"avoid this warning.\", FutureWarning)\n",
      "/home/yuan/anaconda3/envs/pdbPy3/lib/python3.6/site-packages/sklearn/svm/base.py:196: FutureWarning: The default value of gamma will change from 'auto' to 'scale' in version 0.22 to account better for unscaled features. Set gamma explicitly to 'auto' or 'scale' to avoid this warning.\n",
      "  \"avoid this warning.\", FutureWarning)\n",
      "/home/yuan/anaconda3/envs/pdbPy3/lib/python3.6/site-packages/sklearn/svm/base.py:196: FutureWarning: The default value of gamma will change from 'auto' to 'scale' in version 0.22 to account better for unscaled features. Set gamma explicitly to 'auto' or 'scale' to avoid this warning.\n",
      "  \"avoid this warning.\", FutureWarning)\n",
      "/home/yuan/anaconda3/envs/pdbPy3/lib/python3.6/site-packages/sklearn/svm/base.py:196: FutureWarning: The default value of gamma will change from 'auto' to 'scale' in version 0.22 to account better for unscaled features. Set gamma explicitly to 'auto' or 'scale' to avoid this warning.\n",
      "  \"avoid this warning.\", FutureWarning)\n"
     ]
    },
    {
     "name": "stdout",
     "output_type": "stream",
     "text": [
      "0.591687449726\n",
      "decision_tree\n",
      "0.656243094237\n",
      "naive_gaussian\n",
      "0.509176694098\n",
      "naive_mul\n",
      "0.548862877268\n",
      "K_neighbor\n",
      "0.622952389852\n",
      "bagging_knn\n",
      "0.597847674802\n",
      "bagging_tree\n",
      "0.607180131353\n",
      "random_forest\n",
      "0.683932537874\n",
      "adaboost\n",
      "0.547591175018\n",
      "gradient_boost\n",
      "0.547948664686\n"
     ]
    }
   ],
   "source": [
    "train_dataset = []\n",
    "for each_res in neighbour_information_list:\n",
    "    one_res_data = []\n",
    "    for element in each_res:\n",
    "        if isinstance(element,str):\n",
    "            \n",
    "            one_res_data.extend(onehot_encoded.transform([[amino_acid_property_by_res[element]-1]])[0].tolist())\n",
    "        else:\n",
    "            one_res_data.append(element)\n",
    "    train_dataset.append(one_res_data)\n",
    "wrong_sample = []\n",
    "for i in range(0,len(train_dataset)):\n",
    "    if(len(train_dataset[i])<1):\n",
    "        wrong_sample.append(i)\n",
    "\n",
    "y_label =[1 for x in range(0,len(pos_sample_and_neig_pruned))]\n",
    "y_label.extend([2 for i in range(0,len(neg_sample_and_neig_pruned))])\n",
    "\n",
    "final_y_label = [y_label[i] for i in range(0,len(pos_neg_sample)) if i not in wrong_sample]\n",
    "final_y_label = np.asarray(final_y_label)\n",
    "shuffle_y_label = shuffle(final_y_label,random_state=0)\n",
    "\n",
    "final_train_dataset = [train_dataset[i] for i in range(0,len(pos_neg_sample)) if i not in wrong_sample]\n",
    "final_train_dataset = np.vstack(np.asarray(final_train_dataset))\n",
    "shuffle_train_dataset = shuffle(final_train_dataset,random_state=0)\n",
    "\n",
    "# skf = StratifiedKFold(n_splits=3)\n",
    "# for train, test in skf.split(shuffle_train_dataset,shuffle_y_label):\n",
    "#     for clf in clfs:\n",
    "#         clfs[clf].fit(shuffle_train_dataset[train],shuffle_y_label[train])\n",
    "#         conf_mat = confusion_matrix(clfs[clf].predict(shuffle_train_dataset[test]),shuffle_y_label[test])\n",
    "#         print(clf)\n",
    "#         print(accuracy_score(clfs[clf].predict(shuffle_train_dataset[test]),shuffle_y_label[test]))\n",
    "\n",
    "for clf in clfs:\n",
    "    print(clf)\n",
    "    scores = cross_val_score(clfs[clf],shuffle_train_dataset,shuffle_y_label,cv=10)\n",
    "    print(sum(scores)/10)"
   ]
  },
  {
   "cell_type": "markdown",
   "metadata": {},
   "source": [
    "# After using using CD-HIT to remove redundant samples"
   ]
  },
  {
   "cell_type": "code",
   "execution_count": 28,
   "metadata": {
    "ExecuteTime": {
     "end_time": "2020-08-19T00:54:22.597856Z",
     "start_time": "2020-08-19T00:54:22.584120Z"
    },
    "scrolled": true
   },
   "outputs": [],
   "source": [
    "cd_hit_7 = pd.read_csv(\"retained_CDHIT_0.7_PTM.csv\")"
   ]
  },
  {
   "cell_type": "code",
   "execution_count": 29,
   "metadata": {
    "ExecuteTime": {
     "end_time": "2020-08-19T00:54:22.612871Z",
     "start_time": "2020-08-19T00:54:22.598636Z"
    },
    "scrolled": true
   },
   "outputs": [
    {
     "data": {
      "text/plain": [
       "(692, 2)"
      ]
     },
     "execution_count": 29,
     "metadata": {},
     "output_type": "execute_result"
    }
   ],
   "source": [
    "cd_hit_7.shape"
   ]
  },
  {
   "cell_type": "markdown",
   "metadata": {},
   "source": [
    "#### 5 neighbours 1:1 = pos:neg"
   ]
  },
  {
   "cell_type": "code",
   "execution_count": 30,
   "metadata": {
    "ExecuteTime": {
     "end_time": "2020-08-19T00:54:44.432698Z",
     "start_time": "2020-08-19T00:54:22.613743Z"
    }
   },
   "outputs": [],
   "source": [
    "pos_sample_and_neig = pd.DataFrame()\n",
    "for key, value in modification_site_dic.items():\n",
    "    for chain, sites in value.items():\n",
    "        if chain in list(cd_hit_7[cd_hit_7[\"pdbID\"]==key][\"Chain\"]):\n",
    "            for site in sites:\n",
    "                neigh = n_nearest_neighbour_by_seq(key,chain,site,1)\n",
    "                if len(neigh) > 0:\n",
    "                    pos_sample_and_neig = pos_sample_and_neig.append(neigh.iloc[0,:])"
   ]
  },
  {
   "cell_type": "code",
   "execution_count": 31,
   "metadata": {
    "ExecuteTime": {
     "end_time": "2020-08-19T00:54:44.438228Z",
     "start_time": "2020-08-19T00:54:44.433588Z"
    }
   },
   "outputs": [],
   "source": [
    "pos_sample_and_neig = pos_sample_and_neig[neigh.columns]\n",
    "pos_sample_and_neig = pos_sample_and_neig.astype({\"ID_1\":int,\"ID_2\":int})"
   ]
  },
  {
   "cell_type": "code",
   "execution_count": 32,
   "metadata": {
    "ExecuteTime": {
     "end_time": "2020-08-19T00:54:56.519998Z",
     "start_time": "2020-08-19T00:54:44.438933Z"
    }
   },
   "outputs": [],
   "source": [
    "neg_sample_and_neig = pd.DataFrame()\n",
    "for i in range(len(pos_sample_and_neig)):\n",
    "    result_step1 = One_residue_retrieval(pos_sample_and_neig.iloc[i,2],pos_sample_and_neig.iloc[i,0],pos_sample_and_neig.iloc[i,1])\n",
    "    result_step2 = result_step1.groupby([\"ID\"]).first() #duplicate discard\n",
    "    result_step3 = result_step2[~result_step2.ID_2.isin(modification_site_dic[pos_sample_and_neig.iloc[i,0]][pos_sample_and_neig.iloc[i,1]])] # activate discard\n",
    "    result_step4 = result_step3[result_step3[\"Res_2\"]==\"LYS\"]\n",
    "    neg_sample_and_neig = pd.concat([neg_sample_and_neig,result_step4.sample(1,replace = False)])"
   ]
  },
  {
   "cell_type": "code",
   "execution_count": 33,
   "metadata": {
    "ExecuteTime": {
     "end_time": "2020-08-19T00:54:56.523929Z",
     "start_time": "2020-08-19T00:54:56.520805Z"
    }
   },
   "outputs": [],
   "source": [
    "pos_sample_and_neig_pruned = pos_sample_and_neig.iloc[:,[0,1,2,3]].copy(deep=True)\n",
    "pos_sample_and_neig_pruned[\"type\"] = \"Pos\"\n",
    "pos_sample_and_neig_pruned.columns = ['pdbID', 'chain', 'ID', 'Res', 'type']"
   ]
  },
  {
   "cell_type": "code",
   "execution_count": 34,
   "metadata": {
    "ExecuteTime": {
     "end_time": "2020-08-19T00:54:56.536689Z",
     "start_time": "2020-08-19T00:54:56.524792Z"
    }
   },
   "outputs": [],
   "source": [
    "neg_sample_and_neig_pruned = neg_sample_and_neig.iloc[:,[0,1,4,5]].copy(deep=True)\n",
    "neg_sample_and_neig_pruned[\"type\"] = \"Neg\"\n",
    "neg_sample_and_neig_pruned.columns = ['pdbID', 'chain', 'ID', 'Res', 'type']"
   ]
  },
  {
   "cell_type": "code",
   "execution_count": 35,
   "metadata": {
    "ExecuteTime": {
     "end_time": "2020-08-19T00:54:56.548250Z",
     "start_time": "2020-08-19T00:54:56.537490Z"
    }
   },
   "outputs": [
    {
     "data": {
      "text/plain": [
       "1036"
      ]
     },
     "execution_count": 35,
     "metadata": {},
     "output_type": "execute_result"
    }
   ],
   "source": [
    "len(pos_sample_and_neig_pruned)"
   ]
  },
  {
   "cell_type": "code",
   "execution_count": 36,
   "metadata": {
    "ExecuteTime": {
     "end_time": "2020-08-19T00:54:56.564957Z",
     "start_time": "2020-08-19T00:54:56.549042Z"
    }
   },
   "outputs": [
    {
     "data": {
      "text/plain": [
       "1036"
      ]
     },
     "execution_count": 36,
     "metadata": {},
     "output_type": "execute_result"
    }
   ],
   "source": [
    "len(neg_sample_and_neig_pruned)"
   ]
  },
  {
   "cell_type": "code",
   "execution_count": 37,
   "metadata": {
    "ExecuteTime": {
     "end_time": "2020-08-19T00:55:06.165548Z",
     "start_time": "2020-08-19T00:55:06.160840Z"
    }
   },
   "outputs": [],
   "source": [
    "pos_neg_sample = pd.concat([pos_sample_and_neig_pruned,neg_sample_and_neig_pruned])"
   ]
  },
  {
   "cell_type": "code",
   "execution_count": 38,
   "metadata": {
    "ExecuteTime": {
     "end_time": "2020-08-19T00:55:31.848117Z",
     "start_time": "2020-08-19T00:55:06.520571Z"
    },
    "scrolled": true
   },
   "outputs": [],
   "source": [
    "neighbour_information_list = []\n",
    "num_pos = 0\n",
    "num_neg = 0\n",
    "for i in range(0,len(pos_neg_sample)):\n",
    "    features = n_nearest_neighbour(pos_neg_sample.iloc[i,0],pos_neg_sample.iloc[i,1],\\\n",
    "                                       pos_neg_sample.iloc[i,2],12)\n",
    "    if not isinstance(features,list):\n",
    "        if pos_neg_sample.iloc[i,4] == \"Pos\":\n",
    "            if features.shape[0] > 0:\n",
    "                num_pos = num_pos + 1\n",
    "                neighbour_information_list.append(np.insert(features.iloc[:,5:8].values.flatten(),0,pos_neg_sample.iloc[i,3]))\n",
    "        else:\n",
    "            if features.shape[0] > 0:\n",
    "                num_neg = num_neg + 1\n",
    "                neighbour_information_list.append(np.insert(features.iloc[:,5:8].values.flatten(),0,pos_neg_sample.iloc[i,3]))\n"
   ]
  },
  {
   "cell_type": "code",
   "execution_count": 50,
   "metadata": {
    "ExecuteTime": {
     "end_time": "2020-08-09T22:22:48.293688Z",
     "start_time": "2020-08-09T22:22:48.292054Z"
    }
   },
   "outputs": [],
   "source": [
    "#pd.DataFrame(neighbour_information_list).to_csv(\"/home/yuan/Documents/PTM_k_NN24.csv\")"
   ]
  },
  {
   "cell_type": "code",
   "execution_count": 39,
   "metadata": {
    "ExecuteTime": {
     "end_time": "2020-08-19T00:55:31.861324Z",
     "start_time": "2020-08-19T00:55:31.849075Z"
    }
   },
   "outputs": [
    {
     "data": {
      "text/plain": [
       "(2072, 37)"
      ]
     },
     "execution_count": 39,
     "metadata": {},
     "output_type": "execute_result"
    }
   ],
   "source": [
    "pd.DataFrame(neighbour_information_list).shape"
   ]
  },
  {
   "cell_type": "code",
   "execution_count": 89,
   "metadata": {
    "ExecuteTime": {
     "end_time": "2020-08-19T01:32:54.019037Z",
     "start_time": "2020-08-19T01:32:54.003143Z"
    }
   },
   "outputs": [],
   "source": [
    "ordered_sample = pd.read_csv(\"/home/yuan/Documents/PTM_k_NN_order_samples_18_24.csv\")"
   ]
  },
  {
   "cell_type": "code",
   "execution_count": 90,
   "metadata": {
    "ExecuteTime": {
     "end_time": "2020-08-19T01:32:56.264183Z",
     "start_time": "2020-08-19T01:32:56.259980Z"
    }
   },
   "outputs": [
    {
     "data": {
      "text/plain": [
       "array([[0, 'unknown', 999.0, ..., 'LYS', 4.63268458644307,\n",
       "        119.969047288325],\n",
       "       [1, 'unknown', 999.0, ..., 'LYS', 11.183988119005196,\n",
       "        121.029133295004],\n",
       "       [2, 'unknown', 999.0, ..., 'unknown', 999.0, 999.0],\n",
       "       ...,\n",
       "       [2069, 'unknown', 999.0, ..., 'LYS', 10.6835721849859,\n",
       "        123.711804992425],\n",
       "       [2070, 'unknown', 999.0, ..., 'LYS', 9.03667762777498,\n",
       "        128.714300925597],\n",
       "       [2071, 'unknown', 999.0, ..., 'unknown', 999.0, 999.0]],\n",
       "      dtype=object)"
      ]
     },
     "execution_count": 90,
     "metadata": {},
     "output_type": "execute_result"
    }
   ],
   "source": [
    "ordered_sample.values"
   ]
  },
  {
   "cell_type": "code",
   "execution_count": 91,
   "metadata": {
    "ExecuteTime": {
     "end_time": "2020-08-19T01:33:11.100716Z",
     "start_time": "2020-08-19T01:32:56.529645Z"
    },
    "scrolled": true
   },
   "outputs": [
    {
     "name": "stdout",
     "output_type": "stream",
     "text": [
      "decision_tree\n",
      "accuracy: 0.5372 roc: 0.5483 precision: 0.5459 recall: 0.5154\n",
      "naive_gaussian\n",
      "accuracy: 0.5430 roc: 0.5565 precision: 0.5375 recall: 0.6099\n",
      "K_neighbor\n",
      "accuracy: 0.5420 roc: 0.5593 precision: 0.5417 recall: 0.5502\n",
      "bagging_knn\n",
      "accuracy: 0.5280 roc: 0.5840 precision: 0.5643 recall: 0.5714\n",
      "bagging_tree\n",
      "accuracy: 0.5700 roc: 0.5832 precision: 0.5529 recall: 0.6591\n",
      "random_forest\n",
      "accuracy: 0.5869 roc: 0.6475 precision: 0.5915 recall: 0.6332\n",
      "adaboost\n",
      "accuracy: 0.5410 roc: 0.5586 precision: 0.5428 recall: 0.5231\n",
      "gradient_boost\n",
      "accuracy: 0.5372 roc: 0.5627 precision: 0.5375 recall: 0.5309\n",
      "svm\n",
      "accuracy: 0.5550 roc: 0.6068 precision: 0.5293 recall: 1.0000\n"
     ]
    }
   ],
   "source": [
    "train_dataset = []\n",
    "#for each_res in neighbour_information_list:\n",
    "for each_res in ordered_sample.values:\n",
    "    one_res_data = []\n",
    "    i = 0\n",
    "    for element in each_res[1:]:\n",
    "        if isinstance(element,str):\n",
    "            #one_res_data.extend(onehot_encoded.transform([[amino_acid_property_by_res[element]-1]])[0].tolist())\n",
    "            #one_res_data.extend(list(onehot_encoded.transform([[aminoAcidCodes.index(element)]])[0]))   \n",
    "                \n",
    "            pass\n",
    "\n",
    "        else:\n",
    "            if element == 999:\n",
    "                element = element*(2)\n",
    "            one_res_data.append(element)\n",
    "            \n",
    "#         if isinstance(element,str):\n",
    "#             one_res_data.extend(onehot_encoded.transform([[amino_acid_property_by_res[element]-1]])[0].tolist())\n",
    "#         else:\n",
    "#             if i % 2 == 1:\n",
    "#                 one_res_data.append(element/50)\n",
    "#             i = i + 1    \n",
    "            \n",
    "    train_dataset.append(one_res_data)\n",
    "wrong_sample = []\n",
    "for i in range(0,len(train_dataset)):\n",
    "    if(len(train_dataset[i])<len(train_dataset[0])):\n",
    "        wrong_sample.append(i)\n",
    "\n",
    "y_label =[1 for x in range(0,num_pos)]\n",
    "y_label.extend([2 for i in range(0,num_neg)])\n",
    "\n",
    "final_y_label = [y_label[i] for i in range(0,num_neg+num_pos) if i not in wrong_sample]\n",
    "final_y_label = np.asarray(final_y_label)\n",
    "shuffle_y_label = shuffle(final_y_label,random_state=0)\n",
    "\n",
    "final_train_dataset = [train_dataset[i] for i in range(0,num_neg+num_pos) if i not in wrong_sample]\n",
    "final_train_dataset = np.vstack(np.asarray(final_train_dataset))\n",
    "\n",
    "############################\n",
    "# from sklearn.preprocessing import normalize\n",
    "# normalized = normalize(final_train_dataset,return_norm=False,axis=1,norm='l2')\n",
    "# shuffle_train_dataset = shuffle(normalized,random_state=0)\n",
    "#############################\n",
    "\n",
    "shuffle_train_dataset = shuffle(final_train_dataset,random_state=0)\n",
    "\n",
    "for clf in clfs:\n",
    "    print(clf)\n",
    "    scores_acc = cross_val_score(clfs[clf],shuffle_train_dataset,shuffle_y_label,scoring='accuracy',n_jobs=5,cv=10)\n",
    "    scores_roc = cross_val_score(clfs[clf],shuffle_train_dataset,shuffle_y_label,scoring='roc_auc',n_jobs=5,cv=10)\n",
    "    scores_precision = cross_val_score(clfs[clf],shuffle_train_dataset,shuffle_y_label,scoring='precision',n_jobs=5,cv=10)\n",
    "    scores_recall = cross_val_score(clfs[clf],shuffle_train_dataset,shuffle_y_label,scoring='recall',n_jobs=5,cv=10)\n",
    "    print('accuracy:',\"{:.4f}\".format(sum(scores_acc)/10),'roc:',\"{:.4f}\".format(sum(scores_roc)/10), \\\n",
    "         'precision:',\"{:.4f}\".format(sum(scores_precision)/10),'recall:',\"{:.4f}\".format(sum(scores_recall)/10))\n",
    "\n",
    "# roc_min = 0\n",
    "# for x in range(100):  \n",
    "#     clf = 'random_forest'\n",
    "#     scores_acc = cross_val_score(clfs[clf],shuffle_train_dataset,shuffle_y_label,scoring='accuracy',n_jobs=5,cv=10)\n",
    "#     scores_roc = cross_val_score(clfs[clf],shuffle_train_dataset,shuffle_y_label,scoring='roc_auc',n_jobs=5,cv=10)\n",
    "#     scores_precision = cross_val_score(clfs[clf],shuffle_train_dataset,shuffle_y_label,scoring='precision',n_jobs=5,cv=10)\n",
    "#     scores_recall = cross_val_score(clfs[clf],shuffle_train_dataset,shuffle_y_label,scoring='recall',n_jobs=5,cv=10)\n",
    "#     if sum(scores_roc)/10 > roc_min:\n",
    "#         roc_min = sum(scores_roc)/10\n",
    "#         print('accuracy:',\"{:.4f}\".format(sum(scores_acc)/10),'roc:',\"{:.4f}\".format(sum(scores_roc)/10), \\\n",
    "#              'precision:',\"{:.4f}\".format(sum(scores_precision)/10),'recall:',\"{:.4f}\".format(sum(scores_recall)/10))  \n",
    " "
   ]
  },
  {
   "cell_type": "code",
   "execution_count": 58,
   "metadata": {
    "ExecuteTime": {
     "end_time": "2020-08-19T01:00:28.466222Z",
     "start_time": "2020-08-19T01:00:28.463553Z"
    }
   },
   "outputs": [
    {
     "data": {
      "text/plain": [
       "array([0.57687685, 0.636973  , 0.56320015, 0.67008962, 0.62266617,\n",
       "       0.62836072, 0.64227035, 0.6136109 , 0.5926531 , 0.62462659])"
      ]
     },
     "execution_count": 58,
     "metadata": {},
     "output_type": "execute_result"
    }
   ],
   "source": [
    "scores_roc"
   ]
  },
  {
   "cell_type": "markdown",
   "metadata": {},
   "source": [
    "#### Plot ROC "
   ]
  },
  {
   "cell_type": "code",
   "execution_count": 98,
   "metadata": {
    "ExecuteTime": {
     "end_time": "2020-08-19T01:41:38.190691Z",
     "start_time": "2020-08-19T01:41:31.872945Z"
    },
    "scrolled": true
   },
   "outputs": [
    {
     "data": {
      "image/png": "[encoded data removed]",
      "text/plain": [
       "<Figure size 432x288 with 1 Axes>"
      ]
     },
     "metadata": {
      "needs_background": "light"
     },
     "output_type": "display_data"
    }
   ],
   "source": [
    "import matplotlib.pyplot as plt\n",
    "from sklearn import svm, datasets\n",
    "from sklearn.metrics import auc\n",
    "from sklearn.metrics import plot_roc_curve\n",
    "from sklearn.model_selection import StratifiedKFold\n",
    "# #############################################################################\n",
    "# Data IO and generation\n",
    "\n",
    "# Import some data to play with\n",
    "X = shuffle_train_dataset\n",
    "y = shuffle_y_label\n",
    "X, y = X[y != 0], y[y != 0]\n",
    "n_samples, n_features = X.shape\n",
    "\n",
    "# Add noisy features\n",
    "random_state = np.random.RandomState(0)\n",
    "# X = np.c_[X, random_state.randn(n_samples, 200 * n_features)]\n",
    "\n",
    "# #############################################################################\n",
    "# Classification and ROC analysis\n",
    "\n",
    "# Run classifier with cross-validation and plot ROC curves\n",
    "cv = StratifiedKFold(n_splits=10)\n",
    "classifier = clfs['random_forest']\n",
    "\n",
    "tprs = []\n",
    "aucs = []\n",
    "mean_fpr = np.linspace(0, 1, 100)\n",
    "\n",
    "fig, ax = plt.subplots()\n",
    "for i, (train, test) in enumerate(cv.split(X, y)):\n",
    "    classifier.fit(X[train], y[train])\n",
    "    viz = plot_roc_curve(classifier, X[test], y[test],\n",
    "                         name='ROC fold {}'.format(i),\n",
    "                         alpha=0.3, lw=1, ax=ax)\n",
    "    interp_tpr = np.interp(mean_fpr, viz.fpr, viz.tpr)\n",
    "    interp_tpr[0] = 0.0\n",
    "    tprs.append(interp_tpr)\n",
    "    aucs.append(viz.roc_auc)\n",
    "\n",
    "\n",
    "\n",
    "ax.plot([0, 1], [0, 1], linestyle='--', lw=2, color='r',\n",
    "        label='Chance', alpha=.8)\n",
    "\n",
    "mean_tpr = np.mean(tprs, axis=0)\n",
    "mean_tpr[-1] = 1.0\n",
    "mean_auc = auc(mean_fpr, mean_tpr)\n",
    "std_auc = np.std(aucs)\n",
    "\n",
    "ax.plot(mean_fpr, mean_tpr, color='b',\n",
    "        label=r'Mean ROC (AUC = %0.2f $\\pm$ %0.2f)' % (mean_auc, std_auc),\n",
    "        lw=2, alpha=.8)\n",
    "\n",
    "\n",
    "std_tpr = np.std(tprs, axis=0)\n",
    "tprs_upper = np.minimum(mean_tpr + std_tpr, 1)\n",
    "tprs_lower = np.maximum(mean_tpr - std_tpr, 0)\n",
    "ax.fill_between(mean_fpr, tprs_lower, tprs_upper, color='grey', alpha=.2,\n",
    "                label=r'$\\pm$ 1 std. dev.')\n",
    "\n",
    "ax.set(xlim=[-0.05, 1.05], ylim=[-0.05, 1.05],\n",
    "       title=None)\n",
    "ax.legend(loc=\"lower right\",handles= ax.get_legend_handles_labels()[0][11:])\n",
    "plt.savefig(fname='/home/yuan/Documents/N18M24_roc_dpi600.png',dpi=600)\n",
    "plt.show()"
   ]
  },
  {
   "cell_type": "code",
   "execution_count": 73,
   "metadata": {},
   "outputs": [],
   "source": [
    "# pd.DataFrame(final_train_dataset).to_csv(\"/mnt/HD1/download/PTM_60_data.txt\")\n",
    "# pd.DataFrame(final_y_label).to_csv(\"/mnt/HD1/download/PTM_60_label.txt\")"
   ]
  },
  {
   "cell_type": "markdown",
   "metadata": {},
   "source": [
    "### FEATURE training & testing"
   ]
  },
  {
   "cell_type": "code",
   "execution_count": 150,
   "metadata": {
    "ExecuteTime": {
     "end_time": "2020-08-18T04:06:07.087875Z",
     "start_time": "2020-08-18T04:06:07.073504Z"
    }
   },
   "outputs": [],
   "source": [
    "pos_neg_sample = pd.concat([pos_sample_and_neig_pruned,neg_sample_and_neig_pruned])"
   ]
  },
  {
   "cell_type": "code",
   "execution_count": 151,
   "metadata": {
    "ExecuteTime": {
     "end_time": "2020-08-18T04:06:07.462571Z",
     "start_time": "2020-08-18T04:06:07.453668Z"
    },
    "scrolled": false
   },
   "outputs": [
    {
     "data": {
      "text/html": [
       "<div>\n",
       "<style scoped>\n",
       "    .dataframe tbody tr th:only-of-type {\n",
       "        vertical-align: middle;\n",
       "    }\n",
       "\n",
       "    .dataframe tbody tr th {\n",
       "        vertical-align: top;\n",
       "    }\n",
       "\n",
       "    .dataframe thead th {\n",
       "        text-align: right;\n",
       "    }\n",
       "</style>\n",
       "<table border=\"1\" class=\"dataframe\">\n",
       "  <thead>\n",
       "    <tr style=\"text-align: right;\">\n",
       "      <th></th>\n",
       "      <th>pdbID</th>\n",
       "      <th>chain</th>\n",
       "      <th>ID</th>\n",
       "      <th>Res</th>\n",
       "      <th>type</th>\n",
       "    </tr>\n",
       "  </thead>\n",
       "  <tbody>\n",
       "    <tr>\n",
       "      <th>740417</th>\n",
       "      <td>3jzf</td>\n",
       "      <td>A</td>\n",
       "      <td>27</td>\n",
       "      <td>LYS</td>\n",
       "      <td>Pos</td>\n",
       "    </tr>\n",
       "    <tr>\n",
       "      <th>777277</th>\n",
       "      <td>3jzf</td>\n",
       "      <td>A</td>\n",
       "      <td>124</td>\n",
       "      <td>LYS</td>\n",
       "      <td>Pos</td>\n",
       "    </tr>\n",
       "    <tr>\n",
       "      <th>936647</th>\n",
       "      <td>1o8c</td>\n",
       "      <td>A</td>\n",
       "      <td>50</td>\n",
       "      <td>LYS</td>\n",
       "      <td>Pos</td>\n",
       "    </tr>\n",
       "    <tr>\n",
       "      <th>988322</th>\n",
       "      <td>1o8c</td>\n",
       "      <td>A</td>\n",
       "      <td>209</td>\n",
       "      <td>LYS</td>\n",
       "      <td>Pos</td>\n",
       "    </tr>\n",
       "    <tr>\n",
       "      <th>1238230</th>\n",
       "      <td>2eck</td>\n",
       "      <td>A</td>\n",
       "      <td>13</td>\n",
       "      <td>LYS</td>\n",
       "      <td>Pos</td>\n",
       "    </tr>\n",
       "  </tbody>\n",
       "</table>\n",
       "</div>"
      ],
      "text/plain": [
       "        pdbID chain   ID  Res type\n",
       "740417   3jzf     A   27  LYS  Pos\n",
       "777277   3jzf     A  124  LYS  Pos\n",
       "936647   1o8c     A   50  LYS  Pos\n",
       "988322   1o8c     A  209  LYS  Pos\n",
       "1238230  2eck     A   13  LYS  Pos"
      ]
     },
     "execution_count": 151,
     "metadata": {},
     "output_type": "execute_result"
    }
   ],
   "source": [
    "pos_neg_sample.head()"
   ]
  },
  {
   "cell_type": "code",
   "execution_count": 152,
   "metadata": {
    "ExecuteTime": {
     "end_time": "2020-08-18T04:06:14.498058Z",
     "start_time": "2020-08-18T04:06:07.921989Z"
    }
   },
   "outputs": [
    {
     "name": "stderr",
     "output_type": "stream",
     "text": [
      "/home/yuan/anaconda3/envs/pdbPy3/lib/python3.6/site-packages/pymysql/cursors.py:170: Warning: (1292, \"Truncated incorrect DOUBLE value: '102A'\")\n",
      "  result = self._query(query)\n",
      "/home/yuan/anaconda3/envs/pdbPy3/lib/python3.6/site-packages/pymysql/cursors.py:170: Warning: (1292, \"Truncated incorrect DOUBLE value: '105A'\")\n",
      "  result = self._query(query)\n",
      "/home/yuan/anaconda3/envs/pdbPy3/lib/python3.6/site-packages/pymysql/cursors.py:170: Warning: (1292, \"Truncated incorrect DOUBLE value: '115A'\")\n",
      "  result = self._query(query)\n"
     ]
    }
   ],
   "source": [
    "neighbour_information_list = []\n",
    "num_pos = 0\n",
    "num_neg = 0\n",
    "for i in range(0,len(pos_neg_sample)):\n",
    "    features = Get_FEATURE(pos_neg_sample.iloc[i,0],pos_neg_sample.iloc[i,1],\\\n",
    "                pos_neg_sample.iloc[i,2])\n",
    "    if pos_neg_sample.iloc[i,4] == \"Pos\":\n",
    "        if features.shape[0] > 0:\n",
    "            num_pos = num_pos + 1\n",
    "            neighbour_information_list.append([float(x) for x in features[\"feature\"].values[0].split(\",\")])\n",
    "    else:\n",
    "        if features.shape[0] > 0:\n",
    "            num_neg = num_neg + 1\n",
    "            neighbour_information_list.append([float(x) for x in features[\"feature\"].values[0].split(\",\")])\n",
    "        \n",
    "#     print( n_nearest_neighbour_by_seq(pos_neg_sample.iloc[i,0],pos_neg_sample.iloc[i,1],pos_neg_sample.iloc[i,2],2))\n",
    "#     neigh = n_nearest_neighbour_by_seq(pos_neg_sample.iloc[i,0],pos_neg_sample.iloc[i,1],pos_neg_sample.iloc[i,2],2).iloc[:,5:8].values.flatten()\n",
    "#     neighbour_information_list.append(np.insert(neigh,0,pos_neg_sample.iloc[i,3]))"
   ]
  },
  {
   "cell_type": "code",
   "execution_count": 166,
   "metadata": {
    "ExecuteTime": {
     "end_time": "2020-08-18T04:32:57.742430Z",
     "start_time": "2020-08-18T04:19:11.507400Z"
    },
    "scrolled": false
   },
   "outputs": [
    {
     "name": "stdout",
     "output_type": "stream",
     "text": [
      "accuracy: 0.6144 roc: 0.6754 precision: 0.5996 recall: 0.6478\n",
      "accuracy: 0.6226 roc: 0.6704 precision: 0.5958 recall: 0.6527\n",
      "accuracy: 0.6081 roc: 0.6651 precision: 0.5955 recall: 0.6613\n",
      "accuracy: 0.6042 roc: 0.6596 precision: 0.6060 recall: 0.6680\n",
      "accuracy: 0.5922 roc: 0.6596 precision: 0.5932 recall: 0.6700\n",
      "accuracy: 0.6153 roc: 0.6587 precision: 0.6166 recall: 0.6506\n"
     ]
    }
   ],
   "source": [
    "train_dataset = neighbour_information_list\n",
    "# for each_res in neighbour_information_list:\n",
    "#     one_res_data = []\n",
    "#     for element in each_res[1:]:\n",
    "#         if isinstance(element,str):\n",
    "#             pass\n",
    "#             #one_res_data.extend(onehot_encoded.transform([[amino_acid_property_by_res[element]-1]])[0].tolist())\n",
    "#         else:\n",
    "#             one_res_data.append(element)\n",
    "#     train_dataset.append(one_res_data)\n",
    "wrong_sample = []\n",
    "for i in range(0,len(train_dataset)):\n",
    "    if(len(train_dataset[i])<470):\n",
    "        wrong_sample.append(i)\n",
    "\n",
    "y_label =[1 for x in range(0,num_pos)]\n",
    "y_label.extend([2 for i in range(0,num_neg)])\n",
    "\n",
    "final_y_label = [y_label[i] for i in range(0,num_neg+num_pos) if i not in wrong_sample]\n",
    "final_y_label = np.asarray(final_y_label)\n",
    "shuffle_y_label = shuffle(final_y_label,random_state=0)\n",
    "\n",
    "final_train_dataset = [train_dataset[i] for i in range(0,num_neg+num_pos) if i not in wrong_sample]\n",
    "final_train_dataset = np.vstack(np.asarray(final_train_dataset))\n",
    "shuffle_train_dataset = shuffle(final_train_dataset,random_state=0)\n",
    "\n",
    "# for clf in clfs:\n",
    "#     print(clf)\n",
    "#     scores_acc = cross_val_score(clfs[clf],shuffle_train_dataset,shuffle_y_label,scoring='accuracy',n_jobs=5,cv=10)\n",
    "#     scores_roc = cross_val_score(clfs[clf],shuffle_train_dataset,shuffle_y_label,scoring='roc_auc',n_jobs=5,cv=10)\n",
    "#     scores_precision = cross_val_score(clfs[clf],shuffle_train_dataset,shuffle_y_label,scoring='precision',n_jobs=5,cv=10)\n",
    "#     scores_recall = cross_val_score(clfs[clf],shuffle_train_dataset,shuffle_y_label,scoring='recall',n_jobs=5,cv=10)\n",
    "#     print('accuracy:',\"{:.4f}\".format(sum(scores_acc)/10),'roc:',\"{:.4f}\".format(sum(scores_roc)/10), \\\n",
    "#          'precision:',\"{:.4f}\".format(sum(scores_precision)/10),'recall:',\"{:.4f}\".format(sum(scores_recall)/10))\n",
    "\n",
    "roc_min = 1\n",
    "for x in range(100):  \n",
    "    clf = 'random_forest'\n",
    "    scores_acc = cross_val_score(clfs[clf],shuffle_train_dataset,shuffle_y_label,scoring='accuracy',n_jobs=5,cv=10)\n",
    "    scores_roc = cross_val_score(clfs[clf],shuffle_train_dataset,shuffle_y_label,scoring='roc_auc',n_jobs=5,cv=10)\n",
    "    scores_precision = cross_val_score(clfs[clf],shuffle_train_dataset,shuffle_y_label,scoring='precision',n_jobs=5,cv=10)\n",
    "    scores_recall = cross_val_score(clfs[clf],shuffle_train_dataset,shuffle_y_label,scoring='recall',n_jobs=5,cv=10)\n",
    "    if sum(scores_roc)/10 < roc_min:\n",
    "        roc_min = sum(scores_roc)/10\n",
    "        print('accuracy:',\"{:.4f}\".format(sum(scores_acc)/10),'roc:',\"{:.4f}\".format(sum(scores_roc)/10), \\\n",
    "             'precision:',\"{:.4f}\".format(sum(scores_precision)/10),'recall:',\"{:.4f}\".format(sum(scores_recall)/10))  "
   ]
  },
  {
   "cell_type": "code",
   "execution_count": 160,
   "metadata": {
    "ExecuteTime": {
     "end_time": "2020-08-18T04:15:42.562032Z",
     "start_time": "2020-08-18T04:15:42.554570Z"
    }
   },
   "outputs": [
    {
     "data": {
      "text/plain": [
       "{'decision_tree': DecisionTreeClassifier(ccp_alpha=0.0, class_weight=None, criterion='gini',\n",
       "                        max_depth=None, max_features=None, max_leaf_nodes=None,\n",
       "                        min_impurity_decrease=0.0, min_impurity_split=None,\n",
       "                        min_samples_leaf=1, min_samples_split=2,\n",
       "                        min_weight_fraction_leaf=0.0, presort='deprecated',\n",
       "                        random_state=None, splitter='best'),\n",
       " 'naive_gaussian': GaussianNB(priors=None, var_smoothing=1e-09),\n",
       " 'K_neighbor': KNeighborsClassifier(algorithm='auto', leaf_size=30, metric='minkowski',\n",
       "                      metric_params=None, n_jobs=None, n_neighbors=5, p=2,\n",
       "                      weights='uniform'),\n",
       " 'bagging_knn': BaggingClassifier(base_estimator=KNeighborsClassifier(algorithm='auto',\n",
       "                                                       leaf_size=30,\n",
       "                                                       metric='minkowski',\n",
       "                                                       metric_params=None,\n",
       "                                                       n_jobs=None,\n",
       "                                                       n_neighbors=5, p=2,\n",
       "                                                       weights='uniform'),\n",
       "                   bootstrap=True, bootstrap_features=False, max_features=0.5,\n",
       "                   max_samples=0.5, n_estimators=10, n_jobs=None,\n",
       "                   oob_score=False, random_state=None, verbose=0,\n",
       "                   warm_start=False),\n",
       " 'bagging_tree': BaggingClassifier(base_estimator=DecisionTreeClassifier(ccp_alpha=0.0,\n",
       "                                                         class_weight=None,\n",
       "                                                         criterion='gini',\n",
       "                                                         max_depth=None,\n",
       "                                                         max_features=None,\n",
       "                                                         max_leaf_nodes=None,\n",
       "                                                         min_impurity_decrease=0.0,\n",
       "                                                         min_impurity_split=None,\n",
       "                                                         min_samples_leaf=1,\n",
       "                                                         min_samples_split=2,\n",
       "                                                         min_weight_fraction_leaf=0.0,\n",
       "                                                         presort='deprecated',\n",
       "                                                         random_state=None,\n",
       "                                                         splitter='best'),\n",
       "                   bootstrap=True, bootstrap_features=False, max_features=0.5,\n",
       "                   max_samples=0.5, n_estimators=10, n_jobs=None,\n",
       "                   oob_score=False, random_state=None, verbose=0,\n",
       "                   warm_start=False),\n",
       " 'random_forest': RandomForestClassifier(bootstrap=True, ccp_alpha=0.0, class_weight=None,\n",
       "                        criterion='gini', max_depth=None, max_features='auto',\n",
       "                        max_leaf_nodes=None, max_samples=None,\n",
       "                        min_impurity_decrease=0.0, min_impurity_split=None,\n",
       "                        min_samples_leaf=1, min_samples_split=2,\n",
       "                        min_weight_fraction_leaf=0.0, n_estimators=200,\n",
       "                        n_jobs=None, oob_score=False, random_state=None,\n",
       "                        verbose=0, warm_start=False),\n",
       " 'adaboost': AdaBoostClassifier(algorithm='SAMME.R', base_estimator=None, learning_rate=1.0,\n",
       "                    n_estimators=200, random_state=None),\n",
       " 'gradient_boost': GradientBoostingClassifier(ccp_alpha=0.0, criterion='friedman_mse', init=None,\n",
       "                            learning_rate=1.0, loss='deviance', max_depth=1,\n",
       "                            max_features=None, max_leaf_nodes=None,\n",
       "                            min_impurity_decrease=0.0, min_impurity_split=None,\n",
       "                            min_samples_leaf=1, min_samples_split=2,\n",
       "                            min_weight_fraction_leaf=0.0, n_estimators=50,\n",
       "                            n_iter_no_change=None, presort='deprecated',\n",
       "                            random_state=0, subsample=1.0, tol=0.0001,\n",
       "                            validation_fraction=0.1, verbose=0,\n",
       "                            warm_start=False),\n",
       " 'svm': SVC(C=0.9, break_ties=False, cache_size=200, class_weight=None, coef0=0.0,\n",
       "     decision_function_shape='ovr', degree=3, gamma='auto', kernel='rbf',\n",
       "     max_iter=-1, probability=False, random_state=None, shrinking=True,\n",
       "     tol=0.001, verbose=False)}"
      ]
     },
     "execution_count": 160,
     "metadata": {},
     "output_type": "execute_result"
    }
   ],
   "source": [
    "clfs"
   ]
  },
  {
   "cell_type": "markdown",
   "metadata": {},
   "source": [
    "### PSSM training & testing"
   ]
  },
  {
   "cell_type": "code",
   "execution_count": 145,
   "metadata": {
    "ExecuteTime": {
     "end_time": "2020-08-18T04:01:50.656053Z",
     "start_time": "2020-08-18T04:01:34.382081Z"
    }
   },
   "outputs": [],
   "source": [
    "neighbour_information_list = []\n",
    "num_pos = 0\n",
    "num_neg = 0\n",
    "for i in range(0,len(pos_neg_sample)):\n",
    "    features = Get_Neigh_PSSM(pos_neg_sample.iloc[i,0],pos_neg_sample.iloc[i,1],\\\n",
    "                pos_neg_sample.iloc[i,2],12)\n",
    "    if pos_neg_sample.iloc[i,4] == \"Pos\":\n",
    "        if features.shape[0] > 0:\n",
    "            num_pos = num_pos + 1\n",
    "            neighbour_information_list.append(list(features.iloc[:,5:25].values.flatten()))\n",
    "    else:\n",
    "        if features.shape[0] > 0:\n",
    "            num_neg = num_neg + 1\n",
    "            neighbour_information_list.append(list(features.iloc[:,5:25].values.flatten()))\n",
    "        \n"
   ]
  },
  {
   "cell_type": "code",
   "execution_count": 146,
   "metadata": {
    "ExecuteTime": {
     "end_time": "2020-08-18T04:02:04.953453Z",
     "start_time": "2020-08-18T04:02:04.948057Z"
    },
    "scrolled": false
   },
   "outputs": [
    {
     "data": {
      "text/plain": [
       "873"
      ]
     },
     "execution_count": 146,
     "metadata": {},
     "output_type": "execute_result"
    }
   ],
   "source": [
    "num_neg"
   ]
  },
  {
   "cell_type": "code",
   "execution_count": 147,
   "metadata": {
    "ExecuteTime": {
     "end_time": "2020-08-18T04:03:24.001597Z",
     "start_time": "2020-08-18T04:02:10.817240Z"
    }
   },
   "outputs": [
    {
     "name": "stdout",
     "output_type": "stream",
     "text": [
      "decision_tree\n",
      "accuracy: 0.5597 roc: 0.5501 precision: 0.5663 recall: 0.5467\n",
      "naive_gaussian\n",
      "accuracy: 0.5020 roc: 0.5057 precision: 0.5025 recall: 0.7118\n",
      "K_neighbor\n",
      "accuracy: 0.5323 roc: 0.5418 precision: 0.5356 recall: 0.4933\n",
      "bagging_knn\n",
      "accuracy: 0.5197 roc: 0.5415 precision: 0.5267 recall: 0.5558\n",
      "bagging_tree\n",
      "accuracy: 0.5642 roc: 0.5679 precision: 0.5568 recall: 0.6708\n",
      "random_forest\n",
      "accuracy: 0.5865 roc: 0.6113 precision: 0.5552 recall: 0.6835\n",
      "adaboost\n",
      "accuracy: 0.5608 roc: 0.5785 precision: 0.5616 recall: 0.5626\n",
      "gradient_boost\n",
      "accuracy: 0.5500 roc: 0.5655 precision: 0.5504 recall: 0.5581\n",
      "svm\n",
      "accuracy: 0.6082 roc: 0.6308 precision: 0.5652 recall: 0.9533\n"
     ]
    }
   ],
   "source": [
    "train_dataset = neighbour_information_list\n",
    "wrong_sample = []\n",
    "for i in range(0,len(train_dataset)):\n",
    "    if(len(train_dataset[i])<15):\n",
    "        wrong_sample.append(i)\n",
    "\n",
    "y_label =[1 for x in range(0,num_pos)]\n",
    "y_label.extend([2 for i in range(0,num_neg)])\n",
    "\n",
    "final_y_label = [y_label[i] for i in range(0,num_neg+num_pos) if i not in wrong_sample]\n",
    "final_y_label = np.asarray(final_y_label)\n",
    "shuffle_y_label = shuffle(final_y_label,random_state=0)\n",
    "\n",
    "final_train_dataset = [train_dataset[i] for i in range(0,num_neg+num_pos) if i not in wrong_sample]\n",
    "final_train_dataset = np.vstack(np.asarray(final_train_dataset))\n",
    "shuffle_train_dataset = shuffle(final_train_dataset,random_state=0)\n",
    "\n",
    "for clf in clfs:\n",
    "    print(clf)\n",
    "    scores_acc = cross_val_score(clfs[clf],shuffle_train_dataset,shuffle_y_label,scoring='accuracy',n_jobs=5,cv=10)\n",
    "    scores_roc = cross_val_score(clfs[clf],shuffle_train_dataset,shuffle_y_label,scoring='roc_auc',n_jobs=5,cv=10)\n",
    "    scores_precision = cross_val_score(clfs[clf],shuffle_train_dataset,shuffle_y_label,scoring='precision',n_jobs=5,cv=10)\n",
    "    scores_recall = cross_val_score(clfs[clf],shuffle_train_dataset,shuffle_y_label,scoring='recall',n_jobs=5,cv=10)\n",
    "    print('accuracy:',\"{:.4f}\".format(sum(scores_acc)/10),'roc:',\"{:.4f}\".format(sum(scores_roc)/10), \\\n",
    "         'precision:',\"{:.4f}\".format(sum(scores_precision)/10),'recall:',\"{:.4f}\".format(sum(scores_recall)/10))"
   ]
  },
  {
   "cell_type": "markdown",
   "metadata": {},
   "source": [
    "## Deep Learning in Keras"
   ]
  },
  {
   "cell_type": "code",
   "execution_count": 209,
   "metadata": {
    "ExecuteTime": {
     "end_time": "2020-08-09T20:52:32.660113Z",
     "start_time": "2020-08-09T20:52:32.621113Z"
    }
   },
   "outputs": [],
   "source": [
    "train_dataset = neighbour_information_list\n",
    "wrong_sample = []\n",
    "for i in range(0,len(train_dataset)):\n",
    "    if(len(train_dataset[i])<15):\n",
    "        wrong_sample.append(i)\n",
    "\n",
    "y_label =[0 for x in range(0,num_pos)]\n",
    "y_label.extend([1 for i in range(0,num_neg)])\n",
    "\n",
    "final_y_label = [y_label[i] for i in range(0,num_neg+num_pos) if i not in wrong_sample]\n",
    "final_y_label = np.asarray(final_y_label)\n",
    "shuffle_y_label = shuffle(final_y_label,random_state=0)\n",
    "\n",
    "final_train_dataset = [train_dataset[i] for i in range(0,num_neg+num_pos) if i not in wrong_sample]\n",
    "final_train_dataset = np.vstack(np.asarray(final_train_dataset))\n",
    "shuffle_train_dataset = shuffle(final_train_dataset,random_state=0)"
   ]
  },
  {
   "cell_type": "code",
   "execution_count": 12,
   "metadata": {
    "ExecuteTime": {
     "end_time": "2020-08-09T21:46:05.518858Z",
     "start_time": "2020-08-09T21:46:05.479954Z"
    }
   },
   "outputs": [
    {
     "ename": "NameError",
     "evalue": "name 'neighbour_information_list' is not defined",
     "output_type": "error",
     "traceback": [
      "\u001b[0;31m---------------------------------------------------------------------------\u001b[0m",
      "\u001b[0;31mNameError\u001b[0m                                 Traceback (most recent call last)",
      "\u001b[0;32m<ipython-input-12-d920c9df6846>\u001b[0m in \u001b[0;36m<module>\u001b[0;34m\u001b[0m\n\u001b[1;32m      1\u001b[0m \u001b[0mtrain_dataset\u001b[0m \u001b[0;34m=\u001b[0m \u001b[0;34m[\u001b[0m\u001b[0;34m]\u001b[0m\u001b[0;34m\u001b[0m\u001b[0;34m\u001b[0m\u001b[0m\n\u001b[0;32m----> 2\u001b[0;31m \u001b[0;32mfor\u001b[0m \u001b[0meach_res\u001b[0m \u001b[0;32min\u001b[0m \u001b[0mneighbour_information_list\u001b[0m\u001b[0;34m:\u001b[0m\u001b[0;34m\u001b[0m\u001b[0;34m\u001b[0m\u001b[0m\n\u001b[0m\u001b[1;32m      3\u001b[0m     \u001b[0mone_res_data\u001b[0m \u001b[0;34m=\u001b[0m \u001b[0;34m[\u001b[0m\u001b[0;34m]\u001b[0m\u001b[0;34m\u001b[0m\u001b[0;34m\u001b[0m\u001b[0m\n\u001b[1;32m      4\u001b[0m     \u001b[0mi\u001b[0m \u001b[0;34m=\u001b[0m \u001b[0;36m0\u001b[0m\u001b[0;34m\u001b[0m\u001b[0;34m\u001b[0m\u001b[0m\n\u001b[1;32m      5\u001b[0m     \u001b[0;32mfor\u001b[0m \u001b[0melement\u001b[0m \u001b[0;32min\u001b[0m \u001b[0meach_res\u001b[0m\u001b[0;34m[\u001b[0m\u001b[0;36m1\u001b[0m\u001b[0;34m:\u001b[0m\u001b[0;34m]\u001b[0m\u001b[0;34m:\u001b[0m\u001b[0;34m\u001b[0m\u001b[0;34m\u001b[0m\u001b[0m\n",
      "\u001b[0;31mNameError\u001b[0m: name 'neighbour_information_list' is not defined"
     ]
    }
   ],
   "source": [
    "train_dataset = []\n",
    "for each_res in neighbour_information_list:\n",
    "    one_res_data = []\n",
    "    i = 0\n",
    "    for element in each_res[1:]:\n",
    "        if isinstance(element,str):\n",
    "            pass\n",
    "            #one_res_data.extend(onehot_encoded.transform([[amino_acid_property_by_res[element]-1]])[0].tolist())\n",
    "        else:\n",
    "            one_res_data.append(element)\n",
    "            \n",
    "#         if isinstance(element,str):\n",
    "#             pass\n",
    "#         else:\n",
    "#             if i % 2 == 1:\n",
    "#                 one_res_data.append(element)\n",
    "#             i = i + 1    \n",
    "            \n",
    "\n",
    "    train_dataset.append(one_res_data)\n",
    "wrong_sample = []\n",
    "for i in range(0,len(train_dataset)):\n",
    "    if(len(train_dataset[i])<len(train_dataset[0])):\n",
    "        wrong_sample.append(i)\n",
    "\n",
    "y_label =[0 for x in range(0,num_pos)]\n",
    "y_label.extend([1 for i in range(0,num_neg)])\n",
    "\n",
    "final_y_label = [y_label[i] for i in range(0,num_neg+num_pos) if i not in wrong_sample]\n",
    "final_y_label = np.asarray(final_y_label)\n",
    "shuffle_y_label = shuffle(final_y_label,random_state=0)\n",
    "\n",
    "final_train_dataset = [train_dataset[i] for i in range(0,num_neg+num_pos) if i not in wrong_sample]\n",
    "final_train_dataset = np.vstack(np.asarray(final_train_dataset))\n",
    "shuffle_train_dataset = shuffle(final_train_dataset,random_state=0)"
   ]
  },
  {
   "cell_type": "code",
   "execution_count": 226,
   "metadata": {
    "ExecuteTime": {
     "end_time": "2020-08-09T21:37:28.489501Z",
     "start_time": "2020-08-09T21:37:28.479263Z"
    }
   },
   "outputs": [
    {
     "data": {
      "text/plain": [
       "array([[0., 0., 0., ..., 1., 0., 0.],\n",
       "       [0., 0., 0., ..., 4., 0., 0.],\n",
       "       [0., 0., 0., ..., 4., 0., 0.],\n",
       "       ...,\n",
       "       [0., 0., 0., ..., 7., 0., 0.],\n",
       "       [0., 0., 0., ..., 5., 0., 0.],\n",
       "       [0., 0., 0., ..., 8., 0., 0.]])"
      ]
     },
     "execution_count": 226,
     "metadata": {},
     "output_type": "execute_result"
    }
   ],
   "source": [
    "shuffle_train_dataset"
   ]
  },
  {
   "cell_type": "code",
   "execution_count": 68,
   "metadata": {
    "ExecuteTime": {
     "end_time": "2020-08-09T22:36:36.145462Z",
     "start_time": "2020-08-09T22:36:36.140596Z"
    }
   },
   "outputs": [],
   "source": [
    "from keras.models import Sequential\n",
    "from keras.layers import Dense, Dropout"
   ]
  },
  {
   "cell_type": "code",
   "execution_count": 10,
   "metadata": {
    "ExecuteTime": {
     "end_time": "2020-08-09T21:46:00.605960Z",
     "start_time": "2020-08-09T21:46:00.313128Z"
    }
   },
   "outputs": [],
   "source": [
    "# define the keras model\n",
    "model = Sequential()\n",
    "model.add(Dense(500, input_dim=479, activation='relu'))\n",
    "model.add(Dense(150, activation='relu'))\n",
    "model.add(Dense(1, activation='sigmoid'))\n",
    "# compile the keras model\n",
    "model.compile(loss='binary_crossentropy', optimizer='adam', metrics=['accuracy'])"
   ]
  },
  {
   "cell_type": "code",
   "execution_count": 11,
   "metadata": {
    "ExecuteTime": {
     "end_time": "2020-08-09T21:46:01.337945Z",
     "start_time": "2020-08-09T21:46:01.327984Z"
    }
   },
   "outputs": [
    {
     "ename": "NameError",
     "evalue": "name 'shuffle_train_dataset' is not defined",
     "output_type": "error",
     "traceback": [
      "\u001b[0;31m---------------------------------------------------------------------------\u001b[0m",
      "\u001b[0;31mNameError\u001b[0m                                 Traceback (most recent call last)",
      "\u001b[0;32m<ipython-input-11-c614b0b88c0e>\u001b[0m in \u001b[0;36m<module>\u001b[0;34m\u001b[0m\n\u001b[1;32m      1\u001b[0m \u001b[0;31m# fit the keras model on the dataset\u001b[0m\u001b[0;34m\u001b[0m\u001b[0;34m\u001b[0m\u001b[0;34m\u001b[0m\u001b[0m\n\u001b[0;32m----> 2\u001b[0;31m \u001b[0mmodel\u001b[0m\u001b[0;34m.\u001b[0m\u001b[0mfit\u001b[0m\u001b[0;34m(\u001b[0m\u001b[0mshuffle_train_dataset\u001b[0m\u001b[0;34m,\u001b[0m \u001b[0mshuffle_y_label\u001b[0m\u001b[0;34m,\u001b[0m \u001b[0mepochs\u001b[0m\u001b[0;34m=\u001b[0m\u001b[0;36m500\u001b[0m\u001b[0;34m,\u001b[0m \u001b[0mbatch_size\u001b[0m\u001b[0;34m=\u001b[0m\u001b[0;36m100\u001b[0m\u001b[0;34m)\u001b[0m\u001b[0;34m\u001b[0m\u001b[0;34m\u001b[0m\u001b[0m\n\u001b[0m",
      "\u001b[0;31mNameError\u001b[0m: name 'shuffle_train_dataset' is not defined"
     ]
    }
   ],
   "source": [
    "# fit the keras model on the dataset\n",
    "model.fit(shuffle_train_dataset, shuffle_y_label, epochs=500, batch_size=100)\n"
   ]
  },
  {
   "cell_type": "code",
   "execution_count": 215,
   "metadata": {
    "ExecuteTime": {
     "end_time": "2020-08-09T20:54:12.517083Z",
     "start_time": "2020-08-09T20:54:12.306810Z"
    }
   },
   "outputs": [
    {
     "name": "stdout",
     "output_type": "stream",
     "text": [
      "2072/2072 [==============================] - 0s 87us/step\n",
      "Accuracy: 100.00\n"
     ]
    }
   ],
   "source": [
    "# evaluate the keras model\n",
    "_, accuracy = model.evaluate(shuffle_train_dataset, shuffle_y_label)\n",
    "print('Accuracy: %.2f' % (accuracy*100))"
   ]
  },
  {
   "cell_type": "code",
   "execution_count": 216,
   "metadata": {
    "ExecuteTime": {
     "end_time": "2020-08-09T20:55:36.318632Z",
     "start_time": "2020-08-09T20:55:36.145912Z"
    },
    "collapsed": true
   },
   "outputs": [
    {
     "name": "stdout",
     "output_type": "stream",
     "text": [
      "[0.0, 0.0, 0.0, 0.0, 0.0, 0.0, 1.0, 0.0, 0.0, 0.0, 0.0, 0.0, 0.1447, 2.0, 1.0, 0.0, 1.0, 0.0, 0.0, 0.0, 0.0, 0.0, 1.0, 0.0, 2.0, 45.004, 0.0, 0.0, 0.0, 0.0, -1.0, 0.0, 200.0, 0.0, 0.0, 0.0, 0.0, 0.0, 0.0, 0.0, 0.0, 0.0, 0.0, 0.0, 2.0, 0.0, 0.0, 0.0, 0.0, 0.0, 0.0, 0.0, 0.0, 0.0, 0.0, 0.0, 2.0, 0.0, 0.0, 0.0, 0.0, 2.0, 0.0, 0.0, 0.0, 2.0, 0.0, 0.0, 0.0, 0.0, 0.0, 0.0, 0.0, 0.0, 2.0, 0.0, 0.0, 0.0, 0.0, 0.0, 3.0, 0.0, 2.0, 0.0, 0.0, 0.0, 0.0, 0.0, 0.0, 0.0, 0.0, 0.0, -1.0724, 5.0, 3.0, 2.0, 0.0, 0.0, 0.0, 0.0, 2.0, 0.0, 0.0, 0.0, 4.0, 128.804, 0.0, 0.0, 0.0, 0.0, -1.0, 1.0, 390.0, 0.0, 0.0, 0.0, 0.0, 0.0, 0.0, 0.0, 0.0, 0.0, 2.0, 0.0, 3.0, 0.0, 0.0, 0.0, 0.0, 0.0, 0.0, 0.0, 0.0, 0.0, 0.0, 2.0, 3.0, 0.0, 0.0, 2.0, 0.0, 3.0, 0.0, 0.0, 0.0, 5.0, 0.0, 0.0, 0.0, 0.0, 0.0, 0.0, 0.0, 0.0, 5.0, 0.0, 0.0, 0.0, 0.0, 2.0, 1.0, 0.0, 1.0, 0.0, 0.0, 0.0, 2.0, 0.0, 0.0, 0.0, 0.0, 0.0, -0.2267, 6.0, 3.0, 1.0, 2.0, 0.0, 0.0, 0.0, 1.0, 0.0, 2.0, 0.0, 5.0, 137.655, 0.0, 0.0, 0.0, 0.0, -2.0, 1.0, 429.0, 0.0, 0.0, 3.0, 0.0, 0.0, 0.0, 0.0, 0.0, 0.0, 2.0, 1.0, 0.0, 0.0, 0.0, 0.0, 0.0, 0.0, 0.0, 0.0, 0.0, 0.0, 0.0, 3.0, 0.0, 3.0, 0.0, 3.0, 3.0, 0.0, 0.0, 0.0, 0.0, 5.0, 0.0, 0.0, 0.0, 0.0, 0.0, 1.0, 0.0, 0.0, 5.0, 0.0, 1.0, 0.0, 0.0, 3.0, 7.0, 0.0, 2.0, 0.0, 0.0, 0.0, 2.0, 0.0, 0.0, 0.0, 0.0, 0.0, -1.1312, 14.0, 10.0, 2.0, 2.0, 0.0, 0.0, 0.0, 2.0, 0.0, 2.0, 0.0, 7.0, 383.723, 0.0, 0.0, 0.0, 0.0, 1.0, 15.0, 1162.0, 0.0, 0.0, 6.0, 0.0, 0.0, 0.0, 0.0, 0.0, 0.0, 3.0, 1.0, 2.0, 0.0, 0.0, 0.0, 0.0, 0.0, 0.0, 2.0, 0.0, 0.0, 0.0, 4.0, 2.0, 8.0, 0.0, 4.0, 8.0, 2.0, 0.0, 0.0, 0.0, 10.0, 0.0, 0.0, 0.0, 0.0, 0.0, 4.0, 0.0, 0.0, 10.0, 0.0, 4.0, 0.0, 0.0, 1.0, 5.0, 0.0, 2.0, 0.0, 0.0, 0.0, 2.0, 0.0, 0.0, 0.0, 0.0, 0.0, -2.13, 10.0, 6.0, 2.0, 2.0, 0.0, 0.0, 0.0, 2.0, 0.0, 2.0, 0.0, 6.0, 252.322, 0.0, 0.0, 0.0, 0.0, -1.0, 10.0, 617.0, 0.0, 0.0, 3.0, 0.0, 0.0, 0.0, 0.0, 0.0, 1.0, 1.0, 3.0, 0.0, 0.0, 0.0, 0.0, 0.0, 0.0, 0.0, 2.0, 0.0, 0.0, 0.0, 4.0, 0.0, 6.0, 0.0, 4.0, 5.0, 1.0, 0.0, 0.0, 0.0, 7.0, 0.0, 0.0, 0.0, 0.0, 1.0, 2.0, 0.0, 0.0, 7.0, 1.0, 2.0, 0.0, 0.0, 2.0, 5.0, 3.0, 1.0, 0.0, 1.0, 1.0, 4.0, 0.0, 0.0, 0.0, 0.0, 0.0, -2.3238, 17.0, 10.0, 3.0, 4.0, 0.0, 0.0, 0.0, 1.5, 1.5, 4.0, 4.0, 6.0, 409.462, 1.0, 0.0, 1.0, 1.5, -1.0, 30.0, 949.0, 0.0, 0.0, 3.0, 0.0, 0.0, 0.0, 0.0, 1.0, 4.0, 0.0, 4.0, 2.0, 0.0, 0.0, 0.0, 0.0, 0.0, 0.0, 3.0, 0.0, 0.0, 0.0, 4.0, 2.0, 10.0, 1.0, 4.0, 7.0, 6.0, 0.0, 0.0, 0.0, 12.0, 0.0, 0.0, 0.0, 0.0, 4.0, 1.0, 0.0, 0.0, 12.0, 4.0, 1.0, 0.0, 0.0] => 1 (expected 1)\n",
      "[0.0, 0.0, 0.0, 0.0, 0.0, 0.0, 1.0, 0.0, 0.0, 0.0, 0.0, 0.0, 0.1447, 2.0, 1.0, 0.0, 1.0, 0.0, 0.0, 0.0, 0.0, 0.0, 1.0, 0.0, 2.0, 45.004, 0.0, 0.0, 0.0, 0.0, -1.0, 0.0, 334.0, 0.0, 0.0, 0.0, 0.0, 0.0, 0.0, 0.0, 0.0, 0.0, 0.0, 0.0, 2.0, 0.0, 0.0, 0.0, 0.0, 0.0, 0.0, 0.0, 0.0, 0.0, 0.0, 0.0, 2.0, 0.0, 0.0, 0.0, 0.0, 2.0, 0.0, 0.0, 0.0, 0.0, 0.0, 0.0, 0.0, 0.0, 0.0, 2.0, 0.0, 0.0, 0.0, 0.0, 2.0, 0.0, 0.0, 0.0, 3.0, 0.0, 1.0, 0.0, 0.0, 0.0, 0.0, 0.0, 0.0, 0.0, 0.0, 0.0, -0.6311, 4.0, 3.0, 1.0, 0.0, 0.0, 0.0, 0.0, 1.0, 0.0, 0.0, 0.0, 3.0, 114.667, 0.0, 0.0, 0.0, 0.0, 0.0, 1.0, 402.0, 2.0, 0.0, 0.0, 0.0, 0.0, 0.0, 0.0, 0.0, 0.0, 0.0, 0.0, 2.0, 0.0, 0.0, 0.0, 0.0, 0.0, 0.0, 0.0, 0.0, 0.0, 0.0, 2.0, 2.0, 0.0, 0.0, 2.0, 0.0, 2.0, 0.0, 0.0, 0.0, 0.0, 0.0, 0.0, 0.0, 2.0, 0.0, 2.0, 0.0, 0.0, 0.0, 2.0, 2.0, 0.0, 0.0, 2.0, 2.0, 0.0, 1.0, 0.0, 0.0, 0.0, 2.0, 0.0, 0.0, 0.0, 0.0, 0.0, -0.4532, 7.0, 4.0, 1.0, 2.0, 0.0, 0.0, 0.0, 1.0, 0.0, 2.0, 0.0, 5.0, 171.165, 0.0, 0.0, 0.0, 0.0, -1.0, 3.0, 578.0, 3.0, 0.0, 0.0, 0.0, 0.0, 0.0, 0.0, 0.0, 0.0, 0.0, 0.0, 2.0, 0.0, 0.0, 0.0, 0.0, 0.0, 2.0, 0.0, 0.0, 0.0, 0.0, 3.0, 2.0, 2.0, 0.0, 5.0, 0.0, 2.0, 0.0, 0.0, 0.0, 0.0, 0.0, 0.0, 2.0, 3.0, 0.0, 2.0, 0.0, 0.0, 0.0, 5.0, 2.0, 0.0, 0.0, 1.0, 8.0, 0.0, 2.0, 0.0, 0.0, 0.0, 1.0, 0.0, 1.0, 0.0, 0.0, 0.0, -1.6808, 13.0, 9.0, 2.0, 2.0, 0.0, 0.0, 1.0, 2.0, 0.0, 1.0, 0.0, 8.0, 358.515, 0.0, 0.0, 0.0, 0.0, -1.0, 8.0, 780.0, 1.0, 0.0, 0.0, 3.0, 1.0, 0.0, 0.0, 1.0, 0.0, 0.0, 0.0, 1.0, 0.0, 0.0, 0.0, 4.0, 0.0, 2.0, 0.0, 0.0, 0.0, 0.0, 1.0, 4.0, 7.0, 1.0, 3.0, 6.0, 1.0, 3.0, 0.0, 0.0, 1.0, 0.0, 0.0, 2.0, 3.0, 0.0, 7.0, 0.0, 0.0, 1.0, 5.0, 7.0, 0.0, 0.0, 3.0, 3.0, 0.0, 4.0, 0.0, 1.0, 0.0, 2.0, 0.0, 0.0, 0.0, 0.0, 0.0, -1.4167, 13.0, 6.0, 5.0, 2.0, 0.0, 0.0, 0.0, 4.0, 1.0, 2.0, 0.0, 10.0, 314.106, 1.0, 0.0, 1.0, 1.0, -5.0, 10.0, 793.0, 2.0, 0.0, 0.0, 2.0, 1.0, 0.0, 0.0, 2.0, 0.0, 1.0, 0.0, 2.0, 0.0, 0.0, 0.0, 2.0, 0.0, 1.0, 0.0, 0.0, 0.0, 0.0, 3.0, 4.0, 4.0, 2.0, 4.0, 5.0, 2.0, 2.0, 0.0, 0.0, 2.0, 0.0, 0.0, 2.0, 2.0, 0.0, 7.0, 0.0, 0.0, 2.0, 4.0, 7.0, 0.0, 0.0, 6.0, 7.0, 2.0, 4.0, 0.0, 0.0, 0.0, 5.0, 3.0, 0.0, 0.0, 0.0, 0.0, -3.9427, 27.0, 15.0, 4.0, 8.0, 0.0, 0.0, 0.0, 4.0, 0.0, 6.5, 2.0, 17.0, 626.228, 1.332, 1.332, 0.0, 1.332, -8.0, 22.0, 1781.0, 3.0, 0.0, 0.0, 6.0, 3.0, 0.0, 4.0, 1.0, 3.0, 5.0, 0.0, 0.0, 0.0, 0.0, 0.0, 0.0, 0.0, 2.0, 0.0, 0.0, 0.0, 0.0, 8.0, 10.0, 8.0, 1.0, 10.0, 4.0, 3.0, 10.0, 0.0, 0.0, 8.0, 0.0, 0.0, 9.0, 3.0, 3.0, 4.0, 0.0, 0.0, 8.0, 15.0, 4.0, 0.0, 0.0] => 1 (expected 1)\n",
      "[0.0, 0.0, 0.0, 0.0, 0.0, 0.0, 1.0, 0.0, 0.0, 0.0, 0.0, 0.0, 0.1447, 2.0, 1.0, 0.0, 1.0, 0.0, 0.0, 0.0, 0.0, 0.0, 1.0, 0.0, 2.0, 45.004, 0.0, 0.0, 0.0, 0.0, -1.0, 0.0, 278.0, 0.0, 0.0, 0.0, 0.0, 0.0, 0.0, 0.0, 0.0, 0.0, 0.0, 0.0, 2.0, 0.0, 0.0, 0.0, 0.0, 0.0, 0.0, 0.0, 0.0, 0.0, 0.0, 0.0, 2.0, 0.0, 0.0, 0.0, 0.0, 2.0, 0.0, 0.0, 0.0, 0.0, 0.0, 0.0, 0.0, 2.0, 0.0, 0.0, 0.0, 0.0, 0.0, 2.0, 0.0, 0.0, 0.0, 0.0, 3.0, 0.0, 2.0, 0.0, 0.0, 0.0, 0.0, 0.0, 0.0, 0.0, 0.0, 0.0, -1.0151, 5.0, 3.0, 2.0, 0.0, 0.0, 0.0, 0.0, 2.0, 0.0, 0.0, 0.0, 4.0, 128.804, 0.0, 0.0, 0.0, 0.0, -1.0, 1.0, 437.0, 0.0, 0.0, 0.0, 0.0, 0.0, 0.0, 0.0, 0.0, 0.0, 0.0, 0.0, 3.0, 0.0, 2.0, 0.0, 0.0, 0.0, 0.0, 0.0, 0.0, 0.0, 0.0, 2.0, 3.0, 0.0, 0.0, 2.0, 0.0, 3.0, 0.0, 0.0, 0.0, 0.0, 0.0, 0.0, 0.0, 5.0, 0.0, 0.0, 0.0, 0.0, 0.0, 5.0, 0.0, 0.0, 0.0, 2.0, 2.0, 0.0, 1.0, 0.0, 0.0, 0.0, 1.0, 1.0, 0.0, 0.0, 0.0, 0.0, -0.6061, 7.0, 4.0, 1.0, 2.0, 0.0, 0.0, 0.0, 1.0, 0.0, 1.5, 0.0, 4.0, 173.808, 0.333, 0.333, 0.0, 0.333, -1.0, 6.0, 284.0, 0.0, 0.0, 0.0, 1.0, 0.0, 0.0, 0.0, 1.0, 0.0, 0.0, 0.0, 1.0, 0.0, 2.0, 0.0, 2.0, 0.0, 0.0, 0.0, 0.0, 0.0, 0.0, 2.0, 2.0, 2.0, 1.0, 2.0, 3.0, 1.0, 1.0, 0.0, 0.0, 1.0, 0.0, 0.0, 0.0, 5.0, 0.0, 1.0, 0.0, 0.0, 1.0, 5.0, 1.0, 0.0, 0.0, 2.0, 4.0, 3.0, 1.0, 0.0, 0.0, 0.0, 2.0, 0.0, 0.0, 0.0, 0.0, 0.0, -0.8334, 12.0, 9.0, 1.0, 2.0, 0.0, 0.0, 0.0, 1.0, 0.0, 2.0, 3.0, 6.0, 298.875, 0.333, 0.333, 0.0, 0.333, 2.0, 17.0, 349.0, 0.0, 0.0, 0.0, 1.0, 0.0, 0.0, 0.0, 1.0, 0.0, 0.0, 1.0, 3.0, 0.0, 4.0, 0.0, 2.0, 0.0, 0.0, 0.0, 0.0, 0.0, 0.0, 5.0, 4.0, 2.0, 1.0, 5.0, 3.0, 3.0, 1.0, 0.0, 0.0, 1.0, 0.0, 0.0, 0.0, 7.0, 0.0, 4.0, 0.0, 0.0, 1.0, 7.0, 4.0, 0.0, 0.0, 1.0, 9.0, 3.0, 0.0, 0.0, 0.0, 0.0, 2.0, 1.0, 2.0, 0.0, 0.0, 0.0, -3.4738, 18.0, 13.0, 0.0, 5.0, 0.0, 0.0, 2.0, 0.0, 0.0, 2.5, 3.0, 5.0, 486.102, 0.333, 0.333, 0.0, 0.333, 2.0, 32.0, 476.0, 1.0, 0.0, 0.0, 4.0, 0.0, 0.0, 0.0, 2.0, 0.0, 0.0, 3.0, 2.0, 0.0, 3.0, 0.0, 2.0, 1.0, 0.0, 0.0, 0.0, 0.0, 0.0, 7.0, 6.0, 3.0, 2.0, 7.0, 5.0, 2.0, 4.0, 0.0, 0.0, 5.0, 0.0, 0.0, 0.0, 6.0, 1.0, 6.0, 0.0, 0.0, 5.0, 7.0, 6.0, 0.0, 0.0, 1.0, 10.0, 0.0, 3.0, 0.0, 1.0, 0.0, 1.0, 0.0, 0.0, 0.0, 0.0, 0.0, -2.2934, 16.0, 11.0, 4.0, 1.0, 0.0, 0.0, 0.0, 3.0, 1.0, 1.0, 0.0, 8.0, 456.025, 1.0, 0.0, 1.0, 1.0, 3.0, 18.0, 486.0, 4.0, 0.0, 0.0, 2.0, 0.0, 0.0, 0.0, 0.0, 0.0, 2.0, 2.0, 4.0, 0.0, 0.0, 0.0, 0.0, 2.0, 0.0, 0.0, 0.0, 0.0, 0.0, 8.0, 6.0, 2.0, 0.0, 8.0, 2.0, 4.0, 2.0, 0.0, 0.0, 9.0, 0.0, 0.0, 0.0, 1.0, 2.0, 4.0, 0.0, 0.0, 9.0, 3.0, 4.0, 0.0, 0.0] => 1 (expected 1)\n",
      "[0.0, 0.0, 0.0, 0.0, 0.0, 0.0, 1.0, 0.0, 0.0, 0.0, 0.0, 0.0, 0.1447, 2.0, 1.0, 0.0, 1.0, 0.0, 0.0, 0.0, 0.0, 0.0, 1.0, 0.0, 2.0, 45.004, 0.0, 0.0, 0.0, 0.0, -1.0, 0.0, 344.0, 0.0, 0.0, 0.0, 0.0, 0.0, 0.0, 0.0, 0.0, 0.0, 0.0, 0.0, 2.0, 0.0, 0.0, 0.0, 0.0, 0.0, 0.0, 0.0, 0.0, 0.0, 0.0, 0.0, 2.0, 0.0, 0.0, 0.0, 0.0, 2.0, 0.0, 0.0, 0.0, 0.0, 0.0, 0.0, 0.0, 2.0, 0.0, 0.0, 0.0, 0.0, 0.0, 2.0, 0.0, 0.0, 0.0, 0.0, 2.0, 0.0, 2.0, 0.0, 0.0, 0.0, 0.0, 0.0, 0.0, 0.0, 0.0, 0.0, -0.9892, 4.0, 2.0, 2.0, 0.0, 0.0, 0.0, 0.0, 2.0, 0.0, 0.0, 0.0, 4.0, 95.294, 0.0, 0.0, 0.0, 0.0, -2.0, 0.0, 508.0, 0.0, 0.0, 2.0, 0.0, 0.0, 0.0, 0.0, 0.0, 0.0, 0.0, 0.0, 2.0, 0.0, 0.0, 0.0, 0.0, 0.0, 0.0, 0.0, 0.0, 0.0, 0.0, 0.0, 2.0, 2.0, 0.0, 0.0, 2.0, 2.0, 0.0, 0.0, 0.0, 0.0, 0.0, 0.0, 0.0, 2.0, 0.0, 2.0, 0.0, 0.0, 0.0, 2.0, 2.0, 0.0, 0.0, 3.0, 2.0, 0.0, 1.0, 0.0, 0.0, 0.0, 1.0, 0.0, 0.0, 0.0, 0.0, 0.0, 0.2071, 7.0, 5.0, 1.0, 1.0, 0.0, 0.0, 0.0, 1.0, 0.0, 1.0, 0.0, 3.0, 190.542, 0.0, 0.0, 0.0, 0.0, 0.0, 7.0, 577.0, 0.0, 0.0, 4.0, 0.0, 0.0, 0.0, 0.0, 0.0, 0.0, 1.0, 0.0, 1.0, 0.0, 0.0, 0.0, 1.0, 0.0, 0.0, 0.0, 0.0, 0.0, 0.0, 1.0, 1.0, 5.0, 0.0, 1.0, 5.0, 1.0, 0.0, 0.0, 2.0, 0.0, 0.0, 0.0, 0.0, 1.0, 0.0, 4.0, 0.0, 0.0, 2.0, 1.0, 4.0, 0.0, 0.0, 2.0, 5.0, 2.0, 2.0, 0.0, 0.0, 0.0, 4.0, 0.0, 0.0, 0.0, 0.0, 0.0, -2.2906, 15.0, 9.0, 2.0, 4.0, 0.0, 0.0, 0.0, 2.0, 0.0, 4.0, 2.0, 9.0, 361.862, 0.0, 0.0, 0.0, 0.0, -2.0, 16.0, 927.0, 0.0, 0.0, 2.0, 0.0, 0.0, 0.0, 0.0, 0.0, 0.0, 3.0, 0.0, 2.0, 3.0, 0.0, 2.0, 1.0, 0.0, 0.0, 2.0, 0.0, 0.0, 0.0, 8.0, 2.0, 5.0, 0.0, 8.0, 5.0, 2.0, 0.0, 0.0, 7.0, 0.0, 0.0, 0.0, 0.0, 2.0, 2.0, 4.0, 0.0, 0.0, 7.0, 4.0, 4.0, 0.0, 0.0, 1.0, 9.0, 1.0, 2.0, 0.0, 0.0, 0.0, 0.0, 0.0, 1.0, 0.0, 0.0, 0.0, -1.4526, 14.0, 11.0, 2.0, 1.0, 0.0, 0.0, 1.0, 2.0, 0.0, 0.0, 2.0, 5.0, 388.179, 0.0, 0.0, 0.0, 0.0, 4.0, 21.0, 699.0, 0.0, 0.0, 0.0, 0.0, 0.0, 0.0, 0.0, 0.0, 0.0, 2.0, 0.0, 3.0, 2.0, 0.0, 2.0, 1.0, 0.0, 0.0, 4.0, 0.0, 0.0, 0.0, 6.0, 3.0, 5.0, 0.0, 6.0, 5.0, 3.0, 0.0, 0.0, 5.0, 0.0, 0.0, 0.0, 0.0, 0.0, 5.0, 4.0, 0.0, 0.0, 5.0, 5.0, 4.0, 0.0, 0.0, 5.0, 7.0, 2.0, 3.0, 0.0, 1.0, 0.0, 3.0, 0.0, 1.0, 0.0, 0.0, 0.0, -1.09, 22.0, 14.0, 4.0, 4.0, 0.0, 0.0, 1.0, 3.0, 1.0, 3.0, 2.0, 13.0, 582.722, 1.0, 0.0, 1.0, 1.0, -2.0, 24.0, 1722.0, 0.0, 3.0, 0.0, 2.0, 0.0, 0.0, 0.0, 2.0, 0.0, 1.0, 0.0, 4.0, 1.0, 0.0, 2.0, 3.0, 0.0, 0.0, 4.0, 0.0, 0.0, 0.0, 4.0, 9.0, 7.0, 2.0, 4.0, 9.0, 7.0, 2.0, 0.0, 7.0, 0.0, 0.0, 0.0, 0.0, 2.0, 7.0, 6.0, 0.0, 0.0, 7.0, 9.0, 6.0, 0.0, 0.0] => 0 (expected 0)\n",
      "[0.0, 0.0, 0.0, 0.0, 0.0, 0.0, 1.0, 0.0, 0.0, 0.0, 0.0, 0.0, 0.1447, 2.0, 1.0, 0.0, 1.0, 0.0, 0.0, 0.0, 0.0, 0.0, 1.0, 0.0, 2.0, 45.004, 0.0, 0.0, 0.0, 0.0, -1.0, 0.0, 182.0, 0.0, 0.0, 0.0, 0.0, 0.0, 0.0, 0.0, 0.0, 0.0, 0.0, 0.0, 2.0, 0.0, 0.0, 0.0, 0.0, 0.0, 0.0, 0.0, 0.0, 0.0, 0.0, 0.0, 2.0, 0.0, 0.0, 0.0, 0.0, 2.0, 0.0, 0.0, 2.0, 0.0, 0.0, 0.0, 0.0, 0.0, 0.0, 0.0, 0.0, 0.0, 2.0, 0.0, 0.0, 0.0, 0.0, 0.0, 3.0, 0.0, 2.0, 0.0, 0.0, 0.0, 0.0, 0.0, 0.0, 0.0, 0.0, 0.0, -1.0708, 5.0, 3.0, 2.0, 0.0, 0.0, 0.0, 0.0, 2.0, 0.0, 0.0, 0.0, 4.0, 128.804, 0.0, 0.0, 0.0, 0.0, -1.0, 1.0, 441.0, 0.0, 0.0, 0.0, 0.0, 0.0, 0.0, 0.0, 0.0, 2.0, 0.0, 0.0, 3.0, 0.0, 0.0, 0.0, 0.0, 0.0, 0.0, 0.0, 0.0, 0.0, 0.0, 0.0, 3.0, 2.0, 0.0, 0.0, 0.0, 5.0, 0.0, 0.0, 5.0, 0.0, 0.0, 0.0, 0.0, 0.0, 0.0, 0.0, 0.0, 0.0, 5.0, 0.0, 0.0, 0.0, 0.0, 2.0, 1.0, 0.0, 1.0, 0.0, 0.0, 0.0, 1.0, 0.0, 0.0, 0.0, 0.0, 0.0, 0.2035, 5.0, 3.0, 1.0, 1.0, 0.0, 0.0, 0.0, 1.0, 0.0, 1.0, 0.0, 4.0, 126.161, 0.0, 0.0, 0.0, 0.0, -1.0, 1.0, 273.0, 0.0, 0.0, 0.0, 0.0, 0.0, 0.0, 0.0, 0.0, 2.0, 0.0, 0.0, 0.0, 2.0, 0.0, 0.0, 0.0, 0.0, 1.0, 0.0, 0.0, 0.0, 0.0, 2.0, 0.0, 3.0, 0.0, 3.0, 0.0, 2.0, 0.0, 0.0, 4.0, 0.0, 0.0, 0.0, 0.0, 0.0, 0.0, 1.0, 0.0, 0.0, 4.0, 0.0, 1.0, 0.0, 0.0, 1.0, 1.0, 0.0, 1.0, 0.0, 0.0, 0.0, 3.0, 0.0, 0.0, 0.0, 0.0, 0.0, -1.6205, 6.0, 2.0, 1.0, 3.0, 0.0, 0.0, 0.0, 1.0, 0.0, 3.0, 0.0, 6.0, 115.639, 0.0, 0.0, 0.0, 0.0, -4.0, 0.0, 271.0, 0.0, 0.0, 0.0, 2.0, 0.0, 0.0, 0.0, 0.0, 1.0, 0.0, 0.0, 0.0, 2.0, 0.0, 0.0, 1.0, 0.0, 0.0, 0.0, 0.0, 0.0, 0.0, 2.0, 2.0, 2.0, 0.0, 2.0, 1.0, 1.0, 2.0, 0.0, 3.0, 3.0, 0.0, 0.0, 0.0, 0.0, 0.0, 0.0, 0.0, 0.0, 6.0, 0.0, 0.0, 0.0, 0.0, 2.0, 5.0, 1.0, 1.0, 0.0, 0.0, 0.0, 2.0, 0.0, 0.0, 0.0, 0.0, 0.0, -0.5574, 11.0, 8.0, 1.0, 2.0, 0.0, 0.0, 0.0, 1.0, 0.0, 2.0, 1.0, 7.0, 292.274, 0.0, 0.0, 0.0, 0.0, 1.0, 6.0, 392.0, 0.0, 0.0, 0.0, 2.0, 0.0, 1.0, 0.0, 0.0, 0.0, 0.0, 0.0, 0.0, 2.0, 0.0, 0.0, 1.0, 0.0, 5.0, 0.0, 0.0, 0.0, 0.0, 2.0, 2.0, 7.0, 0.0, 7.0, 2.0, 0.0, 2.0, 0.0, 2.0, 4.0, 0.0, 0.0, 0.0, 0.0, 0.0, 5.0, 0.0, 0.0, 6.0, 0.0, 5.0, 0.0, 0.0, 1.0, 2.0, 4.0, 2.0, 0.0, 0.0, 1.0, 0.0, 0.0, 1.0, 1.0, 0.0, 0.0, -1.5386, 12.0, 7.0, 3.0, 1.0, 1.0, 0.0, 1.0, 2.0, 1.0, 0.0, 5.0, 4.0, 287.261, 0.0, 0.0, 0.0, 0.0, 0.0, 24.0, 581.0, 0.0, 0.0, 0.0, 1.0, 0.0, 1.0, 0.0, 0.0, 0.0, 0.0, 0.0, 0.0, 1.0, 0.0, 1.0, 3.0, 0.0, 5.0, 0.0, 0.0, 0.0, 0.0, 2.0, 1.0, 9.0, 0.0, 7.0, 4.0, 0.0, 1.0, 0.0, 1.0, 5.0, 0.0, 0.0, 0.0, 0.0, 1.0, 5.0, 0.0, 0.0, 6.0, 1.0, 5.0, 0.0, 0.0] => 1 (expected 1)\n"
     ]
    }
   ],
   "source": [
    "# make class predictions with the model\n",
    "predictions = model.predict_classes(shuffle_train_dataset)\n",
    "# summarize the first 5 cases\n",
    "for i in range(5):\n",
    "\tprint('%s => %d (expected %d)' % (shuffle_train_dataset[i].tolist(), predictions[i], shuffle_y_label[i]))"
   ]
  },
  {
   "cell_type": "code",
   "execution_count": 6,
   "metadata": {
    "ExecuteTime": {
     "end_time": "2020-08-09T21:44:13.564272Z",
     "start_time": "2020-08-09T21:44:13.480093Z"
    },
    "scrolled": true
   },
   "outputs": [
    {
     "name": "stdout",
     "output_type": "stream",
     "text": [
      "[name: \"/device:CPU:0\"\n",
      "device_type: \"CPU\"\n",
      "memory_limit: 268435456\n",
      "locality {\n",
      "}\n",
      "incarnation: 7218109875679164427\n",
      ", name: \"/device:XLA_CPU:0\"\n",
      "device_type: \"XLA_CPU\"\n",
      "memory_limit: 17179869184\n",
      "locality {\n",
      "}\n",
      "incarnation: 2572524811014791588\n",
      "physical_device_desc: \"device: XLA_CPU device\"\n",
      ", name: \"/device:GPU:0\"\n",
      "device_type: \"GPU\"\n",
      "memory_limit: 3730702336\n",
      "locality {\n",
      "  bus_id: 1\n",
      "  links {\n",
      "  }\n",
      "}\n",
      "incarnation: 9027705275832792969\n",
      "physical_device_desc: \"device: 0, name: Quadro P1000, pci bus id: 0000:01:00.0, compute capability: 6.1\"\n",
      ", name: \"/device:XLA_GPU:0\"\n",
      "device_type: \"XLA_GPU\"\n",
      "memory_limit: 17179869184\n",
      "locality {\n",
      "}\n",
      "incarnation: 14145108646668885576\n",
      "physical_device_desc: \"device: XLA_GPU device\"\n",
      "]\n"
     ]
    }
   ],
   "source": [
    "from tensorflow.python.client import device_lib\n",
    "print(device_lib.list_local_devices())"
   ]
  },
  {
   "cell_type": "code",
   "execution_count": null,
   "metadata": {},
   "outputs": [],
   "source": [
    "y_label =[0 for x in range(0,num_pos)]\n",
    "y_label.extend([1 for i in range(0,num_neg)])\n",
    "\n",
    "final_y_label = [y_label[i] for i in range(0,num_neg+num_pos) if i not in wrong_sample]\n",
    "final_y_label = np.asarray(final_y_label)\n",
    "shuffle_y_label = shuffle(final_y_label,random_state=0)"
   ]
  },
  {
   "cell_type": "code",
   "execution_count": 120,
   "metadata": {
    "ExecuteTime": {
     "end_time": "2020-08-10T01:18:51.968206Z",
     "start_time": "2020-08-10T01:18:51.962412Z"
    }
   },
   "outputs": [
    {
     "data": {
      "text/plain": [
       "2"
      ]
     },
     "execution_count": 120,
     "metadata": {},
     "output_type": "execute_result"
    }
   ],
   "source": [
    "skf = StratifiedKFold(n_splits=2,shuffle=True)\n",
    "skf.get_n_splits(shuffle_train_dataset,shuffle_y_label)"
   ]
  },
  {
   "cell_type": "code",
   "execution_count": 121,
   "metadata": {
    "ExecuteTime": {
     "end_time": "2020-08-10T01:19:13.132014Z",
     "start_time": "2020-08-10T01:18:53.637933Z"
    },
    "scrolled": true
   },
   "outputs": [
    {
     "name": "stdout",
     "output_type": "stream",
     "text": [
      "33/33 [==============================] - 0s 876us/step - loss: 2.8180 - acc: 0.5492\n",
      "33/33 [==============================] - 0s 950us/step - loss: 4.4833 - acc: 0.5483\n"
     ]
    }
   ],
   "source": [
    "for train_index, test_index in skf.split(shuffle_train_dataset,shuffle_y_label):\n",
    "    model = Sequential()\n",
    "    model.add(Dense(200, input_dim=48, activation='relu'))\n",
    "    model.add(Dense(500, activation='relu'))\n",
    "    #model.add(Dropout(0.2))\n",
    "    model.add(Dense(500, activation='relu'))\n",
    "    #model.add(Dropout(0.2))\n",
    "    model.add(Dense(500, activation='relu'))\n",
    "    #model.add(Dense(200, activation='relu'))\n",
    "    model.add(Dense(500, activation='relu'))\n",
    "    #model.add(Dense(200, activation='relu'))\n",
    "    model.add(Dense(1, activation='sigmoid'))\n",
    "    # compile the keras model\n",
    "    model.compile(loss='binary_crossentropy', optimizer='Adam', metrics=['acc'])\n",
    "    model.fit(shuffle_train_dataset[train_index], \\\n",
    "              shuffle_y_label[train_index], epochs=500, batch_size=500,verbose=0)\n",
    "    _, accuracy = model.evaluate(shuffle_train_dataset[test_index], shuffle_y_label[test_index]) \n",
    "    #print('Accuracy: %.2f' % (accuracy*100))"
   ]
  },
  {
   "cell_type": "code",
   "execution_count": null,
   "metadata": {},
   "outputs": [],
   "source": []
  }
 ],
 "metadata": {
  "kernelspec": {
   "display_name": "Python 3",
   "language": "python",
   "name": "python3"
  },
  "language_info": {
   "codemirror_mode": {
    "name": "ipython",
    "version": 3
   },
   "file_extension": ".py",
   "mimetype": "text/x-python",
   "name": "python",
   "nbconvert_exporter": "python",
   "pygments_lexer": "ipython3",
   "version": "3.6.10"
  }
 },
 "nbformat": 4,
 "nbformat_minor": 2
}
