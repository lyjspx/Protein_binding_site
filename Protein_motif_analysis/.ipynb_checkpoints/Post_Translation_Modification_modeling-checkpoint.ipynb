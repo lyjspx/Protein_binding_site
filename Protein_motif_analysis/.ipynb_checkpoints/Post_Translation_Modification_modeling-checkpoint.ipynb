{
 "cells": [
  {
   "cell_type": "code",
   "execution_count": 1,
   "metadata": {
    "scrolled": true
   },
   "outputs": [],
   "source": [
    "from Bio.PDB import *\n",
    "import urllib.request\n",
    "import numpy as np\n",
    "import pandas as pd\n",
    "from math import sqrt\n",
    "import time\n",
    "import configparser\n",
    "import os\n",
    "import pymysql"
   ]
  },
  {
   "cell_type": "code",
   "execution_count": 2,
   "metadata": {
    "scrolled": true
   },
   "outputs": [
    {
     "data": {
      "text/plain": [
       "['office_ssh', 'office_mysql']"
      ]
     },
     "execution_count": 2,
     "metadata": {},
     "output_type": "execute_result"
    }
   ],
   "source": [
    "config = configparser.ConfigParser()\n",
    "config.read(\"/home/yuan/Documents/config.ini\")\n",
    "config.sections()"
   ]
  },
  {
   "cell_type": "code",
   "execution_count": 3,
   "metadata": {
    "scrolled": true
   },
   "outputs": [],
   "source": [
    "modification_site = pd.read_csv(\"/home/yuan/Documents/pdb_chain_ksites.csv\")"
   ]
  },
  {
   "cell_type": "code",
   "execution_count": 4,
   "metadata": {
    "scrolled": true
   },
   "outputs": [
    {
     "data": {
      "text/html": [
       "<div>\n",
       "<style>\n",
       "    .dataframe thead tr:only-child th {\n",
       "        text-align: right;\n",
       "    }\n",
       "\n",
       "    .dataframe thead th {\n",
       "        text-align: left;\n",
       "    }\n",
       "\n",
       "    .dataframe tbody tr th {\n",
       "        vertical-align: top;\n",
       "    }\n",
       "</style>\n",
       "<table border=\"1\" class=\"dataframe\">\n",
       "  <thead>\n",
       "    <tr style=\"text-align: right;\">\n",
       "      <th></th>\n",
       "      <th>PDB</th>\n",
       "      <th>CHAIN</th>\n",
       "      <th>SP_PRIMARY</th>\n",
       "      <th>RES_BEG</th>\n",
       "      <th>RES_END</th>\n",
       "      <th>PDB_BEG</th>\n",
       "      <th>PDB_END</th>\n",
       "      <th>SP_BEG</th>\n",
       "      <th>SP_END</th>\n",
       "      <th>Ksites</th>\n",
       "    </tr>\n",
       "  </thead>\n",
       "  <tbody>\n",
       "    <tr>\n",
       "      <th>0</th>\n",
       "      <td>3g8c</td>\n",
       "      <td>A</td>\n",
       "      <td>P24182</td>\n",
       "      <td>1</td>\n",
       "      <td>444</td>\n",
       "      <td>1</td>\n",
       "      <td>444</td>\n",
       "      <td>1</td>\n",
       "      <td>444</td>\n",
       "      <td>27</td>\n",
       "    </tr>\n",
       "    <tr>\n",
       "      <th>1</th>\n",
       "      <td>3g8c</td>\n",
       "      <td>B</td>\n",
       "      <td>P24182</td>\n",
       "      <td>1</td>\n",
       "      <td>444</td>\n",
       "      <td>1</td>\n",
       "      <td>444</td>\n",
       "      <td>1</td>\n",
       "      <td>444</td>\n",
       "      <td>27</td>\n",
       "    </tr>\n",
       "    <tr>\n",
       "      <th>2</th>\n",
       "      <td>3g8d</td>\n",
       "      <td>A</td>\n",
       "      <td>P24182</td>\n",
       "      <td>1</td>\n",
       "      <td>444</td>\n",
       "      <td>1</td>\n",
       "      <td>444</td>\n",
       "      <td>1</td>\n",
       "      <td>444</td>\n",
       "      <td>27</td>\n",
       "    </tr>\n",
       "    <tr>\n",
       "      <th>3</th>\n",
       "      <td>3g8d</td>\n",
       "      <td>B</td>\n",
       "      <td>P24182</td>\n",
       "      <td>1</td>\n",
       "      <td>444</td>\n",
       "      <td>1</td>\n",
       "      <td>444</td>\n",
       "      <td>1</td>\n",
       "      <td>444</td>\n",
       "      <td>27</td>\n",
       "    </tr>\n",
       "    <tr>\n",
       "      <th>4</th>\n",
       "      <td>3jzf</td>\n",
       "      <td>A</td>\n",
       "      <td>P24182</td>\n",
       "      <td>22</td>\n",
       "      <td>470</td>\n",
       "      <td>1</td>\n",
       "      <td>449</td>\n",
       "      <td>1</td>\n",
       "      <td>449</td>\n",
       "      <td>27</td>\n",
       "    </tr>\n",
       "  </tbody>\n",
       "</table>\n",
       "</div>"
      ],
      "text/plain": [
       "    PDB CHAIN SP_PRIMARY  RES_BEG  RES_END  PDB_BEG  PDB_END  SP_BEG  SP_END  \\\n",
       "0  3g8c     A     P24182        1      444        1      444       1     444   \n",
       "1  3g8c     B     P24182        1      444        1      444       1     444   \n",
       "2  3g8d     A     P24182        1      444        1      444       1     444   \n",
       "3  3g8d     B     P24182        1      444        1      444       1     444   \n",
       "4  3jzf     A     P24182       22      470        1      449       1     449   \n",
       "\n",
       "   Ksites  \n",
       "0      27  \n",
       "1      27  \n",
       "2      27  \n",
       "3      27  \n",
       "4      27  "
      ]
     },
     "execution_count": 4,
     "metadata": {},
     "output_type": "execute_result"
    }
   ],
   "source": [
    "modification_site[0:5]"
   ]
  },
  {
   "cell_type": "code",
   "execution_count": 5,
   "metadata": {
    "scrolled": true
   },
   "outputs": [],
   "source": [
    "modification_site_dic = {}\n",
    "for i in range(len(modification_site)):\n",
    "    if modification_site.loc[i,\"PDB\"] not in modification_site_dic:\n",
    "        modification_site_dic[modification_site.loc[i,\"PDB\"]] = {modification_site.loc[i,\"CHAIN\"]:[modification_site.loc[i,\"Ksites\"]]}\n",
    "    elif modification_site.loc[i,\"CHAIN\"] not in modification_site_dic[modification_site.loc[i,\"PDB\"]]:\n",
    "        modification_site_dic[modification_site.loc[i,\"PDB\"]][modification_site.loc[i,\"CHAIN\"]] = [modification_site.loc[i,\"Ksites\"]]\n",
    "    else:\n",
    "        modification_site_dic[modification_site.loc[i,\"PDB\"]][modification_site.loc[i,\"CHAIN\"]].append(modification_site.loc[i,\"Ksites\"])\n",
    "for protein in modification_site_dic:\n",
    "    for chain in modification_site_dic[protein]:\n",
    "        modification_site_dic[protein][chain] = list(modification_site_dic[protein][chain])\n",
    "        "
   ]
  },
  {
   "cell_type": "code",
   "execution_count": 6,
   "metadata": {
    "scrolled": true
   },
   "outputs": [],
   "source": [
    "unique_list = modification_site[[\"PDB\",\"CHAIN\"]].drop_duplicates()"
   ]
  },
  {
   "cell_type": "code",
   "execution_count": 7,
   "metadata": {
    "scrolled": true
   },
   "outputs": [],
   "source": [
    "unique_list = unique_list.reset_index(drop=True)"
   ]
  },
  {
   "cell_type": "code",
   "execution_count": 8,
   "metadata": {
    "scrolled": true
   },
   "outputs": [],
   "source": [
    "backbone = [\"N\",\"CA\",\"C\",\"O\"]\n",
    "aminoAcidCodes = [\"ALA\",\"ARG\",\"ASN\",\"ASP\",\"CYS\",\"GLN\",\"GLY\",\"GLU\",\"HIS\",\"ILE\",\"LEU\",\"LYS\",\n",
    "                 \"MET\",\"PHE\",\"PRO\",\"PYL\",\"SER\",\"SEC\",\"THR\",\"TRP\",\"TYR\",\"VAL\"]"
   ]
  },
  {
   "cell_type": "code",
   "execution_count": 9,
   "metadata": {
    "scrolled": true
   },
   "outputs": [
    {
     "name": "stdout",
     "output_type": "stream",
     "text": [
      "Structure exists: '/mnt/HD1/pdb_data/pdb3g8c.ent' \n"
     ]
    },
    {
     "name": "stderr",
     "output_type": "stream",
     "text": [
      "/home/yuan/anaconda3/envs/pdbPy3/lib/python3.6/site-packages/Bio/PDB/StructureBuilder.py:91: PDBConstructionWarning: WARNING: Chain A is discontinuous at line 7475.\n",
      "  PDBConstructionWarning)\n",
      "/home/yuan/anaconda3/envs/pdbPy3/lib/python3.6/site-packages/Bio/PDB/StructureBuilder.py:91: PDBConstructionWarning: WARNING: Chain B is discontinuous at line 7523.\n",
      "  PDBConstructionWarning)\n",
      "/home/yuan/anaconda3/envs/pdbPy3/lib/python3.6/site-packages/Bio/PDB/StructureBuilder.py:91: PDBConstructionWarning: WARNING: Chain A is discontinuous at line 7571.\n",
      "  PDBConstructionWarning)\n",
      "/home/yuan/anaconda3/envs/pdbPy3/lib/python3.6/site-packages/Bio/PDB/StructureBuilder.py:91: PDBConstructionWarning: WARNING: Chain B is discontinuous at line 7967.\n",
      "  PDBConstructionWarning)\n"
     ]
    }
   ],
   "source": [
    "PDB_ID = '3g8c'\n",
    "PDB = PDBList()\n",
    "retrieve_status = PDB.retrieve_pdb_file(pdb_code = PDB_ID, pdir = \"/mnt/HD1/pdb_data\", file_format=\"pdb\")\n",
    "p = PDBParser()\n",
    "structure = p.get_structure(\"X\",\"/mnt/HD1/pdb_data/\"+\"pdb\"+PDB_ID+\".ent\")"
   ]
  },
  {
   "cell_type": "markdown",
   "metadata": {
    "collapsed": true,
    "scrolled": true
   },
   "source": [
    "conn = pymysql.connect(host=config[\"office_mysql\"][\"sql_host\"],user=config[\"office_mysql\"][\"sql_username\"],\n",
    "                       passwd=config[\"office_mysql\"][\"sql_password\"],\n",
    "                       db=config[\"office_mysql\"][\"sql_main_database\"],port=3306)\n",
    "for index,oneRow in unique_list.iloc[573:,].iterrows():\n",
    "    try:\n",
    "        pdbID = oneRow[\"PDB\"]\n",
    "        chainOrder = oneRow[\"CHAIN\"]\n",
    "        retrieve_status = PDB.retrieve_pdb_file(pdb_code = pdbID, pdir = \"/mnt/HD1/pdb_data\", file_format=\"pdb\")\n",
    "        if os.path.exists(retrieve_status):\n",
    "            p = PDBParser()\n",
    "            structure = p.get_structure(\"X\",\"/mnt/HD1/pdb_data/\"+\"pdb\"+pdbID+\".ent\")\n",
    "            if chainOrder in [x._id for x in list(structure.get_chains())]:\n",
    "                oneChain = pd.DataFrame(columns = [\"Seq\",\"Residue\",\"Center\",\"Direction\",\"CA_position\"])#center here means center of R group\n",
    "                if structure.header[\"resolution\"] <= 3.0:\n",
    "                    if chainOrder in [x.id for x in list(structure[0].get_chains())]:  # Chain information not in pdb file\n",
    "                        for residue in structure[0][chainOrder]:\n",
    "                            if residue.get_resname() in aminoAcidCodes:  # Only treat common amino acid\n",
    "                                if residue.get_id()[2] == \" \":  # ignore insertions\n",
    "                                    if len(list(residue.get_atoms())) > 3:\n",
    "                                        if residue.get_resname() != \"GLY\":  # Glysine as a special case\n",
    "                                            point = vectors.Vector([0, 0, 0])\n",
    "                                            for atom in residue:\n",
    "                                                if (atom.get_name() not in backbone):\n",
    "                                                    point = point + atom.get_vector()\n",
    "                                            center = point.__div__(len(residue) - 4)\n",
    "                                            cToRGroup = residue[\"CA\"].get_vector() - center\n",
    "                                            oneChain.loc[len(oneChain)] = [residue.get_id()[1], residue.get_resname(),center, cToRGroup,residue[\"CA\"].get_vector()]\n",
    "                                        else:\n",
    "                                            center = residue[\"CA\"].get_vector()\n",
    "                                            cToRGroup = center - (residue[\"C\"].get_vector() + residue[\"N\"].get_vector() + residue[\"O\"].get_vector()).__div__(3)\n",
    "                                            oneChain.loc[len(oneChain)] = [residue.get_id()[1], residue.get_resname(),center, cToRGroup,residue[\"CA\"].get_vector()]\n",
    "                distanceMatrix = pd.DataFrame(columns=list(oneChain.iloc[:, 0]), index=list(oneChain.iloc[:,0]))\n",
    "                angleMatrix = pd.DataFrame(columns=list(oneChain.iloc[:, 0]), index=list(oneChain.iloc[:, 0]))\n",
    "                numResidue = len(oneChain)\n",
    "                print(numResidue)\n",
    "                for row in range(0, numResidue):\n",
    "                    if row % 200 == 0:\n",
    "                        print(str(row) + \"th row\")\n",
    "                    for column in range(0, numResidue):#not symetric anymore\n",
    "                        coordinatesSubstraction = list(oneChain.loc[row, \"Center\"] - oneChain.loc[column, \"Center\"])\n",
    "                        pairDistance = sqrt(sum(list(map(lambda x: x * x, coordinatesSubstraction))))\n",
    "                        distanceMatrix.iloc[row, column] = pairDistance\n",
    "                        v1 = oneChain.loc[row, \"Direction\"]\n",
    "                        v2 = oneChain.loc[column,\"Center\"] - oneChain.loc[row,\"CA_position\"] \n",
    "                        if abs(pairDistance-0)>0.00001: #Exclue 0 distance, e.g. self to self\n",
    "                            pairAngle = 180 * np.arccos(np.dot(v1, v2) / (np.linalg.norm(v1) * np.linalg.norm(v2))) / np.pi\n",
    "\n",
    "                        else:\n",
    "                            pairAngle = 0\n",
    "                        angleMatrix.iloc[row, column] = pairAngle\n",
    "                        if not np.isnan(pairDistance):\n",
    "                            query = '''INSERT INTO `Distance_angle_PTM` (`pdbID`, `chain`,`ID_1`,`Res_1`,`ID_2`,`Res_2`,`Distance`,`Angle`) VALUES (%s,%s,%s,%s,%s,%s,%s,%s);'''\n",
    "                            value = (pdbID,chainOrder,oneChain.iloc[row,0],oneChain.iloc[row,1],oneChain.iloc[column,0],oneChain.iloc[column,1],float(pairDistance),float(pairAngle))\n",
    "                            conn.cursor().execute(query, value)\n",
    "                    conn.commit()\n",
    "    except Exception as e:\n",
    "        print(e)\n",
    "        print(pdbID, \"skipped\")\n",
    "\n",
    "conn.close()"
   ]
  },
  {
   "cell_type": "markdown",
   "metadata": {
    "collapsed": true,
    "scrolled": true
   },
   "source": [
    "%%time\n",
    "conn = pymysql.connect(host=config[\"office_mysql\"][\"sql_host\"],user=config[\"office_mysql\"][\"sql_username\"],\n",
    "                       passwd=config[\"office_mysql\"][\"sql_password\"],\n",
    "                       db=config[\"office_mysql\"][\"sql_main_database\"],port=3306)\n",
    "try:\n",
    "    with conn as cursor: #auto commit; no close() called\n",
    "        with cursor: # close() called here\n",
    "            sql_select = \"Select * FROM pdbdb.Distance_angle_PTM da \"\n",
    "            sql_where = \"WHERE da.pdbID = \\\"3g8c\\\" and da.chain = \\\"A\\\" and da.ID_1=27 limit 1035;\"    \n",
    "            sql = sql_select+sql_where\n",
    "            data = pd.read_sql_query(sql, conn)\n",
    "            #print(data)\n",
    " \n",
    "except Exception as e: # catch exceptions\n",
    "    print(\"~~~~~~~~~~~~~~\")\n",
    "    print(e)\n",
    "finally:\n",
    "    if conn:\n",
    "        conn.close()"
   ]
  },
  {
   "cell_type": "code",
   "execution_count": 10,
   "metadata": {
    "scrolled": true
   },
   "outputs": [],
   "source": [
    "def n_nearest_neighbour(PDB_ID,Chain,res_ID,n):\n",
    "    \n",
    "    conn = pymysql.connect(host=config[\"office_mysql\"][\"sql_host\"],user=config[\"office_mysql\"][\"sql_username\"],\n",
    "                           passwd=config[\"office_mysql\"][\"sql_password\"],\n",
    "                           db=config[\"office_mysql\"][\"sql_main_database\"],port=3306)\n",
    "    try:\n",
    "        with conn as cursor: #auto commit; no close() called\n",
    "            with cursor: # close() called here\n",
    "                sql_select = \"Select da.* FROM pdbdb.`Distance_angle_PTM` da \"\n",
    "                sql_where = \"WHERE da.pdbID = \\\"{}\\\" and da.chain = \\\"{}\\\" and da.ID_1= \\\"{}\\\";\".format(PDB_ID,Chain,res_ID)  \n",
    "                sql = sql_select+sql_where\n",
    "                data = pd.read_sql_query(sql, conn)\n",
    "        return(data.groupby([\"ID\"]).first().sort_values(\"Distance\").iloc[2:(n+2),]) #from 2 to exclude self vs self\n",
    "\n",
    "    except Exception as e: # catch exceptions\n",
    "        print(\"~~~~~~~~~~~~~~\")\n",
    "        print(e)\n",
    "    finally:\n",
    "        if conn:\n",
    "            conn.close()"
   ]
  },
  {
   "cell_type": "code",
   "execution_count": 52,
   "metadata": {},
   "outputs": [],
   "source": [
    "def n_nearest_neighbour_by_seq(PDB_ID,Chain,res_ID,n):\n",
    "    if n >= res_ID:\n",
    "        return []\n",
    "    conn = pymysql.connect(host=config[\"office_mysql\"][\"sql_host\"],user=config[\"office_mysql\"][\"sql_username\"],\n",
    "                       passwd=config[\"office_mysql\"][\"sql_password\"],\n",
    "                       db=config[\"office_mysql\"][\"sql_main_database\"],port=3306)\n",
    "    try:\n",
    "        with conn as cursor: #auto commit; no close() called\n",
    "            with cursor: # close() called here\n",
    "                sql_select = \"Select da.* FROM pdbdb.`Distance_angle_PTM` da \"\n",
    "                sql_where = \"WHERE da.pdbID = \\\"{}\\\" and da.chain = \\\"{}\\\" and da.ID_1= \\\"{}\\\";\".format(PDB_ID,Chain,res_ID)  \n",
    "                sql = sql_select+sql_where\n",
    "                data = pd.read_sql_query(sql, conn)\n",
    "        head_part = data.groupby([\"ID\"]).first().iloc[(res_ID-n-1):(res_ID-1),]\n",
    "        tail_part = data.groupby([\"ID\"]).first().iloc[res_ID:(res_ID+n),]\n",
    "        return(pd.concat([head_part,tail_part])) #from 2 to exclude self vs self\n",
    "\n",
    "    except Exception as e: # catch exceptions\n",
    "        print(\"~~~~~~~~~~~~~~\")\n",
    "        print(e)\n",
    "    finally:\n",
    "        if conn:\n",
    "            conn.close()"
   ]
  },
  {
   "cell_type": "code",
   "execution_count": 53,
   "metadata": {},
   "outputs": [
    {
     "data": {
      "text/html": [
       "<div>\n",
       "<style>\n",
       "    .dataframe thead tr:only-child th {\n",
       "        text-align: right;\n",
       "    }\n",
       "\n",
       "    .dataframe thead th {\n",
       "        text-align: left;\n",
       "    }\n",
       "\n",
       "    .dataframe tbody tr th {\n",
       "        vertical-align: top;\n",
       "    }\n",
       "</style>\n",
       "<table border=\"1\" class=\"dataframe\">\n",
       "  <thead>\n",
       "    <tr style=\"text-align: right;\">\n",
       "      <th></th>\n",
       "      <th>pdbID</th>\n",
       "      <th>chain</th>\n",
       "      <th>ID_1</th>\n",
       "      <th>Res_1</th>\n",
       "      <th>ID_2</th>\n",
       "      <th>Res_2</th>\n",
       "      <th>Distance</th>\n",
       "      <th>Angle</th>\n",
       "    </tr>\n",
       "    <tr>\n",
       "      <th>ID</th>\n",
       "      <th></th>\n",
       "      <th></th>\n",
       "      <th></th>\n",
       "      <th></th>\n",
       "      <th></th>\n",
       "      <th></th>\n",
       "      <th></th>\n",
       "      <th></th>\n",
       "    </tr>\n",
       "  </thead>\n",
       "  <tbody>\n",
       "    <tr>\n",
       "      <th>6226</th>\n",
       "      <td>3g8c</td>\n",
       "      <td>A</td>\n",
       "      <td>15</td>\n",
       "      <td>LEU</td>\n",
       "      <td>10</td>\n",
       "      <td>ARG</td>\n",
       "      <td>11.217045</td>\n",
       "      <td>76.474551</td>\n",
       "    </tr>\n",
       "    <tr>\n",
       "      <th>6227</th>\n",
       "      <td>3g8c</td>\n",
       "      <td>A</td>\n",
       "      <td>15</td>\n",
       "      <td>LEU</td>\n",
       "      <td>11</td>\n",
       "      <td>GLY</td>\n",
       "      <td>7.209092</td>\n",
       "      <td>86.154560</td>\n",
       "    </tr>\n",
       "    <tr>\n",
       "      <th>6228</th>\n",
       "      <td>3g8c</td>\n",
       "      <td>A</td>\n",
       "      <td>15</td>\n",
       "      <td>LEU</td>\n",
       "      <td>12</td>\n",
       "      <td>GLU</td>\n",
       "      <td>7.610891</td>\n",
       "      <td>88.116599</td>\n",
       "    </tr>\n",
       "    <tr>\n",
       "      <th>6229</th>\n",
       "      <td>3g8c</td>\n",
       "      <td>A</td>\n",
       "      <td>15</td>\n",
       "      <td>LEU</td>\n",
       "      <td>13</td>\n",
       "      <td>ILE</td>\n",
       "      <td>9.033376</td>\n",
       "      <td>47.692547</td>\n",
       "    </tr>\n",
       "    <tr>\n",
       "      <th>6230</th>\n",
       "      <td>3g8c</td>\n",
       "      <td>A</td>\n",
       "      <td>15</td>\n",
       "      <td>LEU</td>\n",
       "      <td>14</td>\n",
       "      <td>ALA</td>\n",
       "      <td>6.644277</td>\n",
       "      <td>43.795225</td>\n",
       "    </tr>\n",
       "    <tr>\n",
       "      <th>6232</th>\n",
       "      <td>3g8c</td>\n",
       "      <td>A</td>\n",
       "      <td>15</td>\n",
       "      <td>LEU</td>\n",
       "      <td>16</td>\n",
       "      <td>ARG</td>\n",
       "      <td>8.508435</td>\n",
       "      <td>75.514795</td>\n",
       "    </tr>\n",
       "    <tr>\n",
       "      <th>6233</th>\n",
       "      <td>3g8c</td>\n",
       "      <td>A</td>\n",
       "      <td>15</td>\n",
       "      <td>LEU</td>\n",
       "      <td>17</td>\n",
       "      <td>ILE</td>\n",
       "      <td>9.106243</td>\n",
       "      <td>19.250362</td>\n",
       "    </tr>\n",
       "    <tr>\n",
       "      <th>6234</th>\n",
       "      <td>3g8c</td>\n",
       "      <td>A</td>\n",
       "      <td>15</td>\n",
       "      <td>LEU</td>\n",
       "      <td>18</td>\n",
       "      <td>LEU</td>\n",
       "      <td>5.940790</td>\n",
       "      <td>84.540007</td>\n",
       "    </tr>\n",
       "    <tr>\n",
       "      <th>6235</th>\n",
       "      <td>3g8c</td>\n",
       "      <td>A</td>\n",
       "      <td>15</td>\n",
       "      <td>LEU</td>\n",
       "      <td>19</td>\n",
       "      <td>ARG</td>\n",
       "      <td>4.270894</td>\n",
       "      <td>130.326129</td>\n",
       "    </tr>\n",
       "    <tr>\n",
       "      <th>6236</th>\n",
       "      <td>3g8c</td>\n",
       "      <td>A</td>\n",
       "      <td>15</td>\n",
       "      <td>LEU</td>\n",
       "      <td>20</td>\n",
       "      <td>ALA</td>\n",
       "      <td>10.330401</td>\n",
       "      <td>62.970396</td>\n",
       "    </tr>\n",
       "  </tbody>\n",
       "</table>\n",
       "</div>"
      ],
      "text/plain": [
       "     pdbID chain  ID_1 Res_1  ID_2 Res_2   Distance       Angle\n",
       "ID                                                             \n",
       "6226  3g8c     A    15   LEU    10   ARG  11.217045   76.474551\n",
       "6227  3g8c     A    15   LEU    11   GLY   7.209092   86.154560\n",
       "6228  3g8c     A    15   LEU    12   GLU   7.610891   88.116599\n",
       "6229  3g8c     A    15   LEU    13   ILE   9.033376   47.692547\n",
       "6230  3g8c     A    15   LEU    14   ALA   6.644277   43.795225\n",
       "6232  3g8c     A    15   LEU    16   ARG   8.508435   75.514795\n",
       "6233  3g8c     A    15   LEU    17   ILE   9.106243   19.250362\n",
       "6234  3g8c     A    15   LEU    18   LEU   5.940790   84.540007\n",
       "6235  3g8c     A    15   LEU    19   ARG   4.270894  130.326129\n",
       "6236  3g8c     A    15   LEU    20   ALA  10.330401   62.970396"
      ]
     },
     "execution_count": 53,
     "metadata": {},
     "output_type": "execute_result"
    }
   ],
   "source": [
    "n_nearest_neighbour_by_seq(\"3g8c\",\"A\",15,5)"
   ]
  },
  {
   "cell_type": "code",
   "execution_count": 56,
   "metadata": {
    "scrolled": true
   },
   "outputs": [],
   "source": [
    "def One_residue_retrieval(residue_1,PDB_ID,Chain):\n",
    "    data, data_1, data_2 = None, None, None\n",
    "    conn = pymysql.connect(host=config[\"office_mysql\"][\"sql_host\"],user=config[\"office_mysql\"][\"sql_username\"],\n",
    "                           passwd=config[\"office_mysql\"][\"sql_password\"],\n",
    "                           db=config[\"office_mysql\"][\"sql_main_database\"],port=3306)\n",
    "    try:\n",
    "        with conn as cursor: #auto commit; no close() called\n",
    "            with cursor: # close() called here\n",
    "                sql_select = \"Select da.* FROM pdbdb.`Distance_angle_PTM` da \"\n",
    "                sql_where = \"WHERE da.pdbID = \\\"{}\\\" and da.chain=\\\"{}\\\" and da.ID_1 = {};\".format(PDB_ID,Chain,residue_1)    \n",
    "                sql = sql_select+sql_where\n",
    "                data_1 = pd.read_sql_query(sql, conn)\n",
    "                data = data_1\n",
    "        \n",
    "    except Exception as e: # catch exceptions\n",
    "        print(\"~~~~~~~~~~~~~~\")\n",
    "        print(e)\n",
    "    finally:\n",
    "        if conn:\n",
    "            conn.close()\n",
    "        return(data)"
   ]
  },
  {
   "cell_type": "code",
   "execution_count": 11,
   "metadata": {
    "scrolled": true
   },
   "outputs": [
    {
     "data": {
      "text/plain": [
       "<generator object DataFrame.iterrows at 0x7fdc3539a938>"
      ]
     },
     "execution_count": 11,
     "metadata": {},
     "output_type": "execute_result"
    }
   ],
   "source": [
    "result_step1 = One_residue_retrieval(144,\"3g8c\",\"A\")\n",
    "result_step2 = result_step1.groupby([\"ID\"]).first() #duplicate discard\n",
    "result_step3 = result_step2[~result_step2.ID_2.isin([144])] # activate discard\n",
    "result_step4 = result_step3[result_step3[\"Res_1\"]==result_step3[\"Res_2\"]].sample(3,random_state =1) #sample nonactive site\n",
    "result_step4.sample(2,random_state =1).iterrows()"
   ]
  },
  {
   "cell_type": "code",
   "execution_count": 12,
   "metadata": {
    "scrolled": true
   },
   "outputs": [
    {
     "data": {
      "text/html": [
       "<div>\n",
       "<style>\n",
       "    .dataframe thead tr:only-child th {\n",
       "        text-align: right;\n",
       "    }\n",
       "\n",
       "    .dataframe thead th {\n",
       "        text-align: left;\n",
       "    }\n",
       "\n",
       "    .dataframe tbody tr th {\n",
       "        vertical-align: top;\n",
       "    }\n",
       "</style>\n",
       "<table border=\"1\" class=\"dataframe\">\n",
       "  <thead>\n",
       "    <tr style=\"text-align: right;\">\n",
       "      <th></th>\n",
       "      <th>pdbID</th>\n",
       "      <th>chain</th>\n",
       "      <th>ID_1</th>\n",
       "      <th>Res_1</th>\n",
       "      <th>ID_2</th>\n",
       "      <th>Res_2</th>\n",
       "      <th>Distance</th>\n",
       "      <th>Angle</th>\n",
       "    </tr>\n",
       "    <tr>\n",
       "      <th>ID</th>\n",
       "      <th></th>\n",
       "      <th></th>\n",
       "      <th></th>\n",
       "      <th></th>\n",
       "      <th></th>\n",
       "      <th></th>\n",
       "      <th></th>\n",
       "      <th></th>\n",
       "    </tr>\n",
       "  </thead>\n",
       "  <tbody>\n",
       "    <tr>\n",
       "      <th>63907</th>\n",
       "      <td>3g8c</td>\n",
       "      <td>A</td>\n",
       "      <td>144</td>\n",
       "      <td>LYS</td>\n",
       "      <td>415</td>\n",
       "      <td>LYS</td>\n",
       "      <td>53.256177</td>\n",
       "      <td>44.854980</td>\n",
       "    </tr>\n",
       "    <tr>\n",
       "      <th>63532</th>\n",
       "      <td>3g8c</td>\n",
       "      <td>A</td>\n",
       "      <td>144</td>\n",
       "      <td>LYS</td>\n",
       "      <td>40</td>\n",
       "      <td>LYS</td>\n",
       "      <td>58.867774</td>\n",
       "      <td>67.357118</td>\n",
       "    </tr>\n",
       "  </tbody>\n",
       "</table>\n",
       "</div>"
      ],
      "text/plain": [
       "      pdbID chain  ID_1 Res_1  ID_2 Res_2   Distance      Angle\n",
       "ID                                                             \n",
       "63907  3g8c     A   144   LYS   415   LYS  53.256177  44.854980\n",
       "63532  3g8c     A   144   LYS    40   LYS  58.867774  67.357118"
      ]
     },
     "execution_count": 12,
     "metadata": {},
     "output_type": "execute_result"
    }
   ],
   "source": [
    "result_step4.sample(2,random_state =1)"
   ]
  },
  {
   "cell_type": "code",
   "execution_count": 137,
   "metadata": {
    "scrolled": true
   },
   "outputs": [],
   "source": [
    "pos_sample_and_neig = pd.DataFrame()\n",
    "for key, value in modification_site_dic.items():\n",
    "    for chain, sites in value.items():\n",
    "        for site in sites:\n",
    "            pos_sample_and_neig = pd.concat([pos_sample_and_neig,n_nearest_neighbour(key,chain,site,1)])"
   ]
  },
  {
   "cell_type": "markdown",
   "metadata": {},
   "source": [
    "#### Now, positive sites are ready. Negative sites are going to be picked. \n",
    "Right now, one pos - one neg"
   ]
  },
  {
   "cell_type": "code",
   "execution_count": 16,
   "metadata": {
    "scrolled": true
   },
   "outputs": [],
   "source": [
    "neg_sample_and_neig = pd.DataFrame()\n",
    "for i in range(len(pos_sample_and_neig)):\n",
    "    result_step1 = One_residue_retrieval(pos_sample_and_neig.iloc[i,2],pos_sample_and_neig.iloc[i,0],pos_sample_and_neig.iloc[i,1])\n",
    "    \n",
    "    result_step2 = result_step1.groupby([\"ID\"]).first() #duplicate discard\n",
    "\n",
    "    result_step3 = result_step2[~result_step2.ID_2.isin(modification_site_dic[pos_sample_and_neig.iloc[i,0]][pos_sample_and_neig.iloc[i,1]])] # activate discard\n",
    "    #print(result_step3)\n",
    "    result_step4 = result_step3[result_step3[\"Res_2\"]==\"LYS\"]\n",
    "    #print(result_step4)\n",
    "    #print(result_step4.sample(1,random_state = 1))\n",
    "    neg_sample_and_neig = pd.concat([neg_sample_and_neig,result_step4.sample(1)])"
   ]
  },
  {
   "cell_type": "markdown",
   "metadata": {},
   "source": [
    "##### Res_2 in neg_sample_and_neig is the negative sample"
   ]
  },
  {
   "cell_type": "code",
   "execution_count": 18,
   "metadata": {},
   "outputs": [],
   "source": [
    "pos_sample_and_neig_pruned = pos_sample_and_neig.iloc[:,[0,1,2,3]].copy(deep=True)\n",
    "pos_sample_and_neig_pruned[\"type\"] = \"Pos\"\n",
    "pos_sample_and_neig_pruned.columns = ['pdbID', 'chain', 'ID', 'Res', 'type']"
   ]
  },
  {
   "cell_type": "code",
   "execution_count": 19,
   "metadata": {},
   "outputs": [],
   "source": [
    "neg_sample_and_neig_pruned = neg_sample_and_neig.iloc[:,[0,1,4,5]].copy(deep=True)\n",
    "neg_sample_and_neig_pruned[\"type\"] = \"Neg\"\n",
    "neg_sample_and_neig_pruned.columns = ['pdbID', 'chain', 'ID', 'Res', 'type']"
   ]
  },
  {
   "cell_type": "code",
   "execution_count": 20,
   "metadata": {},
   "outputs": [],
   "source": [
    "pos_neg_sample = pd.concat([pos_sample_and_neig_pruned,neg_sample_and_neig_pruned])"
   ]
  },
  {
   "cell_type": "code",
   "execution_count": 21,
   "metadata": {},
   "outputs": [],
   "source": [
    "neighbour_information_list = []\n",
    "for i in range(0,len(pos_neg_sample)):\n",
    "    neigh = n_nearest_neighbour(pos_neg_sample.iloc[i,0],pos_neg_sample.iloc[i,1],pos_neg_sample.iloc[i,2],5).iloc[:,5:8].values.flatten()\n",
    "    neighbour_information_list.append(np.insert(neigh,0,pos_neg_sample.iloc[i,3]))"
   ]
  },
  {
   "cell_type": "code",
   "execution_count": 57,
   "metadata": {},
   "outputs": [],
   "source": [
    "import pandas as pd\n",
    "import os\n",
    "import numpy as np\n",
    "from datetime import datetime\n",
    "\n",
    "from sklearn.metrics import classification_report, roc_auc_score, roc_curve, make_scorer, confusion_matrix, \\\n",
    "    recall_score, precision_score, f1_score\n",
    "from sklearn.model_selection import StratifiedKFold, StratifiedShuffleSplit, GroupKFold, cross_val_score\n",
    "from sklearn.metrics import auc, precision_recall_curve,accuracy_score\n",
    "from sklearn.utils import shuffle\n",
    "from sklearn import tree, svm, naive_bayes, neighbors\n",
    "from sklearn.ensemble import BaggingClassifier, AdaBoostClassifier, RandomForestClassifier, GradientBoostingClassifier\n",
    "from sklearn.preprocessing import LabelBinarizer, OneHotEncoder,LabelEncoder\n",
    "from scipy import interp\n",
    "import matplotlib.pyplot as plt"
   ]
  },
  {
   "cell_type": "code",
   "execution_count": 58,
   "metadata": {},
   "outputs": [],
   "source": [
    "clfs = {'decision_tree': tree.DecisionTreeClassifier(),\n",
    "        'naive_gaussian': naive_bayes.GaussianNB(),\n",
    "        'naive_mul': naive_bayes.MultinomialNB(),\n",
    "        'K_neighbor': neighbors.KNeighborsClassifier(),\n",
    "        'bagging_knn': BaggingClassifier(neighbors.KNeighborsClassifier(), max_samples=0.5, max_features=0.5),\n",
    "        'bagging_tree': BaggingClassifier(tree.DecisionTreeClassifier(), max_samples=0.5, max_features=0.5),\n",
    "        'random_forest': RandomForestClassifier(n_estimators=50),\n",
    "        'adaboost': AdaBoostClassifier(n_estimators=50),\n",
    "        'gradient_boost': GradientBoostingClassifier(n_estimators=50, learning_rate=1.0, max_depth=1, random_state=0),\n",
    "        \n",
    "        }\n",
    "#'svm': svm.SVC(probability=True)"
   ]
  },
  {
   "cell_type": "code",
   "execution_count": 59,
   "metadata": {},
   "outputs": [
    {
     "name": "stdout",
     "output_type": "stream",
     "text": [
      "OneHotEncoder(categorical_features=None, categories=None,\n",
      "       dtype=<class 'numpy.float64'>, handle_unknown='error',\n",
      "       n_values=None, sparse=False)\n"
     ]
    },
    {
     "name": "stderr",
     "output_type": "stream",
     "text": [
      "/home/yuan/anaconda3/envs/pdbPy3/lib/python3.6/site-packages/sklearn/preprocessing/_encoders.py:368: FutureWarning: The handling of integer data will change in version 0.22. Currently, the categories are determined based on the range [0, max(values)], while in the future they will be determined based on the unique values.\n",
      "If you want the future behaviour and silence this warning, you can specify \"categories='auto'\".\n",
      "In case you used a LabelEncoder before this OneHotEncoder to convert the categories to integers, then you can now use the OneHotEncoder directly.\n",
      "  warnings.warn(msg, FutureWarning)\n"
     ]
    }
   ],
   "source": [
    "\n",
    "\n",
    "aminoAcidCodes = [\"ALA\",\"ARG\",\"ASN\",\"ASP\",\"CYS\",\"GLN\",\"GLY\",\"GLU\",\"HIS\",\"ILE\",\"LEU\",\"LYS\",\n",
    "                 \"MET\",\"PHE\",\"PRO\",\"PYL\",\"SER\",\"SEC\",\"THR\",\"TRP\",\"TYR\",\"VAL\"]\n",
    "label_encoder = LabelEncoder()\n",
    "integer_encoded = label_encoder.fit_transform(aminoAcidCodes)\n",
    "onehot_encoder = OneHotEncoder(sparse=False)\n",
    "integer_encoded = integer_encoded.reshape(len(integer_encoded), 1)\n",
    "onehot_encoded = onehot_encoder.fit(integer_encoded)\n",
    "print(onehot_encoded)\n",
    "\n"
   ]
  },
  {
   "cell_type": "code",
   "execution_count": 60,
   "metadata": {},
   "outputs": [
    {
     "name": "stdout",
     "output_type": "stream",
     "text": [
      "OneHotEncoder(categorical_features=None, categories=None,\n",
      "       dtype=<class 'numpy.float64'>, handle_unknown='error',\n",
      "       n_values=None, sparse=False)\n"
     ]
    },
    {
     "name": "stderr",
     "output_type": "stream",
     "text": [
      "/home/yuan/anaconda3/envs/pdbPy3/lib/python3.6/site-packages/sklearn/preprocessing/_encoders.py:368: FutureWarning: The handling of integer data will change in version 0.22. Currently, the categories are determined based on the range [0, max(values)], while in the future they will be determined based on the unique values.\n",
      "If you want the future behaviour and silence this warning, you can specify \"categories='auto'\".\n",
      "In case you used a LabelEncoder before this OneHotEncoder to convert the categories to integers, then you can now use the OneHotEncoder directly.\n",
      "  warnings.warn(msg, FutureWarning)\n"
     ]
    }
   ],
   "source": [
    "amino_acid_property_by_res = {\"ALA\":1,\"ILE\":1,\"LEU\":1,\"MET\":1,\"VAL\":1,\n",
    "                      \"PHE\":2, \"TRP\":2,\"TYR\":2,\n",
    "                       \"ASN\":3,\"CYS\":3,\"GLN\":3,\"SER\":3,\"THR\":3,\n",
    "                      \"ASP\":4,\"GLU\":4,\"ARG\":5,\"HIS\":5,\"LYS\":5,\"GLY\":6,\"PRO\":6}\n",
    "label_encoder = LabelEncoder()\n",
    "integer_encoded = label_encoder.fit_transform([1,2,3,4,5,6])\n",
    "onehot_encoder = OneHotEncoder(sparse=False)\n",
    "integer_encoded = integer_encoded.reshape(len(integer_encoded), 1)\n",
    "onehot_encoded = onehot_encoder.fit(integer_encoded)\n",
    "print(onehot_encoded)\n",
    "\n"
   ]
  },
  {
   "cell_type": "code",
   "execution_count": 27,
   "metadata": {},
   "outputs": [
    {
     "name": "stdout",
     "output_type": "stream",
     "text": [
      "svm\n"
     ]
    },
    {
     "name": "stderr",
     "output_type": "stream",
     "text": [
      "/home/yuan/anaconda3/envs/pdbPy3/lib/python3.6/site-packages/sklearn/svm/base.py:196: FutureWarning: The default value of gamma will change from 'auto' to 'scale' in version 0.22 to account better for unscaled features. Set gamma explicitly to 'auto' or 'scale' to avoid this warning.\n",
      "  \"avoid this warning.\", FutureWarning)\n",
      "/home/yuan/anaconda3/envs/pdbPy3/lib/python3.6/site-packages/sklearn/svm/base.py:196: FutureWarning: The default value of gamma will change from 'auto' to 'scale' in version 0.22 to account better for unscaled features. Set gamma explicitly to 'auto' or 'scale' to avoid this warning.\n",
      "  \"avoid this warning.\", FutureWarning)\n",
      "/home/yuan/anaconda3/envs/pdbPy3/lib/python3.6/site-packages/sklearn/svm/base.py:196: FutureWarning: The default value of gamma will change from 'auto' to 'scale' in version 0.22 to account better for unscaled features. Set gamma explicitly to 'auto' or 'scale' to avoid this warning.\n",
      "  \"avoid this warning.\", FutureWarning)\n",
      "/home/yuan/anaconda3/envs/pdbPy3/lib/python3.6/site-packages/sklearn/svm/base.py:196: FutureWarning: The default value of gamma will change from 'auto' to 'scale' in version 0.22 to account better for unscaled features. Set gamma explicitly to 'auto' or 'scale' to avoid this warning.\n",
      "  \"avoid this warning.\", FutureWarning)\n",
      "/home/yuan/anaconda3/envs/pdbPy3/lib/python3.6/site-packages/sklearn/svm/base.py:196: FutureWarning: The default value of gamma will change from 'auto' to 'scale' in version 0.22 to account better for unscaled features. Set gamma explicitly to 'auto' or 'scale' to avoid this warning.\n",
      "  \"avoid this warning.\", FutureWarning)\n",
      "/home/yuan/anaconda3/envs/pdbPy3/lib/python3.6/site-packages/sklearn/svm/base.py:196: FutureWarning: The default value of gamma will change from 'auto' to 'scale' in version 0.22 to account better for unscaled features. Set gamma explicitly to 'auto' or 'scale' to avoid this warning.\n",
      "  \"avoid this warning.\", FutureWarning)\n",
      "/home/yuan/anaconda3/envs/pdbPy3/lib/python3.6/site-packages/sklearn/svm/base.py:196: FutureWarning: The default value of gamma will change from 'auto' to 'scale' in version 0.22 to account better for unscaled features. Set gamma explicitly to 'auto' or 'scale' to avoid this warning.\n",
      "  \"avoid this warning.\", FutureWarning)\n",
      "/home/yuan/anaconda3/envs/pdbPy3/lib/python3.6/site-packages/sklearn/svm/base.py:196: FutureWarning: The default value of gamma will change from 'auto' to 'scale' in version 0.22 to account better for unscaled features. Set gamma explicitly to 'auto' or 'scale' to avoid this warning.\n",
      "  \"avoid this warning.\", FutureWarning)\n",
      "/home/yuan/anaconda3/envs/pdbPy3/lib/python3.6/site-packages/sklearn/svm/base.py:196: FutureWarning: The default value of gamma will change from 'auto' to 'scale' in version 0.22 to account better for unscaled features. Set gamma explicitly to 'auto' or 'scale' to avoid this warning.\n",
      "  \"avoid this warning.\", FutureWarning)\n",
      "/home/yuan/anaconda3/envs/pdbPy3/lib/python3.6/site-packages/sklearn/svm/base.py:196: FutureWarning: The default value of gamma will change from 'auto' to 'scale' in version 0.22 to account better for unscaled features. Set gamma explicitly to 'auto' or 'scale' to avoid this warning.\n",
      "  \"avoid this warning.\", FutureWarning)\n"
     ]
    },
    {
     "name": "stdout",
     "output_type": "stream",
     "text": [
      "0.7875819063\n",
      "decision_tree\n",
      "0.758302195575\n",
      "naive_gaussian\n",
      "0.509176694098\n",
      "naive_mul\n",
      "0.538613840444\n",
      "K_neighbor\n",
      "0.729897867311\n",
      "bagging_knn\n",
      "0.729940422598\n",
      "bagging_tree\n",
      "0.772126918303\n",
      "random_forest\n",
      "0.841728836953\n",
      "adaboost\n",
      "0.590180146506\n",
      "gradient_boost\n",
      "0.590099929159\n"
     ]
    }
   ],
   "source": [
    "train_dataset = []\n",
    "for each_res in neighbour_information_list:\n",
    "    one_res_data = []\n",
    "    for element in each_res:\n",
    "        if isinstance(element,str):\n",
    "            one_res_data.extend(onehot_encoded.transform([[amino_acid_property_by_res[element]-1]])[0].tolist())\n",
    "        else:\n",
    "            one_res_data.append(element)\n",
    "    train_dataset.append(one_res_data)\n",
    "wrong_sample = []\n",
    "for i in range(0,len(train_dataset)):\n",
    "    if(len(train_dataset[i])<30):\n",
    "        wrong_sample.append(i)\n",
    "\n",
    "y_label =[1 for x in range(0,len(pos_sample_and_neig_pruned))]\n",
    "y_label.extend([2 for i in range(0,len(neg_sample_and_neig_pruned))])\n",
    "\n",
    "final_y_label = [y_label[i] for i in range(0,len(pos_neg_sample)) if i not in wrong_sample]\n",
    "final_y_label = np.asarray(final_y_label)\n",
    "shuffle_y_label = shuffle(final_y_label,random_state=0)\n",
    "\n",
    "final_train_dataset = [train_dataset[i] for i in range(0,len(pos_neg_sample)) if i not in wrong_sample]\n",
    "final_train_dataset = np.vstack(np.asarray(final_train_dataset))\n",
    "shuffle_train_dataset = shuffle(final_train_dataset,random_state=0)\n",
    "\n",
    "# skf = StratifiedKFold(n_splits=3)\n",
    "# for train, test in skf.split(shuffle_train_dataset,shuffle_y_label):\n",
    "#     for clf in clfs:\n",
    "#         clfs[clf].fit(shuffle_train_dataset[train],shuffle_y_label[train])\n",
    "#         conf_mat = confusion_matrix(clfs[clf].predict(shuffle_train_dataset[test]),shuffle_y_label[test])\n",
    "#         print(clf)\n",
    "#         print(accuracy_score(clfs[clf].predict(shuffle_train_dataset[test]),shuffle_y_label[test]))\n",
    "\n",
    "for clf in clfs:\n",
    "    print(clf)\n",
    "    scores = cross_val_score(clfs[clf],shuffle_train_dataset,shuffle_y_label,cv=10)\n",
    "    print(sum(scores)/10)"
   ]
  },
  {
   "cell_type": "code",
   "execution_count": 28,
   "metadata": {},
   "outputs": [],
   "source": [
    "neighbour_information_list = []\n",
    "for i in range(0,len(pos_neg_sample)):\n",
    "    neigh = n_nearest_neighbour(pos_neg_sample.iloc[i,0],pos_neg_sample.iloc[i,1],pos_neg_sample.iloc[i,2],3).iloc[:,5:8].values.flatten()\n",
    "    neighbour_information_list.append(np.insert(neigh,0,pos_neg_sample.iloc[i,3]))"
   ]
  },
  {
   "cell_type": "code",
   "execution_count": 29,
   "metadata": {},
   "outputs": [
    {
     "name": "stdout",
     "output_type": "stream",
     "text": [
      "svm\n"
     ]
    },
    {
     "name": "stderr",
     "output_type": "stream",
     "text": [
      "/home/yuan/anaconda3/envs/pdbPy3/lib/python3.6/site-packages/sklearn/svm/base.py:196: FutureWarning: The default value of gamma will change from 'auto' to 'scale' in version 0.22 to account better for unscaled features. Set gamma explicitly to 'auto' or 'scale' to avoid this warning.\n",
      "  \"avoid this warning.\", FutureWarning)\n",
      "/home/yuan/anaconda3/envs/pdbPy3/lib/python3.6/site-packages/sklearn/svm/base.py:196: FutureWarning: The default value of gamma will change from 'auto' to 'scale' in version 0.22 to account better for unscaled features. Set gamma explicitly to 'auto' or 'scale' to avoid this warning.\n",
      "  \"avoid this warning.\", FutureWarning)\n",
      "/home/yuan/anaconda3/envs/pdbPy3/lib/python3.6/site-packages/sklearn/svm/base.py:196: FutureWarning: The default value of gamma will change from 'auto' to 'scale' in version 0.22 to account better for unscaled features. Set gamma explicitly to 'auto' or 'scale' to avoid this warning.\n",
      "  \"avoid this warning.\", FutureWarning)\n",
      "/home/yuan/anaconda3/envs/pdbPy3/lib/python3.6/site-packages/sklearn/svm/base.py:196: FutureWarning: The default value of gamma will change from 'auto' to 'scale' in version 0.22 to account better for unscaled features. Set gamma explicitly to 'auto' or 'scale' to avoid this warning.\n",
      "  \"avoid this warning.\", FutureWarning)\n",
      "/home/yuan/anaconda3/envs/pdbPy3/lib/python3.6/site-packages/sklearn/svm/base.py:196: FutureWarning: The default value of gamma will change from 'auto' to 'scale' in version 0.22 to account better for unscaled features. Set gamma explicitly to 'auto' or 'scale' to avoid this warning.\n",
      "  \"avoid this warning.\", FutureWarning)\n",
      "/home/yuan/anaconda3/envs/pdbPy3/lib/python3.6/site-packages/sklearn/svm/base.py:196: FutureWarning: The default value of gamma will change from 'auto' to 'scale' in version 0.22 to account better for unscaled features. Set gamma explicitly to 'auto' or 'scale' to avoid this warning.\n",
      "  \"avoid this warning.\", FutureWarning)\n",
      "/home/yuan/anaconda3/envs/pdbPy3/lib/python3.6/site-packages/sklearn/svm/base.py:196: FutureWarning: The default value of gamma will change from 'auto' to 'scale' in version 0.22 to account better for unscaled features. Set gamma explicitly to 'auto' or 'scale' to avoid this warning.\n",
      "  \"avoid this warning.\", FutureWarning)\n",
      "/home/yuan/anaconda3/envs/pdbPy3/lib/python3.6/site-packages/sklearn/svm/base.py:196: FutureWarning: The default value of gamma will change from 'auto' to 'scale' in version 0.22 to account better for unscaled features. Set gamma explicitly to 'auto' or 'scale' to avoid this warning.\n",
      "  \"avoid this warning.\", FutureWarning)\n",
      "/home/yuan/anaconda3/envs/pdbPy3/lib/python3.6/site-packages/sklearn/svm/base.py:196: FutureWarning: The default value of gamma will change from 'auto' to 'scale' in version 0.22 to account better for unscaled features. Set gamma explicitly to 'auto' or 'scale' to avoid this warning.\n",
      "  \"avoid this warning.\", FutureWarning)\n",
      "/home/yuan/anaconda3/envs/pdbPy3/lib/python3.6/site-packages/sklearn/svm/base.py:196: FutureWarning: The default value of gamma will change from 'auto' to 'scale' in version 0.22 to account better for unscaled features. Set gamma explicitly to 'auto' or 'scale' to avoid this warning.\n",
      "  \"avoid this warning.\", FutureWarning)\n"
     ]
    },
    {
     "name": "stdout",
     "output_type": "stream",
     "text": [
      "0.743009126026\n",
      "decision_tree\n",
      "0.760766834909\n",
      "naive_gaussian\n",
      "0.509176694098\n",
      "naive_mul\n",
      "0.537183092544\n",
      "K_neighbor\n",
      "0.712142778671\n",
      "bagging_knn\n",
      "0.706421681224\n",
      "bagging_tree\n",
      "0.749128279567\n",
      "random_forest\n",
      "0.833623917334\n",
      "adaboost\n",
      "0.580921909154\n",
      "gradient_boost\n",
      "0.58088200568\n"
     ]
    }
   ],
   "source": [
    "train_dataset = []\n",
    "for each_res in neighbour_information_list:\n",
    "    one_res_data = []\n",
    "    for element in each_res:\n",
    "        if isinstance(element,str):\n",
    "            one_res_data.extend(onehot_encoded.transform([[amino_acid_property_by_res[element]-1]])[0].tolist())\n",
    "        else:\n",
    "            one_res_data.append(element)\n",
    "    train_dataset.append(one_res_data)\n",
    "wrong_sample = []\n",
    "for i in range(0,len(train_dataset)):\n",
    "    if(len(train_dataset[i])<30):\n",
    "        wrong_sample.append(i)\n",
    "\n",
    "y_label =[1 for x in range(0,len(pos_sample_and_neig_pruned))]\n",
    "y_label.extend([2 for i in range(0,len(neg_sample_and_neig_pruned))])\n",
    "\n",
    "final_y_label = [y_label[i] for i in range(0,len(pos_neg_sample)) if i not in wrong_sample]\n",
    "final_y_label = np.asarray(final_y_label)\n",
    "shuffle_y_label = shuffle(final_y_label,random_state=0)\n",
    "\n",
    "final_train_dataset = [train_dataset[i] for i in range(0,len(pos_neg_sample)) if i not in wrong_sample]\n",
    "final_train_dataset = np.vstack(np.asarray(final_train_dataset))\n",
    "shuffle_train_dataset = shuffle(final_train_dataset,random_state=0)\n",
    "\n",
    "# skf = StratifiedKFold(n_splits=3)\n",
    "# for train, test in skf.split(shuffle_train_dataset,shuffle_y_label):\n",
    "#     for clf in clfs:\n",
    "#         clfs[clf].fit(shuffle_train_dataset[train],shuffle_y_label[train])\n",
    "#         conf_mat = confusion_matrix(clfs[clf].predict(shuffle_train_dataset[test]),shuffle_y_label[test])\n",
    "#         print(clf)\n",
    "#         print(accuracy_score(clfs[clf].predict(shuffle_train_dataset[test]),shuffle_y_label[test]))\n",
    "\n",
    "for clf in clfs:\n",
    "    print(clf)\n",
    "    scores = cross_val_score(clfs[clf],shuffle_train_dataset,shuffle_y_label,cv=10)\n",
    "    print(sum(scores)/10)"
   ]
  },
  {
   "cell_type": "code",
   "execution_count": 30,
   "metadata": {},
   "outputs": [],
   "source": [
    "neighbour_information_list = []\n",
    "for i in range(0,len(pos_neg_sample)):\n",
    "    neigh = n_nearest_neighbour(pos_neg_sample.iloc[i,0],pos_neg_sample.iloc[i,1],pos_neg_sample.iloc[i,2],1).iloc[:,5:8].values.flatten()\n",
    "    neighbour_information_list.append(np.insert(neigh,0,pos_neg_sample.iloc[i,3]))"
   ]
  },
  {
   "cell_type": "code",
   "execution_count": 32,
   "metadata": {
    "scrolled": true
   },
   "outputs": [
    {
     "name": "stdout",
     "output_type": "stream",
     "text": [
      "svm\n"
     ]
    },
    {
     "name": "stderr",
     "output_type": "stream",
     "text": [
      "/home/yuan/anaconda3/envs/pdbPy3/lib/python3.6/site-packages/sklearn/svm/base.py:196: FutureWarning: The default value of gamma will change from 'auto' to 'scale' in version 0.22 to account better for unscaled features. Set gamma explicitly to 'auto' or 'scale' to avoid this warning.\n",
      "  \"avoid this warning.\", FutureWarning)\n",
      "/home/yuan/anaconda3/envs/pdbPy3/lib/python3.6/site-packages/sklearn/svm/base.py:196: FutureWarning: The default value of gamma will change from 'auto' to 'scale' in version 0.22 to account better for unscaled features. Set gamma explicitly to 'auto' or 'scale' to avoid this warning.\n",
      "  \"avoid this warning.\", FutureWarning)\n",
      "/home/yuan/anaconda3/envs/pdbPy3/lib/python3.6/site-packages/sklearn/svm/base.py:196: FutureWarning: The default value of gamma will change from 'auto' to 'scale' in version 0.22 to account better for unscaled features. Set gamma explicitly to 'auto' or 'scale' to avoid this warning.\n",
      "  \"avoid this warning.\", FutureWarning)\n",
      "/home/yuan/anaconda3/envs/pdbPy3/lib/python3.6/site-packages/sklearn/svm/base.py:196: FutureWarning: The default value of gamma will change from 'auto' to 'scale' in version 0.22 to account better for unscaled features. Set gamma explicitly to 'auto' or 'scale' to avoid this warning.\n",
      "  \"avoid this warning.\", FutureWarning)\n",
      "/home/yuan/anaconda3/envs/pdbPy3/lib/python3.6/site-packages/sklearn/svm/base.py:196: FutureWarning: The default value of gamma will change from 'auto' to 'scale' in version 0.22 to account better for unscaled features. Set gamma explicitly to 'auto' or 'scale' to avoid this warning.\n",
      "  \"avoid this warning.\", FutureWarning)\n",
      "/home/yuan/anaconda3/envs/pdbPy3/lib/python3.6/site-packages/sklearn/svm/base.py:196: FutureWarning: The default value of gamma will change from 'auto' to 'scale' in version 0.22 to account better for unscaled features. Set gamma explicitly to 'auto' or 'scale' to avoid this warning.\n",
      "  \"avoid this warning.\", FutureWarning)\n",
      "/home/yuan/anaconda3/envs/pdbPy3/lib/python3.6/site-packages/sklearn/svm/base.py:196: FutureWarning: The default value of gamma will change from 'auto' to 'scale' in version 0.22 to account better for unscaled features. Set gamma explicitly to 'auto' or 'scale' to avoid this warning.\n",
      "  \"avoid this warning.\", FutureWarning)\n",
      "/home/yuan/anaconda3/envs/pdbPy3/lib/python3.6/site-packages/sklearn/svm/base.py:196: FutureWarning: The default value of gamma will change from 'auto' to 'scale' in version 0.22 to account better for unscaled features. Set gamma explicitly to 'auto' or 'scale' to avoid this warning.\n",
      "  \"avoid this warning.\", FutureWarning)\n",
      "/home/yuan/anaconda3/envs/pdbPy3/lib/python3.6/site-packages/sklearn/svm/base.py:196: FutureWarning: The default value of gamma will change from 'auto' to 'scale' in version 0.22 to account better for unscaled features. Set gamma explicitly to 'auto' or 'scale' to avoid this warning.\n",
      "  \"avoid this warning.\", FutureWarning)\n",
      "/home/yuan/anaconda3/envs/pdbPy3/lib/python3.6/site-packages/sklearn/svm/base.py:196: FutureWarning: The default value of gamma will change from 'auto' to 'scale' in version 0.22 to account better for unscaled features. Set gamma explicitly to 'auto' or 'scale' to avoid this warning.\n",
      "  \"avoid this warning.\", FutureWarning)\n"
     ]
    },
    {
     "name": "stdout",
     "output_type": "stream",
     "text": [
      "0.591687449726\n",
      "decision_tree\n",
      "0.656243094237\n",
      "naive_gaussian\n",
      "0.509176694098\n",
      "naive_mul\n",
      "0.548862877268\n",
      "K_neighbor\n",
      "0.622952389852\n",
      "bagging_knn\n",
      "0.597847674802\n",
      "bagging_tree\n",
      "0.607180131353\n",
      "random_forest\n",
      "0.683932537874\n",
      "adaboost\n",
      "0.547591175018\n",
      "gradient_boost\n",
      "0.547948664686\n"
     ]
    }
   ],
   "source": [
    "train_dataset = []\n",
    "for each_res in neighbour_information_list:\n",
    "    one_res_data = []\n",
    "    for element in each_res:\n",
    "        if isinstance(element,str):\n",
    "            one_res_data.extend(onehot_encoded.transform([[amino_acid_property_by_res[element]-1]])[0].tolist())\n",
    "        else:\n",
    "            one_res_data.append(element)\n",
    "    train_dataset.append(one_res_data)\n",
    "wrong_sample = []\n",
    "for i in range(0,len(train_dataset)):\n",
    "    if(len(train_dataset[i])<1):\n",
    "        wrong_sample.append(i)\n",
    "\n",
    "y_label =[1 for x in range(0,len(pos_sample_and_neig_pruned))]\n",
    "y_label.extend([2 for i in range(0,len(neg_sample_and_neig_pruned))])\n",
    "\n",
    "final_y_label = [y_label[i] for i in range(0,len(pos_neg_sample)) if i not in wrong_sample]\n",
    "final_y_label = np.asarray(final_y_label)\n",
    "shuffle_y_label = shuffle(final_y_label,random_state=0)\n",
    "\n",
    "final_train_dataset = [train_dataset[i] for i in range(0,len(pos_neg_sample)) if i not in wrong_sample]\n",
    "final_train_dataset = np.vstack(np.asarray(final_train_dataset))\n",
    "shuffle_train_dataset = shuffle(final_train_dataset,random_state=0)\n",
    "\n",
    "# skf = StratifiedKFold(n_splits=3)\n",
    "# for train, test in skf.split(shuffle_train_dataset,shuffle_y_label):\n",
    "#     for clf in clfs:\n",
    "#         clfs[clf].fit(shuffle_train_dataset[train],shuffle_y_label[train])\n",
    "#         conf_mat = confusion_matrix(clfs[clf].predict(shuffle_train_dataset[test]),shuffle_y_label[test])\n",
    "#         print(clf)\n",
    "#         print(accuracy_score(clfs[clf].predict(shuffle_train_dataset[test]),shuffle_y_label[test]))\n",
    "\n",
    "for clf in clfs:\n",
    "    print(clf)\n",
    "    scores = cross_val_score(clfs[clf],shuffle_train_dataset,shuffle_y_label,cv=10)\n",
    "    print(sum(scores)/10)"
   ]
  },
  {
   "cell_type": "code",
   "execution_count": 35,
   "metadata": {},
   "outputs": [],
   "source": [
    "neighbour_information_list = []\n",
    "for i in range(0,len(pos_neg_sample)):\n",
    "    neigh = n_nearest_neighbour(pos_neg_sample.iloc[i,0],pos_neg_sample.iloc[i,1],pos_neg_sample.iloc[i,2],8).iloc[:,5:8].values.flatten()\n",
    "    neighbour_information_list.append(np.insert(neigh,0,pos_neg_sample.iloc[i,3]))"
   ]
  },
  {
   "cell_type": "code",
   "execution_count": 36,
   "metadata": {
    "scrolled": true
   },
   "outputs": [
    {
     "name": "stdout",
     "output_type": "stream",
     "text": [
      "svm\n"
     ]
    },
    {
     "name": "stderr",
     "output_type": "stream",
     "text": [
      "/home/yuan/anaconda3/envs/pdbPy3/lib/python3.6/site-packages/sklearn/svm/base.py:196: FutureWarning: The default value of gamma will change from 'auto' to 'scale' in version 0.22 to account better for unscaled features. Set gamma explicitly to 'auto' or 'scale' to avoid this warning.\n",
      "  \"avoid this warning.\", FutureWarning)\n",
      "/home/yuan/anaconda3/envs/pdbPy3/lib/python3.6/site-packages/sklearn/svm/base.py:196: FutureWarning: The default value of gamma will change from 'auto' to 'scale' in version 0.22 to account better for unscaled features. Set gamma explicitly to 'auto' or 'scale' to avoid this warning.\n",
      "  \"avoid this warning.\", FutureWarning)\n",
      "/home/yuan/anaconda3/envs/pdbPy3/lib/python3.6/site-packages/sklearn/svm/base.py:196: FutureWarning: The default value of gamma will change from 'auto' to 'scale' in version 0.22 to account better for unscaled features. Set gamma explicitly to 'auto' or 'scale' to avoid this warning.\n",
      "  \"avoid this warning.\", FutureWarning)\n",
      "/home/yuan/anaconda3/envs/pdbPy3/lib/python3.6/site-packages/sklearn/svm/base.py:196: FutureWarning: The default value of gamma will change from 'auto' to 'scale' in version 0.22 to account better for unscaled features. Set gamma explicitly to 'auto' or 'scale' to avoid this warning.\n",
      "  \"avoid this warning.\", FutureWarning)\n",
      "/home/yuan/anaconda3/envs/pdbPy3/lib/python3.6/site-packages/sklearn/svm/base.py:196: FutureWarning: The default value of gamma will change from 'auto' to 'scale' in version 0.22 to account better for unscaled features. Set gamma explicitly to 'auto' or 'scale' to avoid this warning.\n",
      "  \"avoid this warning.\", FutureWarning)\n",
      "/home/yuan/anaconda3/envs/pdbPy3/lib/python3.6/site-packages/sklearn/svm/base.py:196: FutureWarning: The default value of gamma will change from 'auto' to 'scale' in version 0.22 to account better for unscaled features. Set gamma explicitly to 'auto' or 'scale' to avoid this warning.\n",
      "  \"avoid this warning.\", FutureWarning)\n",
      "/home/yuan/anaconda3/envs/pdbPy3/lib/python3.6/site-packages/sklearn/svm/base.py:196: FutureWarning: The default value of gamma will change from 'auto' to 'scale' in version 0.22 to account better for unscaled features. Set gamma explicitly to 'auto' or 'scale' to avoid this warning.\n",
      "  \"avoid this warning.\", FutureWarning)\n",
      "/home/yuan/anaconda3/envs/pdbPy3/lib/python3.6/site-packages/sklearn/svm/base.py:196: FutureWarning: The default value of gamma will change from 'auto' to 'scale' in version 0.22 to account better for unscaled features. Set gamma explicitly to 'auto' or 'scale' to avoid this warning.\n",
      "  \"avoid this warning.\", FutureWarning)\n",
      "/home/yuan/anaconda3/envs/pdbPy3/lib/python3.6/site-packages/sklearn/svm/base.py:196: FutureWarning: The default value of gamma will change from 'auto' to 'scale' in version 0.22 to account better for unscaled features. Set gamma explicitly to 'auto' or 'scale' to avoid this warning.\n",
      "  \"avoid this warning.\", FutureWarning)\n",
      "/home/yuan/anaconda3/envs/pdbPy3/lib/python3.6/site-packages/sklearn/svm/base.py:196: FutureWarning: The default value of gamma will change from 'auto' to 'scale' in version 0.22 to account better for unscaled features. Set gamma explicitly to 'auto' or 'scale' to avoid this warning.\n",
      "  \"avoid this warning.\", FutureWarning)\n"
     ]
    },
    {
     "name": "stdout",
     "output_type": "stream",
     "text": [
      "0.747815253229\n",
      "decision_tree\n",
      "0.76410385763\n",
      "naive_gaussian\n",
      "0.509176694098\n",
      "naive_mul\n",
      "0.549776647881\n",
      "K_neighbor\n",
      "0.714126934719\n",
      "bagging_knn\n",
      "0.729579555026\n",
      "bagging_tree\n",
      "0.772287416136\n",
      "random_forest\n",
      "0.840814908494\n",
      "adaboost\n",
      "0.60197812633\n",
      "gradient_boost\n",
      "0.604400810192\n"
     ]
    }
   ],
   "source": [
    "train_dataset = []\n",
    "for each_res in neighbour_information_list:\n",
    "    one_res_data = []\n",
    "    for element in each_res:\n",
    "        if isinstance(element,str):\n",
    "            one_res_data.extend(onehot_encoded.transform([[amino_acid_property_by_res[element]-1]])[0].tolist())\n",
    "        else:\n",
    "            one_res_data.append(element)\n",
    "    train_dataset.append(one_res_data)\n",
    "wrong_sample = []\n",
    "for i in range(0,len(train_dataset)):\n",
    "    if(len(train_dataset[i])<1):\n",
    "        wrong_sample.append(i)\n",
    "\n",
    "y_label =[1 for x in range(0,len(pos_sample_and_neig_pruned))]\n",
    "y_label.extend([2 for i in range(0,len(neg_sample_and_neig_pruned))])\n",
    "\n",
    "final_y_label = [y_label[i] for i in range(0,len(pos_neg_sample)) if i not in wrong_sample]\n",
    "final_y_label = np.asarray(final_y_label)\n",
    "shuffle_y_label = shuffle(final_y_label,random_state=0)\n",
    "\n",
    "final_train_dataset = [train_dataset[i] for i in range(0,len(pos_neg_sample)) if i not in wrong_sample]\n",
    "final_train_dataset = np.vstack(np.asarray(final_train_dataset))\n",
    "shuffle_train_dataset = shuffle(final_train_dataset,random_state=0)\n",
    "\n",
    "# skf = StratifiedKFold(n_splits=3)\n",
    "# for train, test in skf.split(shuffle_train_dataset,shuffle_y_label):\n",
    "#     for clf in clfs:\n",
    "#         clfs[clf].fit(shuffle_train_dataset[train],shuffle_y_label[train])\n",
    "#         conf_mat = confusion_matrix(clfs[clf].predict(shuffle_train_dataset[test]),shuffle_y_label[test])\n",
    "#         print(clf)\n",
    "#         print(accuracy_score(clfs[clf].predict(shuffle_train_dataset[test]),shuffle_y_label[test]))\n",
    "\n",
    "for clf in clfs:\n",
    "    print(clf)\n",
    "    scores = cross_val_score(clfs[clf],shuffle_train_dataset,shuffle_y_label,cv=10)\n",
    "    print(sum(scores)/10)"
   ]
  },
  {
   "cell_type": "code",
   "execution_count": null,
   "metadata": {},
   "outputs": [],
   "source": []
  },
  {
   "cell_type": "markdown",
   "metadata": {},
   "source": [
    "# After using using CD-HIT to remove redundant samples"
   ]
  },
  {
   "cell_type": "code",
   "execution_count": 54,
   "metadata": {
    "scrolled": true
   },
   "outputs": [],
   "source": [
    "cd_hit_7 = pd.read_csv(\"retained_CDHIT_0.7_PTM.csv\")"
   ]
  },
  {
   "cell_type": "code",
   "execution_count": 55,
   "metadata": {},
   "outputs": [
    {
     "data": {
      "text/html": [
       "<div>\n",
       "<style>\n",
       "    .dataframe thead tr:only-child th {\n",
       "        text-align: right;\n",
       "    }\n",
       "\n",
       "    .dataframe thead th {\n",
       "        text-align: left;\n",
       "    }\n",
       "\n",
       "    .dataframe tbody tr th {\n",
       "        vertical-align: top;\n",
       "    }\n",
       "</style>\n",
       "<table border=\"1\" class=\"dataframe\">\n",
       "  <thead>\n",
       "    <tr style=\"text-align: right;\">\n",
       "      <th></th>\n",
       "      <th>pdbID</th>\n",
       "      <th>Chain</th>\n",
       "    </tr>\n",
       "  </thead>\n",
       "  <tbody>\n",
       "    <tr>\n",
       "      <th>0</th>\n",
       "      <td>1ln4</td>\n",
       "      <td>A</td>\n",
       "    </tr>\n",
       "    <tr>\n",
       "      <th>1</th>\n",
       "      <td>1lop</td>\n",
       "      <td>A</td>\n",
       "    </tr>\n",
       "    <tr>\n",
       "      <th>2</th>\n",
       "      <td>1m63</td>\n",
       "      <td>A</td>\n",
       "    </tr>\n",
       "    <tr>\n",
       "      <th>3</th>\n",
       "      <td>1m63</td>\n",
       "      <td>B</td>\n",
       "    </tr>\n",
       "    <tr>\n",
       "      <th>4</th>\n",
       "      <td>1m63</td>\n",
       "      <td>D</td>\n",
       "    </tr>\n",
       "  </tbody>\n",
       "</table>\n",
       "</div>"
      ],
      "text/plain": [
       "  pdbID Chain\n",
       "0  1ln4     A\n",
       "1  1lop     A\n",
       "2  1m63     A\n",
       "3  1m63     B\n",
       "4  1m63     D"
      ]
     },
     "execution_count": 55,
     "metadata": {},
     "output_type": "execute_result"
    }
   ],
   "source": [
    "cd_hit_7.head()"
   ]
  },
  {
   "cell_type": "markdown",
   "metadata": {},
   "source": [
    "#### 3 neighbours - 1:1 = pos:neg"
   ]
  },
  {
   "cell_type": "code",
   "execution_count": 61,
   "metadata": {},
   "outputs": [],
   "source": [
    "pos_sample_and_neig = pd.DataFrame()\n",
    "for key, value in modification_site_dic.items():\n",
    "    for chain, sites in value.items():\n",
    "        if chain in list(cd_hit_7[cd_hit_7[\"pdbID\"]==key][\"Chain\"]):\n",
    "            for site in sites:\n",
    "                pos_sample_and_neig = pd.concat([pos_sample_and_neig,n_nearest_neighbour(key,chain,site,1)])"
   ]
  },
  {
   "cell_type": "code",
   "execution_count": 62,
   "metadata": {
    "scrolled": true
   },
   "outputs": [
    {
     "data": {
      "text/html": [
       "<div>\n",
       "<style>\n",
       "    .dataframe thead tr:only-child th {\n",
       "        text-align: right;\n",
       "    }\n",
       "\n",
       "    .dataframe thead th {\n",
       "        text-align: left;\n",
       "    }\n",
       "\n",
       "    .dataframe tbody tr th {\n",
       "        vertical-align: top;\n",
       "    }\n",
       "</style>\n",
       "<table border=\"1\" class=\"dataframe\">\n",
       "  <thead>\n",
       "    <tr style=\"text-align: right;\">\n",
       "      <th></th>\n",
       "      <th>pdbID</th>\n",
       "      <th>chain</th>\n",
       "      <th>ID_1</th>\n",
       "      <th>Res_1</th>\n",
       "      <th>ID_2</th>\n",
       "      <th>Res_2</th>\n",
       "      <th>Distance</th>\n",
       "      <th>Angle</th>\n",
       "    </tr>\n",
       "    <tr>\n",
       "      <th>ID</th>\n",
       "      <th></th>\n",
       "      <th></th>\n",
       "      <th></th>\n",
       "      <th></th>\n",
       "      <th></th>\n",
       "      <th></th>\n",
       "      <th></th>\n",
       "      <th></th>\n",
       "    </tr>\n",
       "  </thead>\n",
       "  <tbody>\n",
       "    <tr>\n",
       "      <th>740395</th>\n",
       "      <td>3jzf</td>\n",
       "      <td>A</td>\n",
       "      <td>27</td>\n",
       "      <td>LYS</td>\n",
       "      <td>4</td>\n",
       "      <td>LYS</td>\n",
       "      <td>4.632685</td>\n",
       "      <td>119.969047</td>\n",
       "    </tr>\n",
       "    <tr>\n",
       "      <th>777274</th>\n",
       "      <td>3jzf</td>\n",
       "      <td>A</td>\n",
       "      <td>124</td>\n",
       "      <td>LYS</td>\n",
       "      <td>120</td>\n",
       "      <td>ILE</td>\n",
       "      <td>5.740031</td>\n",
       "      <td>130.301395</td>\n",
       "    </tr>\n",
       "    <tr>\n",
       "      <th>936649</th>\n",
       "      <td>1o8c</td>\n",
       "      <td>A</td>\n",
       "      <td>50</td>\n",
       "      <td>LYS</td>\n",
       "      <td>51</td>\n",
       "      <td>GLY</td>\n",
       "      <td>5.415700</td>\n",
       "      <td>90.022171</td>\n",
       "    </tr>\n",
       "    <tr>\n",
       "      <th>988324</th>\n",
       "      <td>1o8c</td>\n",
       "      <td>A</td>\n",
       "      <td>209</td>\n",
       "      <td>LYS</td>\n",
       "      <td>210</td>\n",
       "      <td>GLN</td>\n",
       "      <td>7.995939</td>\n",
       "      <td>75.280062</td>\n",
       "    </tr>\n",
       "    <tr>\n",
       "      <th>1238225</th>\n",
       "      <td>2eck</td>\n",
       "      <td>A</td>\n",
       "      <td>13</td>\n",
       "      <td>LYS</td>\n",
       "      <td>7</td>\n",
       "      <td>GLY</td>\n",
       "      <td>4.558080</td>\n",
       "      <td>144.017527</td>\n",
       "    </tr>\n",
       "  </tbody>\n",
       "</table>\n",
       "</div>"
      ],
      "text/plain": [
       "        pdbID chain ID_1 Res_1 ID_2 Res_2  Distance       Angle\n",
       "ID                                                             \n",
       "740395   3jzf     A   27   LYS    4   LYS  4.632685  119.969047\n",
       "777274   3jzf     A  124   LYS  120   ILE  5.740031  130.301395\n",
       "936649   1o8c     A   50   LYS   51   GLY  5.415700   90.022171\n",
       "988324   1o8c     A  209   LYS  210   GLN  7.995939   75.280062\n",
       "1238225  2eck     A   13   LYS    7   GLY  4.558080  144.017527"
      ]
     },
     "execution_count": 62,
     "metadata": {},
     "output_type": "execute_result"
    }
   ],
   "source": [
    "pos_sample_and_neig.head()"
   ]
  },
  {
   "cell_type": "code",
   "execution_count": 63,
   "metadata": {},
   "outputs": [],
   "source": [
    "neg_sample_and_neig = pd.DataFrame()\n",
    "for i in range(len(pos_sample_and_neig)):\n",
    "    result_step1 = One_residue_retrieval(pos_sample_and_neig.iloc[i,2],pos_sample_and_neig.iloc[i,0],pos_sample_and_neig.iloc[i,1])\n",
    "    \n",
    "    result_step2 = result_step1.groupby([\"ID\"]).first() #duplicate discard\n",
    "\n",
    "    result_step3 = result_step2[~result_step2.ID_2.isin(modification_site_dic[pos_sample_and_neig.iloc[i,0]][pos_sample_and_neig.iloc[i,1]])] # activate discard\n",
    "    #print(result_step3)\n",
    "    result_step4 = result_step3[result_step3[\"Res_2\"]==\"LYS\"]\n",
    "    #print(result_step4)\n",
    "    #print(result_step4.sample(1,random_state = 1))\n",
    "    neg_sample_and_neig = pd.concat([neg_sample_and_neig,result_step4.sample(1)])"
   ]
  },
  {
   "cell_type": "code",
   "execution_count": 64,
   "metadata": {},
   "outputs": [
    {
     "ename": "NameError",
     "evalue": "name 'pos_neg_sample' is not defined",
     "output_type": "error",
     "traceback": [
      "\u001b[0;31m---------------------------------------------------------------------------\u001b[0m",
      "\u001b[0;31mNameError\u001b[0m                                 Traceback (most recent call last)",
      "\u001b[0;32m<ipython-input-64-3306770cef28>\u001b[0m in \u001b[0;36m<module>\u001b[0;34m\u001b[0m\n\u001b[1;32m      1\u001b[0m \u001b[0mneighbour_information_list\u001b[0m \u001b[0;34m=\u001b[0m \u001b[0;34m[\u001b[0m\u001b[0;34m]\u001b[0m\u001b[0;34m\u001b[0m\u001b[0;34m\u001b[0m\u001b[0m\n\u001b[0;32m----> 2\u001b[0;31m \u001b[0;32mfor\u001b[0m \u001b[0mi\u001b[0m \u001b[0;32min\u001b[0m \u001b[0mrange\u001b[0m\u001b[0;34m(\u001b[0m\u001b[0;36m0\u001b[0m\u001b[0;34m,\u001b[0m\u001b[0mlen\u001b[0m\u001b[0;34m(\u001b[0m\u001b[0mpos_neg_sample\u001b[0m\u001b[0;34m)\u001b[0m\u001b[0;34m)\u001b[0m\u001b[0;34m:\u001b[0m\u001b[0;34m\u001b[0m\u001b[0;34m\u001b[0m\u001b[0m\n\u001b[0m\u001b[1;32m      3\u001b[0m     \u001b[0mneigh\u001b[0m \u001b[0;34m=\u001b[0m \u001b[0mn_nearest_neighbour_by_seq\u001b[0m\u001b[0;34m(\u001b[0m\u001b[0mpos_neg_sample\u001b[0m\u001b[0;34m.\u001b[0m\u001b[0miloc\u001b[0m\u001b[0;34m[\u001b[0m\u001b[0mi\u001b[0m\u001b[0;34m,\u001b[0m\u001b[0;36m0\u001b[0m\u001b[0;34m]\u001b[0m\u001b[0;34m,\u001b[0m\u001b[0mpos_neg_sample\u001b[0m\u001b[0;34m.\u001b[0m\u001b[0miloc\u001b[0m\u001b[0;34m[\u001b[0m\u001b[0mi\u001b[0m\u001b[0;34m,\u001b[0m\u001b[0;36m1\u001b[0m\u001b[0;34m]\u001b[0m\u001b[0;34m,\u001b[0m\u001b[0mpos_neg_sample\u001b[0m\u001b[0;34m.\u001b[0m\u001b[0miloc\u001b[0m\u001b[0;34m[\u001b[0m\u001b[0mi\u001b[0m\u001b[0;34m,\u001b[0m\u001b[0;36m2\u001b[0m\u001b[0;34m]\u001b[0m\u001b[0;34m,\u001b[0m\u001b[0;36m3\u001b[0m\u001b[0;34m)\u001b[0m\u001b[0;34m.\u001b[0m\u001b[0miloc\u001b[0m\u001b[0;34m[\u001b[0m\u001b[0;34m:\u001b[0m\u001b[0;34m,\u001b[0m\u001b[0;36m5\u001b[0m\u001b[0;34m:\u001b[0m\u001b[0;36m8\u001b[0m\u001b[0;34m]\u001b[0m\u001b[0;34m.\u001b[0m\u001b[0mvalues\u001b[0m\u001b[0;34m.\u001b[0m\u001b[0mflatten\u001b[0m\u001b[0;34m(\u001b[0m\u001b[0;34m)\u001b[0m\u001b[0;34m\u001b[0m\u001b[0;34m\u001b[0m\u001b[0m\n\u001b[1;32m      4\u001b[0m     \u001b[0mneighbour_information_list\u001b[0m\u001b[0;34m.\u001b[0m\u001b[0mappend\u001b[0m\u001b[0;34m(\u001b[0m\u001b[0mnp\u001b[0m\u001b[0;34m.\u001b[0m\u001b[0minsert\u001b[0m\u001b[0;34m(\u001b[0m\u001b[0mneigh\u001b[0m\u001b[0;34m,\u001b[0m\u001b[0;36m0\u001b[0m\u001b[0;34m,\u001b[0m\u001b[0mpos_neg_sample\u001b[0m\u001b[0;34m.\u001b[0m\u001b[0miloc\u001b[0m\u001b[0;34m[\u001b[0m\u001b[0mi\u001b[0m\u001b[0;34m,\u001b[0m\u001b[0;36m3\u001b[0m\u001b[0;34m]\u001b[0m\u001b[0;34m)\u001b[0m\u001b[0;34m)\u001b[0m\u001b[0;34m\u001b[0m\u001b[0;34m\u001b[0m\u001b[0m\n",
      "\u001b[0;31mNameError\u001b[0m: name 'pos_neg_sample' is not defined"
     ]
    }
   ],
   "source": [
    "neighbour_information_list = []\n",
    "for i in range(0,len(pos_neg_sample)):\n",
    "    neigh = n_nearest_neighbour_by_seq(pos_neg_sample.iloc[i,0],pos_neg_sample.iloc[i,1],pos_neg_sample.iloc[i,2],3).iloc[:,5:8].values.flatten()\n",
    "    neighbour_information_list.append(np.insert(neigh,0,pos_neg_sample.iloc[i,3]))"
   ]
  },
  {
   "cell_type": "code",
   "execution_count": 100,
   "metadata": {
    "scrolled": true
   },
   "outputs": [
    {
     "name": "stdout",
     "output_type": "stream",
     "text": [
      "svm\n"
     ]
    },
    {
     "name": "stderr",
     "output_type": "stream",
     "text": [
      "/home/yuan/anaconda3/envs/pdbPy3/lib/python3.6/site-packages/sklearn/svm/base.py:196: FutureWarning: The default value of gamma will change from 'auto' to 'scale' in version 0.22 to account better for unscaled features. Set gamma explicitly to 'auto' or 'scale' to avoid this warning.\n",
      "  \"avoid this warning.\", FutureWarning)\n",
      "/home/yuan/anaconda3/envs/pdbPy3/lib/python3.6/site-packages/sklearn/svm/base.py:196: FutureWarning: The default value of gamma will change from 'auto' to 'scale' in version 0.22 to account better for unscaled features. Set gamma explicitly to 'auto' or 'scale' to avoid this warning.\n",
      "  \"avoid this warning.\", FutureWarning)\n",
      "/home/yuan/anaconda3/envs/pdbPy3/lib/python3.6/site-packages/sklearn/svm/base.py:196: FutureWarning: The default value of gamma will change from 'auto' to 'scale' in version 0.22 to account better for unscaled features. Set gamma explicitly to 'auto' or 'scale' to avoid this warning.\n",
      "  \"avoid this warning.\", FutureWarning)\n",
      "/home/yuan/anaconda3/envs/pdbPy3/lib/python3.6/site-packages/sklearn/svm/base.py:196: FutureWarning: The default value of gamma will change from 'auto' to 'scale' in version 0.22 to account better for unscaled features. Set gamma explicitly to 'auto' or 'scale' to avoid this warning.\n",
      "  \"avoid this warning.\", FutureWarning)\n",
      "/home/yuan/anaconda3/envs/pdbPy3/lib/python3.6/site-packages/sklearn/svm/base.py:196: FutureWarning: The default value of gamma will change from 'auto' to 'scale' in version 0.22 to account better for unscaled features. Set gamma explicitly to 'auto' or 'scale' to avoid this warning.\n",
      "  \"avoid this warning.\", FutureWarning)\n",
      "/home/yuan/anaconda3/envs/pdbPy3/lib/python3.6/site-packages/sklearn/svm/base.py:196: FutureWarning: The default value of gamma will change from 'auto' to 'scale' in version 0.22 to account better for unscaled features. Set gamma explicitly to 'auto' or 'scale' to avoid this warning.\n",
      "  \"avoid this warning.\", FutureWarning)\n",
      "/home/yuan/anaconda3/envs/pdbPy3/lib/python3.6/site-packages/sklearn/svm/base.py:196: FutureWarning: The default value of gamma will change from 'auto' to 'scale' in version 0.22 to account better for unscaled features. Set gamma explicitly to 'auto' or 'scale' to avoid this warning.\n",
      "  \"avoid this warning.\", FutureWarning)\n",
      "/home/yuan/anaconda3/envs/pdbPy3/lib/python3.6/site-packages/sklearn/svm/base.py:196: FutureWarning: The default value of gamma will change from 'auto' to 'scale' in version 0.22 to account better for unscaled features. Set gamma explicitly to 'auto' or 'scale' to avoid this warning.\n",
      "  \"avoid this warning.\", FutureWarning)\n",
      "/home/yuan/anaconda3/envs/pdbPy3/lib/python3.6/site-packages/sklearn/svm/base.py:196: FutureWarning: The default value of gamma will change from 'auto' to 'scale' in version 0.22 to account better for unscaled features. Set gamma explicitly to 'auto' or 'scale' to avoid this warning.\n",
      "  \"avoid this warning.\", FutureWarning)\n",
      "/home/yuan/anaconda3/envs/pdbPy3/lib/python3.6/site-packages/sklearn/svm/base.py:196: FutureWarning: The default value of gamma will change from 'auto' to 'scale' in version 0.22 to account better for unscaled features. Set gamma explicitly to 'auto' or 'scale' to avoid this warning.\n",
      "  \"avoid this warning.\", FutureWarning)\n"
     ]
    },
    {
     "name": "stdout",
     "output_type": "stream",
     "text": [
      "0.743009126026\n",
      "decision_tree\n",
      "0.762355555107\n",
      "naive_gaussian\n",
      "0.509176694098\n",
      "naive_mul\n",
      "0.537183092544\n",
      "K_neighbor\n",
      "0.712142778671\n",
      "bagging_knn\n",
      "0.706140810015\n",
      "bagging_tree\n",
      "0.746781330225\n",
      "random_forest\n",
      "0.832312564164\n",
      "adaboost\n",
      "0.580921909154\n",
      "gradient_boost\n",
      "0.58088200568\n"
     ]
    }
   ],
   "source": [
    "train_dataset = []\n",
    "for each_res in neighbour_information_list:\n",
    "    one_res_data = []\n",
    "    for element in each_res:\n",
    "        if isinstance(element,str):\n",
    "            one_res_data.extend(onehot_encoded.transform([[amino_acid_property_by_res[element]-1]])[0].tolist())\n",
    "        else:\n",
    "            one_res_data.append(element)\n",
    "    train_dataset.append(one_res_data)\n",
    "wrong_sample = []\n",
    "for i in range(0,len(train_dataset)):\n",
    "    if(len(train_dataset[i])<1):\n",
    "        wrong_sample.append(i)\n",
    "\n",
    "y_label =[1 for x in range(0,len(pos_sample_and_neig_pruned))]\n",
    "y_label.extend([2 for i in range(0,len(neg_sample_and_neig_pruned))])\n",
    "\n",
    "final_y_label = [y_label[i] for i in range(0,len(pos_neg_sample)) if i not in wrong_sample]\n",
    "final_y_label = np.asarray(final_y_label)\n",
    "shuffle_y_label = shuffle(final_y_label,random_state=0)\n",
    "\n",
    "final_train_dataset = [train_dataset[i] for i in range(0,len(pos_neg_sample)) if i not in wrong_sample]\n",
    "final_train_dataset = np.vstack(np.asarray(final_train_dataset))\n",
    "shuffle_train_dataset = shuffle(final_train_dataset,random_state=0)\n",
    "\n",
    "# skf = StratifiedKFold(n_splits=3)\n",
    "# for train, test in skf.split(shuffle_train_dataset,shuffle_y_label):\n",
    "#     for clf in clfs:\n",
    "#         clfs[clf].fit(shuffle_train_dataset[train],shuffle_y_label[train])\n",
    "#         conf_mat = confusion_matrix(clfs[clf].predict(shuffle_train_dataset[test]),shuffle_y_label[test])\n",
    "#         print(clf)\n",
    "#         print(accuracy_score(clfs[clf].predict(shuffle_train_dataset[test]),shuffle_y_label[test]))\n",
    "\n",
    "for clf in clfs:\n",
    "    print(clf)\n",
    "    scores = cross_val_score(clfs[clf],shuffle_train_dataset,shuffle_y_label,cv=10)\n",
    "    print(sum(scores)/10)"
   ]
  },
  {
   "cell_type": "markdown",
   "metadata": {},
   "source": [
    "#### 5 neighbours 1:1 = pos:neg"
   ]
  },
  {
   "cell_type": "code",
   "execution_count": 101,
   "metadata": {},
   "outputs": [],
   "source": [
    "neighbour_information_list = []\n",
    "for i in range(0,len(pos_neg_sample)):\n",
    "    neigh = n_nearest_neighbour(pos_neg_sample.iloc[i,0],pos_neg_sample.iloc[i,1],pos_neg_sample.iloc[i,2],5).iloc[:,5:8].values.flatten()\n",
    "    neighbour_information_list.append(np.insert(neigh,0,pos_neg_sample.iloc[i,3]))"
   ]
  },
  {
   "cell_type": "code",
   "execution_count": 102,
   "metadata": {},
   "outputs": [
    {
     "name": "stdout",
     "output_type": "stream",
     "text": [
      "svm\n"
     ]
    },
    {
     "name": "stderr",
     "output_type": "stream",
     "text": [
      "/home/yuan/anaconda3/envs/pdbPy3/lib/python3.6/site-packages/sklearn/svm/base.py:196: FutureWarning: The default value of gamma will change from 'auto' to 'scale' in version 0.22 to account better for unscaled features. Set gamma explicitly to 'auto' or 'scale' to avoid this warning.\n",
      "  \"avoid this warning.\", FutureWarning)\n",
      "/home/yuan/anaconda3/envs/pdbPy3/lib/python3.6/site-packages/sklearn/svm/base.py:196: FutureWarning: The default value of gamma will change from 'auto' to 'scale' in version 0.22 to account better for unscaled features. Set gamma explicitly to 'auto' or 'scale' to avoid this warning.\n",
      "  \"avoid this warning.\", FutureWarning)\n",
      "/home/yuan/anaconda3/envs/pdbPy3/lib/python3.6/site-packages/sklearn/svm/base.py:196: FutureWarning: The default value of gamma will change from 'auto' to 'scale' in version 0.22 to account better for unscaled features. Set gamma explicitly to 'auto' or 'scale' to avoid this warning.\n",
      "  \"avoid this warning.\", FutureWarning)\n",
      "/home/yuan/anaconda3/envs/pdbPy3/lib/python3.6/site-packages/sklearn/svm/base.py:196: FutureWarning: The default value of gamma will change from 'auto' to 'scale' in version 0.22 to account better for unscaled features. Set gamma explicitly to 'auto' or 'scale' to avoid this warning.\n",
      "  \"avoid this warning.\", FutureWarning)\n",
      "/home/yuan/anaconda3/envs/pdbPy3/lib/python3.6/site-packages/sklearn/svm/base.py:196: FutureWarning: The default value of gamma will change from 'auto' to 'scale' in version 0.22 to account better for unscaled features. Set gamma explicitly to 'auto' or 'scale' to avoid this warning.\n",
      "  \"avoid this warning.\", FutureWarning)\n",
      "/home/yuan/anaconda3/envs/pdbPy3/lib/python3.6/site-packages/sklearn/svm/base.py:196: FutureWarning: The default value of gamma will change from 'auto' to 'scale' in version 0.22 to account better for unscaled features. Set gamma explicitly to 'auto' or 'scale' to avoid this warning.\n",
      "  \"avoid this warning.\", FutureWarning)\n",
      "/home/yuan/anaconda3/envs/pdbPy3/lib/python3.6/site-packages/sklearn/svm/base.py:196: FutureWarning: The default value of gamma will change from 'auto' to 'scale' in version 0.22 to account better for unscaled features. Set gamma explicitly to 'auto' or 'scale' to avoid this warning.\n",
      "  \"avoid this warning.\", FutureWarning)\n",
      "/home/yuan/anaconda3/envs/pdbPy3/lib/python3.6/site-packages/sklearn/svm/base.py:196: FutureWarning: The default value of gamma will change from 'auto' to 'scale' in version 0.22 to account better for unscaled features. Set gamma explicitly to 'auto' or 'scale' to avoid this warning.\n",
      "  \"avoid this warning.\", FutureWarning)\n",
      "/home/yuan/anaconda3/envs/pdbPy3/lib/python3.6/site-packages/sklearn/svm/base.py:196: FutureWarning: The default value of gamma will change from 'auto' to 'scale' in version 0.22 to account better for unscaled features. Set gamma explicitly to 'auto' or 'scale' to avoid this warning.\n",
      "  \"avoid this warning.\", FutureWarning)\n",
      "/home/yuan/anaconda3/envs/pdbPy3/lib/python3.6/site-packages/sklearn/svm/base.py:196: FutureWarning: The default value of gamma will change from 'auto' to 'scale' in version 0.22 to account better for unscaled features. Set gamma explicitly to 'auto' or 'scale' to avoid this warning.\n",
      "  \"avoid this warning.\", FutureWarning)\n"
     ]
    },
    {
     "name": "stdout",
     "output_type": "stream",
     "text": [
      "0.7875819063\n",
      "decision_tree\n",
      "0.757786070657\n",
      "naive_gaussian\n",
      "0.509176694098\n",
      "naive_mul\n",
      "0.538613840444\n",
      "K_neighbor\n",
      "0.729897867311\n",
      "bagging_knn\n",
      "0.732878031749\n",
      "bagging_tree\n",
      "0.770061818815\n",
      "random_forest\n",
      "0.841093254166\n",
      "adaboost\n",
      "0.590180146506\n",
      "gradient_boost\n",
      "0.590099929159\n"
     ]
    }
   ],
   "source": [
    "train_dataset = []\n",
    "for each_res in neighbour_information_list:\n",
    "    one_res_data = []\n",
    "    for element in each_res:\n",
    "        if isinstance(element,str):\n",
    "            one_res_data.extend(onehot_encoded.transform([[amino_acid_property_by_res[element]-1]])[0].tolist())\n",
    "        else:\n",
    "            one_res_data.append(element)\n",
    "    train_dataset.append(one_res_data)\n",
    "wrong_sample = []\n",
    "for i in range(0,len(train_dataset)):\n",
    "    if(len(train_dataset[i])<1):\n",
    "        wrong_sample.append(i)\n",
    "\n",
    "y_label =[1 for x in range(0,len(pos_sample_and_neig_pruned))]\n",
    "y_label.extend([2 for i in range(0,len(neg_sample_and_neig_pruned))])\n",
    "\n",
    "final_y_label = [y_label[i] for i in range(0,len(pos_neg_sample)) if i not in wrong_sample]\n",
    "final_y_label = np.asarray(final_y_label)\n",
    "shuffle_y_label = shuffle(final_y_label,random_state=0)\n",
    "\n",
    "final_train_dataset = [train_dataset[i] for i in range(0,len(pos_neg_sample)) if i not in wrong_sample]\n",
    "final_train_dataset = np.vstack(np.asarray(final_train_dataset))\n",
    "shuffle_train_dataset = shuffle(final_train_dataset,random_state=0)\n",
    "\n",
    "# skf = StratifiedKFold(n_splits=3)\n",
    "# for train, test in skf.split(shuffle_train_dataset,shuffle_y_label):\n",
    "#     for clf in clfs:\n",
    "#         clfs[clf].fit(shuffle_train_dataset[train],shuffle_y_label[train])\n",
    "#         conf_mat = confusion_matrix(clfs[clf].predict(shuffle_train_dataset[test]),shuffle_y_label[test])\n",
    "#         print(clf)\n",
    "#         print(accuracy_score(clfs[clf].predict(shuffle_train_dataset[test]),shuffle_y_label[test]))\n",
    "\n",
    "for clf in clfs:\n",
    "    print(clf)\n",
    "    scores = cross_val_score(clfs[clf],shuffle_train_dataset,shuffle_y_label,cv=10)\n",
    "    print(sum(scores)/10)"
   ]
  },
  {
   "cell_type": "markdown",
   "metadata": {},
   "source": [
    "#### 5 neighbours 1:3 = pos:neg"
   ]
  },
  {
   "cell_type": "code",
   "execution_count": 65,
   "metadata": {},
   "outputs": [],
   "source": [
    "pos_sample_and_neig = pd.DataFrame()\n",
    "for key, value in modification_site_dic.items():\n",
    "    for chain, sites in value.items():\n",
    "        if chain in list(cd_hit_7[cd_hit_7[\"pdbID\"]==key][\"Chain\"]):\n",
    "            for site in sites:\n",
    "                pos_sample_and_neig = pd.concat([pos_sample_and_neig,n_nearest_neighbour(key,chain,site,1)])"
   ]
  },
  {
   "cell_type": "code",
   "execution_count": 66,
   "metadata": {},
   "outputs": [],
   "source": [
    "neg_sample_and_neig = pd.DataFrame()\n",
    "for i in range(len(pos_sample_and_neig)):\n",
    "    result_step1 = One_residue_retrieval(pos_sample_and_neig.iloc[i,2],pos_sample_and_neig.iloc[i,0],pos_sample_and_neig.iloc[i,1])\n",
    "    \n",
    "    result_step2 = result_step1.groupby([\"ID\"]).first() #duplicate discard\n",
    "\n",
    "    result_step3 = result_step2[~result_step2.ID_2.isin(modification_site_dic[pos_sample_and_neig.iloc[i,0]][pos_sample_and_neig.iloc[i,1]])] # activate discard\n",
    "    #print(result_step3)\n",
    "    result_step4 = result_step3[result_step3[\"Res_2\"]==\"LYS\"]\n",
    "    #print(result_step4)\n",
    "    #print(result_step4.sample(1,random_state = 1))\n",
    "    #neg_sample_and_neig = pd.concat([neg_sample_and_neig,result_step4.sample(5,replace = True)])\n",
    "    #num_total_neg = len(result_step4)\n",
    "    #neg_sample_and_neig = pd.concat([neg_sample_and_neig,result_step4.sample(num_total_neg//3,replace = False)])\n",
    "    neg_sample_and_neig = pd.concat([neg_sample_and_neig,result_step4.sample(1,replace = False)])"
   ]
  },
  {
   "cell_type": "code",
   "execution_count": 67,
   "metadata": {},
   "outputs": [],
   "source": [
    "pos_sample_and_neig_pruned = pos_sample_and_neig.iloc[:,[0,1,2,3]].copy(deep=True)\n",
    "pos_sample_and_neig_pruned[\"type\"] = \"Pos\"\n",
    "pos_sample_and_neig_pruned.columns = ['pdbID', 'chain', 'ID', 'Res', 'type']"
   ]
  },
  {
   "cell_type": "code",
   "execution_count": 68,
   "metadata": {},
   "outputs": [],
   "source": [
    "neg_sample_and_neig_pruned = neg_sample_and_neig.iloc[:,[0,1,4,5]].copy(deep=True)\n",
    "neg_sample_and_neig_pruned[\"type\"] = \"Neg\"\n",
    "neg_sample_and_neig_pruned.columns = ['pdbID', 'chain', 'ID', 'Res', 'type']"
   ]
  },
  {
   "cell_type": "code",
   "execution_count": 69,
   "metadata": {},
   "outputs": [
    {
     "data": {
      "text/plain": [
       "1191"
      ]
     },
     "execution_count": 69,
     "metadata": {},
     "output_type": "execute_result"
    }
   ],
   "source": [
    "len(neg_sample_and_neig_pruned)"
   ]
  },
  {
   "cell_type": "code",
   "execution_count": 70,
   "metadata": {},
   "outputs": [],
   "source": [
    "pos_neg_sample = pd.concat([pos_sample_and_neig_pruned,neg_sample_and_neig_pruned])"
   ]
  },
  {
   "cell_type": "code",
   "execution_count": 73,
   "metadata": {},
   "outputs": [
    {
     "name": "stdout",
     "output_type": "stream",
     "text": [
      "       pdbID chain  ID_1 Res_1  ID_2 Res_2  Distance      Angle\n",
      "ID                                                             \n",
      "740416  3jzf     A    27   LYS    25   GLY  7.562873  88.182333\n",
      "740417  3jzf     A    27   LYS    26   ILE  7.797483  68.099175\n",
      "740419  3jzf     A    27   LYS    28   THR  8.190358  25.060192\n",
      "740420  3jzf     A    27   LYS    29   VAL  9.214063  75.950254\n",
      "       pdbID chain  ID_1 Res_1  ID_2 Res_2  Distance      Angle\n",
      "ID                                                             \n",
      "777276  3jzf     A   124   LYS   122   ALA  8.945536  72.438569\n",
      "777277  3jzf     A   124   LYS   123   MET  8.427515  66.838669\n",
      "777279  3jzf     A   124   LYS   125   LYS  9.703662  61.074339\n",
      "777280  3jzf     A   124   LYS   126   ALA  9.761823  18.631875\n",
      "       pdbID chain  ID_1 Res_1  ID_2 Res_2  Distance      Angle\n",
      "ID                                                             \n",
      "936646  1o8c     A    50   LYS    48   THR  6.439453  92.698479\n",
      "936647  1o8c     A    50   LYS    49   GLY  7.403862  29.682107\n",
      "936649  1o8c     A    50   LYS    51   GLY  5.415700  90.022171\n",
      "936650  1o8c     A    50   LYS    52   LYS  9.999034  63.564215\n",
      "       pdbID chain  ID_1 Res_1  ID_2 Res_2   Distance       Angle\n",
      "ID                                                               \n",
      "988321  1o8c     A   209   LYS   207   LEU  11.589458   23.684616\n",
      "988322  1o8c     A   209   LYS   208   GLU   8.483157   56.747731\n",
      "988324  1o8c     A   209   LYS   210   GLN   7.995939   75.280062\n",
      "988325  1o8c     A   209   LYS   211   VAL   6.129807  105.119172\n",
      "        pdbID chain  ID_1 Res_1  ID_2 Res_2  Distance       Angle\n",
      "ID                                                               \n",
      "1238229  2eck     A    13   LYS    11   ALA  4.191359  132.621749\n",
      "1238230  2eck     A    13   LYS    12   GLY  5.496251   84.293718\n",
      "1238232  2eck     A    13   LYS    14   GLY  6.017002   71.365163\n",
      "1238233  2eck     A    13   LYS    15   THR  8.701997   52.276082\n",
      "        pdbID chain  ID_1 Res_1  ID_2 Res_2  Distance       Angle\n",
      "ID                                                               \n",
      "1244034  2eck     A    40   LYS    38   ALA  6.947727   96.593505\n",
      "1244035  2eck     A    40   LYS    39   VAL  7.055596   69.321587\n",
      "1244037  2eck     A    40   LYS    41   SER  5.382942  100.728260\n",
      "1244038  2eck     A    40   LYS    42   GLY  8.258328   45.074070\n",
      "        pdbID chain  ID_1 Res_1  ID_2 Res_2  Distance       Angle\n",
      "ID                                                               \n",
      "1245539  2eck     A    47   LYS    45   LEU  8.182786  102.045736\n",
      "1245540  2eck     A    47   LYS    46   GLY  6.261041   74.416412\n",
      "1245542  2eck     A    47   LYS    48   GLN  4.664383  112.660623\n",
      "1245543  2eck     A    47   LYS    49   ALA  8.110972   37.400155\n",
      "        pdbID chain  ID_1 Res_1  ID_2 Res_2  Distance       Angle\n",
      "ID                                                               \n",
      "1247689  2eck     A    57   LYS    55   ALA  5.440498  111.020626\n",
      "1247690  2eck     A    57   LYS    56   GLY  6.587568   72.583166\n",
      "1247692  2eck     A    57   LYS    58   LEU  8.455212   49.066449\n",
      "1247693  2eck     A    57   LYS    59   VAL  9.477051   69.560937\n",
      "        pdbID chain  ID_1 Res_1  ID_2 Res_2   Distance      Angle\n",
      "ID                                                               \n",
      "1250269  2eck     A    69   LYS    67   LEU   9.954243  69.119273\n",
      "1250270  2eck     A    69   LYS    68   VAL   7.174093  73.843222\n",
      "1250272  2eck     A    69   LYS    70   GLU   7.506627  71.196988\n",
      "1250273  2eck     A    69   LYS    71   ARG  13.490324   7.812066\n",
      "        pdbID chain  ID_1 Res_1  ID_2 Res_2  Distance       Angle\n",
      "ID                                                               \n",
      "1277359  2eck     A   195   LYS   193   TYR  7.654772   87.052490\n",
      "1277360  2eck     A   195   LYS   194   ALA  8.141803   39.814046\n",
      "1277362  2eck     A   195   LYS   196   VAL  7.019951   62.483596\n",
      "1277363  2eck     A   195   LYS   197   ASP  8.270476  106.384009\n",
      "        pdbID chain  ID_1 Res_1  ID_2 Res_2  Distance      Angle\n",
      "ID                                                              \n",
      "1988445  1nt4     A   169   LYS   167   ASN  8.172106  58.590290\n",
      "1988446  1nt4     A   169   LYS   168   TYR  8.143798  46.804199\n",
      "1988448  1nt4     A   169   LYS   170   ASP  5.776418  91.869511\n",
      "1988449  1nt4     A   169   LYS   171   SER  7.927756  44.823954\n",
      "        pdbID chain  ID_1 Res_1  ID_2 Res_2   Distance      Angle\n",
      "ID                                                               \n",
      "1991581  1nt4     A   177   LYS   175   LYS  11.145673  46.002663\n",
      "1991582  1nt4     A   177   LYS   176   GLU   6.997457  87.373032\n",
      "1991584  1nt4     A   177   LYS   178   GLN   6.706998  44.649110\n",
      "1991585  1nt4     A   177   LYS   179   GLN   6.084541  92.640628\n",
      "        pdbID chain  ID_1 Res_1  ID_2 Res_2  Distance       Angle\n",
      "ID                                                               \n",
      "2236181  4o5q     A    16   LYS    14   LEU  8.740679   69.918683\n",
      "2236182  4o5q     A    16   LYS    15   GLU  5.543951  104.083166\n",
      "2236184  4o5q     A    16   LYS    17   LEU  7.574380   28.279113\n",
      "2236185  4o5q     A    16   LYS    18   THR  8.589147   40.681040\n",
      "        pdbID chain  ID_1 Res_1  ID_2 Res_2   Distance       Angle\n",
      "ID                                                                \n",
      "2332751  4o5q     A   201   LYS   199   ALA   6.267212  111.855278\n",
      "2332752  4o5q     A   201   LYS   200   GLU   6.968591   73.683937\n",
      "2332754  4o5q     A   201   LYS   202   ARG   9.622632   27.804766\n",
      "2332755  4o5q     A   201   LYS   203   ALA  10.118984   37.866032\n",
      "        pdbID chain  ID_1 Res_1  ID_2 Res_2  Distance      Angle\n",
      "ID                                                              \n",
      "2336927  4o5q     A   209   LYS   207   LEU  8.952465  81.296151\n",
      "2336928  4o5q     A   209   LYS   208   ASN  6.708514  87.500806\n",
      "2336930  4o5q     A   209   LYS   210   ARG  7.961072  69.059747\n",
      "2336931  4o5q     A   209   LYS   211   ASP  9.964639  43.704887\n",
      "        pdbID chain  ID_1 Res_1  ID_2 Res_2   Distance       Angle\n",
      "ID                                                                \n",
      "2391737  4o5q     A   314   LYS   312   VAL   6.785093  106.870207\n",
      "2391738  4o5q     A   314   LYS   313   LEU   6.383261   93.820584\n",
      "2391740  4o5q     A   314   LYS   315   ALA   6.747727   42.282598\n",
      "2391741  4o5q     A   314   LYS   316   ARG  10.760964   76.862613\n",
      "        pdbID chain  ID_1 Res_1  ID_2 Res_2  Distance       Angle\n",
      "ID                                                               \n",
      "2405309  4o5q     A   340   LYS   338   ARG  9.173188  102.386558\n",
      "2405310  4o5q     A   340   LYS   339   THR  5.854845   95.292019\n",
      "2405312  4o5q     A   340   LYS   341   GLY  6.768739   37.071548\n",
      "2405313  4o5q     A   340   LYS   342   VAL  8.288836   75.305018\n",
      "[]\n"
     ]
    },
    {
     "ename": "AttributeError",
     "evalue": "'list' object has no attribute 'iloc'",
     "output_type": "error",
     "traceback": [
      "\u001b[0;31m---------------------------------------------------------------------------\u001b[0m",
      "\u001b[0;31mAttributeError\u001b[0m                            Traceback (most recent call last)",
      "\u001b[0;32m<ipython-input-73-1cdba832cf57>\u001b[0m in \u001b[0;36m<module>\u001b[0;34m\u001b[0m\n\u001b[1;32m      2\u001b[0m \u001b[0;32mfor\u001b[0m \u001b[0mi\u001b[0m \u001b[0;32min\u001b[0m \u001b[0mrange\u001b[0m\u001b[0;34m(\u001b[0m\u001b[0;36m0\u001b[0m\u001b[0;34m,\u001b[0m\u001b[0mlen\u001b[0m\u001b[0;34m(\u001b[0m\u001b[0mpos_neg_sample\u001b[0m\u001b[0;34m)\u001b[0m\u001b[0;34m)\u001b[0m\u001b[0;34m:\u001b[0m\u001b[0;34m\u001b[0m\u001b[0;34m\u001b[0m\u001b[0m\n\u001b[1;32m      3\u001b[0m     \u001b[0mprint\u001b[0m\u001b[0;34m(\u001b[0m \u001b[0mn_nearest_neighbour_by_seq\u001b[0m\u001b[0;34m(\u001b[0m\u001b[0mpos_neg_sample\u001b[0m\u001b[0;34m.\u001b[0m\u001b[0miloc\u001b[0m\u001b[0;34m[\u001b[0m\u001b[0mi\u001b[0m\u001b[0;34m,\u001b[0m\u001b[0;36m0\u001b[0m\u001b[0;34m]\u001b[0m\u001b[0;34m,\u001b[0m\u001b[0mpos_neg_sample\u001b[0m\u001b[0;34m.\u001b[0m\u001b[0miloc\u001b[0m\u001b[0;34m[\u001b[0m\u001b[0mi\u001b[0m\u001b[0;34m,\u001b[0m\u001b[0;36m1\u001b[0m\u001b[0;34m]\u001b[0m\u001b[0;34m,\u001b[0m\u001b[0mpos_neg_sample\u001b[0m\u001b[0;34m.\u001b[0m\u001b[0miloc\u001b[0m\u001b[0;34m[\u001b[0m\u001b[0mi\u001b[0m\u001b[0;34m,\u001b[0m\u001b[0;36m2\u001b[0m\u001b[0;34m]\u001b[0m\u001b[0;34m,\u001b[0m\u001b[0;36m2\u001b[0m\u001b[0;34m)\u001b[0m\u001b[0;34m)\u001b[0m\u001b[0;34m\u001b[0m\u001b[0;34m\u001b[0m\u001b[0m\n\u001b[0;32m----> 4\u001b[0;31m     \u001b[0mneigh\u001b[0m \u001b[0;34m=\u001b[0m \u001b[0mn_nearest_neighbour_by_seq\u001b[0m\u001b[0;34m(\u001b[0m\u001b[0mpos_neg_sample\u001b[0m\u001b[0;34m.\u001b[0m\u001b[0miloc\u001b[0m\u001b[0;34m[\u001b[0m\u001b[0mi\u001b[0m\u001b[0;34m,\u001b[0m\u001b[0;36m0\u001b[0m\u001b[0;34m]\u001b[0m\u001b[0;34m,\u001b[0m\u001b[0mpos_neg_sample\u001b[0m\u001b[0;34m.\u001b[0m\u001b[0miloc\u001b[0m\u001b[0;34m[\u001b[0m\u001b[0mi\u001b[0m\u001b[0;34m,\u001b[0m\u001b[0;36m1\u001b[0m\u001b[0;34m]\u001b[0m\u001b[0;34m,\u001b[0m\u001b[0mpos_neg_sample\u001b[0m\u001b[0;34m.\u001b[0m\u001b[0miloc\u001b[0m\u001b[0;34m[\u001b[0m\u001b[0mi\u001b[0m\u001b[0;34m,\u001b[0m\u001b[0;36m2\u001b[0m\u001b[0;34m]\u001b[0m\u001b[0;34m,\u001b[0m\u001b[0;36m2\u001b[0m\u001b[0;34m)\u001b[0m\u001b[0;34m.\u001b[0m\u001b[0miloc\u001b[0m\u001b[0;34m[\u001b[0m\u001b[0;34m:\u001b[0m\u001b[0;34m,\u001b[0m\u001b[0;36m5\u001b[0m\u001b[0;34m:\u001b[0m\u001b[0;36m8\u001b[0m\u001b[0;34m]\u001b[0m\u001b[0;34m.\u001b[0m\u001b[0mvalues\u001b[0m\u001b[0;34m.\u001b[0m\u001b[0mflatten\u001b[0m\u001b[0;34m(\u001b[0m\u001b[0;34m)\u001b[0m\u001b[0;34m\u001b[0m\u001b[0;34m\u001b[0m\u001b[0m\n\u001b[0m\u001b[1;32m      5\u001b[0m     \u001b[0mneighbour_information_list\u001b[0m\u001b[0;34m.\u001b[0m\u001b[0mappend\u001b[0m\u001b[0;34m(\u001b[0m\u001b[0mnp\u001b[0m\u001b[0;34m.\u001b[0m\u001b[0minsert\u001b[0m\u001b[0;34m(\u001b[0m\u001b[0mneigh\u001b[0m\u001b[0;34m,\u001b[0m\u001b[0;36m0\u001b[0m\u001b[0;34m,\u001b[0m\u001b[0mpos_neg_sample\u001b[0m\u001b[0;34m.\u001b[0m\u001b[0miloc\u001b[0m\u001b[0;34m[\u001b[0m\u001b[0mi\u001b[0m\u001b[0;34m,\u001b[0m\u001b[0;36m3\u001b[0m\u001b[0;34m]\u001b[0m\u001b[0;34m)\u001b[0m\u001b[0;34m)\u001b[0m\u001b[0;34m\u001b[0m\u001b[0;34m\u001b[0m\u001b[0m\n",
      "\u001b[0;31mAttributeError\u001b[0m: 'list' object has no attribute 'iloc'"
     ]
    }
   ],
   "source": [
    "neighbour_information_list = []\n",
    "for i in range(0,len(pos_neg_sample)):\n",
    "    print( n_nearest_neighbour_by_seq(pos_neg_sample.iloc[i,0],pos_neg_sample.iloc[i,1],pos_neg_sample.iloc[i,2],2))\n",
    "    neigh = n_nearest_neighbour_by_seq(pos_neg_sample.iloc[i,0],pos_neg_sample.iloc[i,1],pos_neg_sample.iloc[i,2],2).iloc[:,5:8].values.flatten()\n",
    "    neighbour_information_list.append(np.insert(neigh,0,pos_neg_sample.iloc[i,3]))"
   ]
  },
  {
   "cell_type": "code",
   "execution_count": 285,
   "metadata": {
    "scrolled": false
   },
   "outputs": [
    {
     "name": "stdout",
     "output_type": "stream",
     "text": [
      "decision_tree\n",
      "0.554555322129\n",
      "naive_gaussian\n",
      "0.560864845938\n",
      "naive_mul\n",
      "0.541109943978\n",
      "K_neighbor\n",
      "0.531481092437\n",
      "bagging_knn\n",
      "0.539443277311\n",
      "bagging_tree\n",
      "0.574324229692\n",
      "random_forest\n",
      "0.58775210084\n",
      "adaboost\n",
      "0.55243697479\n",
      "gradient_boost\n",
      "0.56337535014\n"
     ]
    }
   ],
   "source": [
    "train_dataset = []\n",
    "for each_res in neighbour_information_list:\n",
    "    one_res_data = []\n",
    "    for element in each_res[1:]:\n",
    "        if isinstance(element,str):\n",
    "            one_res_data.extend(onehot_encoded.transform([[amino_acid_property_by_res[element]-1]])[0].tolist())\n",
    "        else:\n",
    "            one_res_data.append(element)\n",
    "    train_dataset.append(one_res_data)\n",
    "wrong_sample = []\n",
    "for i in range(0,len(train_dataset)):\n",
    "    if(len(train_dataset[i])<1):\n",
    "        wrong_sample.append(i)\n",
    "\n",
    "y_label =[1 for x in range(0,len(pos_sample_and_neig_pruned))]\n",
    "y_label.extend([2 for i in range(0,len(neg_sample_and_neig_pruned))])\n",
    "\n",
    "final_y_label = [y_label[i] for i in range(0,len(pos_neg_sample)) if i not in wrong_sample]\n",
    "final_y_label = np.asarray(final_y_label)\n",
    "shuffle_y_label = shuffle(final_y_label,random_state=0)\n",
    "\n",
    "final_train_dataset = [train_dataset[i] for i in range(0,len(pos_neg_sample)) if i not in wrong_sample]\n",
    "final_train_dataset = np.vstack(np.asarray(final_train_dataset))\n",
    "shuffle_train_dataset = shuffle(final_train_dataset,random_state=0)\n",
    "\n",
    "# skf = StratifiedKFold(n_splits=3)\n",
    "# for train, test in skf.split(shuffle_train_dataset,shuffle_y_label):\n",
    "#     for clf in clfs:\n",
    "#         clfs[clf].fit(shuffle_train_dataset[train],shuffle_y_label[train])\n",
    "#         conf_mat = confusion_matrix(clfs[clf].predict(shuffle_train_dataset[test]),shuffle_y_label[test])\n",
    "#         print(clf)\n",
    "#         print(accuracy_score(clfs[clf].predict(shuffle_train_dataset[test]),shuffle_y_label[test]))\n",
    "\n",
    "for clf in clfs:\n",
    "    print(clf)\n",
    "    scores = cross_val_score(clfs[clf],shuffle_train_dataset,shuffle_y_label,scoring='accuracy',n_jobs=5,cv=10)\n",
    "    print(sum(scores)/10)"
   ]
  },
  {
   "cell_type": "code",
   "execution_count": 281,
   "metadata": {
    "scrolled": true
   },
   "outputs": [
    {
     "name": "stdout",
     "output_type": "stream",
     "text": [
      "decision_tree\n",
      "0.547013305322\n",
      "naive_gaussian\n",
      "0.577043565465\n",
      "naive_mul\n",
      "0.554006477591\n",
      "K_neighbor\n",
      "0.540112742156\n",
      "bagging_knn\n",
      "0.554014008054\n",
      "bagging_tree\n",
      "0.592962732397\n",
      "random_forest\n",
      "0.648998071287\n",
      "adaboost\n",
      "0.580733263894\n",
      "gradient_boost\n",
      "0.585467952867\n"
     ]
    }
   ],
   "source": [
    "for clf in clfs:\n",
    "    print(clf)\n",
    "    scores = cross_val_score(clfs[clf],shuffle_train_dataset,shuffle_y_label,scoring='roc_auc',n_jobs=5,cv=10)\n",
    "    print(sum(scores)/10)"
   ]
  },
  {
   "cell_type": "code",
   "execution_count": 261,
   "metadata": {
    "scrolled": true
   },
   "outputs": [
    {
     "name": "stdout",
     "output_type": "stream",
     "text": [
      "decision_tree\n",
      "0.566919736096\n",
      "naive_gaussian\n",
      "0.53130975005\n",
      "naive_mul\n",
      "0.526430647831\n",
      "K_neighbor\n",
      "0.530962207884\n",
      "bagging_knn\n",
      "0.550686404527\n",
      "bagging_tree\n",
      "0.565985215499\n",
      "random_forest\n",
      "0.577426083824\n",
      "adaboost\n",
      "0.543861793681\n",
      "gradient_boost\n",
      "0.555596898985\n"
     ]
    }
   ],
   "source": [
    "for clf in clfs:\n",
    "    print(clf)\n",
    "    scores = cross_val_score(clfs[clf],shuffle_train_dataset,shuffle_y_label,scoring='precision',n_jobs=5,cv=10)\n",
    "    print(sum(scores)/10)"
   ]
  },
  {
   "cell_type": "code",
   "execution_count": 262,
   "metadata": {},
   "outputs": [
    {
     "name": "stdout",
     "output_type": "stream",
     "text": [
      "decision_tree\n",
      "0.552429971989\n",
      "naive_gaussian\n",
      "0.63556022409\n",
      "naive_mul\n",
      "0.528893557423\n",
      "K_neighbor\n",
      "0.524726890756\n",
      "bagging_knn\n",
      "0.572619047619\n",
      "bagging_tree\n",
      "0.659068627451\n",
      "random_forest\n",
      "0.638095238095\n",
      "adaboost\n",
      "0.582654061625\n",
      "gradient_boost\n",
      "0.58350140056\n"
     ]
    }
   ],
   "source": [
    "for clf in clfs:\n",
    "    print(clf)\n",
    "    scores = cross_val_score(clfs[clf],shuffle_train_dataset,shuffle_y_label,scoring='recall',n_jobs=5,cv=10)\n",
    "    print(sum(scores)/10)"
   ]
  },
  {
   "cell_type": "code",
   "execution_count": null,
   "metadata": {},
   "outputs": [],
   "source": []
  },
  {
   "cell_type": "code",
   "execution_count": null,
   "metadata": {},
   "outputs": [],
   "source": []
  }
 ],
 "metadata": {
  "kernelspec": {
   "display_name": "Python 3",
   "language": "python",
   "name": "python3"
  },
  "language_info": {
   "codemirror_mode": {
    "name": "ipython",
    "version": 3
   },
   "file_extension": ".py",
   "mimetype": "text/x-python",
   "name": "python",
   "nbconvert_exporter": "python",
   "pygments_lexer": "ipython3",
   "version": "3.6.9"
  }
 },
 "nbformat": 4,
 "nbformat_minor": 2
}
