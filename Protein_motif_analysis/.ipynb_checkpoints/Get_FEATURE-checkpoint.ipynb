{
 "cells": [
  {
   "cell_type": "code",
   "execution_count": 1,
   "metadata": {},
   "outputs": [],
   "source": [
    "from Bio.PDB import *\n",
    "import urllib.request\n",
    "import numpy as np\n",
    "import pandas as pd\n",
    "from math import sqrt\n",
    "import time\n",
    "import configparser\n",
    "import os\n",
    "import pymysql"
   ]
  },
  {
   "cell_type": "code",
   "execution_count": 2,
   "metadata": {},
   "outputs": [
    {
     "data": {
      "text/plain": [
       "['office_ssh', 'office_mysql']"
      ]
     },
     "execution_count": 2,
     "metadata": {},
     "output_type": "execute_result"
    }
   ],
   "source": [
    "config = configparser.ConfigParser()\n",
    "config.read(\"/home/yuan/Documents/config.ini\")\n",
    "config.sections()"
   ]
  },
  {
   "cell_type": "code",
   "execution_count": 3,
   "metadata": {},
   "outputs": [],
   "source": [
    "modification_site = pd.read_csv(\"/home/yuan/Documents/pdb_chain_ksites.csv\")"
   ]
  },
  {
   "cell_type": "code",
   "execution_count": 4,
   "metadata": {},
   "outputs": [],
   "source": [
    "modification_site_dic = {}\n",
    "for i in range(len(modification_site)):\n",
    "    if modification_site.loc[i,\"PDB\"] not in modification_site_dic:\n",
    "        modification_site_dic[modification_site.loc[i,\"PDB\"]] = {modification_site.loc[i,\"CHAIN\"]:[modification_site.loc[i,\"Ksites\"]]}\n",
    "    elif modification_site.loc[i,\"CHAIN\"] not in modification_site_dic[modification_site.loc[i,\"PDB\"]]:\n",
    "        modification_site_dic[modification_site.loc[i,\"PDB\"]][modification_site.loc[i,\"CHAIN\"]] = [modification_site.loc[i,\"Ksites\"]]\n",
    "    else:\n",
    "        modification_site_dic[modification_site.loc[i,\"PDB\"]][modification_site.loc[i,\"CHAIN\"]].append(modification_site.loc[i,\"Ksites\"])\n",
    "for protein in modification_site_dic:\n",
    "    for chain in modification_site_dic[protein]:\n",
    "        modification_site_dic[protein][chain] = list(modification_site_dic[protein][chain])"
   ]
  },
  {
   "cell_type": "code",
   "execution_count": 49,
   "metadata": {},
   "outputs": [],
   "source": [
    "unique_list = modification_site[[\"PDB\",\"CHAIN\"]].drop_duplicates()\n",
    "unique_list = unique_list.reset_index(drop=True)"
   ]
  },
  {
   "cell_type": "code",
   "execution_count": 53,
   "metadata": {},
   "outputs": [],
   "source": [
    "cd_hit_7 = pd.read_csv(\"retained_CDHIT_0.7_PTM.csv\")"
   ]
  },
  {
   "cell_type": "code",
   "execution_count": 54,
   "metadata": {
    "scrolled": false
   },
   "outputs": [
    {
     "data": {
      "text/plain": [
       "0    1ln4\n",
       "1    1lop\n",
       "2    1m63\n",
       "3    1m6v\n",
       "4    1meo\n",
       "Name: PDB, dtype: object"
      ]
     },
     "execution_count": 54,
     "metadata": {},
     "output_type": "execute_result"
    }
   ],
   "source": [
    "cd_hit_7.columns = [\"PDB\",\"CHAIN\"]\n",
    "cd_hit_7 = cd_hit_7[\"PDB\"].drop_duplicates()\n",
    "cd_hit_7 = cd_hit_7.reset_index(drop=True)\n",
    "cd_hit_7.head()"
   ]
  },
  {
   "cell_type": "code",
   "execution_count": 92,
   "metadata": {},
   "outputs": [
    {
     "data": {
      "text/plain": [
       "(539,)"
      ]
     },
     "execution_count": 92,
     "metadata": {},
     "output_type": "execute_result"
    }
   ],
   "source": [
    "cd_hit_7.shape"
   ]
  },
  {
   "cell_type": "code",
   "execution_count": 84,
   "metadata": {},
   "outputs": [],
   "source": [
    "all_elements = line.strip().split(\"\\t\")\n",
    "last_element = all_elements[-1]\n",
    "Chain = last_element.split(\":\")[1].split(\"@\")[0]\n",
    "Component = last_element.split(\":\")[1].split(\"@\")[1]\n",
    "Res_type = last_element.split(\":\")[0][0:3]\n",
    "Seq = last_element.split(\":\")[0][3:]\n",
    "feature = \",\".join(all_elements[1:481])"
   ]
  },
  {
   "cell_type": "code",
   "execution_count": 85,
   "metadata": {},
   "outputs": [
    {
     "data": {
      "text/plain": [
       "'0,0,0,0,0,0,0,0,0,0,0,0,0,0,0,0,0,0,0,0,0,0,0,0,0,0,0,0,0,0,0,0,0,0,0,0,0,0,0,0,0,0,0,0,0,0,0,0,0,0,0,0,0,0,0,0,0,0,0,0,0,0,0,0,0,0,0,0,0,0,0,0,0,0,0,0,0,0,0,0,0,0,0,0,0,0,0,0,0,0,0,0,0,0,0,0,0,0,0,0,0,0,0,0,0,0,0,0,0,0,0,0,0,0,0,0,0,0,0,0,0,0,0,0,0,0,0,0,0,0,0,0,0,0,0,0,0,0,0,0,0,0,0,0,0,0,0,0,0,0,0,0,0,0,0,0,0,0,0,0,0,0,0,0,0,0,0,0,0,0,0,0,0,0,0,0,0,0,0,0,0,0,0,0,0,0,0,0,0,0,0,0,0,0,0,0,0,0,0,0,0,0,0,0,0,0,0,0,0,0,0,0,0,0,0,0,0,0,0,0,0,0,0,0,0,0,0,0,0,0,0,0,0,0,0,0,0,0,0,0,0,1,0,0,0,0,0,0,0,0,0,0,0,-0.412,1,1,0,0,0,0,0,0,0,0,0,0,33.51,0,0,0,0,1,3,98,0,0,0,0,0,0,0,0,0,0,1,0,0,0,0,0,0,0,0,0,0,0,1,0,0,0,1,0,0,0,0,0,1,0,0,0,0,0,0,0,0,1,0,0,0,0,0,2,1,0,2,0,0,0,1,0,0,0,0,-1.7952,6,3,2,1,0,0,0,1,1,0.5,0,0,150.594,1.332,0.333,0.999,1.332,-1,26,837,0,3,0,0,0,0,1,0,0,0,2,0,0,0,0,0,0,0,0,0,0,0,2,4,0,0,2,0,3,1,0,0,6,0,0,0,0,0,0,0,0,6,0,0,0,0,2,4,0,0,1,0,0,1,1,0,0,0,0,-0.6059,9,6,1,2,0,0,0,0,1,1.5,0,3,234.339,0.666,0.666,0,0.666,0,15,965,0,1,0,0,0,0,4,0,0,0,4,0,0,0,0,0,0,0,0,0,0,0,4,5,0,0,4,0,1,4,0,0,9,0,0,0,0,0,0,0,0,9,0,0,0,0'"
      ]
     },
     "execution_count": 85,
     "metadata": {},
     "output_type": "execute_result"
    }
   ],
   "source": [
    "feature"
   ]
  },
  {
   "cell_type": "code",
   "execution_count": null,
   "metadata": {},
   "outputs": [],
   "source": [
    "conn = pymysql.connect(host=config[\"office_mysql\"][\"sql_host\"],user=config[\"office_mysql\"][\"sql_username\"],\n",
    "                       passwd=config[\"office_mysql\"][\"sql_password\"],\n",
    "                       db=config[\"office_mysql\"][\"sql_main_database\"],port=3306)\n",
    "for oneRow in cd_hit_7[2:]:\n",
    "    pdbID = oneRow\n",
    "    if os.path.exists(\"/mnt/HD1/feature_data/feature_dir/\"+pdbID+\".ff\"):\n",
    "        print(pdbID)\n",
    "        with conn as cursor:\n",
    "            with cursor:\n",
    "                try:\n",
    "                    with open(\"/mnt/HD1/feature_data/feature_dir/\"+pdbID+\".ff\",\"r\") as f:\n",
    "                        for line in f:\n",
    "                            if(line[0] == \"#\"):\n",
    "                                pass\n",
    "                            else:\n",
    "                                all_elements = line.strip().split(\"\\t\")\n",
    "                                last_element = all_elements[-1]\n",
    "                                Chain = last_element.split(\":\")[1].split(\"@\")[0]\n",
    "                                Component = last_element.split(\":\")[1].split(\"@\")[1]\n",
    "                                Res_type = last_element.split(\":\")[0][0:3]\n",
    "                                Seq = last_element.split(\":\")[0][3:]\n",
    "                                feature = \",\".join(all_elements[1:481])\n",
    "                                query = \"Insert into FEATURE(feature_ID,PDBID,Chain,Seq,Res_type,Component,\\\n",
    "                                         feature) Values(%s,%s,%s,%s,%s,%s,%s)\"\n",
    "                                value = [all_elements[0],pdbID,Chain,Seq,Res_type,Component,feature]\n",
    "                                cursor.execute(query,value)\n",
    "                                \n",
    "                except Exception as e:\n",
    "                    print(\"Exeception occured:{}\".format(e))\n",
    "                    print(pdbID)\n",
    "    conn.commit()\n",
    "    \n"
   ]
  },
  {
   "cell_type": "code",
   "execution_count": null,
   "metadata": {},
   "outputs": [],
   "source": []
  }
 ],
 "metadata": {
  "kernelspec": {
   "display_name": "Python 3",
   "language": "python",
   "name": "python3"
  },
  "language_info": {
   "codemirror_mode": {
    "name": "ipython",
    "version": 3
   },
   "file_extension": ".py",
   "mimetype": "text/x-python",
   "name": "python",
   "nbconvert_exporter": "python",
   "pygments_lexer": "ipython3",
   "version": "3.6.9"
  }
 },
 "nbformat": 4,
 "nbformat_minor": 2
}
