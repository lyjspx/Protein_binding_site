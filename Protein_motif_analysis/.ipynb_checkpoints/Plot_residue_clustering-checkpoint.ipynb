{
 "cells": [
  {
   "cell_type": "markdown",
   "metadata": {},
   "source": [
    "### Plot types of residues' spatial information\n",
    "### Active vs Nonactive\n",
    "\n",
    "##### ↓ Extract spatial information"
   ]
  },
  {
   "cell_type": "code",
   "execution_count": 1,
   "metadata": {
    "collapsed": true
   },
   "outputs": [],
   "source": [
    "from Bio.PDB import *\n",
    "import urllib.request\n",
    "import numpy as np\n",
    "import pandas as pd\n",
    "from math import sqrt\n",
    "import time\n",
    "import matplotlib.pyplot as plt"
   ]
  },
  {
   "cell_type": "code",
   "execution_count": 2,
   "metadata": {},
   "outputs": [
    {
     "name": "stdout",
     "output_type": "stream",
     "text": [
      "C:\\Users\\Administrator\\Desktop\\temp\n"
     ]
    }
   ],
   "source": [
    "cd C:\\Users\\Administrator\\Desktop\\temp"
   ]
  },
  {
   "cell_type": "code",
   "execution_count": 3,
   "metadata": {
    "collapsed": true
   },
   "outputs": [],
   "source": [
    "backbone = [\"N\",\"CA\",\"C\",\"O\"]\n",
    "aminoAcidCodes = [\"ALA\",\"ARG\",\"ASN\",\"ASP\",\"CYS\",\"GLN\",\"GLY\",\"GLU\",\"HIS\",\"ILE\",\"LEU\",\"LYS\",\n",
    "                 \"MET\",\"PHE\",\"PRO\",\"SER\",\"THR\",\"TRP\",\"TYR\",\"VAL\"]"
   ]
  },
  {
   "cell_type": "code",
   "execution_count": 4,
   "metadata": {
    "collapsed": true
   },
   "outputs": [],
   "source": [
    "peptidasesList = pd.read_csv(\"Y:/Yuan/temp/MCSA_EC3.4_peptidases.csv\")\n",
    "peptidasesList = peptidasesList[peptidasesList.iloc[:,4] == \"residue\"]\n",
    "peptidasesList = peptidasesList.reset_index(drop=True)\n",
    "bindingSiteDic = {}\n",
    "for i in range(len(peptidasesList)):\n",
    "    #print(bindingSiteDic)\n",
    "    if peptidasesList.loc[i,\"PDB\"] not in bindingSiteDic:\n",
    "        bindingSiteDic[peptidasesList.loc[i,\"PDB\"]] = {peptidasesList.loc[i,\"chain/kegg compound\"]: [peptidasesList.loc[i,\"resid/chebi id\"]]}\n",
    "    elif peptidasesList.loc[i,\"chain/kegg compound\"] not in bindingSiteDic[peptidasesList.loc[i,\"PDB\"]]:\n",
    "         bindingSiteDic[peptidasesList.loc[i,\"PDB\"]] = {peptidasesList.loc[i,\"chain/kegg compound\"]: [peptidasesList.loc[i,\"resid/chebi id\"]]}\n",
    "    else:\n",
    "        bindingSiteDic[peptidasesList.loc[i,\"PDB\"]][peptidasesList.loc[i,\"chain/kegg compound\"]].append(peptidasesList.loc[i,\"resid/chebi id\"])\n",
    "for protein in bindingSiteDic:\n",
    "    for chain in bindingSiteDic[protein]:\n",
    "        bindingSiteDic[protein][chain] = list(set(bindingSiteDic[protein][chain])) \n",
    "\n",
    "uniqueList = peptidasesList[[\"PDB\",\"chain/kegg compound\"]].drop_duplicates()"
   ]
  },
  {
   "cell_type": "code",
   "execution_count": 500,
   "metadata": {},
   "outputs": [
    {
     "data": {
      "text/html": [
       "<div>\n",
       "<style>\n",
       "    .dataframe thead tr:only-child th {\n",
       "        text-align: right;\n",
       "    }\n",
       "\n",
       "    .dataframe thead th {\n",
       "        text-align: left;\n",
       "    }\n",
       "\n",
       "    .dataframe tbody tr th {\n",
       "        vertical-align: top;\n",
       "    }\n",
       "</style>\n",
       "<table border=\"1\" class=\"dataframe\">\n",
       "  <thead>\n",
       "    <tr style=\"text-align: right;\">\n",
       "      <th></th>\n",
       "      <th>PDB</th>\n",
       "      <th>chain/kegg compound</th>\n",
       "    </tr>\n",
       "  </thead>\n",
       "  <tbody>\n",
       "    <tr>\n",
       "      <th>36</th>\n",
       "      <td>1ei5</td>\n",
       "      <td>A</td>\n",
       "    </tr>\n",
       "    <tr>\n",
       "      <th>149</th>\n",
       "      <td>1whs</td>\n",
       "      <td>A</td>\n",
       "    </tr>\n",
       "    <tr>\n",
       "      <th>176</th>\n",
       "      <td>1whs</td>\n",
       "      <td>B</td>\n",
       "    </tr>\n",
       "    <tr>\n",
       "      <th>514</th>\n",
       "      <td>1dki</td>\n",
       "      <td>A</td>\n",
       "    </tr>\n",
       "  </tbody>\n",
       "</table>\n",
       "</div>"
      ],
      "text/plain": [
       "      PDB chain/kegg compound\n",
       "36   1ei5                   A\n",
       "149  1whs                   A\n",
       "176  1whs                   B\n",
       "514  1dki                   A"
      ]
     },
     "execution_count": 500,
     "metadata": {},
     "output_type": "execute_result"
    }
   ],
   "source": [
    "uniqueList.loc[(36,149,176,514),]"
   ]
  },
  {
   "cell_type": "code",
   "execution_count": 5,
   "metadata": {},
   "outputs": [
    {
     "data": {
      "text/plain": [
       "{'A': [163.0, 84.0, 182.0, 46.0]}"
      ]
     },
     "execution_count": 5,
     "metadata": {},
     "output_type": "execute_result"
    }
   ],
   "source": [
    "bindingSiteDic[\"2bhg\"]"
   ]
  },
  {
   "cell_type": "code",
   "execution_count": 270,
   "metadata": {},
   "outputs": [
    {
     "name": "stdout",
     "output_type": "stream",
     "text": [
      "Structure exists: 'Y:/Yuan/temp\\pdb1rtf.ent' \n"
     ]
    },
    {
     "data": {
      "text/plain": [
       "'Y:/Yuan/temp\\\\pdb1rtf.ent'"
      ]
     },
     "execution_count": 270,
     "metadata": {},
     "output_type": "execute_result"
    }
   ],
   "source": [
    "pdbID = \"1rtf\"\n",
    "chainOrder = \"B\"\n",
    "PDB = PDBList()\n",
    "PDB.retrieve_pdb_file(pdb_code = pdbID, pdir = \"Y:/Yuan/temp\", file_format=\"pdb\")"
   ]
  },
  {
   "cell_type": "code",
   "execution_count": 342,
   "metadata": {},
   "outputs": [
    {
     "name": "stderr",
     "output_type": "stream",
     "text": [
      "C:\\Users\\Administrator\\Anaconda3\\envs\\pdbPy3\\lib\\site-packages\\Bio\\PDB\\StructureBuilder.py:91: PDBConstructionWarning: WARNING: Chain A is discontinuous at line 2853.\n",
      "  PDBConstructionWarning)\n",
      "C:\\Users\\Administrator\\Anaconda3\\envs\\pdbPy3\\lib\\site-packages\\Bio\\PDB\\StructureBuilder.py:91: PDBConstructionWarning: WARNING: Chain B is discontinuous at line 2865.\n",
      "  PDBConstructionWarning)\n"
     ]
    }
   ],
   "source": [
    "p = PDBParser()\n",
    "structure = p.get_structure(\"X\",\"Y:/Yuan/temp/pdb\"+pdbID+\".ent\")"
   ]
  },
  {
   "cell_type": "code",
   "execution_count": 346,
   "metadata": {
    "collapsed": true
   },
   "outputs": [],
   "source": [
    "oneChain = pd.DataFrame(columns = [\"Seq\",\"Residue\",\"Center\",\"Direction\"])\n",
    "if structure.header[\"resolution\"]<=3.0:\n",
    "    if chainOrder in [x.id for x in list(structure[0].get_chains())]: #Chain information not in pdb file\n",
    "        for residue in structure[0][chainOrder]: \n",
    "            if residue.get_resname() in aminoAcidCodes: # Only treat common amino acid\n",
    "                if residue.get_id()[2] == \" \": #ignore insetions\n",
    "                    if len(list(residue.get_atoms())) >3:\n",
    "                        if residue.get_resname() != \"GLY\":  # Glysine as a special case\n",
    "                            point = vectors.Vector([0,0,0])\n",
    "                            for atom in residue:\n",
    "                                if(atom.get_name() not in backbone):\n",
    "                                    point = point + atom.get_vector()\n",
    "                            center = point.__div__(len(residue)-4)\n",
    "                            cToRGroup = residue[\"CA\"].get_vector()-center\n",
    "                            oneChain.loc[len(oneChain)] = [residue.get_id()[1],residue.get_resname(),center,cToRGroup]        \n",
    "                        else:\n",
    "                            center = residue[\"CA\"].get_vector()\n",
    "                            cToRGroup = center - (residue[\"C\"].get_vector()+residue[\"N\"].get_vector()+residue[\"O\"].get_vector()).__div__(3)\n",
    "                            oneChain.loc[len(oneChain)] = [residue.get_id()[1],residue.get_resname(),center,cToRGroup]\n"
   ]
  },
  {
   "cell_type": "code",
   "execution_count": 347,
   "metadata": {
    "scrolled": true
   },
   "outputs": [
    {
     "name": "stdout",
     "output_type": "stream",
     "text": [
      "0th row\n"
     ]
    },
    {
     "name": "stderr",
     "output_type": "stream",
     "text": [
      "C:\\Users\\Administrator\\Anaconda3\\envs\\pdbPy3\\lib\\site-packages\\ipykernel_launcher.py:12: RuntimeWarning: invalid value encountered in arccos\n",
      "  if sys.path[0] == '':\n"
     ]
    },
    {
     "name": "stdout",
     "output_type": "stream",
     "text": [
      "50th row\n",
      "100th row\n",
      "150th row\n",
      "200th row\n"
     ]
    }
   ],
   "source": [
    "distanceMatrix = pd.DataFrame(columns = list(oneChain.iloc[:,0]),index = list(oneChain.iloc[:,0]))\n",
    "angleMatrix = pd.DataFrame(columns = list(oneChain.iloc[:,0]),index = list(oneChain.iloc[:,0]))\n",
    "numResidue = len(oneChain)\n",
    "for row in range(0,numResidue):\n",
    "    if row % 50 ==0:\n",
    "        print(str(row)+\"th row\")\n",
    "    for column in range(0,numResidue):\n",
    "        coordinatesSubstraction = list(oneChain.loc[row,\"Center\"] - oneChain.loc[column,\"Center\"])\n",
    "        distanceMatrix.iloc[row,column] = sqrt(sum(list(map(lambda x:x*x, coordinatesSubstraction))))\n",
    "        v1 = oneChain.loc[row,\"Direction\"] \n",
    "        v2 = oneChain.loc[column,\"Direction\"]\n",
    "        angleMatrix.iloc[row,column] = 180*np.arccos(np.dot(v1,v2)/(np.linalg.norm(v1) * np.linalg.norm(v2)))/np.pi"
   ]
  },
  {
   "cell_type": "code",
   "execution_count": 438,
   "metadata": {
    "collapsed": true
   },
   "outputs": [],
   "source": [
    "allTwoResidue = oneChain[(oneChain[\"Residue\"] == residue1)|(oneChain[\"Residue\"] == residue2)]\n",
    "allTwoResidue.is_copy = False\n",
    "allTwoResidue.loc[:,\"active\"] = np.where(allTwoResidue[\"Seq\"].isin(bindingSiteDic[pdbID][chainOrder]),\"yes\",\"no\")\n",
    "allTwoResidue[\"all_point\"] = None\n",
    "allTwoResidue[\"PDBID\"] = pdbID\n",
    "allTwoResidue[\"Chain\"] = chainOrder\n",
    "rawAllTwoResidue=allTwoResidue.copy(deep=True)\n",
    "for i,row in allTwoResidue.iterrows():\n",
    "    if row[\"Residue\"] == residue1:\n",
    "        allPoint = list()\n",
    "        oneResidue1 = row[\"Seq\"]\n",
    "        for oneResidue2 in rawAllTwoResidue[rawAllTwoResidue[\"Residue\"]==residue2][\"Seq\"]:\n",
    "            coordinate1=distanceMatrix.loc[oneResidue1,oneResidue2]\n",
    "            coordinate2=angleMatrix.loc[oneResidue1,oneResidue2]      \n",
    "            allPoint.append(str(coordinate1))\n",
    "            allPoint.append(str(coordinate2))\n",
    "        allTwoResidue.set_value(i,\"all_point\",\",\".join(allPoint))"
   ]
  },
  {
   "cell_type": "code",
   "execution_count": null,
   "metadata": {
    "collapsed": true,
    "scrolled": false
   },
   "outputs": [],
   "source": [
    "structure[0][\"B\"][110].get_id()[2]==\" \""
   ]
  },
  {
   "cell_type": "code",
   "execution_count": null,
   "metadata": {
    "collapsed": true
   },
   "outputs": [],
   "source": [
    "#define two residue types for plotting\n",
    "residue1 = \"GLY\"\n",
    "residue2 = \"ASP\"\n",
    "resultContainer = list()\n",
    "for index, oneRow in uniqueList.loc[(36,149,176,514),].iterrows():\n",
    "    try:\n",
    "        pdbID = oneRow[\"PDB\"]\n",
    "        chainOrder = oneRow[\"chain/kegg compound\"]\n",
    "        PDB = PDBList()\n",
    "        PDB.retrieve_pdb_file(pdb_code = pdbID, pdir = \"Y:/Yuan/temp\", file_format=\"pdb\")\n",
    "        p = PDBParser()\n",
    "        structure = p.get_structure(\"X\",\"Y:/Yuan/temp/pdb\"+pdbID+\".ent\")\n",
    "        oneChain = pd.DataFrame(columns = [\"Seq\",\"Residue\",\"Center\",\"Direction\"])\n",
    "        if structure.header[\"resolution\"]<=3.0:\n",
    "            if chainOrder in [x.id for x in list(structure[0].get_chains())]: #Chain information not in pdb file\n",
    "                for residue in structure[0][chainOrder]: \n",
    "                    if residue.get_resname() in aminoAcidCodes: # Only treat common amino acid\n",
    "                        if residue.get_id()[2] == \" \": #ignore insertions\n",
    "                            if len(list(residue.get_atoms())) >3:\n",
    "                                if residue.get_resname() != \"GLY\":  # Glysine as a special case\n",
    "                                    point = vectors.Vector([0,0,0])\n",
    "                                    for atom in residue:\n",
    "                                        if(atom.get_name() not in backbone):\n",
    "                                            point = point + atom.get_vector()\n",
    "                                    center = point.__div__(len(residue)-4)\n",
    "                                    cToRGroup = residue[\"CA\"].get_vector()-center\n",
    "                                    oneChain.loc[len(oneChain)] = [residue.get_id()[1],residue.get_resname(),center,cToRGroup]        \n",
    "                                else:\n",
    "                                    center = residue[\"CA\"].get_vector()\n",
    "                                    cToRGroup = center - (residue[\"C\"].get_vector()+residue[\"N\"].get_vector()+residue[\"O\"].get_vector()).__div__(3)\n",
    "                                    oneChain.loc[len(oneChain)] = [residue.get_id()[1],residue.get_resname(),center,cToRGroup]\n",
    "            allTwoResidue = oneChain[(oneChain[\"Residue\"] == residue1)|(oneChain[\"Residue\"] == residue2)]\n",
    "            allTwoResidue.is_copy = False\n",
    "            allTwoResidue.loc[:,\"active\"] = np.where(allTwoResidue[\"Seq\"].isin(bindingSiteDic[pdbID][chainOrder]),\"yes\",\"no\")\n",
    "        distanceMatrix = pd.DataFrame(columns = list(oneChain.iloc[:,0]),index = list(oneChain.iloc[:,0]))\n",
    "        angleMatrix = pd.DataFrame(columns = list(oneChain.iloc[:,0]),index = list(oneChain.iloc[:,0]))\n",
    "        numResidue = len(oneChain)\n",
    "        for row in range(0,numResidue):\n",
    "            if row % 50 ==0:\n",
    "                print(str(row)+\"th row\")\n",
    "            for column in range(0,numResidue):\n",
    "                coordinatesSubstraction = list(oneChain.loc[row,\"Center\"] - oneChain.loc[column,\"Center\"])\n",
    "                distanceMatrix.iloc[row,column] = sqrt(sum(list(map(lambda x:x*x, coordinatesSubstraction))))\n",
    "                v1 = oneChain.loc[row,\"Direction\"] \n",
    "                v2 = oneChain.loc[column,\"Direction\"]\n",
    "                angleMatrix.iloc[row,column] = 180*np.arccos(np.dot(v1,v2)/(np.linalg.norm(v1) * np.linalg.norm(v2)))/np.pi\n",
    "        allTwoResidue[\"all_point\"] = None\n",
    "        allTwoResidue[\"PDBID\"] = pdbID\n",
    "        allTwoResidue[\"Chain\"] = chainOrder\n",
    "        rawAllTwoResidue=allTwoResidue.copy(deep=True)\n",
    "        for i,row in allTwoResidue.iterrows():\n",
    "            if row[\"Residue\"] == residue1:\n",
    "                allPoint = list()\n",
    "                oneResidue1 = row[\"Seq\"]\n",
    "                for oneResidue2 in rawAllTwoResidue[rawAllTwoResidue[\"Residue\"]==residue2][\"Seq\"]:\n",
    "                    coordinate1=distanceMatrix.loc[oneResidue1,oneResidue2]\n",
    "                    coordinate2=angleMatrix.loc[oneResidue1,oneResidue2]      \n",
    "                    allPoint.append(str(coordinate1))\n",
    "                    allPoint.append(str(coordinate2))\n",
    "                allTwoResidue.set_value(i,\"all_point\",\",\".join(allPoint))\n",
    "        resultContainer.append(allTwoResidue)\n",
    "    except Exception:\n",
    "        print(pdbID,\"skipped\")\n",
    "combinedResult = pd.concat(resultContainer)"
   ]
  },
  {
   "cell_type": "code",
   "execution_count": 424,
   "metadata": {
    "collapsed": true
   },
   "outputs": [],
   "source": [
    "combinedResult.to_csv(\"combineResult.csv\")"
   ]
  },
  {
   "cell_type": "code",
   "execution_count": 432,
   "metadata": {
    "collapsed": true
   },
   "outputs": [],
   "source": [
    "coordinate1 = list()\n",
    "coordinate2 = list()\n",
    "flag = False\n",
    "for eachRow in combinedResult[(combinedResult[\"Residue\"] != residue2)&(combinedResult[\"active\"]==\"yes\")][\"all_point\"]:\n",
    "    if eachRow != None:\n",
    "        if len(eachRow.strip().split(\",\"))>1:\n",
    "            for i,element in enumerate(eachRow.strip().split(\",\")):\n",
    "                if i%2 == 0:\n",
    "                    if float(element) <17:\n",
    "                        flag = True\n",
    "                        coordinate1.append(element)\n",
    "                elif i%2 ==1 & flag:\n",
    "                    coordinate2.append(element)\n",
    "                    flag = False"
   ]
  },
  {
   "cell_type": "code",
   "execution_count": 433,
   "metadata": {},
   "outputs": [
    {
     "data": {
      "image/png": "[encoded data removed]",
      "text/plain": [
       "<matplotlib.figure.Figure at 0xaa6dcf10f0>"
      ]
     },
     "metadata": {},
     "output_type": "display_data"
    }
   ],
   "source": [
    "plt.figure(figsize = (10,5),dpi=80)\n",
    "\n",
    "plt.scatter(coordinate1,coordinate2,\n",
    "           marker = \"s\")\n",
    "\n",
    "\n",
    "#plt.legend([\"ASP_Neg\",\"ASP_Pos\",\"HIS_Neg\",\"His_Pos\"])\n",
    "\n",
    "plt.xlabel(\"Distance\")\n",
    "plt.ylabel(\"Angle\")\n",
    "\n",
    "plt.title(\"Active {} vs {}\".format(residue1,residue2))\n",
    "plt.savefig(\"Active {} vs {}.png\".format(residue1,residue2),dpi=300, facecolor='w', edgecolor='w',\n",
    "        orientation='portrait', papertype=None, format=None,\n",
    "        transparent=False, bbox_inches=None, pad_inches=0.1,\n",
    "        frameon=None, metadata=None)\n",
    "\n",
    "plt.show()"
   ]
  },
  {
   "cell_type": "code",
   "execution_count": 434,
   "metadata": {},
   "outputs": [
    {
     "data": {
      "image/png": "[encoded data removed]",
      "text/plain": [
       "<matplotlib.figure.Figure at 0xaa03db26a0>"
      ]
     },
     "metadata": {},
     "output_type": "display_data"
    }
   ],
   "source": [
    "plt.figure(figsize = (10,5),dpi=80)\n",
    "plt.hist([float(x) for x in coordinate2], bins=20)\n",
    "plt.title(\"Active {} vs {} angle\".format(residue1,residue2))\n",
    "plt.savefig(\"Active {} vs {} angle.png\".format(residue1,residue2),dpi=300, facecolor='w', edgecolor='w',\n",
    "        orientation='portrait', papertype=None, format=None,\n",
    "        transparent=False, bbox_inches=None, pad_inches=0.1,\n",
    "        frameon=None, metadata=None)\n",
    "plt.show()"
   ]
  },
  {
   "cell_type": "code",
   "execution_count": 435,
   "metadata": {
    "collapsed": true
   },
   "outputs": [],
   "source": [
    "coordinate1 = list()\n",
    "coordinate2 = list()\n",
    "flag = False\n",
    "for eachRow in combinedResult[(combinedResult[\"Residue\"] != residue2)&(combinedResult[\"active\"]==\"no\")][\"all_point\"]:\n",
    "    if eachRow != None:\n",
    "        if (len(eachRow.strip().split(\",\"))>2):\n",
    "            for i,element in enumerate(eachRow.split(\",\")):\n",
    "                if i%2 == 0:\n",
    "                    if float(element) <17:\n",
    "                        flag = True\n",
    "                        coordinate1.append(element)\n",
    "                elif i%2 ==1 & flag:\n",
    "                    coordinate2.append(element)\n",
    "                    flag = False"
   ]
  },
  {
   "cell_type": "code",
   "execution_count": 436,
   "metadata": {},
   "outputs": [
    {
     "data": {
      "image/png": "[encoded data removed]",
      "text/plain": [
       "<matplotlib.figure.Figure at 0xaa0321ac88>"
      ]
     },
     "metadata": {},
     "output_type": "display_data"
    }
   ],
   "source": [
    "plt.figure(figsize = (10,5),dpi=80)\n",
    "\n",
    "plt.scatter(coordinate1,coordinate2,\n",
    "           marker = \"s\")\n",
    "\n",
    "\n",
    "#plt.legend([\"ASP_Neg\",\"ASP_Pos\",\"HIS_Neg\",\"His_Pos\"])\n",
    "\n",
    "plt.xlabel(\"Distance\")\n",
    "plt.ylabel(\"Angle\")\n",
    "plt.title(\"Nonactive {} vs {}\".format(residue1,residue2))\n",
    "plt.savefig(\"NonActive {} vs {}.png\".format(residue1,residue2),dpi=300, facecolor='w', edgecolor='w',\n",
    "        orientation='portrait', papertype=None, format=None,\n",
    "        transparent=False, bbox_inches=None, pad_inches=0.1,\n",
    "        frameon=None, metadata=None)\n",
    "\n",
    "plt.show()\n"
   ]
  },
  {
   "cell_type": "code",
   "execution_count": 437,
   "metadata": {},
   "outputs": [
    {
     "data": {
      "image/png": "[encoded data removed]",
      "text/plain": [
       "<matplotlib.figure.Figure at 0xaa03fbdcc0>"
      ]
     },
     "metadata": {},
     "output_type": "display_data"
    }
   ],
   "source": [
    "plt.figure(figsize = (10,5),dpi=80)\n",
    "plt.hist([float(x) for x in coordinate2], bins=20)\n",
    "plt.title(\"Nonactive {} vs {} angle\".format(residue1,residue2))\n",
    "plt.savefig(\"Nonactive {} vs {} angle.png\".format(residue1,residue2),dpi=300, facecolor='w', edgecolor='w',\n",
    "        orientation='portrait', papertype=None, format=None,\n",
    "        transparent=False, bbox_inches=None, pad_inches=0.1,\n",
    "        frameon=None, metadata=None)\n",
    "plt.show()"
   ]
  },
  {
   "cell_type": "code",
   "execution_count": null,
   "metadata": {
    "collapsed": true
   },
   "outputs": [],
   "source": []
  },
  {
   "cell_type": "code",
   "execution_count": null,
   "metadata": {
    "collapsed": true
   },
   "outputs": [],
   "source": []
  },
  {
   "cell_type": "markdown",
   "metadata": {},
   "source": [
    "## Mysql database data insertion"
   ]
  },
  {
   "cell_type": "code",
   "execution_count": null,
   "metadata": {
    "collapsed": true
   },
   "outputs": [],
   "source": []
  },
  {
   "cell_type": "code",
   "execution_count": 8,
   "metadata": {
    "collapsed": true
   },
   "outputs": [],
   "source": [
    "mysql_configure = pd.read_csv(\"Y:/Yuan/temp/mysql_connection.csv\",index_col=0)"
   ]
  },
  {
   "cell_type": "code",
   "execution_count": 9,
   "metadata": {
    "collapsed": true
   },
   "outputs": [],
   "source": [
    "import pymysql\n",
    "import pandas as pd\n",
    "from sshtunnel import SSHTunnelForwarder\n",
    "from os.path import expanduser\n",
    "import getpass\n",
    "\n",
    "sql_hostname = mysql_configure.loc[\"sql_hostname\",][\"value\"]\n",
    "sql_username = mysql_configure.loc[\"sql_username\",][\"value\"]\n",
    "sql_password = mysql_configure.loc[\"sql_password\",][\"value\"]\n",
    "sql_main_database = mysql_configure.loc[\"sql_main_database\",][\"value\"]\n",
    "sql_port = int(mysql_configure.loc[\"sql_port\",][\"value\"])\n",
    "ssh_host = mysql_configure.loc[\"ssh_host\",][\"value\"]\n",
    "ssh_user = mysql_configure.loc[\"ssh_user\",][\"value\"]\n",
    "ssh_password = mysql_configure.loc[\"ssh_password\",][\"value\"]\n",
    "ssh_port = int(mysql_configure.loc[\"ssh_port\",][\"value\"])"
   ]
  },
  {
   "cell_type": "code",
   "execution_count": 451,
   "metadata": {},
   "outputs": [
    {
     "name": "stdout",
     "output_type": "stream",
     "text": [
      "SSH connected\n",
      "Finished\n"
     ]
    }
   ],
   "source": [
    "##Insert pdbID\n",
    "with SSHTunnelForwarder(\n",
    "        (ssh_host, ssh_port),\n",
    "        ssh_username=ssh_user,\n",
    "        ssh_password=ssh_password,\n",
    "        remote_bind_address=('127.0.0.1', sql_port)) as tunnel:\n",
    "    print('SSH connected')\n",
    "    \n",
    "    conn = pymysql.connect(host='127.0.0.1', user=sql_username,\n",
    "            passwd=sql_password, db=sql_main_database,\n",
    "            port=tunnel.local_bind_port)\n",
    "    for i, row in uniqueList.iterrows():\n",
    "        query = '''INSERT INTO `pdbdb`.`pdbIDList` (`pdbID`, `Chain`,`type`) VALUES (%s, %s, %s);'''\n",
    "        value = (row[\"PDB\"],row[\"chain/kegg compound\"],\"Catalytic\")\n",
    "        conn.cursor().execute(query,value)\n",
    "    conn.commit()\n",
    "    print(\"Finished\")\n",
    "    conn.close()"
   ]
  },
  {
   "cell_type": "code",
   "execution_count": 463,
   "metadata": {},
   "outputs": [
    {
     "name": "stdout",
     "output_type": "stream",
     "text": [
      "SSH connected\n",
      "Finished\n"
     ]
    }
   ],
   "source": [
    "##Insert active sites:\n",
    "with SSHTunnelForwarder(\n",
    "        (ssh_host, ssh_port),\n",
    "        ssh_username=ssh_user,\n",
    "        ssh_password=ssh_password,\n",
    "        remote_bind_address=('127.0.0.1', sql_port)) as tunnel:\n",
    "    print('SSH connected')\n",
    "    \n",
    "    conn = pymysql.connect(host='127.0.0.1', user=sql_username,\n",
    "            passwd=sql_password, db=sql_main_database,\n",
    "            port=tunnel.local_bind_port)  \n",
    "    for protein,inProtein in bindingSiteDic.items():\n",
    "        for chain,inChain in inProtein.items():\n",
    "            for each in inChain:\n",
    "                query = '''INSERT INTO `pdbdb`.`Site` (`pdbID`, `Chain`,`Seq`,`Active`) VALUES (%s, %s, %s,%s);'''\n",
    "                value = (protein,chain,str(each),\"Catalytic\")\n",
    "                conn.cursor().execute(query,value)\n",
    "    conn.commit()\n",
    "    print(\"Finished\")\n",
    "    conn.close()\n"
   ]
  },
  {
   "cell_type": "code",
   "execution_count": 11,
   "metadata": {
    "scrolled": false
   },
   "outputs": [
    {
     "name": "stdout",
     "output_type": "stream",
     "text": [
      "SSH connected\n",
      "Structure exists: 'Y:/Lab_Public/Yuan/temp\\pdb1lam.ent' \n",
      "484\n",
      "0th row\n",
      "100th row\n",
      "200th row\n",
      "300th row\n",
      "400th row\n",
      "Structure exists: 'Y:/Lab_Public/Yuan/temp\\pdb1lok.ent' \n",
      "291\n",
      "0th row\n",
      "100th row\n",
      "200th row\n",
      "Structure exists: 'Y:/Lab_Public/Yuan/temp\\pdb1xgm.ent' \n",
      "295\n",
      "0th row\n",
      "100th row\n",
      "200th row\n",
      "Structure exists: 'Y:/Lab_Public/Yuan/temp\\pdb1b65.ent' \n",
      "363\n",
      "0th row\n",
      "100th row\n",
      "200th row\n",
      "300th row\n",
      "Structure exists: 'Y:/Lab_Public/Yuan/temp\\pdb1ei5.ent' \n",
      "518\n",
      "0th row\n",
      "100th row\n",
      "200th row\n",
      "300th row\n",
      "400th row\n",
      "500th row\n",
      "Structure exists: 'Y:/Lab_Public/Yuan/temp\\pdb1azw.ent' \n",
      "313\n",
      "0th row\n",
      "100th row\n",
      "200th row\n",
      "300th row\n",
      "Structure exists: 'Y:/Lab_Public/Yuan/temp\\pdb1a16.ent' \n",
      "441\n",
      "0th row\n",
      "100th row\n",
      "200th row\n",
      "300th row\n",
      "400th row\n",
      "Structure exists: 'Y:/Lab_Public/Yuan/temp\\pdb1itq.ent' \n",
      "369\n",
      "0th row\n",
      "100th row\n",
      "200th row\n",
      "300th row\n",
      "Structure exists: 'Y:/Lab_Public/Yuan/temp\\pdb1fy2.ent' \n",
      "220\n",
      "0th row\n",
      "100th row\n",
      "200th row\n",
      "Structure exists: 'Y:/Lab_Public/Yuan/temp\\pdb1r44.ent' \n",
      "202\n",
      "0th row\n",
      "100th row\n",
      "200th row\n",
      "Structure exists: 'Y:/Lab_Public/Yuan/temp\\pdb1pfq.ent' \n",
      "728\n",
      "0th row\n",
      "100th row\n",
      "200th row\n",
      "300th row\n",
      "400th row\n",
      "500th row\n",
      "600th row\n",
      "700th row\n",
      "Structure exists: 'Y:/Lab_Public/Yuan/temp\\pdb1whs.ent' \n",
      "249\n",
      "0th row\n",
      "100th row\n",
      "200th row\n",
      "Structure exists: 'Y:/Lab_Public/Yuan/temp\\pdb1whs.ent' \n",
      "147\n",
      "0th row\n",
      "100th row\n",
      "Structure exists: 'Y:/Lab_Public/Yuan/temp\\pdb1m4l.ent' \n",
      "307\n",
      "0th row\n",
      "100th row\n",
      "200th row\n",
      "300th row\n",
      "Structure exists: 'Y:/Lab_Public/Yuan/temp\\pdb1cg2.ent' \n",
      "389\n",
      "0th row\n",
      "100th row\n",
      "200th row\n",
      "300th row\n",
      "Structure exists: 'Y:/Lab_Public/Yuan/temp\\pdb1lbu.ent' \n",
      "213\n",
      "0th row\n",
      "100th row\n",
      "200th row\n",
      "Structure exists: 'Y:/Lab_Public/Yuan/temp\\pdb1deu.ent' \n",
      "242\n",
      "0th row\n",
      "100th row\n",
      "200th row\n",
      "Structure exists: 'Y:/Lab_Public/Yuan/temp\\pdb1uch.ent' \n",
      "206\n",
      "0th row\n",
      "100th row\n",
      "200th row\n",
      "Structure exists: 'Y:/Lab_Public/Yuan/temp\\pdb1nbf.ent' \n",
      "347\n",
      "0th row\n",
      "100th row\n",
      "200th row\n",
      "300th row\n",
      "Structure exists: 'Y:/Lab_Public/Yuan/temp\\pdb2bx4.ent' \n",
      "298\n",
      "0th row\n",
      "100th row\n",
      "200th row\n",
      "Structure exists: 'Y:/Lab_Public/Yuan/temp\\pdb1aug.ent' \n",
      "210\n",
      "0th row\n",
      "100th row\n",
      "200th row\n",
      "Structure exists: 'Y:/Lab_Public/Yuan/temp\\pdb1onw.ent' \n",
      "375\n",
      "0th row\n",
      "100th row\n",
      "200th row\n",
      "300th row\n",
      "Structure exists: 'Y:/Lab_Public/Yuan/temp\\pdb1l9x.ent' \n",
      "288\n",
      "0th row\n",
      "100th row\n",
      "200th row\n",
      "Structure exists: 'Y:/Lab_Public/Yuan/temp\\pdb1k32.ent' \n",
      "1023\n",
      "0th row\n",
      "100th row\n",
      "200th row\n",
      "300th row\n",
      "400th row\n",
      "500th row\n",
      "600th row\n",
      "700th row\n",
      "800th row\n",
      "900th row\n",
      "1000th row\n",
      "Structure exists: 'Y:/Lab_Public/Yuan/temp\\pdb1yph.ent' \n",
      "12\n",
      "0th row\n",
      "Structure exists: 'Y:/Lab_Public/Yuan/temp\\pdb1yph.ent' \n",
      "131\n",
      "0th row\n",
      "100th row\n",
      "Structure exists: 'Y:/Lab_Public/Yuan/temp\\pdb1nlu.ent' \n",
      "368\n",
      "0th row\n",
      "100th row\n",
      "200th row\n",
      "300th row\n",
      "Structure exists: 'Y:/Lab_Public/Yuan/temp\\pdb1ssx.ent' \n",
      "170\n",
      "0th row\n",
      "100th row\n",
      "Structure exists: 'Y:/Lab_Public/Yuan/temp\\pdb1qfm.ent' \n",
      "705\n",
      "0th row\n",
      "100th row\n",
      "200th row\n",
      "300th row\n",
      "400th row\n",
      "500th row\n",
      "600th row\n",
      "700th row\n",
      "Structure exists: 'Y:/Lab_Public/Yuan/temp\\pdb1pq5.ent' \n",
      "225\n",
      "0th row\n",
      "100th row\n",
      "200th row\n",
      "Structure exists: 'Y:/Lab_Public/Yuan/temp\\pdb1hzf.ent' \n",
      "297\n",
      "0th row\n",
      "100th row\n",
      "200th row\n",
      "Structure exists: 'Y:/Lab_Public/Yuan/temp\\pdb1s01.ent' \n",
      "274\n",
      "0th row\n",
      "100th row\n",
      "200th row\n",
      "Structure exists: 'Y:/Lab_Public/Yuan/temp\\pdb1rtf.ent' \n",
      "228\n",
      "0th row\n",
      "100th row\n",
      "200th row\n",
      "Structure exists: 'Y:/Lab_Public/Yuan/temp\\pdb1qrz.ent' \n",
      "246\n",
      "0th row\n",
      "100th row\n",
      "200th row\n",
      "Structure exists: 'Y:/Lab_Public/Yuan/temp\\pdb1ds2.ent' \n",
      "0\n",
      "Structure exists: 'Y:/Lab_Public/Yuan/temp\\pdb1jhf.ent' \n",
      "197\n",
      "0th row\n",
      "100th row\n",
      "Structure exists: 'Y:/Lab_Public/Yuan/temp\\pdb1t7d.ent' \n",
      "223\n",
      "0th row\n",
      "100th row\n",
      "200th row\n",
      "Structure exists: 'Y:/Lab_Public/Yuan/temp\\pdb1tyf.ent' \n",
      "183\n",
      "0th row\n",
      "100th row\n",
      "Structure exists: 'Y:/Lab_Public/Yuan/temp\\pdb1wpo.ent' \n",
      "204\n",
      "0th row\n",
      "100th row\n",
      "200th row\n",
      "Structure exists: 'Y:/Lab_Public/Yuan/temp\\pdb1rgq.ent' \n",
      "154\n",
      "0th row\n",
      "100th row\n",
      "Structure exists: 'Y:/Lab_Public/Yuan/temp\\pdb1g2i.ent' \n",
      "162\n",
      "0th row\n",
      "100th row\n",
      "Structure exists: 'Y:/Lab_Public/Yuan/temp\\pdb1g2i.ent' \n",
      "162\n",
      "0th row\n",
      "100th row\n",
      "Structure exists: 'Y:/Lab_Public/Yuan/temp\\pdb1dki.ent' \n",
      "236\n",
      "0th row\n",
      "100th row\n",
      "200th row\n",
      "Structure exists: 'Y:/Lab_Public/Yuan/temp\\pdb8pch.ent' \n",
      "205\n",
      "0th row\n",
      "100th row\n",
      "200th row\n",
      "Structure exists: 'Y:/Lab_Public/Yuan/temp\\pdb9pap.ent' \n",
      "211\n",
      "0th row\n",
      "100th row\n",
      "200th row\n",
      "Structure exists: 'Y:/Lab_Public/Yuan/temp\\pdb1glo.ent' \n",
      "217\n",
      "0th row\n",
      "100th row\n",
      "200th row\n",
      "Structure exists: 'Y:/Lab_Public/Yuan/temp\\pdb1cqq.ent' \n",
      "180\n",
      "0th row\n",
      "100th row\n",
      "Structure exists: 'Y:/Lab_Public/Yuan/temp\\pdb2bhg.ent' \n",
      "184\n",
      "0th row\n",
      "100th row\n",
      "Structure exists: 'Y:/Lab_Public/Yuan/temp\\pdb1x9y.ent' \n",
      "346\n",
      "0th row\n",
      "100th row\n",
      "200th row\n",
      "300th row\n",
      "Structure exists: 'Y:/Lab_Public/Yuan/temp\\pdb2fqq.ent' \n",
      "0\n",
      "Structure exists: 'Y:/Lab_Public/Yuan/temp\\pdb2fqq.ent' \n",
      "0\n",
      "Structure exists: 'Y:/Lab_Public/Yuan/temp\\pdb1cvr.ent' \n",
      "432\n",
      "0th row\n",
      "100th row\n",
      "200th row\n",
      "300th row\n",
      "400th row\n",
      "Structure exists: 'Y:/Lab_Public/Yuan/temp\\pdb1nln.ent' \n",
      "203\n",
      "0th row\n",
      "100th row\n",
      "200th row\n",
      "Structure exists: 'Y:/Lab_Public/Yuan/temp\\pdb1gcb.ent' \n",
      "452\n",
      "0th row\n",
      "100th row\n",
      "200th row\n",
      "300th row\n",
      "400th row\n",
      "Structure exists: 'Y:/Lab_Public/Yuan/temp\\pdb1kfu.ent' \n",
      "699\n",
      "0th row\n",
      "100th row\n",
      "200th row\n",
      "300th row\n",
      "400th row\n",
      "500th row\n",
      "600th row\n",
      "Structure exists: 'Y:/Lab_Public/Yuan/temp\\pdb1qx3.ent' \n",
      "232\n",
      "0th row\n",
      "100th row\n",
      "200th row\n",
      "Structure exists: 'Y:/Lab_Public/Yuan/temp\\pdb1qtn.ent' \n",
      "152\n",
      "0th row\n",
      "100th row\n",
      "Structure exists: 'Y:/Lab_Public/Yuan/temp\\pdb1nw9.ent' \n",
      "238\n",
      "0th row\n",
      "100th row\n",
      "200th row\n",
      "Structure exists: 'Y:/Lab_Public/Yuan/temp\\pdb2bkr.ent' \n",
      "211\n",
      "0th row\n",
      "100th row\n",
      "200th row\n",
      "Structure exists: 'Y:/Lab_Public/Yuan/temp\\pdb1am5.ent' \n",
      "324\n",
      "0th row\n",
      "100th row\n",
      "200th row\n",
      "300th row\n",
      "Structure exists: 'Y:/Lab_Public/Yuan/temp\\pdb1a30.ent' \n",
      "99\n",
      "0th row\n",
      "Structure exists: 'Y:/Lab_Public/Yuan/temp\\pdb1a30.ent' \n",
      "99\n",
      "0th row\n",
      "Structure exists: 'Y:/Lab_Public/Yuan/temp\\pdb1s2k.ent' \n",
      "200\n",
      "0th row\n",
      "100th row\n",
      "Structure exists: 'Y:/Lab_Public/Yuan/temp\\pdb1i78.ent' \n",
      "297\n",
      "0th row\n",
      "100th row\n",
      "200th row\n",
      "Structure exists: 'Y:/Lab_Public/Yuan/temp\\pdb1r1j.ent' \n",
      "696\n",
      "0th row\n",
      "100th row\n",
      "200th row\n",
      "300th row\n",
      "400th row\n",
      "500th row\n",
      "600th row\n",
      "Structure exists: 'Y:/Lab_Public/Yuan/temp\\pdb1i1i.ent' \n",
      "0\n",
      "Structure exists: 'Y:/Lab_Public/Yuan/temp\\pdb1hfs.ent' \n",
      "160\n",
      "0th row\n",
      "100th row\n",
      "Structure exists: 'Y:/Lab_Public/Yuan/temp\\pdb1ge7.ent' \n",
      "167\n",
      "0th row\n",
      "100th row\n",
      "Structure exists: 'Y:/Lab_Public/Yuan/temp\\pdb1ast.ent' \n",
      "200\n",
      "0th row\n",
      "100th row\n",
      "Structure exists: 'Y:/Lab_Public/Yuan/temp\\pdb1qib.ent' \n",
      "160\n",
      "0th row\n",
      "100th row\n",
      "Structure exists: 'Y:/Lab_Public/Yuan/temp\\pdb1kei.ent' \n",
      "318\n",
      "0th row\n",
      "100th row\n",
      "200th row\n",
      "300th row\n",
      "Structure exists: 'Y:/Lab_Public/Yuan/temp\\pdb1lml.ent' \n",
      "465\n",
      "0th row\n",
      "100th row\n",
      "200th row\n",
      "300th row\n",
      "400th row\n",
      "Structure exists: 'Y:/Lab_Public/Yuan/temp\\pdb1eb6.ent' \n",
      "177\n",
      "0th row\n",
      "100th row\n",
      "Structure exists: 'Y:/Lab_Public/Yuan/temp\\pdb1hr6.ent' \n",
      "439\n",
      "0th row\n",
      "100th row\n",
      "200th row\n",
      "300th row\n",
      "400th row\n",
      "Structure exists: 'Y:/Lab_Public/Yuan/temp\\pdb1i1e.ent' \n",
      "1287\n",
      "0th row\n",
      "100th row\n",
      "200th row\n",
      "300th row\n",
      "400th row\n",
      "500th row\n",
      "600th row\n",
      "700th row\n",
      "800th row\n",
      "900th row\n",
      "1000th row\n",
      "1100th row\n",
      "1200th row\n",
      "Structure exists: 'Y:/Lab_Public/Yuan/temp\\pdb1pwv.ent' \n",
      "733\n",
      "0th row\n",
      "100th row\n",
      "200th row\n",
      "300th row\n",
      "400th row\n",
      "500th row\n",
      "600th row\n",
      "700th row\n",
      "Structure exists: 'Y:/Lab_Public/Yuan/temp\\pdb1ryp.ent' \n",
      "222\n",
      "0th row\n",
      "100th row\n",
      "200th row\n",
      "Structure exists: 'Y:/Lab_Public/Yuan/temp\\pdb1ht1.ent' \n",
      "408\n",
      "0th row\n",
      "100th row\n",
      "200th row\n",
      "300th row\n",
      "400th row\n",
      "Finished\n"
     ]
    }
   ],
   "source": [
    "pymysql.converters.encoders[np.float64] = pymysql.converters.escape_float\n",
    "pymysql.converters.conversions = pymysql.converters.encoders.copy()\n",
    "pymysql.converters.conversions.update(pymysql.converters.decoders)\n",
    "\n",
    "# Insert position, distance_angle\n",
    "\n",
    "with SSHTunnelForwarder(\n",
    "        (ssh_host, ssh_port),\n",
    "        ssh_username=ssh_user,\n",
    "        ssh_password=ssh_password,\n",
    "        remote_bind_address=('127.0.0.1', sql_port)) as tunnel:\n",
    "    conn = pymysql.connect(host='127.0.0.1', user=sql_username,\n",
    "                           passwd=sql_password, db=sql_main_database,\n",
    "                           port=tunnel.local_bind_port)\n",
    "    print('SSH connected')\n",
    "    for index, oneRow in uniqueList.iterrows():\n",
    "        try:\n",
    "            pdbID = oneRow[\"PDB\"]\n",
    "            chainOrder = oneRow[\"chain/kegg compound\"]\n",
    "            PDB = PDBList()\n",
    "            PDB.retrieve_pdb_file(pdb_code=pdbID, pdir=\"Y:/Lab_Public/Yuan/temp\", file_format=\"pdb\")\n",
    "            p = PDBParser()\n",
    "            structure = p.get_structure(\"X\", \"Y:/Lab_Public/Yuan/temp/pdb\" + pdbID + \".ent\")\n",
    "            oneChain = pd.DataFrame(columns=[\"Seq\", \"Residue\", \"Center\", \"Direction\"])\n",
    "            if structure.header[\"resolution\"] <= 3.0:\n",
    "                if chainOrder in [x.id for x in list(structure[0].get_chains())]:  # Chain information not in pdb file\n",
    "                    for residue in structure[0][chainOrder]:\n",
    "                        if residue.get_resname() in aminoAcidCodes:  # Only treat common amino acid\n",
    "                            if residue.get_id()[2] == \" \":  # ignore insertions\n",
    "                                if len(list(residue.get_atoms())) > 3:\n",
    "                                    if residue.get_resname() != \"GLY\":  # Glysine as a special case\n",
    "                                        point = vectors.Vector([0, 0, 0])\n",
    "                                        for atom in residue:\n",
    "                                            if (atom.get_name() not in backbone):\n",
    "                                                point = point + atom.get_vector()\n",
    "                                        center = point.__div__(len(residue) - 4)\n",
    "                                        cToRGroup = residue[\"CA\"].get_vector() - center\n",
    "                                        oneChain.loc[len(oneChain)] = [residue.get_id()[1], residue.get_resname(),center, cToRGroup]\n",
    "                                    else:\n",
    "                                        center = residue[\"CA\"].get_vector()\n",
    "                                        cToRGroup = center - (residue[\"C\"].get_vector() + residue[\"N\"].get_vector() + residue[\"O\"].get_vector()).__div__(3)\n",
    "                                        oneChain.loc[len(oneChain)] = [residue.get_id()[1], residue.get_resname(),center, cToRGroup]\n",
    "                                    #query = '''INSERT INTO `ResiduePosition` (`pdbID`, `chain`,`seq`,`type`,`Coordinate1`,`Coordinate2`,`Coordinate3`) VALUES (%s, %s, %s,%s,%s,%s,%s);'''\n",
    "                                    #value = (pdbID, chainOrder, residue.get_id()[1], residue.get_resname(), float(center[0]), float(center[1]),float(center[2]))\n",
    "                                    #print(value)\n",
    "                                    #conn.cursor().execute(query, value)\n",
    "                                    #conn.commit()\n",
    "            distanceMatrix = pd.DataFrame(columns=list(oneChain.iloc[:, 0]), index=list(oneChain.iloc[:,0]))\n",
    "            angleMatrix = pd.DataFrame(columns=list(oneChain.iloc[:, 0]), index=list(oneChain.iloc[:, 0]))\n",
    "            numResidue = len(oneChain)\n",
    "            print(numResidue)\n",
    "            for row in range(0, numResidue):\n",
    "                if row % 100 == 0:\n",
    "                    print(str(row) + \"th row\")\n",
    "                for column in range(row+1, numResidue):\n",
    "                    coordinatesSubstraction = list(oneChain.loc[row, \"Center\"] - oneChain.loc[column, \"Center\"])\n",
    "                    pairDistance = sqrt(sum(list(map(lambda x: x * x, coordinatesSubstraction))))\n",
    "                    distanceMatrix.iloc[row, column] = pairDistance\n",
    "                    v1 = oneChain.loc[row, \"Direction\"]\n",
    "                    v2 = oneChain.loc[column, \"Direction\"]\n",
    "                    pairAngle = 180 * np.arccos(np.dot(v1, v2) / (np.linalg.norm(v1) * np.linalg.norm(v2))) / np.pi\n",
    "                    angleMatrix.iloc[row, column] = pairAngle\n",
    "                    if not np.isnan(pairDistance):\n",
    "                        query = '''INSERT INTO `Distance_angle` (`pdbID`, `chain`,`ID_1`,`Res_1`,`ID_2`,`Res_2`,`Distance`,`Angle`) VALUES (%s,%s,%s,%s,%s,%s,%s,%s);'''\n",
    "                        value = (pdbID,chainOrder,oneChain.iloc[row,0],oneChain.iloc[row,1],oneChain.iloc[column,0],oneChain.iloc[column,1],float(pairDistance),float(pairAngle))\n",
    "                        conn.cursor().execute(query, value)\n",
    "                conn.commit()\n",
    "        except Exception as e:\n",
    "            print(e)\n",
    "            print(pdbID, \"skipped\")\n",
    "\n",
    "print(\"Finished\")\n",
    "conn.close()\n"
   ]
  },
  {
   "cell_type": "code",
   "execution_count": 508,
   "metadata": {
    "collapsed": true
   },
   "outputs": [],
   "source": []
  },
  {
   "cell_type": "code",
   "execution_count": 487,
   "metadata": {},
   "outputs": [
    {
     "data": {
      "text/plain": [
       "25"
      ]
     },
     "execution_count": 487,
     "metadata": {},
     "output_type": "execute_result"
    }
   ],
   "source": []
  },
  {
   "cell_type": "code",
   "execution_count": 491,
   "metadata": {},
   "outputs": [
    {
     "data": {
      "text/plain": [
       "49.946313327157235"
      ]
     },
     "execution_count": 491,
     "metadata": {},
     "output_type": "execute_result"
    }
   ],
   "source": []
  },
  {
   "cell_type": "code",
   "execution_count": null,
   "metadata": {
    "collapsed": true
   },
   "outputs": [],
   "source": []
  }
 ],
 "metadata": {
  "kernelspec": {
   "display_name": "Python 3",
   "language": "python",
   "name": "python3"
  },
  "language_info": {
   "codemirror_mode": {
    "name": "ipython",
    "version": 3
   },
   "file_extension": ".py",
   "mimetype": "text/x-python",
   "name": "python",
   "nbconvert_exporter": "python",
   "pygments_lexer": "ipython3",
   "version": "3.6.2"
  }
 },
 "nbformat": 4,
 "nbformat_minor": 2
}
