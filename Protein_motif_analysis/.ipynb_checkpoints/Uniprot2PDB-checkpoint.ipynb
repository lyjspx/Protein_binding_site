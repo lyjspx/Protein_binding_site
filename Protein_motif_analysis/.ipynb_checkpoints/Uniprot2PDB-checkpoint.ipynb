{
 "cells": [
  {
   "cell_type": "code",
   "execution_count": 2,
   "metadata": {
    "collapsed": true
   },
   "outputs": [],
   "source": [
    "import pandas as pd"
   ]
  },
  {
   "cell_type": "code",
   "execution_count": 3,
   "metadata": {
    "collapsed": true
   },
   "outputs": [],
   "source": [
    "#SIFTS database from http://www.ebi.ac.uk\n",
    "## 2019/06/23 - 00:46 | PDB: 25.19 | UniProt: 2019.06\n",
    "#A summary of the PDBe to UniProt residue level mapping, \n",
    "#showing the start and end residues of the mapping using SEQRES, PDB sequence and UniProt numbering.\n",
    "pdbChainUniprot = pd.read_csv(\"/Users/desert/Downloads/pdb_chain_uniprot.csv\")"
   ]
  },
  {
   "cell_type": "code",
   "execution_count": 4,
   "metadata": {},
   "outputs": [
    {
     "data": {
      "text/html": [
       "<div>\n",
       "<style>\n",
       "    .dataframe thead tr:only-child th {\n",
       "        text-align: right;\n",
       "    }\n",
       "\n",
       "    .dataframe thead th {\n",
       "        text-align: left;\n",
       "    }\n",
       "\n",
       "    .dataframe tbody tr th {\n",
       "        vertical-align: top;\n",
       "    }\n",
       "</style>\n",
       "<table border=\"1\" class=\"dataframe\">\n",
       "  <thead>\n",
       "    <tr style=\"text-align: right;\">\n",
       "      <th></th>\n",
       "      <th>PDB</th>\n",
       "      <th>CHAIN</th>\n",
       "      <th>SP_PRIMARY</th>\n",
       "      <th>RES_BEG</th>\n",
       "      <th>RES_END</th>\n",
       "      <th>PDB_BEG</th>\n",
       "      <th>PDB_END</th>\n",
       "      <th>SP_BEG</th>\n",
       "      <th>SP_END</th>\n",
       "    </tr>\n",
       "  </thead>\n",
       "  <tbody>\n",
       "    <tr>\n",
       "      <th>1</th>\n",
       "      <td>1ao7</td>\n",
       "      <td>B</td>\n",
       "      <td>P61769</td>\n",
       "      <td>2</td>\n",
       "      <td>100</td>\n",
       "      <td>1</td>\n",
       "      <td>99</td>\n",
       "      <td>21</td>\n",
       "      <td>119</td>\n",
       "    </tr>\n",
       "    <tr>\n",
       "      <th>2</th>\n",
       "      <td>1ao7</td>\n",
       "      <td>C</td>\n",
       "      <td>P14079</td>\n",
       "      <td>1</td>\n",
       "      <td>9</td>\n",
       "      <td>1</td>\n",
       "      <td>9</td>\n",
       "      <td>11</td>\n",
       "      <td>19</td>\n",
       "    </tr>\n",
       "    <tr>\n",
       "      <th>3</th>\n",
       "      <td>1ao7</td>\n",
       "      <td>D</td>\n",
       "      <td>A0A075B6T6</td>\n",
       "      <td>1</td>\n",
       "      <td>90</td>\n",
       "      <td>1</td>\n",
       "      <td>92</td>\n",
       "      <td>23</td>\n",
       "      <td>112</td>\n",
       "    </tr>\n",
       "    <tr>\n",
       "      <th>4</th>\n",
       "      <td>1ao7</td>\n",
       "      <td>D</td>\n",
       "      <td>P01848</td>\n",
       "      <td>112</td>\n",
       "      <td>204</td>\n",
       "      <td>118</td>\n",
       "      <td>None</td>\n",
       "      <td>1</td>\n",
       "      <td>93</td>\n",
       "    </tr>\n",
       "  </tbody>\n",
       "</table>\n",
       "</div>"
      ],
      "text/plain": [
       "    PDB CHAIN  SP_PRIMARY  RES_BEG  RES_END PDB_BEG PDB_END  SP_BEG  SP_END\n",
       "1  1ao7     B      P61769        2      100       1      99      21     119\n",
       "2  1ao7     C      P14079        1        9       1       9      11      19\n",
       "3  1ao7     D  A0A075B6T6        1       90       1      92      23     112\n",
       "4  1ao7     D      P01848      112      204     118    None       1      93"
      ]
     },
     "execution_count": 4,
     "metadata": {},
     "output_type": "execute_result"
    }
   ],
   "source": [
    "pdbChainUniprot.iloc[1:5,:]"
   ]
  },
  {
   "cell_type": "code",
   "execution_count": 16,
   "metadata": {},
   "outputs": [],
   "source": [
    "validRow = (pdbChainUniprot[\"PDB_BEG\"] != \"None\") & (pdbChainUniprot[\"PDB_END\"] != \"None\")\n",
    "pdbChainIntegrity = pdbChainUniprot[validRow]"
   ]
  },
  {
   "cell_type": "code",
   "execution_count": 15,
   "metadata": {},
   "outputs": [
    {
     "data": {
      "text/html": [
       "<div>\n",
       "<style>\n",
       "    .dataframe thead tr:only-child th {\n",
       "        text-align: right;\n",
       "    }\n",
       "\n",
       "    .dataframe thead th {\n",
       "        text-align: left;\n",
       "    }\n",
       "\n",
       "    .dataframe tbody tr th {\n",
       "        vertical-align: top;\n",
       "    }\n",
       "</style>\n",
       "<table border=\"1\" class=\"dataframe\">\n",
       "  <thead>\n",
       "    <tr style=\"text-align: right;\">\n",
       "      <th></th>\n",
       "      <th>PDB</th>\n",
       "      <th>CHAIN</th>\n",
       "      <th>SP_PRIMARY</th>\n",
       "      <th>RES_BEG</th>\n",
       "      <th>RES_END</th>\n",
       "      <th>PDB_BEG</th>\n",
       "      <th>PDB_END</th>\n",
       "      <th>SP_BEG</th>\n",
       "      <th>SP_END</th>\n",
       "    </tr>\n",
       "  </thead>\n",
       "  <tbody>\n",
       "    <tr>\n",
       "      <th>1</th>\n",
       "      <td>1ao7</td>\n",
       "      <td>B</td>\n",
       "      <td>P61769</td>\n",
       "      <td>2</td>\n",
       "      <td>100</td>\n",
       "      <td>1</td>\n",
       "      <td>99</td>\n",
       "      <td>21</td>\n",
       "      <td>119</td>\n",
       "    </tr>\n",
       "    <tr>\n",
       "      <th>2</th>\n",
       "      <td>1ao7</td>\n",
       "      <td>C</td>\n",
       "      <td>P14079</td>\n",
       "      <td>1</td>\n",
       "      <td>9</td>\n",
       "      <td>1</td>\n",
       "      <td>9</td>\n",
       "      <td>11</td>\n",
       "      <td>19</td>\n",
       "    </tr>\n",
       "    <tr>\n",
       "      <th>3</th>\n",
       "      <td>1ao7</td>\n",
       "      <td>D</td>\n",
       "      <td>A0A075B6T6</td>\n",
       "      <td>1</td>\n",
       "      <td>90</td>\n",
       "      <td>1</td>\n",
       "      <td>92</td>\n",
       "      <td>23</td>\n",
       "      <td>112</td>\n",
       "    </tr>\n",
       "    <tr>\n",
       "      <th>6</th>\n",
       "      <td>1ao7</td>\n",
       "      <td>E</td>\n",
       "      <td>A0A5B9</td>\n",
       "      <td>117</td>\n",
       "      <td>245</td>\n",
       "      <td>118</td>\n",
       "      <td>246</td>\n",
       "      <td>1</td>\n",
       "      <td>129</td>\n",
       "    </tr>\n",
       "    <tr>\n",
       "      <th>7</th>\n",
       "      <td>1axk</td>\n",
       "      <td>A</td>\n",
       "      <td>P23904</td>\n",
       "      <td>1</td>\n",
       "      <td>156</td>\n",
       "      <td>1</td>\n",
       "      <td>156</td>\n",
       "      <td>82</td>\n",
       "      <td>237</td>\n",
       "    </tr>\n",
       "    <tr>\n",
       "      <th>8</th>\n",
       "      <td>1axk</td>\n",
       "      <td>A</td>\n",
       "      <td>P18429</td>\n",
       "      <td>157</td>\n",
       "      <td>341</td>\n",
       "      <td>157</td>\n",
       "      <td>341</td>\n",
       "      <td>29</td>\n",
       "      <td>213</td>\n",
       "    </tr>\n",
       "    <tr>\n",
       "      <th>9</th>\n",
       "      <td>1axk</td>\n",
       "      <td>B</td>\n",
       "      <td>P23904</td>\n",
       "      <td>1</td>\n",
       "      <td>156</td>\n",
       "      <td>1</td>\n",
       "      <td>156</td>\n",
       "      <td>82</td>\n",
       "      <td>237</td>\n",
       "    </tr>\n",
       "    <tr>\n",
       "      <th>10</th>\n",
       "      <td>1axk</td>\n",
       "      <td>B</td>\n",
       "      <td>P18429</td>\n",
       "      <td>157</td>\n",
       "      <td>341</td>\n",
       "      <td>157</td>\n",
       "      <td>341</td>\n",
       "      <td>29</td>\n",
       "      <td>213</td>\n",
       "    </tr>\n",
       "    <tr>\n",
       "      <th>11</th>\n",
       "      <td>1bd2</td>\n",
       "      <td>A</td>\n",
       "      <td>P01892</td>\n",
       "      <td>1</td>\n",
       "      <td>275</td>\n",
       "      <td>1</td>\n",
       "      <td>275</td>\n",
       "      <td>25</td>\n",
       "      <td>299</td>\n",
       "    </tr>\n",
       "    <tr>\n",
       "      <th>12</th>\n",
       "      <td>1bd2</td>\n",
       "      <td>B</td>\n",
       "      <td>P61769</td>\n",
       "      <td>2</td>\n",
       "      <td>100</td>\n",
       "      <td>1</td>\n",
       "      <td>99</td>\n",
       "      <td>21</td>\n",
       "      <td>119</td>\n",
       "    </tr>\n",
       "  </tbody>\n",
       "</table>\n",
       "</div>"
      ],
      "text/plain": [
       "     PDB CHAIN  SP_PRIMARY  RES_BEG  RES_END PDB_BEG PDB_END  SP_BEG  SP_END\n",
       "1   1ao7     B      P61769        2      100       1      99      21     119\n",
       "2   1ao7     C      P14079        1        9       1       9      11      19\n",
       "3   1ao7     D  A0A075B6T6        1       90       1      92      23     112\n",
       "6   1ao7     E      A0A5B9      117      245     118     246       1     129\n",
       "7   1axk     A      P23904        1      156       1     156      82     237\n",
       "8   1axk     A      P18429      157      341     157     341      29     213\n",
       "9   1axk     B      P23904        1      156       1     156      82     237\n",
       "10  1axk     B      P18429      157      341     157     341      29     213\n",
       "11  1bd2     A      P01892        1      275       1     275      25     299\n",
       "12  1bd2     B      P61769        2      100       1      99      21     119"
      ]
     },
     "execution_count": 15,
     "metadata": {},
     "output_type": "execute_result"
    }
   ],
   "source": [
    "pdbChainIntegrity.iloc[0:10,:]"
   ]
  },
  {
   "cell_type": "markdown",
   "metadata": {},
   "source": [
    "    ### SEQRES, PDB, UniProt numbering \n",
    "\n",
    "\n",
    "### Use the table above to return PDB info if available"
   ]
  },
  {
   "cell_type": "code",
   "execution_count": 35,
   "metadata": {},
   "outputs": [],
   "source": [
    "#If absense in the table, empty dataframe returned\n",
    "def IsPDBInfoAvailable(UniprotAccession, Position):\n",
    "    rowWithAccession = pdbChainIntegrity[pdbChainIntegrity[\"SP_PRIMARY\"].isin([UniprotAccession])]\n",
    "    if(rowWithAccession.shape[0]>0):\n",
    "        return(rowWithAccession[(rowWithAccession[\"SP_BEG\"]<Position) & (rowWithAccession[\"SP_END\"]>Position)])"
   ]
  },
  {
   "cell_type": "code",
   "execution_count": 34,
   "metadata": {},
   "outputs": [
    {
     "data": {
      "text/plain": [
       "0"
      ]
     },
     "execution_count": 34,
     "metadata": {},
     "output_type": "execute_result"
    }
   ],
   "source": [
    "pdbChainIntegrity[pdbChainIntegrity[\"SP_PRIMARY\"].isin([\"P00366d\"])].shape[0]"
   ]
  },
  {
   "cell_type": "code",
   "execution_count": 39,
   "metadata": {},
   "outputs": [],
   "source": [
    "IsPDBInfoAvailable(\"P00366\",500)"
   ]
  },
  {
   "cell_type": "code",
   "execution_count": null,
   "metadata": {
    "collapsed": true
   },
   "outputs": [],
   "source": []
  }
 ],
 "metadata": {
  "kernelspec": {
   "display_name": "Python 3",
   "language": "python",
   "name": "python3"
  },
  "language_info": {
   "codemirror_mode": {
    "name": "ipython",
    "version": 3
   },
   "file_extension": ".py",
   "mimetype": "text/x-python",
   "name": "python",
   "nbconvert_exporter": "python",
   "pygments_lexer": "ipython3",
   "version": "3.6.2"
  }
 },
 "nbformat": 4,
 "nbformat_minor": 2
}
